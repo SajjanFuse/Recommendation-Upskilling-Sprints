{
 "cells": [
  {
   "cell_type": "code",
   "execution_count": 29,
   "metadata": {},
   "outputs": [],
   "source": [
    "import pandas as pd \n",
    "import matplotlib.pyplot as plt \n",
    "\n",
    "import numpy as np "
   ]
  },
  {
   "cell_type": "markdown",
   "metadata": {},
   "source": [
    "## Using Dianping dataset "
   ]
  },
  {
   "cell_type": "code",
   "execution_count": 30,
   "metadata": {},
   "outputs": [],
   "source": [
    "# users_df = pd.DataFrame(users)\n",
    "# users_df.to_csv('data/dianping/users.csv', index=False)\n",
    "\n",
    "# Convert rating.txt to interactions.csv\n",
    "ratings = []\n",
    "with open('../../Dianping/rating.txt', 'r') as f:\n",
    "    for line in f:\n",
    "        user_id, item_id, rating, date = line.strip().split('|')\n",
    "        ratings.append({'user_id': user_id, 'item_id': item_id, 'rating': rating, 'timestamp': date})\n",
    "\n",
    "ratings_df = pd.DataFrame(ratings)"
   ]
  },
  {
   "cell_type": "code",
   "execution_count": 31,
   "metadata": {},
   "outputs": [
    {
     "data": {
      "text/html": [
       "<div>\n",
       "<style scoped>\n",
       "    .dataframe tbody tr th:only-of-type {\n",
       "        vertical-align: middle;\n",
       "    }\n",
       "\n",
       "    .dataframe tbody tr th {\n",
       "        vertical-align: top;\n",
       "    }\n",
       "\n",
       "    .dataframe thead th {\n",
       "        text-align: right;\n",
       "    }\n",
       "</style>\n",
       "<table border=\"1\" class=\"dataframe\">\n",
       "  <thead>\n",
       "    <tr style=\"text-align: right;\">\n",
       "      <th></th>\n",
       "      <th>user_id</th>\n",
       "      <th>item_id</th>\n",
       "      <th>rating</th>\n",
       "      <th>timestamp</th>\n",
       "    </tr>\n",
       "  </thead>\n",
       "  <tbody>\n",
       "    <tr>\n",
       "      <th>0</th>\n",
       "      <td>59708</td>\n",
       "      <td>0</td>\n",
       "      <td>3</td>\n",
       "      <td>2012-06-16</td>\n",
       "    </tr>\n",
       "    <tr>\n",
       "      <th>1</th>\n",
       "      <td>3781</td>\n",
       "      <td>1</td>\n",
       "      <td>4</td>\n",
       "      <td>2009-12-24</td>\n",
       "    </tr>\n",
       "    <tr>\n",
       "      <th>2</th>\n",
       "      <td>120358</td>\n",
       "      <td>2</td>\n",
       "      <td>4</td>\n",
       "      <td>2010-08-06</td>\n",
       "    </tr>\n",
       "    <tr>\n",
       "      <th>3</th>\n",
       "      <td>55553</td>\n",
       "      <td>3</td>\n",
       "      <td>5</td>\n",
       "      <td>2013-07-28</td>\n",
       "    </tr>\n",
       "    <tr>\n",
       "      <th>4</th>\n",
       "      <td>20837</td>\n",
       "      <td>4</td>\n",
       "      <td>4</td>\n",
       "      <td>2012-03-10</td>\n",
       "    </tr>\n",
       "    <tr>\n",
       "      <th>...</th>\n",
       "      <td>...</td>\n",
       "      <td>...</td>\n",
       "      <td>...</td>\n",
       "      <td>...</td>\n",
       "    </tr>\n",
       "    <tr>\n",
       "      <th>2149670</th>\n",
       "      <td>123340</td>\n",
       "      <td>2377</td>\n",
       "      <td>4</td>\n",
       "      <td>2009-11-15</td>\n",
       "    </tr>\n",
       "    <tr>\n",
       "      <th>2149671</th>\n",
       "      <td>61472</td>\n",
       "      <td>7027</td>\n",
       "      <td>3</td>\n",
       "      <td>2012-06-13</td>\n",
       "    </tr>\n",
       "    <tr>\n",
       "      <th>2149672</th>\n",
       "      <td>80236</td>\n",
       "      <td>1298</td>\n",
       "      <td>3</td>\n",
       "      <td>2011-03-08</td>\n",
       "    </tr>\n",
       "    <tr>\n",
       "      <th>2149673</th>\n",
       "      <td>936</td>\n",
       "      <td>6896</td>\n",
       "      <td>3</td>\n",
       "      <td>2012-09-16</td>\n",
       "    </tr>\n",
       "    <tr>\n",
       "      <th>2149674</th>\n",
       "      <td>118907</td>\n",
       "      <td>1509</td>\n",
       "      <td>5</td>\n",
       "      <td>2013-07-28</td>\n",
       "    </tr>\n",
       "  </tbody>\n",
       "</table>\n",
       "<p>2149675 rows × 4 columns</p>\n",
       "</div>"
      ],
      "text/plain": [
       "        user_id item_id rating   timestamp\n",
       "0         59708       0      3  2012-06-16\n",
       "1          3781       1      4  2009-12-24\n",
       "2        120358       2      4  2010-08-06\n",
       "3         55553       3      5  2013-07-28\n",
       "4         20837       4      4  2012-03-10\n",
       "...         ...     ...    ...         ...\n",
       "2149670  123340    2377      4  2009-11-15\n",
       "2149671   61472    7027      3  2012-06-13\n",
       "2149672   80236    1298      3  2011-03-08\n",
       "2149673     936    6896      3  2012-09-16\n",
       "2149674  118907    1509      5  2013-07-28\n",
       "\n",
       "[2149675 rows x 4 columns]"
      ]
     },
     "execution_count": 31,
     "metadata": {},
     "output_type": "execute_result"
    }
   ],
   "source": [
    "ratings_df"
   ]
  },
  {
   "cell_type": "code",
   "execution_count": 32,
   "metadata": {},
   "outputs": [
    {
     "data": {
      "text/plain": [
       "(   user_id                                         friends_id\n",
       " 0        0  [1, 2, 3, 4, 5, 6, 7, 8, 9, 10, 11, 12, 13, 14...\n",
       " 1       29                                               [30],\n",
       "    user_id  item_id  rating        date\n",
       " 0    59708        0       3  2012-06-16\n",
       " 1     3781        1       4  2009-12-24)"
      ]
     },
     "execution_count": 32,
     "metadata": {},
     "output_type": "execute_result"
    }
   ],
   "source": [
    "user_txt_path = '../../Dianping/user.txt'\n",
    "rating_txt_path = '../../Dianping/rating.txt'\n",
    "\n",
    "rating_df = pd.read_csv(rating_txt_path, sep = '|', names = ['user_id', 'item_id', 'rating', 'date'])\n",
    "user_df = pd.read_csv(user_txt_path, header=None, sep='|', names = ['user_id', 'friends_id'])\n",
    "user_df['friends_id'] = user_df['friends_id'].apply(lambda x: list(map(int, x.split())) if pd.notna(x) else []) \n",
    "user_df.head(2), rating_df.head(2)"
   ]
  },
  {
   "cell_type": "markdown",
   "metadata": {},
   "source": [
    "## Need to convert to atomic files for recbole compatibility"
   ]
  },
  {
   "cell_type": "code",
   "execution_count": 33,
   "metadata": {},
   "outputs": [
    {
     "data": {
      "text/html": [
       "<div>\n",
       "<style scoped>\n",
       "    .dataframe tbody tr th:only-of-type {\n",
       "        vertical-align: middle;\n",
       "    }\n",
       "\n",
       "    .dataframe tbody tr th {\n",
       "        vertical-align: top;\n",
       "    }\n",
       "\n",
       "    .dataframe thead th {\n",
       "        text-align: right;\n",
       "    }\n",
       "</style>\n",
       "<table border=\"1\" class=\"dataframe\">\n",
       "  <thead>\n",
       "    <tr style=\"text-align: right;\">\n",
       "      <th></th>\n",
       "      <th>user_id</th>\n",
       "      <th>item_id</th>\n",
       "      <th>rating</th>\n",
       "      <th>date</th>\n",
       "    </tr>\n",
       "  </thead>\n",
       "  <tbody>\n",
       "    <tr>\n",
       "      <th>0</th>\n",
       "      <td>59708</td>\n",
       "      <td>0</td>\n",
       "      <td>3</td>\n",
       "      <td>2012-06-16</td>\n",
       "    </tr>\n",
       "    <tr>\n",
       "      <th>1</th>\n",
       "      <td>3781</td>\n",
       "      <td>1</td>\n",
       "      <td>4</td>\n",
       "      <td>2009-12-24</td>\n",
       "    </tr>\n",
       "    <tr>\n",
       "      <th>2</th>\n",
       "      <td>120358</td>\n",
       "      <td>2</td>\n",
       "      <td>4</td>\n",
       "      <td>2010-08-06</td>\n",
       "    </tr>\n",
       "    <tr>\n",
       "      <th>3</th>\n",
       "      <td>55553</td>\n",
       "      <td>3</td>\n",
       "      <td>5</td>\n",
       "      <td>2013-07-28</td>\n",
       "    </tr>\n",
       "    <tr>\n",
       "      <th>4</th>\n",
       "      <td>20837</td>\n",
       "      <td>4</td>\n",
       "      <td>4</td>\n",
       "      <td>2012-03-10</td>\n",
       "    </tr>\n",
       "    <tr>\n",
       "      <th>...</th>\n",
       "      <td>...</td>\n",
       "      <td>...</td>\n",
       "      <td>...</td>\n",
       "      <td>...</td>\n",
       "    </tr>\n",
       "    <tr>\n",
       "      <th>2149670</th>\n",
       "      <td>123340</td>\n",
       "      <td>2377</td>\n",
       "      <td>4</td>\n",
       "      <td>2009-11-15</td>\n",
       "    </tr>\n",
       "    <tr>\n",
       "      <th>2149671</th>\n",
       "      <td>61472</td>\n",
       "      <td>7027</td>\n",
       "      <td>3</td>\n",
       "      <td>2012-06-13</td>\n",
       "    </tr>\n",
       "    <tr>\n",
       "      <th>2149672</th>\n",
       "      <td>80236</td>\n",
       "      <td>1298</td>\n",
       "      <td>3</td>\n",
       "      <td>2011-03-08</td>\n",
       "    </tr>\n",
       "    <tr>\n",
       "      <th>2149673</th>\n",
       "      <td>936</td>\n",
       "      <td>6896</td>\n",
       "      <td>3</td>\n",
       "      <td>2012-09-16</td>\n",
       "    </tr>\n",
       "    <tr>\n",
       "      <th>2149674</th>\n",
       "      <td>118907</td>\n",
       "      <td>1509</td>\n",
       "      <td>5</td>\n",
       "      <td>2013-07-28</td>\n",
       "    </tr>\n",
       "  </tbody>\n",
       "</table>\n",
       "<p>2149675 rows × 4 columns</p>\n",
       "</div>"
      ],
      "text/plain": [
       "         user_id  item_id  rating        date\n",
       "0          59708        0       3  2012-06-16\n",
       "1           3781        1       4  2009-12-24\n",
       "2         120358        2       4  2010-08-06\n",
       "3          55553        3       5  2013-07-28\n",
       "4          20837        4       4  2012-03-10\n",
       "...          ...      ...     ...         ...\n",
       "2149670   123340     2377       4  2009-11-15\n",
       "2149671    61472     7027       3  2012-06-13\n",
       "2149672    80236     1298       3  2011-03-08\n",
       "2149673      936     6896       3  2012-09-16\n",
       "2149674   118907     1509       5  2013-07-28\n",
       "\n",
       "[2149675 rows x 4 columns]"
      ]
     },
     "execution_count": 33,
     "metadata": {},
     "output_type": "execute_result"
    }
   ],
   "source": [
    "user_df.fillna(0)\n",
    "rating_df.fillna(0)"
   ]
  },
  {
   "cell_type": "code",
   "execution_count": 34,
   "metadata": {},
   "outputs": [
    {
     "data": {
      "text/plain": [
       "0         2012-06-16\n",
       "1         2009-12-24\n",
       "2         2010-08-06\n",
       "3         2013-07-28\n",
       "4         2012-03-10\n",
       "             ...    \n",
       "2149670   2009-11-15\n",
       "2149671   2012-06-13\n",
       "2149672   2011-03-08\n",
       "2149673   2012-09-16\n",
       "2149674   2013-07-28\n",
       "Name: date, Length: 2149675, dtype: datetime64[ns]"
      ]
     },
     "execution_count": 34,
     "metadata": {},
     "output_type": "execute_result"
    }
   ],
   "source": [
    "rating_df['date'] = pd.to_datetime(rating_df['date'])\n",
    "rating_df['date']"
   ]
  },
  {
   "cell_type": "code",
   "execution_count": 35,
   "metadata": {},
   "outputs": [
    {
     "data": {
      "text/html": [
       "<div>\n",
       "<style scoped>\n",
       "    .dataframe tbody tr th:only-of-type {\n",
       "        vertical-align: middle;\n",
       "    }\n",
       "\n",
       "    .dataframe tbody tr th {\n",
       "        vertical-align: top;\n",
       "    }\n",
       "\n",
       "    .dataframe thead th {\n",
       "        text-align: right;\n",
       "    }\n",
       "</style>\n",
       "<table border=\"1\" class=\"dataframe\">\n",
       "  <thead>\n",
       "    <tr style=\"text-align: right;\">\n",
       "      <th></th>\n",
       "      <th>user_id</th>\n",
       "      <th>item_id</th>\n",
       "      <th>rating</th>\n",
       "      <th>timestamp</th>\n",
       "    </tr>\n",
       "  </thead>\n",
       "  <tbody>\n",
       "    <tr>\n",
       "      <th>0</th>\n",
       "      <td>59708</td>\n",
       "      <td>0</td>\n",
       "      <td>3</td>\n",
       "      <td>1339804800</td>\n",
       "    </tr>\n",
       "    <tr>\n",
       "      <th>1</th>\n",
       "      <td>3781</td>\n",
       "      <td>1</td>\n",
       "      <td>4</td>\n",
       "      <td>1261612800</td>\n",
       "    </tr>\n",
       "    <tr>\n",
       "      <th>2</th>\n",
       "      <td>120358</td>\n",
       "      <td>2</td>\n",
       "      <td>4</td>\n",
       "      <td>1281052800</td>\n",
       "    </tr>\n",
       "    <tr>\n",
       "      <th>3</th>\n",
       "      <td>55553</td>\n",
       "      <td>3</td>\n",
       "      <td>5</td>\n",
       "      <td>1374969600</td>\n",
       "    </tr>\n",
       "    <tr>\n",
       "      <th>4</th>\n",
       "      <td>20837</td>\n",
       "      <td>4</td>\n",
       "      <td>4</td>\n",
       "      <td>1331337600</td>\n",
       "    </tr>\n",
       "  </tbody>\n",
       "</table>\n",
       "</div>"
      ],
      "text/plain": [
       "   user_id  item_id  rating   timestamp\n",
       "0    59708        0       3  1339804800\n",
       "1     3781        1       4  1261612800\n",
       "2   120358        2       4  1281052800\n",
       "3    55553        3       5  1374969600\n",
       "4    20837        4       4  1331337600"
      ]
     },
     "execution_count": 35,
     "metadata": {},
     "output_type": "execute_result"
    }
   ],
   "source": [
    "rating_df['date'] = rating_df['date'].values.astype(np.int64)//10**9\n",
    "rating_df = rating_df.rename(columns={'date':'timestamp'})\n",
    "rating_df.head() "
   ]
  },
  {
   "cell_type": "code",
   "execution_count": 36,
   "metadata": {},
   "outputs": [
    {
     "data": {
      "text/plain": [
       "0          3\n",
       "1          4\n",
       "2          4\n",
       "3          5\n",
       "4          4\n",
       "          ..\n",
       "2149670    4\n",
       "2149671    3\n",
       "2149672    3\n",
       "2149673    3\n",
       "2149674    5\n",
       "Name: rating, Length: 2149675, dtype: int64"
      ]
     },
     "execution_count": 36,
     "metadata": {},
     "output_type": "execute_result"
    }
   ],
   "source": [
    "rating_df['rating']"
   ]
  },
  {
   "cell_type": "code",
   "execution_count": 37,
   "metadata": {},
   "outputs": [],
   "source": [
    "# new_cols = []\n",
    "# dfs = [user_df, rating_df]\n",
    "# new_dfs = []\n",
    "# for df in dfs:\n",
    "#     for col in df.columns:\n",
    "#         new_cols.append(f'{col}:{type(df[col][0]).__name__}')\n",
    "#         df = df.rename(columns={col:new_cols[-1]})\n",
    "#     new_dfs.append(df)"
   ]
  },
  {
   "cell_type": "code",
   "execution_count": 38,
   "metadata": {},
   "outputs": [
    {
     "data": {
      "text/plain": [
       "(   user_id  item_id  rating   timestamp\n",
       " 0    59708        0       3  1339804800\n",
       " 1     3781        1       4  1261612800,\n",
       "    user_id                                         friends_id\n",
       " 0        0  [1, 2, 3, 4, 5, 6, 7, 8, 9, 10, 11, 12, 13, 14...\n",
       " 1       29                                               [30])"
      ]
     },
     "execution_count": 38,
     "metadata": {},
     "output_type": "execute_result"
    }
   ],
   "source": [
    "rating_df.head(2), user_df.head(2)"
   ]
  },
  {
   "cell_type": "code",
   "execution_count": 39,
   "metadata": {},
   "outputs": [],
   "source": [
    "rating_df = rating_df.rename(columns={'user_id':'user_id:token', 'item_id':'item_id:token', 'rating':'rating:float', 'timestamp':'timestamp:float'})\n",
    "user_df = user_df.rename(columns={'user_id':'user_id:token', 'friends_id':'friends_id:token_seq'})"
   ]
  },
  {
   "cell_type": "code",
   "execution_count": 40,
   "metadata": {},
   "outputs": [
    {
     "data": {
      "text/plain": [
       "(   user_id:token  item_id:token  rating:float  timestamp:float\n",
       " 0          59708              0             3       1339804800\n",
       " 1           3781              1             4       1261612800,\n",
       "    user_id:token                               friends_id:token_seq\n",
       " 0              0  [1, 2, 3, 4, 5, 6, 7, 8, 9, 10, 11, 12, 13, 14...\n",
       " 1             29                                               [30])"
      ]
     },
     "execution_count": 40,
     "metadata": {},
     "output_type": "execute_result"
    }
   ],
   "source": [
    "rating_df.head(2), user_df.head(2)"
   ]
  },
  {
   "cell_type": "code",
   "execution_count": 41,
   "metadata": {},
   "outputs": [],
   "source": [
    "# new_cols = []\n",
    "# for col in user_df.columns:\n",
    "#     new_cols.append(f'{col}:{type(user_df[col][0]).__name__}')\n",
    "#     user_df = user_df.rename(columns={col:new_cols[-1]})\n",
    "\n",
    "# new_cols = []\n",
    "\n",
    "# for col in rating_df.columns:\n",
    "#     new_cols.append(f'{col}:{type(rating_df[col][0]).__name__}')\n",
    "#     rating_df = rating_df.rename(columns={col:new_cols[-1]})"
   ]
  },
  {
   "cell_type": "code",
   "execution_count": null,
   "metadata": {},
   "outputs": [],
   "source": []
  },
  {
   "cell_type": "code",
   "execution_count": 42,
   "metadata": {},
   "outputs": [],
   "source": [
    "# saving the datasets in atomic files format \n",
    "# user_df.to_csv('Dianping_local\\Dianping_local.user', index=False)\n",
    "rating_df.to_csv('Dianping_local\\Dianping_local.inter', index=False, sep='\\t')"
   ]
  },
  {
   "cell_type": "code",
   "execution_count": 10,
   "metadata": {},
   "outputs": [],
   "source": [
    "# saving the datasets in .csv format \n",
    "user_df.to_csv('data/users.csv', index=False)\n",
    "rating_df.to_csv('data/interactions.csv', index=False)"
   ]
  },
  {
   "cell_type": "code",
   "execution_count": 15,
   "metadata": {},
   "outputs": [
    {
     "name": "stdout",
     "output_type": "stream",
     "text": [
      "<class 'pandas.core.frame.DataFrame'>\n",
      "RangeIndex: 147918 entries, 0 to 147917\n",
      "Data columns (total 2 columns):\n",
      " #   Column      Non-Null Count   Dtype \n",
      "---  ------      --------------   ----- \n",
      " 0   user_id     147918 non-null  int64 \n",
      " 1   friends_id  147918 non-null  object\n",
      "dtypes: int64(1), object(1)\n",
      "memory usage: 2.3+ MB\n"
     ]
    }
   ],
   "source": [
    "user_df.info() "
   ]
  },
  {
   "cell_type": "code",
   "execution_count": 16,
   "metadata": {},
   "outputs": [
    {
     "name": "stdout",
     "output_type": "stream",
     "text": [
      "<class 'pandas.core.frame.DataFrame'>\n",
      "RangeIndex: 2149675 entries, 0 to 2149674\n",
      "Data columns (total 4 columns):\n",
      " #   Column   Dtype \n",
      "---  ------   ----- \n",
      " 0   user_id  int64 \n",
      " 1   item_id  int64 \n",
      " 2   rating   int64 \n",
      " 3   date     object\n",
      "dtypes: int64(3), object(1)\n",
      "memory usage: 65.6+ MB\n"
     ]
    }
   ],
   "source": [
    "rating_df.info() "
   ]
  },
  {
   "cell_type": "code",
   "execution_count": null,
   "metadata": {},
   "outputs": [],
   "source": []
  }
 ],
 "metadata": {
  "kernelspec": {
   "display_name": "deepctr",
   "language": "python",
   "name": "python3"
  },
  "language_info": {
   "codemirror_mode": {
    "name": "ipython",
    "version": 3
   },
   "file_extension": ".py",
   "mimetype": "text/x-python",
   "name": "python",
   "nbconvert_exporter": "python",
   "pygments_lexer": "ipython3",
   "version": "3.7.12"
  }
 },
 "nbformat": 4,
 "nbformat_minor": 2
}
