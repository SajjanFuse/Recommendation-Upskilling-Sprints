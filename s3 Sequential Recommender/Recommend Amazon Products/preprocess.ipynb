{
 "cells": [
  {
   "cell_type": "code",
   "execution_count": 75,
   "metadata": {},
   "outputs": [],
   "source": [
    "import numpy as np \n",
    "import pandas as pd\n",
    "import matplotlib.pyplot as plt \n",
    "import glob \n",
    "import json \n",
    "\n",
    "import ast \n",
    "import seaborn as sns "
   ]
  },
  {
   "cell_type": "code",
   "execution_count": 76,
   "metadata": {},
   "outputs": [
    {
     "data": {
      "text/plain": [
       "['../../datasets/music\\\\Digital_Music.jsonl',\n",
       " '../../datasets/music\\\\meta_Digital_Music.jsonl']"
      ]
     },
     "execution_count": 76,
     "metadata": {},
     "output_type": "execute_result"
    }
   ],
   "source": [
    "meal_dfs = glob.glob(\"../../datasets/music/*\")\n",
    "meal_dfs"
   ]
  },
  {
   "cell_type": "code",
   "execution_count": 77,
   "metadata": {},
   "outputs": [],
   "source": [
    "file_path = meal_dfs[0]\n",
    "meta_path = meal_dfs[1]"
   ]
  },
  {
   "cell_type": "code",
   "execution_count": 78,
   "metadata": {},
   "outputs": [],
   "source": [
    "# checking the dfs with reviews file = # e.g., \"All_Beauty.jsonl\", downloaded from the `review` link above\n",
    "all_data = []\n",
    "with open(file_path, 'r') as fp:\n",
    "    i=0\n",
    "    for line in fp:\n",
    "        all_data.append(json.loads(line.strip()))\n",
    "        i+=1 \n",
    "        if i>100:\n",
    "            break "
   ]
  },
  {
   "cell_type": "code",
   "execution_count": 79,
   "metadata": {},
   "outputs": [
    {
     "data": {
      "text/html": [
       "<div>\n",
       "<style scoped>\n",
       "    .dataframe tbody tr th:only-of-type {\n",
       "        vertical-align: middle;\n",
       "    }\n",
       "\n",
       "    .dataframe tbody tr th {\n",
       "        vertical-align: top;\n",
       "    }\n",
       "\n",
       "    .dataframe thead th {\n",
       "        text-align: right;\n",
       "    }\n",
       "</style>\n",
       "<table border=\"1\" class=\"dataframe\">\n",
       "  <thead>\n",
       "    <tr style=\"text-align: right;\">\n",
       "      <th></th>\n",
       "      <th>rating</th>\n",
       "      <th>title</th>\n",
       "      <th>text</th>\n",
       "      <th>images</th>\n",
       "      <th>asin</th>\n",
       "      <th>parent_asin</th>\n",
       "      <th>user_id</th>\n",
       "      <th>timestamp</th>\n",
       "      <th>helpful_vote</th>\n",
       "      <th>verified_purchase</th>\n",
       "    </tr>\n",
       "  </thead>\n",
       "  <tbody>\n",
       "    <tr>\n",
       "      <th>0</th>\n",
       "      <td>5.0</td>\n",
       "      <td>Nice</td>\n",
       "      <td>If i had a dollar for how many times I have pl...</td>\n",
       "      <td>[]</td>\n",
       "      <td>B004RQ2IRG</td>\n",
       "      <td>B004RQ2IRG</td>\n",
       "      <td>AFUOYIZBU3MTBOLYKOJE5Z35MBDA</td>\n",
       "      <td>1618972613292</td>\n",
       "      <td>0</td>\n",
       "      <td>True</td>\n",
       "    </tr>\n",
       "    <tr>\n",
       "      <th>1</th>\n",
       "      <td>5.0</td>\n",
       "      <td>Excellent</td>\n",
       "      <td>awesome sound - cant wait to see them in perso...</td>\n",
       "      <td>[]</td>\n",
       "      <td>B0026UZEI0</td>\n",
       "      <td>B0026UZEI0</td>\n",
       "      <td>AHGAOIZVODNHYMNCBV4DECZH42UQ</td>\n",
       "      <td>1308167525000</td>\n",
       "      <td>0</td>\n",
       "      <td>True</td>\n",
       "    </tr>\n",
       "  </tbody>\n",
       "</table>\n",
       "</div>"
      ],
      "text/plain": [
       "   rating      title                                               text  \\\n",
       "0     5.0       Nice  If i had a dollar for how many times I have pl...   \n",
       "1     5.0  Excellent  awesome sound - cant wait to see them in perso...   \n",
       "\n",
       "  images        asin parent_asin                       user_id      timestamp  \\\n",
       "0     []  B004RQ2IRG  B004RQ2IRG  AFUOYIZBU3MTBOLYKOJE5Z35MBDA  1618972613292   \n",
       "1     []  B0026UZEI0  B0026UZEI0  AHGAOIZVODNHYMNCBV4DECZH42UQ  1308167525000   \n",
       "\n",
       "   helpful_vote  verified_purchase  \n",
       "0             0               True  \n",
       "1             0               True  "
      ]
     },
     "execution_count": 79,
     "metadata": {},
     "output_type": "execute_result"
    }
   ],
   "source": [
    "lines = [] \n",
    "\n",
    "with open(file_path, 'r') as fp:\n",
    "    lines = fp.read().splitlines()\n",
    "\n",
    "line_dicts = [json.loads(line) for line in lines]\n",
    "df_final = pd.DataFrame(line_dicts)\n",
    "df_final.head(2)"
   ]
  },
  {
   "cell_type": "markdown",
   "metadata": {},
   "source": [
    "- asin : product_id \n",
    "- user_id : user_id "
   ]
  },
  {
   "cell_type": "markdown",
   "metadata": {},
   "source": [
    "## For sequential recommendation: \n",
    "\n",
    "The dataset should be in the format of:\n",
    "\n",
    "$ [user, item, timestamp ] $ "
   ]
  },
  {
   "cell_type": "code",
   "execution_count": 80,
   "metadata": {},
   "outputs": [
    {
     "data": {
      "text/plain": [
       "(array([5., 1., 3., 4., 2.]),\n",
       " rating\n",
       " 5.0    100618\n",
       " 4.0     14129\n",
       " 3.0      6392\n",
       " 1.0      6136\n",
       " 2.0      3159\n",
       " Name: count, dtype: int64)"
      ]
     },
     "execution_count": 80,
     "metadata": {},
     "output_type": "execute_result"
    }
   ],
   "source": [
    "df_final.rating.unique(), df_final.rating.value_counts()"
   ]
  },
  {
   "cell_type": "markdown",
   "metadata": {},
   "source": [
    "### Hence, let us take the items in the order of the rating highest at first"
   ]
  },
  {
   "cell_type": "code",
   "execution_count": 81,
   "metadata": {},
   "outputs": [
    {
     "data": {
      "text/plain": [
       "70519"
      ]
     },
     "execution_count": 81,
     "metadata": {},
     "output_type": "execute_result"
    }
   ],
   "source": [
    "df_final.asin.nunique()"
   ]
  },
  {
   "cell_type": "code",
   "execution_count": 82,
   "metadata": {},
   "outputs": [
    {
     "name": "stdout",
     "output_type": "stream",
     "text": [
      "<class 'pandas.core.frame.DataFrame'>\n",
      "RangeIndex: 130434 entries, 0 to 130433\n",
      "Data columns (total 10 columns):\n",
      " #   Column             Non-Null Count   Dtype  \n",
      "---  ------             --------------   -----  \n",
      " 0   rating             130434 non-null  float64\n",
      " 1   title              130434 non-null  object \n",
      " 2   text               130434 non-null  object \n",
      " 3   images             130434 non-null  object \n",
      " 4   asin               130434 non-null  object \n",
      " 5   parent_asin        130434 non-null  object \n",
      " 6   user_id            130434 non-null  object \n",
      " 7   timestamp          130434 non-null  int64  \n",
      " 8   helpful_vote       130434 non-null  int64  \n",
      " 9   verified_purchase  130434 non-null  bool   \n",
      "dtypes: bool(1), float64(1), int64(2), object(6)\n",
      "memory usage: 9.1+ MB\n"
     ]
    },
    {
     "data": {
      "text/plain": [
       "(100952, None)"
      ]
     },
     "execution_count": 82,
     "metadata": {},
     "output_type": "execute_result"
    }
   ],
   "source": [
    "df_final.user_id.nunique(), df_final.info()"
   ]
  },
  {
   "cell_type": "markdown",
   "metadata": {},
   "source": [
    "There are 130k total reviews and 100k different users. Hence, let us select only handful number of people that have reviewed and rated more than only one product."
   ]
  },
  {
   "cell_type": "code",
   "execution_count": 83,
   "metadata": {},
   "outputs": [
    {
     "data": {
      "text/html": [
       "<div>\n",
       "<style scoped>\n",
       "    .dataframe tbody tr th:only-of-type {\n",
       "        vertical-align: middle;\n",
       "    }\n",
       "\n",
       "    .dataframe tbody tr th {\n",
       "        vertical-align: top;\n",
       "    }\n",
       "\n",
       "    .dataframe thead th {\n",
       "        text-align: right;\n",
       "    }\n",
       "</style>\n",
       "<table border=\"1\" class=\"dataframe\">\n",
       "  <thead>\n",
       "    <tr style=\"text-align: right;\">\n",
       "      <th></th>\n",
       "      <th>user_id</th>\n",
       "      <th>asin</th>\n",
       "      <th>parent_asin</th>\n",
       "      <th>rating</th>\n",
       "      <th>timestamp</th>\n",
       "    </tr>\n",
       "  </thead>\n",
       "  <tbody>\n",
       "    <tr>\n",
       "      <th>0</th>\n",
       "      <td>AFUOYIZBU3MTBOLYKOJE5Z35MBDA</td>\n",
       "      <td>B004RQ2IRG</td>\n",
       "      <td>B004RQ2IRG</td>\n",
       "      <td>5.0</td>\n",
       "      <td>1618972613292</td>\n",
       "    </tr>\n",
       "    <tr>\n",
       "      <th>1</th>\n",
       "      <td>AHGAOIZVODNHYMNCBV4DECZH42UQ</td>\n",
       "      <td>B0026UZEI0</td>\n",
       "      <td>B0026UZEI0</td>\n",
       "      <td>5.0</td>\n",
       "      <td>1308167525000</td>\n",
       "    </tr>\n",
       "  </tbody>\n",
       "</table>\n",
       "</div>"
      ],
      "text/plain": [
       "                        user_id        asin parent_asin  rating      timestamp\n",
       "0  AFUOYIZBU3MTBOLYKOJE5Z35MBDA  B004RQ2IRG  B004RQ2IRG     5.0  1618972613292\n",
       "1  AHGAOIZVODNHYMNCBV4DECZH42UQ  B0026UZEI0  B0026UZEI0     5.0  1308167525000"
      ]
     },
     "execution_count": 83,
     "metadata": {},
     "output_type": "execute_result"
    }
   ],
   "source": [
    "# only taking users, items, rating, and timestamp\n",
    "df = df_final[['user_id', 'asin', 'parent_asin', 'rating', 'timestamp']]\n",
    "df.head(2)"
   ]
  },
  {
   "cell_type": "code",
   "execution_count": 84,
   "metadata": {},
   "outputs": [
    {
     "data": {
      "text/plain": [
       "user_id\n",
       "AGAFM74L2RIJ5O36NNYH4Z5ISQNQ    341\n",
       "AEDFM4VDH2MKYVBKGYVTU6R5L5FQ    182\n",
       "AH3FC6V3IUJIN2Y7BCZ7DN3IMMJQ    175\n",
       "AEFLICXXHRBMNT4HAZH2NUU6TCOA    136\n",
       "AFMUUMXTKB6C52CCENIFBK4QLT4Q    130\n",
       "                               ... \n",
       "AHJNH24BZHQB7PWPGPYRMYXOQ2SQ      1\n",
       "AFZGUZQ3X3PIQGIC7MAVMSL7E4XA      1\n",
       "AHH2FTUUYYGKMZEY5OH3IDPD23ZQ      1\n",
       "AH5MDHJK7OCKI6TZIN5N5K7TCXQQ      1\n",
       "AEFCHGMHFSZA4IWC5FWTBRPR25GQ      1\n",
       "Name: count, Length: 100952, dtype: int64"
      ]
     },
     "execution_count": 84,
     "metadata": {},
     "output_type": "execute_result"
    }
   ],
   "source": [
    "df['user_id'].value_counts()"
   ]
  },
  {
   "cell_type": "code",
   "execution_count": 85,
   "metadata": {},
   "outputs": [
    {
     "data": {
      "text/html": [
       "<div>\n",
       "<style scoped>\n",
       "    .dataframe tbody tr th:only-of-type {\n",
       "        vertical-align: middle;\n",
       "    }\n",
       "\n",
       "    .dataframe tbody tr th {\n",
       "        vertical-align: top;\n",
       "    }\n",
       "\n",
       "    .dataframe thead th {\n",
       "        text-align: right;\n",
       "    }\n",
       "</style>\n",
       "<table border=\"1\" class=\"dataframe\">\n",
       "  <thead>\n",
       "    <tr style=\"text-align: right;\">\n",
       "      <th></th>\n",
       "      <th>user_id</th>\n",
       "      <th>asin</th>\n",
       "      <th>parent_asin</th>\n",
       "      <th>rating</th>\n",
       "      <th>timestamp</th>\n",
       "    </tr>\n",
       "  </thead>\n",
       "  <tbody>\n",
       "    <tr>\n",
       "      <th>72082</th>\n",
       "      <td>AE2225OKZMXZ4TTULR33R66IAU4A</td>\n",
       "      <td>B0000057L2</td>\n",
       "      <td>B0000057L2</td>\n",
       "      <td>5.0</td>\n",
       "      <td>1471009104000</td>\n",
       "    </tr>\n",
       "    <tr>\n",
       "      <th>42640</th>\n",
       "      <td>AE225NQR6TN6SUNMTF6O4T37TXPQ</td>\n",
       "      <td>B000HVV2N6</td>\n",
       "      <td>B000HVV2N6</td>\n",
       "      <td>5.0</td>\n",
       "      <td>1650665983971</td>\n",
       "    </tr>\n",
       "    <tr>\n",
       "      <th>1167</th>\n",
       "      <td>AE225Z2VRWT6GPTOMA4H4O3H2KVQ</td>\n",
       "      <td>B00PUTIJQI</td>\n",
       "      <td>B00PUTIJQI</td>\n",
       "      <td>5.0</td>\n",
       "      <td>1520039515541</td>\n",
       "    </tr>\n",
       "    <tr>\n",
       "      <th>87743</th>\n",
       "      <td>AE226RM2T7PZIFMLS4AYBU2DM7LA</td>\n",
       "      <td>B00FJNE6WG</td>\n",
       "      <td>B00FJNE6WG</td>\n",
       "      <td>5.0</td>\n",
       "      <td>1410617507000</td>\n",
       "    </tr>\n",
       "    <tr>\n",
       "      <th>80074</th>\n",
       "      <td>AE22CWLV6HOE3P57RFCL2BTD5NUQ</td>\n",
       "      <td>B00KNSEZ1E</td>\n",
       "      <td>B00KNSEZ1E</td>\n",
       "      <td>5.0</td>\n",
       "      <td>1579498312610</td>\n",
       "    </tr>\n",
       "  </tbody>\n",
       "</table>\n",
       "</div>"
      ],
      "text/plain": [
       "                            user_id        asin parent_asin  rating  \\\n",
       "72082  AE2225OKZMXZ4TTULR33R66IAU4A  B0000057L2  B0000057L2     5.0   \n",
       "42640  AE225NQR6TN6SUNMTF6O4T37TXPQ  B000HVV2N6  B000HVV2N6     5.0   \n",
       "1167   AE225Z2VRWT6GPTOMA4H4O3H2KVQ  B00PUTIJQI  B00PUTIJQI     5.0   \n",
       "87743  AE226RM2T7PZIFMLS4AYBU2DM7LA  B00FJNE6WG  B00FJNE6WG     5.0   \n",
       "80074  AE22CWLV6HOE3P57RFCL2BTD5NUQ  B00KNSEZ1E  B00KNSEZ1E     5.0   \n",
       "\n",
       "           timestamp  \n",
       "72082  1471009104000  \n",
       "42640  1650665983971  \n",
       "1167   1520039515541  \n",
       "87743  1410617507000  \n",
       "80074  1579498312610  "
      ]
     },
     "execution_count": 85,
     "metadata": {},
     "output_type": "execute_result"
    }
   ],
   "source": [
    "df_sorted = df.sort_values(by=['user_id', 'rating'], ascending=[True,False])\n",
    "df_sorted.head()"
   ]
  },
  {
   "cell_type": "code",
   "execution_count": 86,
   "metadata": {},
   "outputs": [],
   "source": [
    "result = df_sorted.groupby('user_id')['asin'].apply(lambda x: ','.join(x)).reset_index()"
   ]
  },
  {
   "cell_type": "code",
   "execution_count": 87,
   "metadata": {},
   "outputs": [
    {
     "data": {
      "text/plain": [
       "['B000027NXM,B00004SNJB,B00004USJX,B01MCZ9Z6S,B0000257XU,B0000254LR,B000024OHW,B01L9AGU1C,B000M74XKO,B000027NGI,B00002MYLY,B000BK3YHU,B00004S3DC,B00MJ6ET0A,B0000260P0,B000M2BABO,B004W0H5S4,B00000ASA5,B000025YVO,B0002YW098,B000K6LOSQ,B003H1BNYQ,B0000264IM,B002Z5VD9U,B005SDWL1K,B00CTLHL9G,B000063XPF,B000025TP3,B000025U5A,B0000UM06W,B00R63OA9Q,B00007JR63,B000027Q53,B00IQUJMG4,B0000264I0,B000CEETHY,B000050RI7,B00007JQVK,B0000254I0,B000H72FD6,B00004R7V8,B0000254BV,B0000254AY,B000026367,B0000254L3,B0000254KP,B00004V516,B000026BEO,B00005G7S9,B005HT0KAY,B005LG2PZG,B0000245GN,B000MU2KNI,B000WTYQUO,B007S0GVBC,B000XPTBW0,B000FPHFJE,B00EBVFNCY,B002HPUTT8,B000001YNH,B000001YN8,B0009N5L5W,B000003574,B000024OKO,B007XWGPL6,B00002513J,B0015RAJ3U,B0017VTWSC,B002B3333A,B0002N6UHM,B0040ZYPKM,B004D647GK,B007MWFWP2,B007S9IWYW,B000TQB5HC,B006X6T03S,B0011ZLF1Q,B000II3376,B000M6UMVO,B000NYZTDQ,B000VLYLJ4,B004MA22NC,B0025WUKMY,B001P4KG04,B0002KBKLQ,B000FS4PP8,B0002IN1I8,B000PHCY20,B002RPJ7S2,B000TAZBEG,B000VLWJ9S,B001P4KG0O,B0011G2TOW,B002VAIQBM,B000ML0WQE,B000V6BAY8,B0002F7RYK,B000L42GN4,B000NW41HS,B000GUFCZ2,B0007MR0SG,B00005EOZV,B000027B8D,B000OH9BXQ,B000004CIE,B075BR7QJP,B0000282DS,B01KAP7V1U,B000027TIL,B00K6ZFEYG,B0002ZL19C,B01K8R4GMC,B00006J9MG,B01AXM4H30,B00004U4I3,B000028286,B00004S3I7,B000QWBXJ4,B000024YKN,B000025RUW,B000EHKD2E,B00004VSIH,B000026BJD,B000026HA2,B0009K7EIW,B004U5R6QM,B01AQ1H8IY,B000AM8R3A,B000WXK2EE,B000BGQS86,B00002625K,B000025WQO,B00002546Q,B000E3UF6C,B000FP9VYG,B0179XL068,B00CTKT46A,B0018S1VMY,B00002MXGI,B0000261QG,B005ZGLABW,B000EO8SNS,B000026B4S,B00005EIJU,B000197JC2,B00002547Y,B0000260HT,B007RIH5XI,B000F9SN0A,B005IDDDLC,B0014LO5IW,B000KDWOEW,B00C4YVG12,B000FAJ9WU,B0000254ER,B001LBALGA,B004LGL26A,B002GZQGXW,B000024K48,B007Y8TAL6,B000058TKA,B000027SXV,B0026E2QPA,B00268CYYY,B0000268EW,B0011DLVW6,B000024INV,B000027OQK,B0000257N1,B000024U4K,B00005O7Z3,B000026RDO,B001M55M96,B00003Q089,B00004U4I4,B0002EQ404,B000KID7CA,B00FIGFSM6,B000025QYX,B004VKURTE,B000GIGPVE,B000WM56ZK,B000066IL9,B0000247F1,B000GW0LN8,B00061S0BE,B000E5L84S,B002VTZ3ZA,B002PQBHZY,5559348457,B00004UT57,B000027NFN,B000XYP57Q,B003XGXW0S,B000K3LYFM,B001AVM4WU,B0006393HC,B000XYI8NE,B000HE7OGM,B0000260WR,B004TLB974,B000KC4JT6,B003TVTS2I,B0009YFDTA,B000NG1XWU,B00495RY3S,B00005V9SN,B00093OOT6,B0007POD7O,B000RAD4SI,B003O2YTPI,B0002IKVEK,B000001L3N,B0002IGGJ4,B000B65FQW,B000QFMY1M,B0017L67S0,B000VWIBQW,B000023ZSA,B000CSAK14,B001J4W7OI,B0011FSASM,B000XU6TMK,B000J4FJDK,B000MQL7FO,B000KRTESC,B000TPZISU,B000KDZ54I,B000027B8A,B0000262NE,B001MMPBS6,B0055KKQEU,B01GKACT9I,B000027FJZ,B005H417SS,B0015CFZNO,B0002NBBTY,B01L7GPBDG,B00004UZJ3,B000027FWO,B00002653W,B00004VDCP,B000023Z1B,B00004S3I5,B00X4OZH9I,B000C0GUFC,B0000544EZ,B00004SNJI,B0000254C4,B002SH8ZDC,B000833ZJ2,B000025RA3,B0000250HD,B003YTDT20,B001FAR5WK,B0000254B0,B000024CGU,B00B47FY0Y,B000028B0J,B000ARGTQ2,B000OC2NYK,B00FBRO5FS,B007SRK1BG,B0007M3HF6,B000026718,B001FANU6U,B000076CW3,B00RAAFJUO,B000027P35,B004XMVYCE,B00007997L,B001ALMQAU,B0000254HT,B005JSDWGC,B008AK2BB8,B003AOI0F0,B000025M1L,B00151WRZO,B0000259FH,B0002YK0W2,B0000261YG,B00004V5D6,B00004ZEB8,B000E6G5L8,B000BGSMNA,B000IJ7K9W,B000A3AB7Y,B000I3HM5U,B000U1TSLQ,B005V74V9S,5550966379,B00286BCFQ,B001KGW38U,B000025S18,B002VDV6MA,B003AKIDEM,B0000023DN,B000P9TBGK,B000VWNYPK,B000026CX3,B00076PZJS,B00329EXDG,B0002MQ7CQ,B0000566UZ,B0000254I6,B000AP0GE0,B000AOIKLM,B000TAXE7W,B000PT3OS6,B0009O23XE,B000027POW,B000GP25EI,B000STG0IO,B00084LEZS,B002A5ZLWK,B001UWOJ8Q,B000QDH71Q,B00002505B,B01D8Q72LW,B0000254C2,B000K2NFFA,B000025LCR,B0000254LU,B01BY3UR4K,B000024GUQ,B001MMU0YQ,B003YJ3I8K,B000CDGTEG,B000024K99,B000P0HO4U,B003HI1KEC,B000PD6WAE,B000027C9Y,B0000561O1,B001F5IOG6,B00000355H,B0012SQ0QC,B00006J48O,B000051KZD,B005HZVMOG,B00170AWGO']"
      ]
     },
     "execution_count": 87,
     "metadata": {},
     "output_type": "execute_result"
    }
   ],
   "source": [
    "result[result['user_id']=='AGAFM74L2RIJ5O36NNYH4Z5ISQNQ'].asin.tolist()"
   ]
  },
  {
   "cell_type": "code",
   "execution_count": 88,
   "metadata": {},
   "outputs": [
    {
     "data": {
      "text/html": [
       "<div>\n",
       "<style scoped>\n",
       "    .dataframe tbody tr th:only-of-type {\n",
       "        vertical-align: middle;\n",
       "    }\n",
       "\n",
       "    .dataframe tbody tr th {\n",
       "        vertical-align: top;\n",
       "    }\n",
       "\n",
       "    .dataframe thead th {\n",
       "        text-align: right;\n",
       "    }\n",
       "</style>\n",
       "<table border=\"1\" class=\"dataframe\">\n",
       "  <thead>\n",
       "    <tr style=\"text-align: right;\">\n",
       "      <th></th>\n",
       "      <th>user_id</th>\n",
       "      <th>asin</th>\n",
       "    </tr>\n",
       "  </thead>\n",
       "  <tbody>\n",
       "    <tr>\n",
       "      <th>0</th>\n",
       "      <td>AE2225OKZMXZ4TTULR33R66IAU4A</td>\n",
       "      <td>B0000057L2</td>\n",
       "    </tr>\n",
       "    <tr>\n",
       "      <th>1</th>\n",
       "      <td>AE225NQR6TN6SUNMTF6O4T37TXPQ</td>\n",
       "      <td>B000HVV2N6</td>\n",
       "    </tr>\n",
       "    <tr>\n",
       "      <th>2</th>\n",
       "      <td>AE225Z2VRWT6GPTOMA4H4O3H2KVQ</td>\n",
       "      <td>B00PUTIJQI</td>\n",
       "    </tr>\n",
       "    <tr>\n",
       "      <th>3</th>\n",
       "      <td>AE226RM2T7PZIFMLS4AYBU2DM7LA</td>\n",
       "      <td>B00FJNE6WG</td>\n",
       "    </tr>\n",
       "    <tr>\n",
       "      <th>4</th>\n",
       "      <td>AE22CWLV6HOE3P57RFCL2BTD5NUQ</td>\n",
       "      <td>B00KNSEZ1E</td>\n",
       "    </tr>\n",
       "  </tbody>\n",
       "</table>\n",
       "</div>"
      ],
      "text/plain": [
       "                        user_id        asin\n",
       "0  AE2225OKZMXZ4TTULR33R66IAU4A  B0000057L2\n",
       "1  AE225NQR6TN6SUNMTF6O4T37TXPQ  B000HVV2N6\n",
       "2  AE225Z2VRWT6GPTOMA4H4O3H2KVQ  B00PUTIJQI\n",
       "3  AE226RM2T7PZIFMLS4AYBU2DM7LA  B00FJNE6WG\n",
       "4  AE22CWLV6HOE3P57RFCL2BTD5NUQ  B00KNSEZ1E"
      ]
     },
     "execution_count": 88,
     "metadata": {},
     "output_type": "execute_result"
    }
   ],
   "source": [
    "result.head()"
   ]
  },
  {
   "cell_type": "code",
   "execution_count": 89,
   "metadata": {},
   "outputs": [
    {
     "data": {
      "text/html": [
       "<div>\n",
       "<style scoped>\n",
       "    .dataframe tbody tr th:only-of-type {\n",
       "        vertical-align: middle;\n",
       "    }\n",
       "\n",
       "    .dataframe tbody tr th {\n",
       "        vertical-align: top;\n",
       "    }\n",
       "\n",
       "    .dataframe thead th {\n",
       "        text-align: right;\n",
       "    }\n",
       "</style>\n",
       "<table border=\"1\" class=\"dataframe\">\n",
       "  <thead>\n",
       "    <tr style=\"text-align: right;\">\n",
       "      <th></th>\n",
       "      <th>user_id</th>\n",
       "      <th>asin</th>\n",
       "      <th>parent_asin</th>\n",
       "      <th>rating</th>\n",
       "      <th>timestamp</th>\n",
       "    </tr>\n",
       "  </thead>\n",
       "  <tbody>\n",
       "    <tr>\n",
       "      <th>37951</th>\n",
       "      <td>AGAFM74L2RIJ5O36NNYH4Z5ISQNQ</td>\n",
       "      <td>B000027B8A</td>\n",
       "      <td>B000027B8A</td>\n",
       "      <td>3.0</td>\n",
       "      <td>1641310072862</td>\n",
       "    </tr>\n",
       "    <tr>\n",
       "      <th>37952</th>\n",
       "      <td>AGAFM74L2RIJ5O36NNYH4Z5ISQNQ</td>\n",
       "      <td>B0000262NE</td>\n",
       "      <td>B0000262NE</td>\n",
       "      <td>3.0</td>\n",
       "      <td>1553179841287</td>\n",
       "    </tr>\n",
       "    <tr>\n",
       "      <th>37953</th>\n",
       "      <td>AGAFM74L2RIJ5O36NNYH4Z5ISQNQ</td>\n",
       "      <td>B0007MR0SG</td>\n",
       "      <td>B0007MR0SG</td>\n",
       "      <td>4.0</td>\n",
       "      <td>1549022911946</td>\n",
       "    </tr>\n",
       "    <tr>\n",
       "      <th>37954</th>\n",
       "      <td>AGAFM74L2RIJ5O36NNYH4Z5ISQNQ</td>\n",
       "      <td>B000027NXM</td>\n",
       "      <td>B000027NXM</td>\n",
       "      <td>5.0</td>\n",
       "      <td>1547202919524</td>\n",
       "    </tr>\n",
       "    <tr>\n",
       "      <th>37955</th>\n",
       "      <td>AGAFM74L2RIJ5O36NNYH4Z5ISQNQ</td>\n",
       "      <td>B00005EOZV</td>\n",
       "      <td>B00005EOZV</td>\n",
       "      <td>4.0</td>\n",
       "      <td>1518365906454</td>\n",
       "    </tr>\n",
       "    <tr>\n",
       "      <th>37956</th>\n",
       "      <td>AGAFM74L2RIJ5O36NNYH4Z5ISQNQ</td>\n",
       "      <td>B000027B8D</td>\n",
       "      <td>B000027B8D</td>\n",
       "      <td>4.0</td>\n",
       "      <td>1518339037343</td>\n",
       "    </tr>\n",
       "    <tr>\n",
       "      <th>37957</th>\n",
       "      <td>AGAFM74L2RIJ5O36NNYH4Z5ISQNQ</td>\n",
       "      <td>B00004SNJB</td>\n",
       "      <td>B00004SNJB</td>\n",
       "      <td>5.0</td>\n",
       "      <td>1517616749839</td>\n",
       "    </tr>\n",
       "    <tr>\n",
       "      <th>37958</th>\n",
       "      <td>AGAFM74L2RIJ5O36NNYH4Z5ISQNQ</td>\n",
       "      <td>B000OH9BXQ</td>\n",
       "      <td>B000OH9BXQ</td>\n",
       "      <td>4.0</td>\n",
       "      <td>1511782444447</td>\n",
       "    </tr>\n",
       "    <tr>\n",
       "      <th>37959</th>\n",
       "      <td>AGAFM74L2RIJ5O36NNYH4Z5ISQNQ</td>\n",
       "      <td>B000004CIE</td>\n",
       "      <td>B000004CIE</td>\n",
       "      <td>4.0</td>\n",
       "      <td>1508949174273</td>\n",
       "    </tr>\n",
       "    <tr>\n",
       "      <th>37960</th>\n",
       "      <td>AGAFM74L2RIJ5O36NNYH4Z5ISQNQ</td>\n",
       "      <td>B001MMPBS6</td>\n",
       "      <td>B001MMPBS6</td>\n",
       "      <td>3.0</td>\n",
       "      <td>1504515152896</td>\n",
       "    </tr>\n",
       "  </tbody>\n",
       "</table>\n",
       "</div>"
      ],
      "text/plain": [
       "                            user_id        asin parent_asin  rating  \\\n",
       "37951  AGAFM74L2RIJ5O36NNYH4Z5ISQNQ  B000027B8A  B000027B8A     3.0   \n",
       "37952  AGAFM74L2RIJ5O36NNYH4Z5ISQNQ  B0000262NE  B0000262NE     3.0   \n",
       "37953  AGAFM74L2RIJ5O36NNYH4Z5ISQNQ  B0007MR0SG  B0007MR0SG     4.0   \n",
       "37954  AGAFM74L2RIJ5O36NNYH4Z5ISQNQ  B000027NXM  B000027NXM     5.0   \n",
       "37955  AGAFM74L2RIJ5O36NNYH4Z5ISQNQ  B00005EOZV  B00005EOZV     4.0   \n",
       "37956  AGAFM74L2RIJ5O36NNYH4Z5ISQNQ  B000027B8D  B000027B8D     4.0   \n",
       "37957  AGAFM74L2RIJ5O36NNYH4Z5ISQNQ  B00004SNJB  B00004SNJB     5.0   \n",
       "37958  AGAFM74L2RIJ5O36NNYH4Z5ISQNQ  B000OH9BXQ  B000OH9BXQ     4.0   \n",
       "37959  AGAFM74L2RIJ5O36NNYH4Z5ISQNQ  B000004CIE  B000004CIE     4.0   \n",
       "37960  AGAFM74L2RIJ5O36NNYH4Z5ISQNQ  B001MMPBS6  B001MMPBS6     3.0   \n",
       "\n",
       "           timestamp  \n",
       "37951  1641310072862  \n",
       "37952  1553179841287  \n",
       "37953  1549022911946  \n",
       "37954  1547202919524  \n",
       "37955  1518365906454  \n",
       "37956  1518339037343  \n",
       "37957  1517616749839  \n",
       "37958  1511782444447  \n",
       "37959  1508949174273  \n",
       "37960  1504515152896  "
      ]
     },
     "execution_count": 89,
     "metadata": {},
     "output_type": "execute_result"
    }
   ],
   "source": [
    "df[df['user_id']=='AGAFM74L2RIJ5O36NNYH4Z5ISQNQ'][:10]"
   ]
  },
  {
   "cell_type": "code",
   "execution_count": 90,
   "metadata": {},
   "outputs": [
    {
     "name": "stdout",
     "output_type": "stream",
     "text": [
      "Users with more than 2 ratigns: \n",
      " 14    AE22MFO6GCUJLXCWVQDLZDMWXQDA\n",
      "58    AE24H5QMMVF5762UWO7BUT2NEWJA\n",
      "Name: user_id, dtype: object\n",
      "\n",
      "Filtered df with users having more than 2 ratings: \n",
      "                        user_id        asin parent_asin  rating      timestamp\n",
      "7  AHB5CGLYN3Y6NIPHNQLYFJT2W2PQ  B08L7CJ6NM  B08L7CJ6NM     5.0  1641330592178\n",
      "8  AHB5CGLYN3Y6NIPHNQLYFJT2W2PQ  B092C24W4G  B092C24W4G     5.0  1641224888411\n"
     ]
    },
    {
     "data": {
      "text/html": [
       "<div>\n",
       "<style scoped>\n",
       "    .dataframe tbody tr th:only-of-type {\n",
       "        vertical-align: middle;\n",
       "    }\n",
       "\n",
       "    .dataframe tbody tr th {\n",
       "        vertical-align: top;\n",
       "    }\n",
       "\n",
       "    .dataframe thead th {\n",
       "        text-align: right;\n",
       "    }\n",
       "</style>\n",
       "<table border=\"1\" class=\"dataframe\">\n",
       "  <thead>\n",
       "    <tr style=\"text-align: right;\">\n",
       "      <th></th>\n",
       "      <th>user_id</th>\n",
       "      <th>total_asin_count</th>\n",
       "    </tr>\n",
       "  </thead>\n",
       "  <tbody>\n",
       "    <tr>\n",
       "      <th>2406</th>\n",
       "      <td>AGAFM74L2RIJ5O36NNYH4Z5ISQNQ</td>\n",
       "      <td>341</td>\n",
       "    </tr>\n",
       "    <tr>\n",
       "      <th>327</th>\n",
       "      <td>AEDFM4VDH2MKYVBKGYVTU6R5L5FQ</td>\n",
       "      <td>182</td>\n",
       "    </tr>\n",
       "    <tr>\n",
       "      <th>3354</th>\n",
       "      <td>AH3FC6V3IUJIN2Y7BCZ7DN3IMMJQ</td>\n",
       "      <td>175</td>\n",
       "    </tr>\n",
       "    <tr>\n",
       "      <th>399</th>\n",
       "      <td>AEFLICXXHRBMNT4HAZH2NUU6TCOA</td>\n",
       "      <td>136</td>\n",
       "    </tr>\n",
       "    <tr>\n",
       "      <th>1736</th>\n",
       "      <td>AFMUUMXTKB6C52CCENIFBK4QLT4Q</td>\n",
       "      <td>130</td>\n",
       "    </tr>\n",
       "    <tr>\n",
       "      <th>...</th>\n",
       "      <td>...</td>\n",
       "      <td>...</td>\n",
       "    </tr>\n",
       "    <tr>\n",
       "      <th>2065</th>\n",
       "      <td>AFWISMRHTQJ35HX4SAVSGR7XTTWA</td>\n",
       "      <td>3</td>\n",
       "    </tr>\n",
       "    <tr>\n",
       "      <th>2066</th>\n",
       "      <td>AFWJ2MO33GQ6QDWST2SQH6SAYW5A</td>\n",
       "      <td>3</td>\n",
       "    </tr>\n",
       "    <tr>\n",
       "      <th>2067</th>\n",
       "      <td>AFWJFLGHIRDKCRPCETEIPPZVMPFA</td>\n",
       "      <td>3</td>\n",
       "    </tr>\n",
       "    <tr>\n",
       "      <th>2068</th>\n",
       "      <td>AFWMGQMC6W5ZINFZFMPRIYXJWLXQ</td>\n",
       "      <td>3</td>\n",
       "    </tr>\n",
       "    <tr>\n",
       "      <th>2232</th>\n",
       "      <td>AG3ITPRXSMWT2XBRUVGUEEFME3AA</td>\n",
       "      <td>3</td>\n",
       "    </tr>\n",
       "  </tbody>\n",
       "</table>\n",
       "<p>4464 rows × 2 columns</p>\n",
       "</div>"
      ],
      "text/plain": [
       "                           user_id  total_asin_count\n",
       "2406  AGAFM74L2RIJ5O36NNYH4Z5ISQNQ               341\n",
       "327   AEDFM4VDH2MKYVBKGYVTU6R5L5FQ               182\n",
       "3354  AH3FC6V3IUJIN2Y7BCZ7DN3IMMJQ               175\n",
       "399   AEFLICXXHRBMNT4HAZH2NUU6TCOA               136\n",
       "1736  AFMUUMXTKB6C52CCENIFBK4QLT4Q               130\n",
       "...                            ...               ...\n",
       "2065  AFWISMRHTQJ35HX4SAVSGR7XTTWA                 3\n",
       "2066  AFWJ2MO33GQ6QDWST2SQH6SAYW5A                 3\n",
       "2067  AFWJFLGHIRDKCRPCETEIPPZVMPFA                 3\n",
       "2068  AFWMGQMC6W5ZINFZFMPRIYXJWLXQ                 3\n",
       "2232  AG3ITPRXSMWT2XBRUVGUEEFME3AA                 3\n",
       "\n",
       "[4464 rows x 2 columns]"
      ]
     },
     "execution_count": 90,
     "metadata": {},
     "output_type": "execute_result"
    }
   ],
   "source": [
    "user_ratings_count = df.groupby('user_id').size().reset_index(name='rating_count')\n",
    "users_with_more_than_2_ratings = user_ratings_count[user_ratings_count['rating_count'] > 2]['user_id']\n",
    "print(f'Users with more than 2 ratigns: \\n {users_with_more_than_2_ratings.head(2)}\\n')\n",
    "\n",
    "filtered_df = df[df['user_id'].isin(users_with_more_than_2_ratings)]\n",
    "print(f'Filtered df with users having more than 2 ratings: \\n{filtered_df.head(2)}')\n",
    "\n",
    "asin_count_per_user = filtered_df.groupby(['user_id', 'asin']).size().reset_index(name='asin_count')\n",
    "\n",
    "user_similar_asin_count = asin_count_per_user.groupby('user_id')['asin_count'].sum().reset_index(name='total_asin_count')\n",
    "\n",
    "sorted_users = user_similar_asin_count.sort_values(by='total_asin_count', ascending=False)\n",
    "sorted_users"
   ]
  },
  {
   "cell_type": "code",
   "execution_count": 91,
   "metadata": {},
   "outputs": [
    {
     "data": {
      "text/html": [
       "<div>\n",
       "<style scoped>\n",
       "    .dataframe tbody tr th:only-of-type {\n",
       "        vertical-align: middle;\n",
       "    }\n",
       "\n",
       "    .dataframe tbody tr th {\n",
       "        vertical-align: top;\n",
       "    }\n",
       "\n",
       "    .dataframe thead th {\n",
       "        text-align: right;\n",
       "    }\n",
       "</style>\n",
       "<table border=\"1\" class=\"dataframe\">\n",
       "  <thead>\n",
       "    <tr style=\"text-align: right;\">\n",
       "      <th></th>\n",
       "      <th>user_id</th>\n",
       "      <th>asin</th>\n",
       "    </tr>\n",
       "  </thead>\n",
       "  <tbody>\n",
       "    <tr>\n",
       "      <th>0</th>\n",
       "      <td>AGAFM74L2RIJ5O36NNYH4Z5ISQNQ</td>\n",
       "      <td>B000027NXM,B00004SNJB,B00004USJX,B01MCZ9Z6S,B0...</td>\n",
       "    </tr>\n",
       "    <tr>\n",
       "      <th>1</th>\n",
       "      <td>AEDFM4VDH2MKYVBKGYVTU6R5L5FQ</td>\n",
       "      <td>B000008DB3,B000008DB3,B0010A24P8,B00NB367GE,B0...</td>\n",
       "    </tr>\n",
       "    <tr>\n",
       "      <th>2</th>\n",
       "      <td>AH3FC6V3IUJIN2Y7BCZ7DN3IMMJQ</td>\n",
       "      <td>B00AZI24YM,B00NF3CABQ,B01K8KLNFC,B00LMH72UG,B0...</td>\n",
       "    </tr>\n",
       "    <tr>\n",
       "      <th>3</th>\n",
       "      <td>AEFLICXXHRBMNT4HAZH2NUU6TCOA</td>\n",
       "      <td>B00147J31U,B000UFSVOM,B00CTTGPXG,B0000278F5,B0...</td>\n",
       "    </tr>\n",
       "    <tr>\n",
       "      <th>4</th>\n",
       "      <td>AFMUUMXTKB6C52CCENIFBK4QLT4Q</td>\n",
       "      <td>B006DI0M3I,B004E2DOUI,B00008PZV6,B011BT9996,B0...</td>\n",
       "    </tr>\n",
       "  </tbody>\n",
       "</table>\n",
       "</div>"
      ],
      "text/plain": [
       "                        user_id  \\\n",
       "0  AGAFM74L2RIJ5O36NNYH4Z5ISQNQ   \n",
       "1  AEDFM4VDH2MKYVBKGYVTU6R5L5FQ   \n",
       "2  AH3FC6V3IUJIN2Y7BCZ7DN3IMMJQ   \n",
       "3  AEFLICXXHRBMNT4HAZH2NUU6TCOA   \n",
       "4  AFMUUMXTKB6C52CCENIFBK4QLT4Q   \n",
       "\n",
       "                                                asin  \n",
       "0  B000027NXM,B00004SNJB,B00004USJX,B01MCZ9Z6S,B0...  \n",
       "1  B000008DB3,B000008DB3,B0010A24P8,B00NB367GE,B0...  \n",
       "2  B00AZI24YM,B00NF3CABQ,B01K8KLNFC,B00LMH72UG,B0...  \n",
       "3  B00147J31U,B000UFSVOM,B00CTTGPXG,B0000278F5,B0...  \n",
       "4  B006DI0M3I,B004E2DOUI,B00008PZV6,B011BT9996,B0...  "
      ]
     },
     "execution_count": 91,
     "metadata": {},
     "output_type": "execute_result"
    }
   ],
   "source": [
    "DF = sorted_users.merge(result, on=\"user_id\")[['user_id', 'asin']]\n",
    "DF.head()"
   ]
  },
  {
   "cell_type": "code",
   "execution_count": 92,
   "metadata": {},
   "outputs": [],
   "source": [
    "main_users = DF.user_id.tolist()"
   ]
  },
  {
   "cell_type": "code",
   "execution_count": 98,
   "metadata": {},
   "outputs": [
    {
     "data": {
      "text/plain": [
       "((25542, 4), (130434, 5))"
      ]
     },
     "execution_count": 98,
     "metadata": {},
     "output_type": "execute_result"
    }
   ],
   "source": [
    "df_recbole = df[df['user_id'].isin(main_users)][['user_id', 'asin', 'timestamp', 'rating']]\n",
    "df_recbole.shape, df.shape "
   ]
  },
  {
   "cell_type": "code",
   "execution_count": 99,
   "metadata": {},
   "outputs": [
    {
     "data": {
      "text/html": [
       "<div>\n",
       "<style scoped>\n",
       "    .dataframe tbody tr th:only-of-type {\n",
       "        vertical-align: middle;\n",
       "    }\n",
       "\n",
       "    .dataframe tbody tr th {\n",
       "        vertical-align: top;\n",
       "    }\n",
       "\n",
       "    .dataframe thead th {\n",
       "        text-align: right;\n",
       "    }\n",
       "</style>\n",
       "<table border=\"1\" class=\"dataframe\">\n",
       "  <thead>\n",
       "    <tr style=\"text-align: right;\">\n",
       "      <th></th>\n",
       "      <th>user_id</th>\n",
       "      <th>asin</th>\n",
       "      <th>timestamp</th>\n",
       "      <th>rating</th>\n",
       "    </tr>\n",
       "  </thead>\n",
       "  <tbody>\n",
       "    <tr>\n",
       "      <th>7</th>\n",
       "      <td>AHB5CGLYN3Y6NIPHNQLYFJT2W2PQ</td>\n",
       "      <td>B08L7CJ6NM</td>\n",
       "      <td>1641330592178</td>\n",
       "      <td>5.0</td>\n",
       "    </tr>\n",
       "    <tr>\n",
       "      <th>8</th>\n",
       "      <td>AHB5CGLYN3Y6NIPHNQLYFJT2W2PQ</td>\n",
       "      <td>B092C24W4G</td>\n",
       "      <td>1641224888411</td>\n",
       "      <td>5.0</td>\n",
       "    </tr>\n",
       "    <tr>\n",
       "      <th>9</th>\n",
       "      <td>AHB5CGLYN3Y6NIPHNQLYFJT2W2PQ</td>\n",
       "      <td>B01M32UHXG</td>\n",
       "      <td>1566575806068</td>\n",
       "      <td>5.0</td>\n",
       "    </tr>\n",
       "    <tr>\n",
       "      <th>10</th>\n",
       "      <td>AHB5CGLYN3Y6NIPHNQLYFJT2W2PQ</td>\n",
       "      <td>B002Q2KG1I</td>\n",
       "      <td>1493417280000</td>\n",
       "      <td>5.0</td>\n",
       "    </tr>\n",
       "    <tr>\n",
       "      <th>11</th>\n",
       "      <td>AHB5CGLYN3Y6NIPHNQLYFJT2W2PQ</td>\n",
       "      <td>B003NXEPY8</td>\n",
       "      <td>1461286805000</td>\n",
       "      <td>5.0</td>\n",
       "    </tr>\n",
       "    <tr>\n",
       "      <th>...</th>\n",
       "      <td>...</td>\n",
       "      <td>...</td>\n",
       "      <td>...</td>\n",
       "      <td>...</td>\n",
       "    </tr>\n",
       "    <tr>\n",
       "      <th>130333</th>\n",
       "      <td>AFMZVBFOI5STU3YCLDKLKDKLIIXQ</td>\n",
       "      <td>B01EKROZ54</td>\n",
       "      <td>1484319203000</td>\n",
       "      <td>5.0</td>\n",
       "    </tr>\n",
       "    <tr>\n",
       "      <th>130334</th>\n",
       "      <td>AFMZVBFOI5STU3YCLDKLKDKLIIXQ</td>\n",
       "      <td>B01D2CQIH6</td>\n",
       "      <td>1462407167000</td>\n",
       "      <td>5.0</td>\n",
       "    </tr>\n",
       "    <tr>\n",
       "      <th>130345</th>\n",
       "      <td>AEGGQYHJQPN3STMZMV7EINJYCDOA</td>\n",
       "      <td>B06WRQ1H9C</td>\n",
       "      <td>1566681798118</td>\n",
       "      <td>4.0</td>\n",
       "    </tr>\n",
       "    <tr>\n",
       "      <th>130346</th>\n",
       "      <td>AEGGQYHJQPN3STMZMV7EINJYCDOA</td>\n",
       "      <td>B074S6RVC7</td>\n",
       "      <td>1566362521851</td>\n",
       "      <td>5.0</td>\n",
       "    </tr>\n",
       "    <tr>\n",
       "      <th>130347</th>\n",
       "      <td>AEGGQYHJQPN3STMZMV7EINJYCDOA</td>\n",
       "      <td>B07BGWW63N</td>\n",
       "      <td>1566362297655</td>\n",
       "      <td>5.0</td>\n",
       "    </tr>\n",
       "  </tbody>\n",
       "</table>\n",
       "<p>25542 rows × 4 columns</p>\n",
       "</div>"
      ],
      "text/plain": [
       "                             user_id        asin      timestamp  rating\n",
       "7       AHB5CGLYN3Y6NIPHNQLYFJT2W2PQ  B08L7CJ6NM  1641330592178     5.0\n",
       "8       AHB5CGLYN3Y6NIPHNQLYFJT2W2PQ  B092C24W4G  1641224888411     5.0\n",
       "9       AHB5CGLYN3Y6NIPHNQLYFJT2W2PQ  B01M32UHXG  1566575806068     5.0\n",
       "10      AHB5CGLYN3Y6NIPHNQLYFJT2W2PQ  B002Q2KG1I  1493417280000     5.0\n",
       "11      AHB5CGLYN3Y6NIPHNQLYFJT2W2PQ  B003NXEPY8  1461286805000     5.0\n",
       "...                              ...         ...            ...     ...\n",
       "130333  AFMZVBFOI5STU3YCLDKLKDKLIIXQ  B01EKROZ54  1484319203000     5.0\n",
       "130334  AFMZVBFOI5STU3YCLDKLKDKLIIXQ  B01D2CQIH6  1462407167000     5.0\n",
       "130345  AEGGQYHJQPN3STMZMV7EINJYCDOA  B06WRQ1H9C  1566681798118     4.0\n",
       "130346  AEGGQYHJQPN3STMZMV7EINJYCDOA  B074S6RVC7  1566362521851     5.0\n",
       "130347  AEGGQYHJQPN3STMZMV7EINJYCDOA  B07BGWW63N  1566362297655     5.0\n",
       "\n",
       "[25542 rows x 4 columns]"
      ]
     },
     "execution_count": 99,
     "metadata": {},
     "output_type": "execute_result"
    }
   ],
   "source": [
    "df_recbole"
   ]
  },
  {
   "cell_type": "code",
   "execution_count": 100,
   "metadata": {},
   "outputs": [
    {
     "data": {
      "text/html": [
       "<div>\n",
       "<style scoped>\n",
       "    .dataframe tbody tr th:only-of-type {\n",
       "        vertical-align: middle;\n",
       "    }\n",
       "\n",
       "    .dataframe tbody tr th {\n",
       "        vertical-align: top;\n",
       "    }\n",
       "\n",
       "    .dataframe thead th {\n",
       "        text-align: right;\n",
       "    }\n",
       "</style>\n",
       "<table border=\"1\" class=\"dataframe\">\n",
       "  <thead>\n",
       "    <tr style=\"text-align: right;\">\n",
       "      <th></th>\n",
       "      <th>user_id</th>\n",
       "      <th>asin</th>\n",
       "      <th>timestamp</th>\n",
       "      <th>rating</th>\n",
       "      <th>user_id_token</th>\n",
       "      <th>item_id</th>\n",
       "    </tr>\n",
       "  </thead>\n",
       "  <tbody>\n",
       "    <tr>\n",
       "      <th>7</th>\n",
       "      <td>AHB5CGLYN3Y6NIPHNQLYFJT2W2PQ</td>\n",
       "      <td>B08L7CJ6NM</td>\n",
       "      <td>1641330592178</td>\n",
       "      <td>5.0</td>\n",
       "      <td>0</td>\n",
       "      <td>0</td>\n",
       "    </tr>\n",
       "    <tr>\n",
       "      <th>8</th>\n",
       "      <td>AHB5CGLYN3Y6NIPHNQLYFJT2W2PQ</td>\n",
       "      <td>B092C24W4G</td>\n",
       "      <td>1641224888411</td>\n",
       "      <td>5.0</td>\n",
       "      <td>0</td>\n",
       "      <td>1</td>\n",
       "    </tr>\n",
       "    <tr>\n",
       "      <th>9</th>\n",
       "      <td>AHB5CGLYN3Y6NIPHNQLYFJT2W2PQ</td>\n",
       "      <td>B01M32UHXG</td>\n",
       "      <td>1566575806068</td>\n",
       "      <td>5.0</td>\n",
       "      <td>0</td>\n",
       "      <td>2</td>\n",
       "    </tr>\n",
       "    <tr>\n",
       "      <th>10</th>\n",
       "      <td>AHB5CGLYN3Y6NIPHNQLYFJT2W2PQ</td>\n",
       "      <td>B002Q2KG1I</td>\n",
       "      <td>1493417280000</td>\n",
       "      <td>5.0</td>\n",
       "      <td>0</td>\n",
       "      <td>3</td>\n",
       "    </tr>\n",
       "    <tr>\n",
       "      <th>11</th>\n",
       "      <td>AHB5CGLYN3Y6NIPHNQLYFJT2W2PQ</td>\n",
       "      <td>B003NXEPY8</td>\n",
       "      <td>1461286805000</td>\n",
       "      <td>5.0</td>\n",
       "      <td>0</td>\n",
       "      <td>4</td>\n",
       "    </tr>\n",
       "  </tbody>\n",
       "</table>\n",
       "</div>"
      ],
      "text/plain": [
       "                         user_id        asin      timestamp  rating  \\\n",
       "7   AHB5CGLYN3Y6NIPHNQLYFJT2W2PQ  B08L7CJ6NM  1641330592178     5.0   \n",
       "8   AHB5CGLYN3Y6NIPHNQLYFJT2W2PQ  B092C24W4G  1641224888411     5.0   \n",
       "9   AHB5CGLYN3Y6NIPHNQLYFJT2W2PQ  B01M32UHXG  1566575806068     5.0   \n",
       "10  AHB5CGLYN3Y6NIPHNQLYFJT2W2PQ  B002Q2KG1I  1493417280000     5.0   \n",
       "11  AHB5CGLYN3Y6NIPHNQLYFJT2W2PQ  B003NXEPY8  1461286805000     5.0   \n",
       "\n",
       "    user_id_token  item_id  \n",
       "7               0        0  \n",
       "8               0        1  \n",
       "9               0        2  \n",
       "10              0        3  \n",
       "11              0        4  "
      ]
     },
     "execution_count": 100,
     "metadata": {},
     "output_type": "execute_result"
    }
   ],
   "source": [
    "# changing the ids into indices \n",
    "user_ids = {user_id: idx for idx, user_id in enumerate(df_recbole['user_id'].unique())}\n",
    "item_ids = {asin: idx for idx, asin in enumerate(df_recbole['asin'].unique())}\n",
    "\n",
    "# Map the ids\n",
    "df_recbole['user_id_token'] = df_recbole['user_id'].map(user_ids)\n",
    "df_recbole['item_id'] = df_recbole['asin'].map(item_ids)\n",
    "df_recbole.head()"
   ]
  },
  {
   "cell_type": "code",
   "execution_count": 104,
   "metadata": {},
   "outputs": [
    {
     "data": {
      "text/html": [
       "<div>\n",
       "<style scoped>\n",
       "    .dataframe tbody tr th:only-of-type {\n",
       "        vertical-align: middle;\n",
       "    }\n",
       "\n",
       "    .dataframe tbody tr th {\n",
       "        vertical-align: top;\n",
       "    }\n",
       "\n",
       "    .dataframe thead th {\n",
       "        text-align: right;\n",
       "    }\n",
       "</style>\n",
       "<table border=\"1\" class=\"dataframe\">\n",
       "  <thead>\n",
       "    <tr style=\"text-align: right;\">\n",
       "      <th></th>\n",
       "      <th>timestamp</th>\n",
       "      <th>rating</th>\n",
       "      <th>user_id_token</th>\n",
       "      <th>item_id</th>\n",
       "    </tr>\n",
       "  </thead>\n",
       "  <tbody>\n",
       "    <tr>\n",
       "      <th>7</th>\n",
       "      <td>1641330592178</td>\n",
       "      <td>5.0</td>\n",
       "      <td>0</td>\n",
       "      <td>0</td>\n",
       "    </tr>\n",
       "    <tr>\n",
       "      <th>8</th>\n",
       "      <td>1641224888411</td>\n",
       "      <td>5.0</td>\n",
       "      <td>0</td>\n",
       "      <td>1</td>\n",
       "    </tr>\n",
       "  </tbody>\n",
       "</table>\n",
       "</div>"
      ],
      "text/plain": [
       "       timestamp  rating  user_id_token  item_id\n",
       "7  1641330592178     5.0              0        0\n",
       "8  1641224888411     5.0              0        1"
      ]
     },
     "execution_count": 104,
     "metadata": {},
     "output_type": "execute_result"
    }
   ],
   "source": [
    "# df_recbole.drop('user_id', axis=1, inplace=True)\n",
    "# df_recbole.drop('asin', axis=1, inplace=True)\n",
    "df_recbole.head(2)"
   ]
  },
  {
   "cell_type": "code",
   "execution_count": 105,
   "metadata": {},
   "outputs": [
    {
     "data": {
      "text/html": [
       "<div>\n",
       "<style scoped>\n",
       "    .dataframe tbody tr th:only-of-type {\n",
       "        vertical-align: middle;\n",
       "    }\n",
       "\n",
       "    .dataframe tbody tr th {\n",
       "        vertical-align: top;\n",
       "    }\n",
       "\n",
       "    .dataframe thead th {\n",
       "        text-align: right;\n",
       "    }\n",
       "</style>\n",
       "<table border=\"1\" class=\"dataframe\">\n",
       "  <thead>\n",
       "    <tr style=\"text-align: right;\">\n",
       "      <th></th>\n",
       "      <th>timestamp:float</th>\n",
       "      <th>rating:float</th>\n",
       "      <th>user_id:token</th>\n",
       "      <th>item_id:token</th>\n",
       "    </tr>\n",
       "  </thead>\n",
       "  <tbody>\n",
       "    <tr>\n",
       "      <th>7</th>\n",
       "      <td>1641330592178</td>\n",
       "      <td>5.0</td>\n",
       "      <td>0</td>\n",
       "      <td>0</td>\n",
       "    </tr>\n",
       "    <tr>\n",
       "      <th>8</th>\n",
       "      <td>1641224888411</td>\n",
       "      <td>5.0</td>\n",
       "      <td>0</td>\n",
       "      <td>1</td>\n",
       "    </tr>\n",
       "    <tr>\n",
       "      <th>9</th>\n",
       "      <td>1566575806068</td>\n",
       "      <td>5.0</td>\n",
       "      <td>0</td>\n",
       "      <td>2</td>\n",
       "    </tr>\n",
       "    <tr>\n",
       "      <th>10</th>\n",
       "      <td>1493417280000</td>\n",
       "      <td>5.0</td>\n",
       "      <td>0</td>\n",
       "      <td>3</td>\n",
       "    </tr>\n",
       "    <tr>\n",
       "      <th>11</th>\n",
       "      <td>1461286805000</td>\n",
       "      <td>5.0</td>\n",
       "      <td>0</td>\n",
       "      <td>4</td>\n",
       "    </tr>\n",
       "  </tbody>\n",
       "</table>\n",
       "</div>"
      ],
      "text/plain": [
       "    timestamp:float  rating:float  user_id:token  item_id:token\n",
       "7     1641330592178           5.0              0              0\n",
       "8     1641224888411           5.0              0              1\n",
       "9     1566575806068           5.0              0              2\n",
       "10    1493417280000           5.0              0              3\n",
       "11    1461286805000           5.0              0              4"
      ]
     },
     "execution_count": 105,
     "metadata": {},
     "output_type": "execute_result"
    }
   ],
   "source": [
    "df_recbole = df_recbole.rename(columns={'user_id_token':'user_id:token', 'item_id':'item_id:token', 'rating':'rating:float', 'timestamp':'timestamp:float'})\n",
    "df_recbole.head() "
   ]
  },
  {
   "cell_type": "markdown",
   "metadata": {},
   "source": [
    "* Rearranging the columns of the dataframe "
   ]
  },
  {
   "cell_type": "code",
   "execution_count": 113,
   "metadata": {},
   "outputs": [
    {
     "data": {
      "text/plain": [
       "['timestamp:float', 'rating:float', 'user_id:token', 'item_id:token']"
      ]
     },
     "execution_count": 113,
     "metadata": {},
     "output_type": "execute_result"
    }
   ],
   "source": [
    "cols = df_recbole.columns.tolist()\n",
    "cols"
   ]
  },
  {
   "cell_type": "code",
   "execution_count": 114,
   "metadata": {},
   "outputs": [
    {
     "data": {
      "text/html": [
       "<div>\n",
       "<style scoped>\n",
       "    .dataframe tbody tr th:only-of-type {\n",
       "        vertical-align: middle;\n",
       "    }\n",
       "\n",
       "    .dataframe tbody tr th {\n",
       "        vertical-align: top;\n",
       "    }\n",
       "\n",
       "    .dataframe thead th {\n",
       "        text-align: right;\n",
       "    }\n",
       "</style>\n",
       "<table border=\"1\" class=\"dataframe\">\n",
       "  <thead>\n",
       "    <tr style=\"text-align: right;\">\n",
       "      <th></th>\n",
       "      <th>user_id:token</th>\n",
       "      <th>item_id:token</th>\n",
       "      <th>rating:float</th>\n",
       "      <th>timestamp:float</th>\n",
       "    </tr>\n",
       "  </thead>\n",
       "  <tbody>\n",
       "    <tr>\n",
       "      <th>7</th>\n",
       "      <td>0</td>\n",
       "      <td>0</td>\n",
       "      <td>5.0</td>\n",
       "      <td>1641330592178</td>\n",
       "    </tr>\n",
       "    <tr>\n",
       "      <th>8</th>\n",
       "      <td>0</td>\n",
       "      <td>1</td>\n",
       "      <td>5.0</td>\n",
       "      <td>1641224888411</td>\n",
       "    </tr>\n",
       "    <tr>\n",
       "      <th>9</th>\n",
       "      <td>0</td>\n",
       "      <td>2</td>\n",
       "      <td>5.0</td>\n",
       "      <td>1566575806068</td>\n",
       "    </tr>\n",
       "    <tr>\n",
       "      <th>10</th>\n",
       "      <td>0</td>\n",
       "      <td>3</td>\n",
       "      <td>5.0</td>\n",
       "      <td>1493417280000</td>\n",
       "    </tr>\n",
       "    <tr>\n",
       "      <th>11</th>\n",
       "      <td>0</td>\n",
       "      <td>4</td>\n",
       "      <td>5.0</td>\n",
       "      <td>1461286805000</td>\n",
       "    </tr>\n",
       "  </tbody>\n",
       "</table>\n",
       "</div>"
      ],
      "text/plain": [
       "    user_id:token  item_id:token  rating:float  timestamp:float\n",
       "7               0              0           5.0    1641330592178\n",
       "8               0              1           5.0    1641224888411\n",
       "9               0              2           5.0    1566575806068\n",
       "10              0              3           5.0    1493417280000\n",
       "11              0              4           5.0    1461286805000"
      ]
     },
     "execution_count": 114,
     "metadata": {},
     "output_type": "execute_result"
    }
   ],
   "source": [
    "df_recbole = df_recbole[['user_id:token', 'item_id:token', 'rating:float', 'timestamp:float']]\n",
    "df_recbole.head()"
   ]
  },
  {
   "cell_type": "code",
   "execution_count": 115,
   "metadata": {},
   "outputs": [],
   "source": [
    "df_recbole.to_csv('amazon/amazon.inter', sep='\\t', index=False)"
   ]
  },
  {
   "cell_type": "code",
   "execution_count": null,
   "metadata": {},
   "outputs": [],
   "source": []
  }
 ],
 "metadata": {
  "kernelspec": {
   "display_name": "torch",
   "language": "python",
   "name": "python3"
  },
  "language_info": {
   "codemirror_mode": {
    "name": "ipython",
    "version": 3
   },
   "file_extension": ".py",
   "mimetype": "text/x-python",
   "name": "python",
   "nbconvert_exporter": "python",
   "pygments_lexer": "ipython3",
   "version": "3.11.4"
  }
 },
 "nbformat": 4,
 "nbformat_minor": 2
}
