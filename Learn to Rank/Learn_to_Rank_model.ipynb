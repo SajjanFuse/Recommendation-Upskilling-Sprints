{
  "nbformat": 4,
  "nbformat_minor": 0,
  "metadata": {
    "colab": {
      "provenance": []
    },
    "kernelspec": {
      "name": "python3",
      "display_name": "Python 3"
    },
    "language_info": {
      "name": "python"
    }
  },
  "cells": [
    {
      "cell_type": "code",
      "execution_count": 191,
      "metadata": {
        "id": "_UZ9Zezhjr-0"
      },
      "outputs": [],
      "source": [
        "import random\n",
        "random.seed(1)\n",
        "\n",
        "import numpy as np\n",
        "np.random.seed(1)\n",
        "\n",
        "import itertools\n",
        "import matplotlib.pyplot as plt\n",
        "plt.style.use('ggplot')\n",
        "\n",
        "import tensorflow as tf"
      ]
    },
    {
      "cell_type": "code",
      "source": [
        "objects_to_rank = {'dress', 'shirt', 'pants'}\n",
        "\n",
        "all_permutations = list(itertools.permutations(objects_to_rank))\n",
        "\n",
        "for x in sorted(all_permutations):\n",
        "  print(x)"
      ],
      "metadata": {
        "colab": {
          "base_uri": "https://localhost:8080/"
        },
        "id": "0A07LajMj4UK",
        "outputId": "92c18af0-4226-4b66-c655-f6fafbb59569"
      },
      "execution_count": 192,
      "outputs": [
        {
          "output_type": "stream",
          "name": "stdout",
          "text": [
            "('dress', 'pants', 'shirt')\n",
            "('dress', 'shirt', 'pants')\n",
            "('pants', 'dress', 'shirt')\n",
            "('pants', 'shirt', 'dress')\n",
            "('shirt', 'dress', 'pants')\n",
            "('shirt', 'pants', 'dress')\n"
          ]
        }
      ]
    },
    {
      "cell_type": "code",
      "source": [
        "np.random.randn(1)"
      ],
      "metadata": {
        "colab": {
          "base_uri": "https://localhost:8080/"
        },
        "id": "yemmImpn1e6k",
        "outputId": "735795ba-d80b-4bfa-fbc8-0b548c8d8885"
      },
      "execution_count": 193,
      "outputs": [
        {
          "output_type": "execute_result",
          "data": {
            "text/plain": [
              "array([1.62434536])"
            ]
          },
          "metadata": {},
          "execution_count": 193
        }
      ]
    },
    {
      "cell_type": "code",
      "source": [
        "scores_dict = {x: np.random.randn(1)[0] for x in ['shirt', 'pants', 'dress']}\n",
        "\n",
        "print(scores_dict)"
      ],
      "metadata": {
        "colab": {
          "base_uri": "https://localhost:8080/"
        },
        "id": "WpaLVu5UkCTV",
        "outputId": "239b0ef2-074a-4c01-c3bd-dcebd37b91d3"
      },
      "execution_count": 194,
      "outputs": [
        {
          "output_type": "stream",
          "name": "stdout",
          "text": [
            "{'shirt': -0.6117564136500754, 'pants': -0.5281717522634557, 'dress': -1.0729686221561705}\n"
          ]
        }
      ]
    },
    {
      "cell_type": "code",
      "source": [
        "random.choice([1,3,5,2,23,4])\n"
      ],
      "metadata": {
        "colab": {
          "base_uri": "https://localhost:8080/"
        },
        "id": "WCmLWZHX2DuE",
        "outputId": "976df317-6bb6-4c69-a5f6-afb0f8674f41"
      },
      "execution_count": 195,
      "outputs": [
        {
          "output_type": "execute_result",
          "data": {
            "text/plain": [
              "3"
            ]
          },
          "metadata": {},
          "execution_count": 195
        }
      ]
    },
    {
      "cell_type": "code",
      "source": [
        "pi = random.choice(all_permutations)\n",
        "\n",
        "print(pi)"
      ],
      "metadata": {
        "colab": {
          "base_uri": "https://localhost:8080/"
        },
        "id": "4jGyAsNOlvsR",
        "outputId": "af79d216-6ea5-4f99-c98b-411e7c271c46"
      },
      "execution_count": 196,
      "outputs": [
        {
          "output_type": "stream",
          "name": "stdout",
          "text": [
            "('shirt', 'dress', 'pants')\n"
          ]
        }
      ]
    },
    {
      "cell_type": "code",
      "source": [
        "obj_pos_1, obj_pos_2, obj_pos_3 = pi\n",
        "\n",
        "print(f\"object at position 1 is '{obj_pos_1}'\")\n",
        "print(f\"object at position 2 is '{obj_pos_2}'\")\n",
        "print(f\"object at position 3 is '{obj_pos_3}'\")"
      ],
      "metadata": {
        "colab": {
          "base_uri": "https://localhost:8080/"
        },
        "id": "7gq1EHrKlvoz",
        "outputId": "4c35c200-7c1c-4664-b696-84c2a5685e0f"
      },
      "execution_count": 197,
      "outputs": [
        {
          "output_type": "stream",
          "name": "stdout",
          "text": [
            "object at position 1 is 'shirt'\n",
            "object at position 2 is 'dress'\n",
            "object at position 3 is 'pants'\n"
          ]
        }
      ]
    },
    {
      "cell_type": "code",
      "source": [
        "score_obj_pos_1 = scores_dict[obj_pos_1]\n",
        "score_obj_pos_2 = scores_dict[obj_pos_2]\n",
        "score_obj_pos_3 = scores_dict[obj_pos_3]\n",
        "scores_dict, score_obj_pos_3,score_obj_pos_1,score_obj_pos_2"
      ],
      "metadata": {
        "colab": {
          "base_uri": "https://localhost:8080/"
        },
        "id": "w67r5Yi6lvmk",
        "outputId": "9cbbd2d0-aa53-4c6c-bfd2-facef934ecbf"
      },
      "execution_count": 198,
      "outputs": [
        {
          "output_type": "execute_result",
          "data": {
            "text/plain": [
              "({'shirt': -0.6117564136500754,\n",
              "  'pants': -0.5281717522634557,\n",
              "  'dress': -1.0729686221561705},\n",
              " -0.5281717522634557,\n",
              " -0.6117564136500754,\n",
              " -1.0729686221561705)"
            ]
          },
          "metadata": {},
          "execution_count": 198
        }
      ]
    },
    {
      "cell_type": "code",
      "source": [
        "def prob(first, second, third):\n",
        "  first_term_numerator = np.exp(first)\n",
        "  first_term_denominator = np.exp(first) + np.exp(second) + np.exp(third)\n",
        "\n",
        "  first_term = first_term_numerator / first_term_denominator\n",
        "\n",
        "  print(f\"first term is {first_term}\")\n",
        "\n",
        "  second_term_numerator = np.exp(second)\n",
        "  second_term_denominator = np.exp(second) + np.exp(third)\n",
        "\n",
        "  second_term = second_term_numerator / second_term_denominator\n",
        "\n",
        "  print(f\"second term is {second_term}\")\n",
        "\n",
        "  third_term = 1.0\n",
        "\n",
        "  print(f\"second term is {third_term}\")\n",
        "\n",
        "  prob_of_permutation = first_term * second_term * third_term\n",
        "\n",
        "  print(f\"probability of permutation is {prob_of_permutation}\")\n",
        "\n",
        "  return prob_of_permutation * 100"
      ],
      "metadata": {
        "id": "VvQA9G0Blvjs"
      },
      "execution_count": 199,
      "outputs": []
    },
    {
      "cell_type": "code",
      "source": [
        "all_permutations"
      ],
      "metadata": {
        "colab": {
          "base_uri": "https://localhost:8080/"
        },
        "id": "tRetSnEN7OZf",
        "outputId": "e75fa26c-f073-4aa2-e883-ec5b3872308e"
      },
      "execution_count": 200,
      "outputs": [
        {
          "output_type": "execute_result",
          "data": {
            "text/plain": [
              "[('dress', 'pants', 'shirt'),\n",
              " ('dress', 'shirt', 'pants'),\n",
              " ('pants', 'dress', 'shirt'),\n",
              " ('pants', 'shirt', 'dress'),\n",
              " ('shirt', 'dress', 'pants'),\n",
              " ('shirt', 'pants', 'dress')]"
            ]
          },
          "metadata": {},
          "execution_count": 200
        }
      ]
    },
    {
      "cell_type": "code",
      "source": [
        "scores_dict[obj_pos_1], scores_dict['shirt']"
      ],
      "metadata": {
        "colab": {
          "base_uri": "https://localhost:8080/"
        },
        "id": "1TU5MoIq74aa",
        "outputId": "28329539-afad-480d-c90b-af0da4cf007d"
      },
      "execution_count": 201,
      "outputs": [
        {
          "output_type": "execute_result",
          "data": {
            "text/plain": [
              "(-0.6117564136500754, -0.6117564136500754)"
            ]
          },
          "metadata": {},
          "execution_count": 201
        }
      ]
    },
    {
      "cell_type": "code",
      "source": [
        "all_probs = []\n",
        "for permut in all_permutations:\n",
        "  obj_pos_1, obj_pos_2, obj_pos_3 = permut\n",
        "  print(obj_pos_1, obj_pos_2, obj_pos_3)\n",
        "  score_pos_1 = scores_dict[obj_pos_1]\n",
        "  print(f'Score [1] is {score_pos_1}')\n",
        "  score_pos_2 = scores_dict[obj_pos_2]\n",
        "  print(f'Score [2] is {score_pos_2}')\n",
        "  score_pos_3 = scores_dict[obj_pos_3]\n",
        "  print(f'Score [3] is {score_pos_3}')\n",
        "  # print(score_obj_pos_1, score_obj_pos_2, score_obj_pos_3)\n",
        "  all_probs.append(prob(score_pos_1, score_pos_2, score_pos_3))"
      ],
      "metadata": {
        "colab": {
          "base_uri": "https://localhost:8080/"
        },
        "id": "YXslFB5cm21O",
        "outputId": "174bd14f-d536-4499-ed56-1eab35b0b129"
      },
      "execution_count": 202,
      "outputs": [
        {
          "output_type": "stream",
          "name": "stdout",
          "text": [
            "dress pants shirt\n",
            "Score [1] is -1.0729686221561705\n",
            "Score [2] is -0.5281717522634557\n",
            "Score [3] is -0.6117564136500754\n",
            "first term is 0.2320049170469356\n",
            "second term is 0.5208840081002813\n",
            "second term is 1.0\n",
            "probability of permutation is 0.1208476510903811\n",
            "dress shirt pants\n",
            "Score [1] is -1.0729686221561705\n",
            "Score [2] is -0.6117564136500754\n",
            "Score [3] is -0.5281717522634557\n",
            "first term is 0.2320049170469356\n",
            "second term is 0.47911599189971854\n",
            "second term is 1.0\n",
            "probability of permutation is 0.11115726595655447\n",
            "pants dress shirt\n",
            "Score [1] is -0.5281717522634557\n",
            "Score [2] is -1.0729686221561705\n",
            "Score [3] is -0.6117564136500754\n",
            "first term is 0.40003635700990026\n",
            "second term is 0.38669829373438225\n",
            "second term is 1.0\n",
            "probability of permutation is 0.15469337668744662\n",
            "pants shirt dress\n",
            "Score [1] is -0.5281717522634557\n",
            "Score [2] is -0.6117564136500754\n",
            "Score [3] is -1.0729686221561705\n",
            "first term is 0.40003635700990026\n",
            "second term is 0.6133017062656178\n",
            "second term is 1.0\n",
            "probability of permutation is 0.24534298032245364\n",
            "shirt dress pants\n",
            "Score [1] is -0.6117564136500754\n",
            "Score [2] is -1.0729686221561705\n",
            "Score [3] is -0.5281717522634557\n",
            "first term is 0.3679587259431641\n",
            "second term is 0.36707241531519463\n",
            "second term is 1.0\n",
            "probability of permutation is 0.135067498268259\n",
            "shirt pants dress\n",
            "Score [1] is -0.6117564136500754\n",
            "Score [2] is -0.5281717522634557\n",
            "Score [3] is -1.0729686221561705\n",
            "first term is 0.3679587259431641\n",
            "second term is 0.6329275846848054\n",
            "second term is 1.0\n",
            "probability of permutation is 0.23289122767490508\n"
          ]
        }
      ]
    },
    {
      "cell_type": "code",
      "source": [
        "all_probs"
      ],
      "metadata": {
        "colab": {
          "base_uri": "https://localhost:8080/"
        },
        "id": "Xf4WHTtM5a-5",
        "outputId": "a066028d-cde6-4770-bef5-b332430ba4ff"
      },
      "execution_count": 203,
      "outputs": [
        {
          "output_type": "execute_result",
          "data": {
            "text/plain": [
              "[12.084765109038111,\n",
              " 11.115726595655447,\n",
              " 15.469337668744663,\n",
              " 24.534298032245363,\n",
              " 13.506749826825901,\n",
              " 23.289122767490507]"
            ]
          },
          "metadata": {},
          "execution_count": 203
        }
      ]
    },
    {
      "cell_type": "code",
      "source": [
        "sum(all_probs).astype(str) + \"%\""
      ],
      "metadata": {
        "colab": {
          "base_uri": "https://localhost:8080/",
          "height": 36
        },
        "id": "nQnnxbJz8kNs",
        "outputId": "ebd2a862-0456-426e-b688-91bfd50fbeaa"
      },
      "execution_count": 204,
      "outputs": [
        {
          "output_type": "execute_result",
          "data": {
            "text/plain": [
              "'99.99999999999999%'"
            ],
            "application/vnd.google.colaboratory.intrinsic+json": {
              "type": "string"
            }
          },
          "metadata": {},
          "execution_count": 204
        }
      ]
    },
    {
      "cell_type": "markdown",
      "source": [
        "So, the recommendation for the most beneficial permutation would be:"
      ],
      "metadata": {
        "id": "kD75bzQL4cxL"
      }
    },
    {
      "cell_type": "code",
      "source": [
        "# getting indices in descending order of probabilities\n",
        "np.argsort(all_probs)[::-1]"
      ],
      "metadata": {
        "colab": {
          "base_uri": "https://localhost:8080/"
        },
        "id": "t6vwvbRy43ko",
        "outputId": "7a2c5d0e-9df0-4e42-cacd-015dcf04e441"
      },
      "execution_count": 205,
      "outputs": [
        {
          "output_type": "execute_result",
          "data": {
            "text/plain": [
              "array([3, 5, 2, 4, 0, 1])"
            ]
          },
          "metadata": {},
          "execution_count": 205
        }
      ]
    },
    {
      "cell_type": "code",
      "source": [
        "indices_desc = np.argsort(all_probs)[::-1]\n",
        "ordered_seq = []\n",
        "for index in indices_desc:\n",
        "  ordered_seq.append((all_permutations[index], all_probs[index]))\n",
        "print(f'Recommendations are: \\n')\n",
        "for i in ordered_seq:\n",
        "  print(i)"
      ],
      "metadata": {
        "colab": {
          "base_uri": "https://localhost:8080/"
        },
        "id": "JwXQf6Ya4lib",
        "outputId": "4a415b69-10ab-4fc7-a29a-879b13cfd7eb"
      },
      "execution_count": 206,
      "outputs": [
        {
          "output_type": "stream",
          "name": "stdout",
          "text": [
            "Recommendations are: \n",
            "\n",
            "(('pants', 'shirt', 'dress'), 24.534298032245363)\n",
            "(('shirt', 'pants', 'dress'), 23.289122767490507)\n",
            "(('pants', 'dress', 'shirt'), 15.469337668744663)\n",
            "(('shirt', 'dress', 'pants'), 13.506749826825901)\n",
            "(('dress', 'pants', 'shirt'), 12.084765109038111)\n",
            "(('dress', 'shirt', 'pants'), 11.115726595655447)\n"
          ]
        }
      ]
    },
    {
      "cell_type": "markdown",
      "source": [
        "## Calculating the probability of each permutation in our set, we can see that each one is greater than zero and that they sum to one!"
      ],
      "metadata": {
        "id": "UJNs7KtJ9XqW"
      }
    },
    {
      "cell_type": "markdown",
      "source": [
        "### So, with listwise loss function, we got to calculate the **Permutation Probability** Distributions for each training example.\n",
        "\n",
        "i.e There are $ n! $ permutations!"
      ],
      "metadata": {
        "id": "oCv9caxc3GOM"
      }
    },
    {
      "cell_type": "markdown",
      "source": [
        "# Top one probability"
      ],
      "metadata": {
        "id": "KXy1PWHS940m"
      }
    },
    {
      "cell_type": "markdown",
      "source": [
        "$$ \\large\n",
        "P_s(j) = \\sum\\limits_{\\pi(1) = j, \\pi \\in \\Omega_n}{} P_s(\\pi)\n",
        "$$\n",
        "\n",
        "\n",
        "$$ \\large\n",
        "P_s(j) = \\frac{e^{S_j}}  {\\sum\\limits_{k=1}^{n}   e^{S_k}}\n",
        "$$"
      ],
      "metadata": {
        "id": "z8YDWi4A8sJu"
      }
    },
    {
      "cell_type": "code",
      "source": [
        "# getting top 1 prob for shirt, so adding prob where shirt is the first occurence i.e 1.4+0.12 %\n",
        "np.exp(scores_dict['shirt']) / sum(np.exp(list(scores_dict.values()))) * 100, 1.47+0.12"
      ],
      "metadata": {
        "id": "zoh3PnZK8lzV",
        "colab": {
          "base_uri": "https://localhost:8080/"
        },
        "outputId": "1948e079-7c40-4c6c-96db-da2ccd5ff06b"
      },
      "execution_count": 207,
      "outputs": [
        {
          "output_type": "execute_result",
          "data": {
            "text/plain": [
              "(36.79587259431641, 1.5899999999999999)"
            ]
          },
          "metadata": {},
          "execution_count": 207
        }
      ]
    },
    {
      "cell_type": "markdown",
      "source": [
        "### Converting scores and labels to prob"
      ],
      "metadata": {
        "id": "1WmZ9fjcHhAh"
      }
    },
    {
      "cell_type": "code",
      "source": [
        "categories = ['shirt', 'pants', 'dress']\n",
        "\n",
        "ordered_scores = np.array([scores_dict[x] for x in categories]).astype(np.float32)\n",
        "print(f'{scores_dict}\\n')\n",
        "\n",
        "print(ordered_scores)\n",
        "\n",
        "# softmax to change it into probability distribution\n",
        "predicted_prob_dist = tf.nn.softmax(ordered_scores)\n",
        "predicted_prob_dist"
      ],
      "metadata": {
        "id": "cV612PmN-Y5j",
        "colab": {
          "base_uri": "https://localhost:8080/"
        },
        "outputId": "42af5d51-760c-4d8a-fd36-d41accc37a70"
      },
      "execution_count": 208,
      "outputs": [
        {
          "output_type": "stream",
          "name": "stdout",
          "text": [
            "{'shirt': -0.6117564136500754, 'pants': -0.5281717522634557, 'dress': -1.0729686221561705}\n",
            "\n",
            "[-0.6117564 -0.5281718 -1.0729686]\n"
          ]
        },
        {
          "output_type": "execute_result",
          "data": {
            "text/plain": [
              "<tf.Tensor: shape=(3,), dtype=float32, numpy=array([0.3679587 , 0.4000363 , 0.23200491], dtype=float32)>"
            ]
          },
          "metadata": {},
          "execution_count": 208
        }
      ]
    },
    {
      "cell_type": "code",
      "source": [
        "# as per the scores dict: {'shirt': -2.30, 'pants': 1.74, 'dress': -0.76}\n",
        "# giving scores for the relevance\n",
        "raw_relevance_grades = tf.constant([1.0, 3.0, 0.0], dtype=tf.float32)\n",
        "print(f'raw_relevance_grades: {raw_relevance_grades}')\n",
        "\n",
        "true_prob_dist = tf.nn.softmax(raw_relevance_grades)\n",
        "print(f'true_prob_dist: {true_prob_dist}')"
      ],
      "metadata": {
        "colab": {
          "base_uri": "https://localhost:8080/"
        },
        "id": "jrEDrOgyH3-S",
        "outputId": "10cd29ef-bce2-4a14-dd44-e15e52a110f6"
      },
      "execution_count": 287,
      "outputs": [
        {
          "output_type": "stream",
          "name": "stdout",
          "text": [
            "raw_relevance_grades: [1. 3. 0.]\n",
            "true_prob_dist: [0.11419519 0.8437947  0.04201007]\n"
          ]
        }
      ]
    },
    {
      "cell_type": "code",
      "source": [],
      "metadata": {
        "id": "kB9PUNxLCHNi"
      },
      "execution_count": 287,
      "outputs": []
    },
    {
      "cell_type": "code",
      "source": [
        "# visualizing it\n",
        "fig, axes = plt.subplots(nrows=1, ncols=2, figsize=(10,5))\n",
        "\n",
        "\n",
        "# True probability distribution\n",
        "axes[0].bar(categories, true_prob_dist, color='salmon')\n",
        "axes[0].set_ylim(0, 1)\n",
        "axes[0].set_title('True probability distribution')\n",
        "\n",
        "# Predicted probability distribution\n",
        "axes[1].bar(categories, predicted_prob_dist, color='salmon')\n",
        "axes[1].set_ylim(0, 1)\n",
        "axes[1].set_title('Predicted probability distribution')\n",
        "\n",
        "plt.show()"
      ],
      "metadata": {
        "colab": {
          "base_uri": "https://localhost:8080/",
          "height": 469
        },
        "id": "v_4pFek7PIKK",
        "outputId": "abfe0b22-e866-4d47-baed-b99d052e3937"
      },
      "execution_count": 288,
      "outputs": [
        {
          "output_type": "display_data",
          "data": {
            "text/plain": [
              "<Figure size 1000x500 with 2 Axes>"
            ],
            "image/png": "[encoded data removed]"
          },
          "metadata": {}
        }
      ]
    },
    {
      "cell_type": "markdown",
      "source": [
        "KL Divergence Loss\n",
        "\n",
        "$$\n",
        "D_{KL}  \n",
        "$$"
      ],
      "metadata": {
        "id": "Co5RMNjGZPw0"
      }
    },
    {
      "cell_type": "code",
      "source": [
        "sum(true_prob_dist * np.log(true_prob_dist/predicted_prob_dist))"
      ],
      "metadata": {
        "colab": {
          "base_uri": "https://localhost:8080/"
        },
        "id": "aN7NFHOuP_NH",
        "outputId": "9d3c0deb-a501-4991-c128-3a0cb021d50a"
      },
      "execution_count": 211,
      "outputs": [
        {
          "output_type": "execute_result",
          "data": {
            "text/plain": [
              "<tf.Tensor: shape=(), dtype=float32, numpy=0.4576579>"
            ]
          },
          "metadata": {},
          "execution_count": 211
        }
      ]
    },
    {
      "cell_type": "code",
      "source": [
        "# trying with same dist for dummy\n",
        "sum(true_prob_dist * np.log(true_prob_dist / true_prob_dist))"
      ],
      "metadata": {
        "colab": {
          "base_uri": "https://localhost:8080/"
        },
        "id": "2kph23LaY3V5",
        "outputId": "e380a674-9ef1-4a07-d4e9-e980afd79721"
      },
      "execution_count": 212,
      "outputs": [
        {
          "output_type": "execute_result",
          "data": {
            "text/plain": [
              "<tf.Tensor: shape=(), dtype=float32, numpy=0.0>"
            ]
          },
          "metadata": {},
          "execution_count": 212
        }
      ]
    },
    {
      "cell_type": "markdown",
      "source": [
        "## Hence, zero loss for same distribution. (Zero KL Divergence)"
      ],
      "metadata": {
        "id": "TucxNI0cZJa1"
      }
    },
    {
      "cell_type": "markdown",
      "source": [
        "## Neural Network Architecture Model\n",
        "\n",
        "\n",
        "- Neural Network $(\\omega)$\n",
        "- Ranking function $(f_\\omega)$\n",
        "- Takes in feature vector $x_j^{(i)}$\n",
        "    - Feature vector: **(query, document)** pair\n",
        "\n",
        "\n",
        "$$ \\large\n",
        "P_{neural\\ net\\ score}(j) = \\frac{e^{neural\\ net\\ score\\ for\\ object\\ j}}{\\sum\\limits_{k=1}^{n} e^{neural\\ net\\ score\\ for\\ object\\ k}}\n",
        "$$\n",
        "\n",
        "where, $s_j$ is the score of the $j^{th}$ object"
      ],
      "metadata": {
        "id": "ut2WjhcEboZ8"
      }
    },
    {
      "cell_type": "markdown",
      "source": [
        "### 1. Preparing the dataset"
      ],
      "metadata": {
        "id": "xxIZncPofEzM"
      }
    },
    {
      "cell_type": "code",
      "source": [
        "query_1 = \"dog\"\n",
        "\n",
        "bing_search_results = [\n",
        "    \"Dog - Wikipedia\",\n",
        "    \"Adopting a dog or puppy | RSPCA Australia\",\n",
        "    \"dog | History, Domestication, Physical Traits, & Breeds\",\n",
        "    \"New South Wales | Dogs & Puppies | Gumtree Australia Free\",\n",
        "    \"dog - Wiktionary\"\n",
        "]\n",
        "\n",
        "query_2 = \"what is a dog\"\n",
        "\n",
        "google_search_results = [\n",
        "    \"Dog - Wikipedia\",\n",
        "    \"Dog - Simple English Wikipedia, the free encyclopedia\",\n",
        "    \"Dog | National Geographic\",\n",
        "    \"dog | History, Domestication, Physical Traits, & Breeds\",\n",
        "    \"What is a Dog | Facts About Dogs | DK Find Out\"\n",
        "]\n",
        "\n",
        "# arbitraty relevance grade\n",
        "relevance_grades = tf.constant([\n",
        "    [3.0, 2.0, 2.0, 2.0, 1.0],\n",
        "    [3.0, 3.0, 1.0, 1.0, 0.0]\n",
        "])"
      ],
      "metadata": {
        "id": "ODGPWTDhZHDR"
      },
      "execution_count": 213,
      "outputs": []
    },
    {
      "cell_type": "code",
      "source": [
        "combined_texts = [query_1, *bing_search_results, query_2, *google_search_results]\n",
        "combined_texts"
      ],
      "metadata": {
        "colab": {
          "base_uri": "https://localhost:8080/"
        },
        "id": "9akGd-6xg_iA",
        "outputId": "01762903-5997-41ea-c98c-197f262cd6e8"
      },
      "execution_count": 214,
      "outputs": [
        {
          "output_type": "execute_result",
          "data": {
            "text/plain": [
              "['dog',\n",
              " 'Dog - Wikipedia',\n",
              " 'Adopting a dog or puppy | RSPCA Australia',\n",
              " 'dog | History, Domestication, Physical Traits, & Breeds',\n",
              " 'New South Wales | Dogs & Puppies | Gumtree Australia Free',\n",
              " 'dog - Wiktionary',\n",
              " 'what is a dog',\n",
              " 'Dog - Wikipedia',\n",
              " 'Dog - Simple English Wikipedia, the free encyclopedia',\n",
              " 'Dog | National Geographic',\n",
              " 'dog | History, Domestication, Physical Traits, & Breeds',\n",
              " 'What is a Dog | Facts About Dogs | DK Find Out']"
            ]
          },
          "metadata": {},
          "execution_count": 214
        }
      ]
    },
    {
      "cell_type": "code",
      "source": [
        "\"a\", * [\"ab\", \"bs\"]"
      ],
      "metadata": {
        "colab": {
          "base_uri": "https://localhost:8080/"
        },
        "id": "qHs7Qd3UiIXP",
        "outputId": "0ac15eb1-e298-4bf5-d7ba-ba9fad90f684"
      },
      "execution_count": 215,
      "outputs": [
        {
          "output_type": "execute_result",
          "data": {
            "text/plain": [
              "('a', 'ab', 'bs')"
            ]
          },
          "metadata": {},
          "execution_count": 215
        }
      ]
    },
    {
      "cell_type": "code",
      "source": [
        "tokenizer = tf.keras.preprocessing.text.Tokenizer()\n",
        "tokenizer.fit_on_texts(combined_texts)\n",
        "\n",
        "# we add one here to account for the padding word\n",
        "vocab_size = max(tokenizer.index_word) + 1\n",
        "print(vocab_size)"
      ],
      "metadata": {
        "colab": {
          "base_uri": "https://localhost:8080/"
        },
        "id": "Hmi1sFb2ilts",
        "outputId": "317ece49-a983-487c-d877-661054119316"
      },
      "execution_count": 216,
      "outputs": [
        {
          "output_type": "stream",
          "name": "stdout",
          "text": [
            "35\n"
          ]
        }
      ]
    },
    {
      "cell_type": "code",
      "source": [
        "index_to_word = {}\n",
        "for idx, word in tokenizer.index_word.items():\n",
        "    index_to_word[idx] = word\n",
        "\n",
        "    print(f\"index {idx} - {word}\")"
      ],
      "metadata": {
        "colab": {
          "base_uri": "https://localhost:8080/"
        },
        "id": "yI1MkGd6i-me",
        "outputId": "a19965b4-d9fb-4920-f31f-68a7719c3bdb"
      },
      "execution_count": 217,
      "outputs": [
        {
          "output_type": "stream",
          "name": "stdout",
          "text": [
            "index 1 - dog\n",
            "index 2 - wikipedia\n",
            "index 3 - a\n",
            "index 4 - australia\n",
            "index 5 - history\n",
            "index 6 - domestication\n",
            "index 7 - physical\n",
            "index 8 - traits\n",
            "index 9 - breeds\n",
            "index 10 - dogs\n",
            "index 11 - free\n",
            "index 12 - what\n",
            "index 13 - is\n",
            "index 14 - adopting\n",
            "index 15 - or\n",
            "index 16 - puppy\n",
            "index 17 - rspca\n",
            "index 18 - new\n",
            "index 19 - south\n",
            "index 20 - wales\n",
            "index 21 - puppies\n",
            "index 22 - gumtree\n",
            "index 23 - wiktionary\n",
            "index 24 - simple\n",
            "index 25 - english\n",
            "index 26 - the\n",
            "index 27 - encyclopedia\n",
            "index 28 - national\n",
            "index 29 - geographic\n",
            "index 30 - facts\n",
            "index 31 - about\n",
            "index 32 - dk\n",
            "index 33 - find\n",
            "index 34 - out\n"
          ]
        }
      ]
    },
    {
      "cell_type": "markdown",
      "source": [
        "index 0 - reserved for padding values \\\n",
        "Tokenizer : gives numerical index for each word in the overall list"
      ],
      "metadata": {
        "id": "MdhMRoIcjRFD"
      }
    },
    {
      "cell_type": "code",
      "source": [
        "EMBEDDING_DIMS = 2\n",
        "\n",
        "embeddings = np.random.randn(vocab_size, EMBEDDING_DIMS).astype(np.float32)\n",
        "\n",
        "print(embeddings, embeddings.shape)"
      ],
      "metadata": {
        "colab": {
          "base_uri": "https://localhost:8080/"
        },
        "id": "wZTG-J-YjLzn",
        "outputId": "e0e0dcfe-e960-4f57-ab9e-29e05789b71c"
      },
      "execution_count": 218,
      "outputs": [
        {
          "output_type": "stream",
          "name": "stdout",
          "text": [
            "[[ 0.86540765 -2.3015387 ]\n",
            " [ 1.7448118  -0.7612069 ]\n",
            " [ 0.3190391  -0.24937038]\n",
            " [ 1.4621079  -2.0601406 ]\n",
            " [-0.3224172  -0.38405436]\n",
            " [ 1.1337694  -1.0998913 ]\n",
            " [-0.1724282  -0.8778584 ]\n",
            " [ 0.04221375  0.58281523]\n",
            " [-1.1006192   1.1447237 ]\n",
            " [ 0.9015907   0.50249434]\n",
            " [ 0.90085596 -0.68372786]\n",
            " [-0.12289023 -0.93576944]\n",
            " [-0.26788807  0.53035545]\n",
            " [-0.69166076 -0.39675352]\n",
            " [-0.6871727  -0.84520566]\n",
            " [-0.6712461  -0.0126646 ]\n",
            " [-1.1173104   0.2344157 ]\n",
            " [ 1.6598022   0.74204415]\n",
            " [-0.19183555 -0.887629  ]\n",
            " [-0.7471583   1.6924546 ]\n",
            " [ 0.05080776 -0.6369957 ]\n",
            " [ 0.19091548  2.1002553 ]\n",
            " [ 0.12015896  0.6172031 ]\n",
            " [ 0.30017033 -0.35224986]\n",
            " [-1.1425182  -0.34934273]\n",
            " [-0.20889424  0.5866232 ]\n",
            " [ 0.8389834   0.9311021 ]\n",
            " [ 0.2855873   0.8851412 ]\n",
            " [-0.7543979   1.2528682 ]\n",
            " [ 0.5129298  -0.29809284]\n",
            " [ 0.48851815 -0.07557172]\n",
            " [ 1.1316293   1.5198169 ]\n",
            " [ 2.1855755  -1.3964963 ]\n",
            " [-1.4441139  -0.5044659 ]\n",
            " [ 0.16003707  0.8761689 ]] (35, 2)\n"
          ]
        }
      ]
    },
    {
      "cell_type": "markdown",
      "source": [
        "## Representing query as Numbers"
      ],
      "metadata": {
        "id": "rtPeZjcco0hr"
      }
    },
    {
      "cell_type": "code",
      "source": [
        "tokenizer.texts_to_sequences(['wiktionary']), tokenizer.texts_to_sequences([query_2])"
      ],
      "metadata": {
        "colab": {
          "base_uri": "https://localhost:8080/"
        },
        "id": "aWhDNmpTj0yO",
        "outputId": "c96097b9-8c3a-4a4b-959b-3ad0e917734c"
      },
      "execution_count": 219,
      "outputs": [
        {
          "output_type": "execute_result",
          "data": {
            "text/plain": [
              "([[23]], [[12, 13, 3, 1]])"
            ]
          },
          "metadata": {},
          "execution_count": 219
        }
      ]
    },
    {
      "cell_type": "code",
      "source": [
        "query_1_embedding_index = tokenizer.texts_to_sequences([query_1])\n",
        "query_1_embeddings = np.array([embeddings[x] for x in query_1_embedding_index])\n",
        "\n",
        "print(query_1_embeddings)"
      ],
      "metadata": {
        "colab": {
          "base_uri": "https://localhost:8080/"
        },
        "id": "TMEDJEW_jfze",
        "outputId": "86fce426-a14e-4bb8-e8f2-fac4d75e7c1e"
      },
      "execution_count": 220,
      "outputs": [
        {
          "output_type": "stream",
          "name": "stdout",
          "text": [
            "[[[ 1.7448118 -0.7612069]]]\n"
          ]
        }
      ]
    },
    {
      "cell_type": "code",
      "source": [
        "query_2_embedding_indices = tokenizer.texts_to_sequences([query_2])\n",
        "query_2_embeddings = np.array([embeddings[x] for x in query_2_embedding_indices])\n",
        "\n",
        "print(query_2_embeddings)"
      ],
      "metadata": {
        "colab": {
          "base_uri": "https://localhost:8080/"
        },
        "id": "aAf9tpZTjr57",
        "outputId": "bf8e87fe-64de-41d9-b721-e13911d9cdb1"
      },
      "execution_count": 221,
      "outputs": [
        {
          "output_type": "stream",
          "name": "stdout",
          "text": [
            "[[[-0.26788807  0.53035545]\n",
            "  [-0.69166076 -0.39675352]\n",
            "  [ 1.4621079  -2.0601406 ]\n",
            "  [ 1.7448118  -0.7612069 ]]]\n"
          ]
        }
      ]
    },
    {
      "cell_type": "code",
      "source": [
        "query_1_embedding_index"
      ],
      "metadata": {
        "colab": {
          "base_uri": "https://localhost:8080/"
        },
        "id": "5hi7m0w0lIN5",
        "outputId": "ad922655-0fe7-4edd-b239-08a62e45826f"
      },
      "execution_count": 222,
      "outputs": [
        {
          "output_type": "execute_result",
          "data": {
            "text/plain": [
              "[[1]]"
            ]
          },
          "metadata": {},
          "execution_count": 222
        }
      ]
    },
    {
      "cell_type": "code",
      "source": [
        "query_1_embeddings_avg = tf.reduce_mean(query_1_embeddings, axis=1, keepdims=True).numpy()\n",
        "\n",
        "query_2_embeddings_avg = tf.reduce_mean(query_2_embeddings, axis=1, keepdims=True).numpy()\n",
        "\n",
        "print(query_2_embeddings_avg)"
      ],
      "metadata": {
        "colab": {
          "base_uri": "https://localhost:8080/"
        },
        "id": "LnxNDru-kMeV",
        "outputId": "352df375-cf76-40b8-e88f-e051a3b7fbd0"
      },
      "execution_count": 223,
      "outputs": [
        {
          "output_type": "stream",
          "name": "stdout",
          "text": [
            "[[[ 0.5618427 -0.6719364]]]\n"
          ]
        }
      ]
    },
    {
      "cell_type": "code",
      "source": [
        "np.mean(query_2_embeddings[:, :, 0]),np.mean(query_2_embeddings[:, :, 1])"
      ],
      "metadata": {
        "colab": {
          "base_uri": "https://localhost:8080/"
        },
        "id": "i3_QLResk9_Q",
        "outputId": "81275872-286a-4bc1-c893-20c9b54e0295"
      },
      "execution_count": 224,
      "outputs": [
        {
          "output_type": "execute_result",
          "data": {
            "text/plain": [
              "(0.5618427, -0.6719364)"
            ]
          },
          "metadata": {},
          "execution_count": 224
        }
      ]
    },
    {
      "cell_type": "code",
      "source": [
        "def represent_query(query):\n",
        "  query_embedding_indices = tokenizer.texts_to_sequences([query])\n",
        "  query_embeddings = np.array([embeddings[x] for x in query_embedding_indices])\n",
        "  query_embeddings_avg = tf.reduce_mean(query_embeddings, axis=1, keepdims=True).numpy()\n",
        "  return query_embeddings_avg"
      ],
      "metadata": {
        "id": "278ZcSsvlRiA"
      },
      "execution_count": 225,
      "outputs": []
    },
    {
      "cell_type": "code",
      "source": [
        "represent_query('Wiktionary and Dog')"
      ],
      "metadata": {
        "colab": {
          "base_uri": "https://localhost:8080/"
        },
        "id": "SjyBz7MTm2oi",
        "outputId": "cec9fe63-4e78-4939-a9e1-4c94fb4ef670"
      },
      "execution_count": 226,
      "outputs": [
        {
          "output_type": "execute_result",
          "data": {
            "text/plain": [
              "array([[[ 1.0224911 , -0.55672836]]], dtype=float32)"
            ]
          },
          "metadata": {},
          "execution_count": 226
        }
      ]
    },
    {
      "cell_type": "code",
      "source": [
        "query_1_embeddings_avg, query_1_embeddings, query_2_embeddings_avg"
      ],
      "metadata": {
        "colab": {
          "base_uri": "https://localhost:8080/"
        },
        "id": "wMbF6Fgfotqy",
        "outputId": "15772780-0d17-4314-daa2-1efe741f0d92"
      },
      "execution_count": 227,
      "outputs": [
        {
          "output_type": "execute_result",
          "data": {
            "text/plain": [
              "(array([[[ 1.7448118, -0.7612069]]], dtype=float32),\n",
              " array([[[ 1.7448118, -0.7612069]]], dtype=float32),\n",
              " array([[[ 0.5618427, -0.6719364]]], dtype=float32))"
            ]
          },
          "metadata": {},
          "execution_count": 227
        }
      ]
    },
    {
      "cell_type": "code",
      "source": [
        "# 2 queries stacked on top of one another\n",
        "query_embeddings = np.row_stack([query_1_embeddings, query_2_embeddings_avg])\n",
        "query_embeddings, query_embeddings.shape"
      ],
      "metadata": {
        "colab": {
          "base_uri": "https://localhost:8080/"
        },
        "id": "A5_p-yoopAzK",
        "outputId": "f6c30ed5-b0ce-4f41-f504-03aedaed30a9"
      },
      "execution_count": 228,
      "outputs": [
        {
          "output_type": "execute_result",
          "data": {
            "text/plain": [
              "(array([[[ 1.7448118, -0.7612069]],\n",
              " \n",
              "        [[ 0.5618427, -0.6719364]]], dtype=float32),\n",
              " (2, 1, 2))"
            ]
          },
          "metadata": {},
          "execution_count": 228
        }
      ]
    },
    {
      "cell_type": "markdown",
      "source": [
        "### taking each word in document and looking up its embedding vector"
      ],
      "metadata": {
        "id": "f2BsjU3ypSO7"
      }
    },
    {
      "cell_type": "code",
      "source": [
        "docs_sequences = []\n",
        "for docs_list in [bing_search_results, google_search_results]:\n",
        "  docs_sequences.append(tokenizer.texts_to_sequences(docs_list))\n",
        "\n",
        "docs_embeddings = []\n",
        "for docs_set in docs_sequences:\n",
        "  this_docs_set = []\n",
        "  for doc in docs_set:\n",
        "    this_doc_embeddings = np.array([embeddings[idx] for idx in doc])\n",
        "    this_docs_set.append(this_doc_embeddings)\n",
        "  docs_embeddings.append(this_docs_set)\n",
        "\n",
        "docs_sequences, docs_embeddings[:1], len(docs_embeddings) # 2 for two search engines results"
      ],
      "metadata": {
        "colab": {
          "base_uri": "https://localhost:8080/"
        },
        "id": "Dve_61nwpMVe",
        "outputId": "c94cc749-9339-4c5d-ba16-2c1a35258739"
      },
      "execution_count": 229,
      "outputs": [
        {
          "output_type": "execute_result",
          "data": {
            "text/plain": [
              "([[[1, 2],\n",
              "   [14, 3, 1, 15, 16, 17, 4],\n",
              "   [1, 5, 6, 7, 8, 9],\n",
              "   [18, 19, 20, 10, 21, 22, 4, 11],\n",
              "   [1, 23]],\n",
              "  [[1, 2],\n",
              "   [1, 24, 25, 2, 26, 11, 27],\n",
              "   [1, 28, 29],\n",
              "   [1, 5, 6, 7, 8, 9],\n",
              "   [12, 13, 3, 1, 30, 31, 10, 32, 33, 34]]],\n",
              " [[array([[ 1.7448118 , -0.7612069 ],\n",
              "          [ 0.3190391 , -0.24937038]], dtype=float32),\n",
              "   array([[-0.6871727 , -0.84520566],\n",
              "          [ 1.4621079 , -2.0601406 ],\n",
              "          [ 1.7448118 , -0.7612069 ],\n",
              "          [-0.6712461 , -0.0126646 ],\n",
              "          [-1.1173104 ,  0.2344157 ],\n",
              "          [ 1.6598022 ,  0.74204415],\n",
              "          [-0.3224172 , -0.38405436]], dtype=float32),\n",
              "   array([[ 1.7448118 , -0.7612069 ],\n",
              "          [ 1.1337694 , -1.0998913 ],\n",
              "          [-0.1724282 , -0.8778584 ],\n",
              "          [ 0.04221375,  0.58281523],\n",
              "          [-1.1006192 ,  1.1447237 ],\n",
              "          [ 0.9015907 ,  0.50249434]], dtype=float32),\n",
              "   array([[-0.19183555, -0.887629  ],\n",
              "          [-0.7471583 ,  1.6924546 ],\n",
              "          [ 0.05080776, -0.6369957 ],\n",
              "          [ 0.90085596, -0.68372786],\n",
              "          [ 0.19091548,  2.1002553 ],\n",
              "          [ 0.12015896,  0.6172031 ],\n",
              "          [-0.3224172 , -0.38405436],\n",
              "          [-0.12289023, -0.93576944]], dtype=float32),\n",
              "   array([[ 1.7448118 , -0.7612069 ],\n",
              "          [ 0.30017033, -0.35224986]], dtype=float32)]],\n",
              " 2)"
            ]
          },
          "metadata": {},
          "execution_count": 229
        }
      ]
    },
    {
      "cell_type": "markdown",
      "source": [
        "Thus, we have embeddings for the overall document that has combined the queries and results of two search engines."
      ],
      "metadata": {
        "id": "J86RsNSpp4Nl"
      }
    },
    {
      "cell_type": "code",
      "source": [
        "print('\\tBing vs. Google embeddings\\n')\n",
        "\n",
        "i = 0\n",
        "# Iterate through both lists simultaneously\n",
        "for bing_emb, google_emb in zip(docs_embeddings[0], docs_embeddings[1]):\n",
        "    # Print Bing and Google embeddings side by side\n",
        "    print(f'Bing Embedding: {bing_emb}')\n",
        "    print(f'Google Embedding: {google_emb}')\n",
        "    print()  # Blank line for separation\n",
        "    i=i+1\n",
        "    if i>1:\n",
        "      break"
      ],
      "metadata": {
        "colab": {
          "base_uri": "https://localhost:8080/"
        },
        "id": "M6l96taFrGlr",
        "outputId": "82c72d24-cda8-4464-dd6e-6f25d3e5a8ed"
      },
      "execution_count": 239,
      "outputs": [
        {
          "output_type": "stream",
          "name": "stdout",
          "text": [
            "\tBing vs. Google embeddings\n",
            "\n",
            "Bing Embedding: [[ 1.7448118  -0.7612069 ]\n",
            " [ 0.3190391  -0.24937038]]\n",
            "Google Embedding: [[ 1.7448118  -0.7612069 ]\n",
            " [ 0.3190391  -0.24937038]]\n",
            "\n",
            "Bing Embedding: [[-0.6871727  -0.84520566]\n",
            " [ 1.4621079  -2.0601406 ]\n",
            " [ 1.7448118  -0.7612069 ]\n",
            " [-0.6712461  -0.0126646 ]\n",
            " [-1.1173104   0.2344157 ]\n",
            " [ 1.6598022   0.74204415]\n",
            " [-0.3224172  -0.38405436]]\n",
            "Google Embedding: [[ 1.7448118  -0.7612069 ]\n",
            " [-1.1425182  -0.34934273]\n",
            " [-0.20889424  0.5866232 ]\n",
            " [ 0.3190391  -0.24937038]\n",
            " [ 0.8389834   0.9311021 ]\n",
            " [-0.12289023 -0.93576944]\n",
            " [ 0.2855873   0.8851412 ]]\n",
            "\n"
          ]
        }
      ]
    },
    {
      "cell_type": "markdown",
      "source": [
        "## Can assure both queries for both engines have the same embeddings.\n",
        "$$\n",
        "[ 1.7448118  -0.7612069 ]\n",
        "[ 0.3190391  -0.24937038]\n",
        "$$"
      ],
      "metadata": {
        "id": "XD5CTPJpqZ1C"
      }
    },
    {
      "cell_type": "code",
      "source": [
        "docs_averaged_embeddings = []\n",
        "for docs_set in docs_embeddings:\n",
        "  this_docs_set = []\n",
        "  for doc in docs_set:\n",
        "    this_docs_set.append(tf.reduce_mean(doc, axis=0, keepdims=True))\n",
        "  concatenated_docs_set = tf.concat(this_docs_set, axis=0).numpy()\n",
        "  docs_averaged_embeddings.append(concatenated_docs_set)\n",
        "\n",
        "docs_averaged_embeddings = np.array(docs_averaged_embeddings)\n",
        "docs_averaged_embeddings, docs_averaged_embeddings.shape"
      ],
      "metadata": {
        "colab": {
          "base_uri": "https://localhost:8080/"
        },
        "id": "F__FXwNbqWhF",
        "outputId": "4ae8fb21-b1bb-4fe4-d971-e55d785dc5df"
      },
      "execution_count": 241,
      "outputs": [
        {
          "output_type": "execute_result",
          "data": {
            "text/plain": [
              "(array([[[ 1.0319254 , -0.50528866],\n",
              "         [ 0.29551077, -0.4409732 ],\n",
              "         [ 0.42488968, -0.08482059],\n",
              "         [-0.01519538,  0.11021708],\n",
              "         [ 1.0224911 , -0.55672836]],\n",
              " \n",
              "        [[ 1.0319254 , -0.50528866],\n",
              "         [ 0.24487413,  0.01531099],\n",
              "         [ 0.50111455,  0.0645228 ],\n",
              "         [ 0.42488968, -0.08482059],\n",
              "         [ 0.56698734, -0.29520217]]], dtype=float32),\n",
              " (2, 5, 2))"
            ]
          },
          "metadata": {},
          "execution_count": 241
        }
      ]
    },
    {
      "cell_type": "markdown",
      "source": [
        "Shape is (no of queries, no of documents per query, embedding dimensions)"
      ],
      "metadata": {
        "id": "DYlsV9wK5tYq"
      }
    },
    {
      "cell_type": "code",
      "source": [
        "# expanding the queries into each response as\n",
        "# (query, doc)\n",
        "# (query, doc) for same query, just copying\n",
        "\n",
        "NUM_DOCS_PER_QUERY = 5\n",
        "\n",
        "expanded_queries = tf.gather(query_embeddings, [0 for x in range(NUM_DOCS_PER_QUERY)], axis=1).numpy()\n",
        "print(query_embeddings )\n",
        "expanded_queries"
      ],
      "metadata": {
        "colab": {
          "base_uri": "https://localhost:8080/"
        },
        "id": "l0_Fp3gF5noM",
        "outputId": "14267972-94f7-44fa-f2bb-666dacf7b2d2"
      },
      "execution_count": 245,
      "outputs": [
        {
          "output_type": "stream",
          "name": "stdout",
          "text": [
            "[[[ 1.7448118 -0.7612069]]\n",
            "\n",
            " [[ 0.5618427 -0.6719364]]]\n"
          ]
        },
        {
          "output_type": "execute_result",
          "data": {
            "text/plain": [
              "array([[[ 1.7448118, -0.7612069],\n",
              "        [ 1.7448118, -0.7612069],\n",
              "        [ 1.7448118, -0.7612069],\n",
              "        [ 1.7448118, -0.7612069],\n",
              "        [ 1.7448118, -0.7612069]],\n",
              "\n",
              "       [[ 0.5618427, -0.6719364],\n",
              "        [ 0.5618427, -0.6719364],\n",
              "        [ 0.5618427, -0.6719364],\n",
              "        [ 0.5618427, -0.6719364],\n",
              "        [ 0.5618427, -0.6719364]]], dtype=float32)"
            ]
          },
          "metadata": {},
          "execution_count": 245
        }
      ]
    },
    {
      "cell_type": "code",
      "source": [
        "docs_averaged_embeddings.shape, expanded_queries.shape"
      ],
      "metadata": {
        "colab": {
          "base_uri": "https://localhost:8080/"
        },
        "id": "BGp2kpiE6tRN",
        "outputId": "4f994b1a-f1ca-4cda-ad08-72041f9aa1d1"
      },
      "execution_count": 246,
      "outputs": [
        {
          "output_type": "execute_result",
          "data": {
            "text/plain": [
              "((2, 5, 2), (2, 5, 2))"
            ]
          },
          "metadata": {},
          "execution_count": 246
        }
      ]
    },
    {
      "cell_type": "code",
      "source": [
        "expanded_batch = np.concatenate([expanded_queries, docs_averaged_embeddings], axis=-1)\n",
        "print(expanded_queries)\n",
        "print(docs_averaged_embeddings)\n",
        "expanded_batch, expanded_batch.shape"
      ],
      "metadata": {
        "colab": {
          "base_uri": "https://localhost:8080/"
        },
        "id": "jtwp6mkX7cG_",
        "outputId": "8c694cef-9c96-4e61-c6c9-5fc2932ec782"
      },
      "execution_count": 249,
      "outputs": [
        {
          "output_type": "stream",
          "name": "stdout",
          "text": [
            "[[[ 1.7448118 -0.7612069]\n",
            "  [ 1.7448118 -0.7612069]\n",
            "  [ 1.7448118 -0.7612069]\n",
            "  [ 1.7448118 -0.7612069]\n",
            "  [ 1.7448118 -0.7612069]]\n",
            "\n",
            " [[ 0.5618427 -0.6719364]\n",
            "  [ 0.5618427 -0.6719364]\n",
            "  [ 0.5618427 -0.6719364]\n",
            "  [ 0.5618427 -0.6719364]\n",
            "  [ 0.5618427 -0.6719364]]]\n",
            "[[[ 1.0319254  -0.50528866]\n",
            "  [ 0.29551077 -0.4409732 ]\n",
            "  [ 0.42488968 -0.08482059]\n",
            "  [-0.01519538  0.11021708]\n",
            "  [ 1.0224911  -0.55672836]]\n",
            "\n",
            " [[ 1.0319254  -0.50528866]\n",
            "  [ 0.24487413  0.01531099]\n",
            "  [ 0.50111455  0.0645228 ]\n",
            "  [ 0.42488968 -0.08482059]\n",
            "  [ 0.56698734 -0.29520217]]]\n"
          ]
        },
        {
          "output_type": "execute_result",
          "data": {
            "text/plain": [
              "(array([[[ 1.7448118 , -0.7612069 ,  1.0319254 , -0.50528866],\n",
              "         [ 1.7448118 , -0.7612069 ,  0.29551077, -0.4409732 ],\n",
              "         [ 1.7448118 , -0.7612069 ,  0.42488968, -0.08482059],\n",
              "         [ 1.7448118 , -0.7612069 , -0.01519538,  0.11021708],\n",
              "         [ 1.7448118 , -0.7612069 ,  1.0224911 , -0.55672836]],\n",
              " \n",
              "        [[ 0.5618427 , -0.6719364 ,  1.0319254 , -0.50528866],\n",
              "         [ 0.5618427 , -0.6719364 ,  0.24487413,  0.01531099],\n",
              "         [ 0.5618427 , -0.6719364 ,  0.50111455,  0.0645228 ],\n",
              "         [ 0.5618427 , -0.6719364 ,  0.42488968, -0.08482059],\n",
              "         [ 0.5618427 , -0.6719364 ,  0.56698734, -0.29520217]]],\n",
              "       dtype=float32),\n",
              " (2, 5, 4))"
            ]
          },
          "metadata": {},
          "execution_count": 249
        }
      ]
    },
    {
      "cell_type": "code",
      "source": [
        "dense_1 = tf.keras.layers.Dense(units=3, activation='relu')\n",
        "dense_1_out = dense_1(expanded_batch)\n",
        "\n",
        "dense_1_out"
      ],
      "metadata": {
        "colab": {
          "base_uri": "https://localhost:8080/"
        },
        "id": "bJ56nS5H7mMU",
        "outputId": "15ccb8a9-35b2-4132-bb90-7ef8196031f9"
      },
      "execution_count": 250,
      "outputs": [
        {
          "output_type": "execute_result",
          "data": {
            "text/plain": [
              "<tf.Tensor: shape=(2, 5, 3), dtype=float32, numpy=\n",
              "array([[[0.60118455, 0.67071486, 0.        ],\n",
              "        [0.59718144, 0.33042043, 0.        ],\n",
              "        [0.4966937 , 0.18419853, 0.        ],\n",
              "        [0.45117533, 0.        , 0.        ],\n",
              "        [0.6155259 , 0.69565624, 0.        ]],\n",
              "\n",
              "       [[0.54032   , 0.86458516, 0.        ],\n",
              "        [0.4116053 , 0.24756111, 0.        ],\n",
              "        [0.39328316, 0.32583234, 0.        ],\n",
              "        [0.4358291 , 0.37806886, 0.        ],\n",
              "        [0.49112   , 0.55472183, 0.        ]]], dtype=float32)>"
            ]
          },
          "metadata": {},
          "execution_count": 250
        }
      ]
    },
    {
      "cell_type": "code",
      "source": [
        "scores = tf.keras.layers.Dense(units=1, activation='linear')\n",
        "scores_out = scores(dense_1_out)\n",
        "\n",
        "scores_out"
      ],
      "metadata": {
        "colab": {
          "base_uri": "https://localhost:8080/"
        },
        "id": "Oh7NpPXb75xk",
        "outputId": "5a8e09ad-a510-4ce7-8464-0a2c3fb19cf3"
      },
      "execution_count": 251,
      "outputs": [
        {
          "output_type": "execute_result",
          "data": {
            "text/plain": [
              "<tf.Tensor: shape=(2, 5, 1), dtype=float32, numpy=\n",
              "array([[[-0.82934964],\n",
              "        [-0.41833997],\n",
              "        [-0.23852661],\n",
              "        [-0.01464347],\n",
              "        [-0.8599299 ]],\n",
              "\n",
              "       [[-1.0614579 ],\n",
              "        [-0.3122705 ],\n",
              "        [-0.40618238],\n",
              "        [-0.47063494],\n",
              "        [-0.68572456]]], dtype=float32)>"
            ]
          },
          "metadata": {},
          "execution_count": 251
        }
      ]
    },
    {
      "cell_type": "code",
      "source": [
        "scores_for_softmax = tf.squeeze(scores_out, axis=-1)\n",
        "scores_prob_dist = tf.nn.softmax(scores_for_softmax, axis=-1)\n",
        "\n",
        "scores_prob_dist"
      ],
      "metadata": {
        "colab": {
          "base_uri": "https://localhost:8080/"
        },
        "id": "iZ-p3zNa7_Ry",
        "outputId": "ee1b5216-b8d5-435f-9b59-fe49fcb669bb"
      },
      "execution_count": 252,
      "outputs": [
        {
          "output_type": "execute_result",
          "data": {
            "text/plain": [
              "<tf.Tensor: shape=(2, 5), dtype=float32, numpy=\n",
              "array([[0.13258716, 0.19998652, 0.23938265, 0.2994497 , 0.12859398],\n",
              "       [0.12044587, 0.25477678, 0.23193935, 0.21746182, 0.17537625]],\n",
              "      dtype=float32)>"
            ]
          },
          "metadata": {},
          "execution_count": 252
        }
      ]
    },
    {
      "cell_type": "code",
      "source": [
        "relevance_grades"
      ],
      "metadata": {
        "colab": {
          "base_uri": "https://localhost:8080/"
        },
        "id": "ay0tGKEP8VTw",
        "outputId": "babfdf17-ce7d-4934-f682-1afea56f64f4"
      },
      "execution_count": 254,
      "outputs": [
        {
          "output_type": "execute_result",
          "data": {
            "text/plain": [
              "<tf.Tensor: shape=(2, 5), dtype=float32, numpy=\n",
              "array([[3., 2., 2., 2., 1.],\n",
              "       [3., 3., 1., 1., 0.]], dtype=float32)>"
            ]
          },
          "metadata": {},
          "execution_count": 254
        }
      ]
    },
    {
      "cell_type": "code",
      "source": [
        "relevance_grades_prob_dist = tf.nn.softmax(relevance_grades, axis=-1)\n",
        "\n",
        "print(relevance_grades_prob_dist)"
      ],
      "metadata": {
        "colab": {
          "base_uri": "https://localhost:8080/"
        },
        "id": "GNFlrk2M8Lt7",
        "outputId": "147d1bd9-efe9-4c42-8eeb-39566b32e20a"
      },
      "execution_count": 253,
      "outputs": [
        {
          "output_type": "stream",
          "name": "stdout",
          "text": [
            "tf.Tensor(\n",
            "[[0.44663328 0.1643072  0.1643072  0.1643072  0.06044524]\n",
            " [0.4309495  0.4309495  0.05832267 0.05832267 0.02145571]], shape=(2, 5), dtype=float32)\n"
          ]
        }
      ]
    },
    {
      "cell_type": "code",
      "source": [
        "loss = tf.keras.losses.KLDivergence()\n",
        "batch_loss = loss(relevance_grades_prob_dist, scores_prob_dist)\n",
        "\n",
        "print(batch_loss)"
      ],
      "metadata": {
        "colab": {
          "base_uri": "https://localhost:8080/"
        },
        "id": "kbbCd_fP8TnC",
        "outputId": "6811e294-d66d-4ba3-aa2c-efd927c8f047"
      },
      "execution_count": 258,
      "outputs": [
        {
          "output_type": "stream",
          "name": "stdout",
          "text": [
            "tf.Tensor(0.43879855, shape=(), dtype=float32)\n"
          ]
        }
      ]
    },
    {
      "cell_type": "code",
      "source": [
        "# for each single training example\n",
        "\n",
        "# KL divergence!\n",
        "per_example_loss = tf.reduce_sum(\n",
        "    relevance_grades_prob_dist * tf.math.log(relevance_grades_prob_dist/scores_prob_dist),\n",
        "    axis=-1\n",
        ")\n",
        "print(f'per_example_loss: {per_example_loss}')\n",
        "\n",
        "batch_loss = tf.reduce_mean(per_example_loss)\n",
        "\n",
        "print(f'batch_loss: {batch_loss}')"
      ],
      "metadata": {
        "colab": {
          "base_uri": "https://localhost:8080/"
        },
        "id": "d-SlQXBm8iUX",
        "outputId": "b4de7940-09ff-475b-d837-c047e88ac2d5"
      },
      "execution_count": 259,
      "outputs": [
        {
          "output_type": "stream",
          "name": "stdout",
          "text": [
            "per_example_loss: [0.30406362 0.5735335 ]\n",
            "batch_loss: 0.43879854679107666\n"
          ]
        }
      ]
    },
    {
      "cell_type": "code",
      "source": [
        "np.mean([0.30406362, 0.5735335])"
      ],
      "metadata": {
        "colab": {
          "base_uri": "https://localhost:8080/"
        },
        "id": "mjOiymMS84wf",
        "outputId": "d6159a6f-28ab-49a0-9c2d-b737933d68b2"
      },
      "execution_count": 261,
      "outputs": [
        {
          "output_type": "execute_result",
          "data": {
            "text/plain": [
              "0.43879856"
            ]
          },
          "metadata": {},
          "execution_count": 261
        }
      ]
    },
    {
      "cell_type": "markdown",
      "source": [
        "## Hence, the individual loss with the mean matches with the KL Divergence of TF library!"
      ],
      "metadata": {
        "id": "Lx5Us3VI-O_t"
      }
    },
    {
      "cell_type": "markdown",
      "source": [
        "# Implementation of ListNet"
      ],
      "metadata": {
        "id": "8CBLZeeb-XIA"
      }
    },
    {
      "cell_type": "code",
      "source": [
        "NUM_DOCS_PER_QUERY = 5\n",
        "EMBEDDING_DIMS = 2"
      ],
      "metadata": {
        "id": "xlg9iyP49PsK"
      },
      "execution_count": 263,
      "outputs": []
    },
    {
      "cell_type": "code",
      "source": [
        "class ExpandBatchLayer(tf.keras.layers.Layer):\n",
        "  def __init__(self, **kwargs):\n",
        "    super(ExpandBatchLayer, self).__init__(**kwargs)\n",
        "\n",
        "  def call(self, input):\n",
        "    queries, docs = input\n",
        "    batch, num_docs, embedding_dims = tf.unstack(tf.shape(docs))\n",
        "    expanded_queries = tf.gather(queries, tf.zeros([num_docs], tf.int32), axis=1)\n",
        "    return tf.concat([expanded_queries, docs], axis=-1)"
      ],
      "metadata": {
        "id": "YnSdgetx-WJX"
      },
      "execution_count": 264,
      "outputs": []
    },
    {
      "cell_type": "code",
      "source": [
        "query_input = tf.keras.layers.Input(shape=(1, EMBEDDING_DIMS, ), dtype=tf.float32, name='query')\n",
        "docs_input = tf.keras.layers.Input(shape=(NUM_DOCS_PER_QUERY, EMBEDDING_DIMS, ), dtype=tf.float32, name='docs')\n",
        "\n",
        "query_input, docs_input"
      ],
      "metadata": {
        "colab": {
          "base_uri": "https://localhost:8080/"
        },
        "id": "txl__TEz-coW",
        "outputId": "b25222ed-b9a4-4304-d9ff-2d721435825a"
      },
      "execution_count": 265,
      "outputs": [
        {
          "output_type": "execute_result",
          "data": {
            "text/plain": [
              "(<KerasTensor: shape=(None, 1, 2) dtype=float32 (created by layer 'query')>,\n",
              " <KerasTensor: shape=(None, 5, 2) dtype=float32 (created by layer 'docs')>)"
            ]
          },
          "metadata": {},
          "execution_count": 265
        }
      ]
    },
    {
      "cell_type": "code",
      "source": [
        "expand_batch = ExpandBatchLayer(name='expand_batch')\n",
        "expand_batch"
      ],
      "metadata": {
        "colab": {
          "base_uri": "https://localhost:8080/"
        },
        "id": "dgG8x_EZ-kfw",
        "outputId": "e5100275-251a-46c2-9342-739ce89ba75b"
      },
      "execution_count": 266,
      "outputs": [
        {
          "output_type": "execute_result",
          "data": {
            "text/plain": [
              "<__main__.ExpandBatchLayer at 0x7b6047776e90>"
            ]
          },
          "metadata": {},
          "execution_count": 266
        }
      ]
    },
    {
      "cell_type": "code",
      "source": [
        "dense_1 = tf.keras.layers.Dense(units=3, activation='linear', name='dense_1')\n",
        "dense_out = tf.keras.layers.Dense(units=1, activation='linear', name='scores')\n",
        "scores_prob_dist = tf.keras.layers.Dense(units=NUM_DOCS_PER_QUERY, activation='softmax', name='scores_prob_dist')\n"
      ],
      "metadata": {
        "id": "HhRVo1Ft-hXz"
      },
      "execution_count": 267,
      "outputs": []
    },
    {
      "cell_type": "code",
      "source": [
        "expanded_batch = expand_batch([query_input, docs_input])\n",
        "dense_1_out = dense_1(expanded_batch)\n",
        "scores = tf.keras.layers.Flatten()(dense_out(dense_1_out))\n",
        "model_out = scores_prob_dist(scores)"
      ],
      "metadata": {
        "id": "a1TPySmc-uQq"
      },
      "execution_count": 268,
      "outputs": []
    },
    {
      "cell_type": "code",
      "source": [
        "model_out"
      ],
      "metadata": {
        "colab": {
          "base_uri": "https://localhost:8080/"
        },
        "id": "Sgw3_pVHEAOZ",
        "outputId": "587bc2e8-542b-4b2b-c52c-082ffea3bf6e"
      },
      "execution_count": 280,
      "outputs": [
        {
          "output_type": "execute_result",
          "data": {
            "text/plain": [
              "<KerasTensor: shape=(None, 5) dtype=float32 (created by layer 'scores_prob_dist')>"
            ]
          },
          "metadata": {},
          "execution_count": 280
        }
      ]
    },
    {
      "cell_type": "code",
      "source": [
        "# tf.keras.backend.eval(query_input),  docs_input"
      ],
      "metadata": {
        "id": "w2_2MLFhD72Z"
      },
      "execution_count": 289,
      "outputs": []
    },
    {
      "cell_type": "code",
      "source": [
        "model = tf.keras.models.Model(inputs=[query_input, docs_input], outputs=[model_out])\n",
        "\n",
        "model.compile(optimizer=tf.keras.optimizers.SGD(learning_rate=0.03, momentum=0.9),\n",
        "              loss=tf.keras.losses.KLDivergence())\n",
        "print(model.summary())\n",
        "tf.keras.utils.plot_model(model, show_trainable=True, show_shapes=True)"
      ],
      "metadata": {
        "colab": {
          "base_uri": "https://localhost:8080/",
          "height": 1000
        },
        "id": "2IHldvhV-xCo",
        "outputId": "0b554c89-4330-4e85-da19-4b7316d9a6a8"
      },
      "execution_count": 277,
      "outputs": [
        {
          "output_type": "stream",
          "name": "stdout",
          "text": [
            "Model: \"model_5\"\n",
            "__________________________________________________________________________________________________\n",
            " Layer (type)                Output Shape                 Param #   Connected to                  \n",
            "==================================================================================================\n",
            " query (InputLayer)          [(None, 1, 2)]               0         []                            \n",
            "                                                                                                  \n",
            " docs (InputLayer)           [(None, 5, 2)]               0         []                            \n",
            "                                                                                                  \n",
            " expand_batch (ExpandBatchL  (None, 5, 4)                 0         ['query[0][0]',               \n",
            " ayer)                                                               'docs[0][0]']                \n",
            "                                                                                                  \n",
            " dense_1 (Dense)             (None, 5, 3)                 15        ['expand_batch[0][0]']        \n",
            "                                                                                                  \n",
            " scores (Dense)              (None, 5, 1)                 4         ['dense_1[0][0]']             \n",
            "                                                                                                  \n",
            " flatten (Flatten)           (None, 5)                    0         ['scores[0][0]']              \n",
            "                                                                                                  \n",
            " scores_prob_dist (Dense)    (None, 5)                    30        ['flatten[0][0]']             \n",
            "                                                                                                  \n",
            "==================================================================================================\n",
            "Total params: 49 (196.00 Byte)\n",
            "Trainable params: 49 (196.00 Byte)\n",
            "Non-trainable params: 0 (0.00 Byte)\n",
            "__________________________________________________________________________________________________\n",
            "None\n"
          ]
        },
        {
          "output_type": "execute_result",
          "data": {
            "image/png": "[encoded data removed]",
            "text/plain": [
              "<IPython.core.display.Image object>"
            ]
          },
          "metadata": {},
          "execution_count": 277
        }
      ]
    },
    {
      "cell_type": "code",
      "source": [],
      "metadata": {
        "colab": {
          "base_uri": "https://localhost:8080/"
        },
        "id": "j61KNh0l-2Da",
        "outputId": "3d1f637e-8b09-4f75-b93b-f58140606199"
      },
      "execution_count": 276,
      "outputs": [
        {
          "output_type": "stream",
          "name": "stdout",
          "text": [
            "Model: \"model_4\"\n",
            "__________________________________________________________________________________________________\n",
            " Layer (type)                Output Shape                 Param #   Connected to                  \n",
            "==================================================================================================\n",
            " query (InputLayer)          [(None, 1, 2)]               0         []                            \n",
            "                                                                                                  \n",
            " docs (InputLayer)           [(None, 5, 2)]               0         []                            \n",
            "                                                                                                  \n",
            " expand_batch (ExpandBatchL  (None, 5, 4)                 0         ['query[0][0]',               \n",
            " ayer)                                                               'docs[0][0]']                \n",
            "                                                                                                  \n",
            " dense_1 (Dense)             (None, 5, 3)                 15        ['expand_batch[0][0]']        \n",
            "                                                                                                  \n",
            " scores (Dense)              (None, 5, 1)                 4         ['dense_1[0][0]']             \n",
            "                                                                                                  \n",
            " flatten (Flatten)           (None, 5)                    0         ['scores[0][0]']              \n",
            "                                                                                                  \n",
            " scores_prob_dist (Dense)    (None, 5)                    30        ['flatten[0][0]']             \n",
            "                                                                                                  \n",
            "==================================================================================================\n",
            "Total params: 49 (196.00 Byte)\n",
            "Trainable params: 49 (196.00 Byte)\n",
            "Non-trainable params: 0 (0.00 Byte)\n",
            "__________________________________________________________________________________________________\n"
          ]
        }
      ]
    },
    {
      "cell_type": "code",
      "source": [
        "hist = model.fit(\n",
        "    [query_embeddings, docs_averaged_embeddings],\n",
        "    relevance_grades_prob_dist,\n",
        "    epochs=50,\n",
        "    verbose=False\n",
        ")"
      ],
      "metadata": {
        "id": "P_YUDTQw_iYL"
      },
      "execution_count": 278,
      "outputs": []
    },
    {
      "cell_type": "code",
      "source": [
        "plt.plot(hist.history['loss'])"
      ],
      "metadata": {
        "colab": {
          "base_uri": "https://localhost:8080/",
          "height": 448
        },
        "id": "Xl6fbwdTAQL0",
        "outputId": "a99c6a55-131e-46eb-ee3e-5a3d544eb133"
      },
      "execution_count": 279,
      "outputs": [
        {
          "output_type": "execute_result",
          "data": {
            "text/plain": [
              "[<matplotlib.lines.Line2D at 0x7b60451a8940>]"
            ]
          },
          "metadata": {},
          "execution_count": 279
        },
        {
          "output_type": "display_data",
          "data": {
            "text/plain": [
              "<Figure size 640x480 with 1 Axes>"
            ],
            "image/png": "[encoded data removed]"
          },
          "metadata": {}
        }
      ]
    },
    {
      "cell_type": "code",
      "source": [
        "predicted_dist = model.predict([query_embeddings, docs_averaged_embeddings])\n",
        "predicted_dist"
      ],
      "metadata": {
        "colab": {
          "base_uri": "https://localhost:8080/"
        },
        "id": "zlUzYnFzCTBI",
        "outputId": "82838cb7-74c0-4b94-ebd8-7ed98c899d45"
      },
      "execution_count": 286,
      "outputs": [
        {
          "output_type": "stream",
          "name": "stdout",
          "text": [
            "1/1 [==============================] - 0s 423ms/step\n"
          ]
        },
        {
          "output_type": "execute_result",
          "data": {
            "text/plain": [
              "array([[0.4611771 , 0.2812098 , 0.10451607, 0.11115596, 0.04194105],\n",
              "       [0.42920667, 0.27663687, 0.12580544, 0.11388924, 0.05446181]],\n",
              "      dtype=float32)"
            ]
          },
          "metadata": {},
          "execution_count": 286
        }
      ]
    },
    {
      "cell_type": "code",
      "source": [
        "relevance_grades"
      ],
      "metadata": {
        "colab": {
          "base_uri": "https://localhost:8080/"
        },
        "id": "Vmzlxi6dLp9H",
        "outputId": "688cdb3a-04d4-49df-cac1-7ffe3cad81e9"
      },
      "execution_count": 290,
      "outputs": [
        {
          "output_type": "execute_result",
          "data": {
            "text/plain": [
              "<tf.Tensor: shape=(2, 5), dtype=float32, numpy=\n",
              "array([[3., 2., 2., 2., 1.],\n",
              "       [3., 3., 1., 1., 0.]], dtype=float32)>"
            ]
          },
          "metadata": {},
          "execution_count": 290
        }
      ]
    },
    {
      "cell_type": "code",
      "source": [
        "relevance_grades_prob_dist = tf.nn.softmax(relevance_grades, axis=-1)\n",
        "relevance_grades_prob_dist"
      ],
      "metadata": {
        "colab": {
          "base_uri": "https://localhost:8080/"
        },
        "id": "fwAmhrFXLpUD",
        "outputId": "987717d3-b30e-4a03-fd17-8b72f1954f48"
      },
      "execution_count": 291,
      "outputs": [
        {
          "output_type": "execute_result",
          "data": {
            "text/plain": [
              "<tf.Tensor: shape=(2, 5), dtype=float32, numpy=\n",
              "array([[0.44663328, 0.1643072 , 0.1643072 , 0.1643072 , 0.06044524],\n",
              "       [0.4309495 , 0.4309495 , 0.05832267, 0.05832267, 0.02145571]],\n",
              "      dtype=float32)>"
            ]
          },
          "metadata": {},
          "execution_count": 291
        }
      ]
    },
    {
      "cell_type": "code",
      "source": [
        "index = 1\n",
        "predict_dist = predicted_dist[index]\n",
        "true_dist = relevance_grades_prob_dist[index]\n",
        "predict_dist, true_dist"
      ],
      "metadata": {
        "colab": {
          "base_uri": "https://localhost:8080/"
        },
        "id": "ZUJF_LB1LvOI",
        "outputId": "3b6ed1f0-f650-4698-a403-736c4eb44d32"
      },
      "execution_count": 293,
      "outputs": [
        {
          "output_type": "execute_result",
          "data": {
            "text/plain": [
              "(array([0.42920667, 0.27663687, 0.12580544, 0.11388924, 0.05446181],\n",
              "       dtype=float32),\n",
              " <tf.Tensor: shape=(5,), dtype=float32, numpy=\n",
              " array([0.4309495 , 0.4309495 , 0.05832267, 0.05832267, 0.02145571],\n",
              "       dtype=float32)>)"
            ]
          },
          "metadata": {},
          "execution_count": 293
        }
      ]
    },
    {
      "cell_type": "code",
      "source": [
        "import seaborn as sns\n",
        "\n",
        "def show_distribution(index):\n",
        "  predict_dist = predicted_dist[index]\n",
        "  true_dist = relevance_grades_prob_dist[index]\n",
        "  true_dist = true_dist.numpy()\n",
        "\n",
        "\n",
        "  # Create the first bar plot\n",
        "  plt.figure(figsize=(10, 5))\n",
        "  plt.subplot(1, 2, 1)\n",
        "  sns.barplot(x=range(len(true_dist)), y=true_dist)\n",
        "  plt.title('True Distribution')\n",
        "\n",
        "  # Create the second bar plot\n",
        "  plt.subplot(1, 2, 2)\n",
        "  sns.barplot(x=range(len(predict_dist)), y=predict_dist)\n",
        "  plt.title('Predicted Distribution')\n",
        "\n",
        "  # Show the plots\n",
        "  plt.tight_layout()\n",
        "  plt.show()"
      ],
      "metadata": {
        "id": "Knb5OBvbL0qJ"
      },
      "execution_count": 296,
      "outputs": []
    },
    {
      "cell_type": "code",
      "source": [
        "show_distribution(0)"
      ],
      "metadata": {
        "colab": {
          "base_uri": "https://localhost:8080/",
          "height": 426
        },
        "id": "Qut6H9l1MBlB",
        "outputId": "091783ac-f8c1-45f3-a9b8-35818094a31a"
      },
      "execution_count": 300,
      "outputs": [
        {
          "output_type": "display_data",
          "data": {
            "text/plain": [
              "<Figure size 1000x500 with 2 Axes>"
            ],
            "image/png": "[encoded data removed]"
          },
          "metadata": {}
        }
      ]
    },
    {
      "cell_type": "code",
      "source": [
        "show_distribution(1)"
      ],
      "metadata": {
        "colab": {
          "base_uri": "https://localhost:8080/",
          "height": 426
        },
        "id": "0snIlx58L1-d",
        "outputId": "45574a7c-cd52-41ad-b565-0c9a8fbc797d"
      },
      "execution_count": 299,
      "outputs": [
        {
          "output_type": "display_data",
          "data": {
            "text/plain": [
              "<Figure size 1000x500 with 2 Axes>"
            ],
            "image/png": "[encoded data removed]"
          },
          "metadata": {}
        }
      ]
    },
    {
      "cell_type": "code",
      "source": [],
      "metadata": {
        "id": "FAqX59gGCPFa"
      },
      "execution_count": null,
      "outputs": []
    }
  ]
}