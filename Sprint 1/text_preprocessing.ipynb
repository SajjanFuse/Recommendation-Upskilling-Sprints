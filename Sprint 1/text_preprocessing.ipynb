{
 "cells": [
  {
   "cell_type": "code",
   "execution_count": 182,
   "id": "229e2deb-1457-4c00-8147-dbdb93226b4a",
   "metadata": {},
   "outputs": [],
   "source": [
    "import pandas as pd\n",
    "import os\n",
    "import string "
   ]
  },
  {
   "cell_type": "code",
   "execution_count": 183,
   "id": "87b04692-1c6c-4fa0-850c-e46b6a3b6325",
   "metadata": {},
   "outputs": [
    {
     "name": "stdout",
     "output_type": "stream",
     "text": [
      "../../movie_dataset/credits.csv\n",
      "../../movie_dataset/aclImdb\\imdb.vocab\n",
      "../../movie_dataset/aclImdb\\test\\labeledBow.feat\n",
      "../../movie_dataset/aclImdb\\test\\neg\\0_2.txt\n",
      "../../movie_dataset/aclImdb\\test\\pos\\0_10.txt\n",
      "../../movie_dataset/aclImdb\\train\\labeledBow.feat\n",
      "../../movie_dataset/aclImdb\\train\\neg\\0_3.txt\n",
      "../../movie_dataset/aclImdb\\train\\pos\\0_9.txt\n",
      "../../movie_dataset/aclImdb\\train\\unsup\\0_0.txt\n"
     ]
    }
   ],
   "source": [
    "for dirname, _, filenames in os.walk('../../movie_dataset/'):\n",
    "    for filename in filenames:\n",
    "        print(os.path.join(dirname, filename))\n",
    "        break "
   ]
  },
  {
   "cell_type": "code",
   "execution_count": 184,
   "id": "4a4cf4e6-945f-4ee4-b963-78a4de8aef18",
   "metadata": {},
   "outputs": [
    {
     "name": "stdout",
     "output_type": "stream",
     "text": [
      "1000\n"
     ]
    }
   ],
   "source": [
    "# taking only one set of reviews for text preprocessing\n",
    "reviews = []\n",
    "data_path = \"../../movie_dataset/aclImdb/train/unsup/\"\n",
    "for dirname, _, filenames in os.walk(data_path):\n",
    "    for filename in filenames[:1000]:\n",
    "        with open(os.path.join(data_path, filename), \"r\", encoding=\"utf8\") as f:\n",
    "            reviews.append(f.read())\n",
    "print(len(reviews)) "
   ]
  },
  {
   "cell_type": "code",
   "execution_count": 185,
   "id": "a2073d68-34c6-4500-b27f-1f7cbdad03a2",
   "metadata": {},
   "outputs": [
    {
     "data": {
      "text/plain": [
       "'I admit, the great majority of films released before say 1933 are just not for me. Of the dozen or so \"major\" silents I have viewed, one I loved (The Crowd), and two were very good (The Last Command and City Lights, that latter Chaplin circa 1931).<br /><br />So I was apprehensive about this one, and humor is often difficult to appreciate (uh, enjoy) decades later. I did like the lead actors, but thought little of the film.<br /><br />One intriguing sequence. Early on, the guys are supposed to get \"de-loused\" and for about three minutes, fully dressed, do some schtick. In the background, perhaps three dozen men pass by, all naked, white and black (WWI ?), and for most, their butts, part or full backside, are shown. Was this an early variation of beefcake courtesy of Howard Hughes?'"
      ]
     },
     "execution_count": 185,
     "metadata": {},
     "output_type": "execute_result"
    }
   ],
   "source": [
    "reviews[0]"
   ]
  },
  {
   "cell_type": "code",
   "execution_count": 186,
   "id": "d6087f2e-4bd0-4c7d-a331-b980b11fd1bd",
   "metadata": {},
   "outputs": [
    {
     "data": {
      "text/html": [
       "<div>\n",
       "<style scoped>\n",
       "    .dataframe tbody tr th:only-of-type {\n",
       "        vertical-align: middle;\n",
       "    }\n",
       "\n",
       "    .dataframe tbody tr th {\n",
       "        vertical-align: top;\n",
       "    }\n",
       "\n",
       "    .dataframe thead th {\n",
       "        text-align: right;\n",
       "    }\n",
       "</style>\n",
       "<table border=\"1\" class=\"dataframe\">\n",
       "  <thead>\n",
       "    <tr style=\"text-align: right;\">\n",
       "      <th></th>\n",
       "      <th>reviews</th>\n",
       "    </tr>\n",
       "  </thead>\n",
       "  <tbody>\n",
       "    <tr>\n",
       "      <th>0</th>\n",
       "      <td>I admit, the great majority of films released ...</td>\n",
       "    </tr>\n",
       "    <tr>\n",
       "      <th>1</th>\n",
       "      <td>Take a low budget, inexperienced actors doubli...</td>\n",
       "    </tr>\n",
       "    <tr>\n",
       "      <th>2</th>\n",
       "      <td>Everybody has seen 'Back To The Future,' right...</td>\n",
       "    </tr>\n",
       "    <tr>\n",
       "      <th>3</th>\n",
       "      <td>Doris Day was an icon of beauty in singing and...</td>\n",
       "    </tr>\n",
       "    <tr>\n",
       "      <th>4</th>\n",
       "      <td>After a series of silly, fun-loving movies, 19...</td>\n",
       "    </tr>\n",
       "  </tbody>\n",
       "</table>\n",
       "</div>"
      ],
      "text/plain": [
       "                                             reviews\n",
       "0  I admit, the great majority of films released ...\n",
       "1  Take a low budget, inexperienced actors doubli...\n",
       "2  Everybody has seen 'Back To The Future,' right...\n",
       "3  Doris Day was an icon of beauty in singing and...\n",
       "4  After a series of silly, fun-loving movies, 19..."
      ]
     },
     "execution_count": 186,
     "metadata": {},
     "output_type": "execute_result"
    }
   ],
   "source": [
    "df = pd.DataFrame(reviews) \n",
    "df = df.rename(columns={0:'reviews'})\n",
    "df.head()"
   ]
  },
  {
   "cell_type": "code",
   "execution_count": 187,
   "id": "55cdf162-8d91-4d71-85d9-042884357572",
   "metadata": {},
   "outputs": [
    {
     "data": {
      "text/plain": [
       "<bound method DataFrame.info of                                                reviews\n",
       "0    I admit, the great majority of films released ...\n",
       "1    Take a low budget, inexperienced actors doubli...\n",
       "2    Everybody has seen 'Back To The Future,' right...\n",
       "3    Doris Day was an icon of beauty in singing and...\n",
       "4    After a series of silly, fun-loving movies, 19...\n",
       "..                                                 ...\n",
       "995  This has to be one of the best shows ever made...\n",
       "996  As I post this we are only 2 episodes in, but ...\n",
       "997  I'm basically recapping what other people have...\n",
       "998  This was a fun movie. It's more comedy than ac...\n",
       "999  I'm another one who is waiting for the day thi...\n",
       "\n",
       "[1000 rows x 1 columns]>"
      ]
     },
     "execution_count": 187,
     "metadata": {},
     "output_type": "execute_result"
    }
   ],
   "source": [
    "df.info"
   ]
  },
  {
   "cell_type": "markdown",
   "id": "654803c9-9714-461f-ae16-c32d55896cd4",
   "metadata": {},
   "source": [
    "## Lowercasing the reviews in the dataframe "
   ]
  },
  {
   "cell_type": "code",
   "execution_count": 188,
   "id": "248bb4ed-efc1-48de-a119-d4288084f450",
   "metadata": {},
   "outputs": [
    {
     "data": {
      "text/html": [
       "<div>\n",
       "<style scoped>\n",
       "    .dataframe tbody tr th:only-of-type {\n",
       "        vertical-align: middle;\n",
       "    }\n",
       "\n",
       "    .dataframe tbody tr th {\n",
       "        vertical-align: top;\n",
       "    }\n",
       "\n",
       "    .dataframe thead th {\n",
       "        text-align: right;\n",
       "    }\n",
       "</style>\n",
       "<table border=\"1\" class=\"dataframe\">\n",
       "  <thead>\n",
       "    <tr style=\"text-align: right;\">\n",
       "      <th></th>\n",
       "      <th>reviews</th>\n",
       "      <th>lowercase_reviews</th>\n",
       "    </tr>\n",
       "  </thead>\n",
       "  <tbody>\n",
       "    <tr>\n",
       "      <th>0</th>\n",
       "      <td>I admit, the great majority of films released ...</td>\n",
       "      <td>i admit, the great majority of films released ...</td>\n",
       "    </tr>\n",
       "    <tr>\n",
       "      <th>1</th>\n",
       "      <td>Take a low budget, inexperienced actors doubli...</td>\n",
       "      <td>take a low budget, inexperienced actors doubli...</td>\n",
       "    </tr>\n",
       "    <tr>\n",
       "      <th>2</th>\n",
       "      <td>Everybody has seen 'Back To The Future,' right...</td>\n",
       "      <td>everybody has seen 'back to the future,' right...</td>\n",
       "    </tr>\n",
       "    <tr>\n",
       "      <th>3</th>\n",
       "      <td>Doris Day was an icon of beauty in singing and...</td>\n",
       "      <td>doris day was an icon of beauty in singing and...</td>\n",
       "    </tr>\n",
       "    <tr>\n",
       "      <th>4</th>\n",
       "      <td>After a series of silly, fun-loving movies, 19...</td>\n",
       "      <td>after a series of silly, fun-loving movies, 19...</td>\n",
       "    </tr>\n",
       "  </tbody>\n",
       "</table>\n",
       "</div>"
      ],
      "text/plain": [
       "                                             reviews  \\\n",
       "0  I admit, the great majority of films released ...   \n",
       "1  Take a low budget, inexperienced actors doubli...   \n",
       "2  Everybody has seen 'Back To The Future,' right...   \n",
       "3  Doris Day was an icon of beauty in singing and...   \n",
       "4  After a series of silly, fun-loving movies, 19...   \n",
       "\n",
       "                                   lowercase_reviews  \n",
       "0  i admit, the great majority of films released ...  \n",
       "1  take a low budget, inexperienced actors doubli...  \n",
       "2  everybody has seen 'back to the future,' right...  \n",
       "3  doris day was an icon of beauty in singing and...  \n",
       "4  after a series of silly, fun-loving movies, 19...  "
      ]
     },
     "execution_count": 188,
     "metadata": {},
     "output_type": "execute_result"
    }
   ],
   "source": [
    "df[\"lowercase_reviews\"] = df[\"reviews\"].str.lower() \n",
    "df.head()"
   ]
  },
  {
   "cell_type": "code",
   "execution_count": 189,
   "id": "e3093e22-5fae-49f3-9a0c-937c2c18e412",
   "metadata": {},
   "outputs": [
    {
     "data": {
      "text/plain": [
       "('I admit, the great majority of films released before say 1933 are just not for me. Of the dozen or so \"major\" silents I have viewed, one I loved (The Crowd), and two were very good (The Last Command and City Lights, that latter Chaplin circa 1931).<br /><br />So I was apprehensive about this one, and humor is often difficult to appreciate (uh, enjoy) decades later. I did like the lead actors, but thought little of the film.<br /><br />One intriguing sequence. Early on, the guys are supposed to get \"de-loused\" and for about three minutes, fully dressed, do some schtick. In the background, perhaps three dozen men pass by, all naked, white and black (WWI ?), and for most, their butts, part or full backside, are shown. Was this an early variation of beefcake courtesy of Howard Hughes?',\n",
       " 'i admit, the great majority of films released before say 1933 are just not for me. of the dozen or so \"major\" silents i have viewed, one i loved (the crowd), and two were very good (the last command and city lights, that latter chaplin circa 1931).<br /><br />so i was apprehensive about this one, and humor is often difficult to appreciate (uh, enjoy) decades later. i did like the lead actors, but thought little of the film.<br /><br />one intriguing sequence. early on, the guys are supposed to get \"de-loused\" and for about three minutes, fully dressed, do some schtick. in the background, perhaps three dozen men pass by, all naked, white and black (wwi ?), and for most, their butts, part or full backside, are shown. was this an early variation of beefcake courtesy of howard hughes?')"
      ]
     },
     "execution_count": 189,
     "metadata": {},
     "output_type": "execute_result"
    }
   ],
   "source": [
    "df[\"reviews\"][0], df[\"lowercase_reviews\"][0]"
   ]
  },
  {
   "cell_type": "markdown",
   "id": "0a488057-e8d6-4121-a894-69d7beab3658",
   "metadata": {},
   "source": [
    "## Removal of punctuation "
   ]
  },
  {
   "cell_type": "code",
   "execution_count": 190,
   "id": "2d1bbd3b-df90-4b1e-a6a2-3d3c2f08edc0",
   "metadata": {},
   "outputs": [
    {
     "name": "stdout",
     "output_type": "stream",
     "text": [
      "!\"#$%&'()*+,-./:;<=>?@[\\]^_`{|}~\n"
     ]
    }
   ],
   "source": [
    "punc_to_remove = string.punctuation\n",
    "print(punc_to_remove)"
   ]
  },
  {
   "cell_type": "code",
   "execution_count": 191,
   "id": "57a3140f-3ff8-4f53-afba-8b2c61ed33d5",
   "metadata": {},
   "outputs": [
    {
     "data": {
      "text/html": [
       "<div>\n",
       "<style scoped>\n",
       "    .dataframe tbody tr th:only-of-type {\n",
       "        vertical-align: middle;\n",
       "    }\n",
       "\n",
       "    .dataframe tbody tr th {\n",
       "        vertical-align: top;\n",
       "    }\n",
       "\n",
       "    .dataframe thead th {\n",
       "        text-align: right;\n",
       "    }\n",
       "</style>\n",
       "<table border=\"1\" class=\"dataframe\">\n",
       "  <thead>\n",
       "    <tr style=\"text-align: right;\">\n",
       "      <th></th>\n",
       "      <th>reviews</th>\n",
       "      <th>lowercase_reviews</th>\n",
       "      <th>punc_removed_reviews</th>\n",
       "    </tr>\n",
       "  </thead>\n",
       "  <tbody>\n",
       "    <tr>\n",
       "      <th>0</th>\n",
       "      <td>I admit, the great majority of films released ...</td>\n",
       "      <td>i admit, the great majority of films released ...</td>\n",
       "      <td>i admit the great majority of films released b...</td>\n",
       "    </tr>\n",
       "    <tr>\n",
       "      <th>1</th>\n",
       "      <td>Take a low budget, inexperienced actors doubli...</td>\n",
       "      <td>take a low budget, inexperienced actors doubli...</td>\n",
       "      <td>take a low budget inexperienced actors doublin...</td>\n",
       "    </tr>\n",
       "    <tr>\n",
       "      <th>2</th>\n",
       "      <td>Everybody has seen 'Back To The Future,' right...</td>\n",
       "      <td>everybody has seen 'back to the future,' right...</td>\n",
       "      <td>everybody has seen back to the future right wh...</td>\n",
       "    </tr>\n",
       "    <tr>\n",
       "      <th>3</th>\n",
       "      <td>Doris Day was an icon of beauty in singing and...</td>\n",
       "      <td>doris day was an icon of beauty in singing and...</td>\n",
       "      <td>doris day was an icon of beauty in singing and...</td>\n",
       "    </tr>\n",
       "    <tr>\n",
       "      <th>4</th>\n",
       "      <td>After a series of silly, fun-loving movies, 19...</td>\n",
       "      <td>after a series of silly, fun-loving movies, 19...</td>\n",
       "      <td>after a series of silly funloving movies 1955 ...</td>\n",
       "    </tr>\n",
       "  </tbody>\n",
       "</table>\n",
       "</div>"
      ],
      "text/plain": [
       "                                             reviews  \\\n",
       "0  I admit, the great majority of films released ...   \n",
       "1  Take a low budget, inexperienced actors doubli...   \n",
       "2  Everybody has seen 'Back To The Future,' right...   \n",
       "3  Doris Day was an icon of beauty in singing and...   \n",
       "4  After a series of silly, fun-loving movies, 19...   \n",
       "\n",
       "                                   lowercase_reviews  \\\n",
       "0  i admit, the great majority of films released ...   \n",
       "1  take a low budget, inexperienced actors doubli...   \n",
       "2  everybody has seen 'back to the future,' right...   \n",
       "3  doris day was an icon of beauty in singing and...   \n",
       "4  after a series of silly, fun-loving movies, 19...   \n",
       "\n",
       "                                punc_removed_reviews  \n",
       "0  i admit the great majority of films released b...  \n",
       "1  take a low budget inexperienced actors doublin...  \n",
       "2  everybody has seen back to the future right wh...  \n",
       "3  doris day was an icon of beauty in singing and...  \n",
       "4  after a series of silly funloving movies 1955 ...  "
      ]
     },
     "execution_count": 191,
     "metadata": {},
     "output_type": "execute_result"
    }
   ],
   "source": [
    "df[\"punc_removed_reviews\"] = df[\"lowercase_reviews\"].apply(lambda text: text.translate(str.maketrans('', '', punc_to_remove)))\n",
    "df.head()"
   ]
  },
  {
   "cell_type": "code",
   "execution_count": 192,
   "id": "1aecea09-db3c-46d8-912b-4d614ae27c3e",
   "metadata": {},
   "outputs": [
    {
     "data": {
      "text/plain": [
       "('i admit, the great majority of films released before say 1933 are just not for me. of the dozen or so \"major\" silents i have viewed, one i loved (the crowd), and two were very good (the last command and city lights, that latter chaplin circa 1931).<br /><br />so i was apprehensive about this one, and humor is often difficult to appreciate (uh, enjoy) decades later. i did like the lead actors, but thought little of the film.<br /><br />one intriguing sequence. early on, the guys are supposed to get \"de-loused\" and for about three minutes, fully dressed, do some schtick. in the background, perhaps three dozen men pass by, all naked, white and black (wwi ?), and for most, their butts, part or full backside, are shown. was this an early variation of beefcake courtesy of howard hughes?',\n",
       " 'i admit the great majority of films released before say 1933 are just not for me of the dozen or so major silents i have viewed one i loved the crowd and two were very good the last command and city lights that latter chaplin circa 1931br br so i was apprehensive about this one and humor is often difficult to appreciate uh enjoy decades later i did like the lead actors but thought little of the filmbr br one intriguing sequence early on the guys are supposed to get deloused and for about three minutes fully dressed do some schtick in the background perhaps three dozen men pass by all naked white and black wwi  and for most their butts part or full backside are shown was this an early variation of beefcake courtesy of howard hughes')"
      ]
     },
     "execution_count": 192,
     "metadata": {},
     "output_type": "execute_result"
    }
   ],
   "source": [
    "df[\"lowercase_reviews\"][0], df[\"punc_removed_reviews\"][0]"
   ]
  },
  {
   "cell_type": "code",
   "execution_count": 193,
   "id": "ea88319f-4d8c-42d0-81b7-546b648dc983",
   "metadata": {},
   "outputs": [
    {
     "name": "stdout",
     "output_type": "stream",
     "text": [
      "                                             reviews  \\\n",
      "0  I admit, the great majority of films released ...   \n",
      "1  Take a low budget, inexperienced actors doubli...   \n",
      "2  Everybody has seen 'Back To The Future,' right...   \n",
      "3  Doris Day was an icon of beauty in singing and...   \n",
      "4  After a series of silly, fun-loving movies, 19...   \n",
      "\n",
      "                                   lowercase_reviews  \\\n",
      "0  i admit, the great majority of films released ...   \n",
      "1  take a low budget, inexperienced actors doubli...   \n",
      "2  everybody has seen 'back to the future,' right...   \n",
      "3  doris day was an icon of beauty in singing and...   \n",
      "4  after a series of silly, fun-loving movies, 19...   \n",
      "\n",
      "                                       clean_reviews  \n",
      "0  i admit the great majority of films released b...  \n",
      "1  take a low budget inexperienced actors doublin...  \n",
      "2  everybody has seen back to the future right wh...  \n",
      "3  doris day was an icon of beauty in singing and...  \n",
      "4  after a series of silly funloving movies 1955 ...  \n",
      "Index(['reviews', 'lowercase_reviews', 'clean_reviews'], dtype='object')\n"
     ]
    }
   ],
   "source": [
    "df = df.rename(columns = {\"punc_removed_reviews\" : \"clean_reviews\"})\n",
    "print(df.head())\n",
    "print(df.columns)"
   ]
  },
  {
   "cell_type": "markdown",
   "id": "21ea2a9b-8556-488e-89bb-b93ad81c0cc5",
   "metadata": {},
   "source": [
    "## Removal of stopwords "
   ]
  },
  {
   "cell_type": "code",
   "execution_count": 194,
   "id": "83214335-b165-467b-a30d-8d5d6a607963",
   "metadata": {},
   "outputs": [],
   "source": [
    "from nltk.corpus import stopwords "
   ]
  },
  {
   "cell_type": "code",
   "execution_count": 195,
   "id": "83f9e0ca-5ed5-4229-8bfe-3e6dce665f84",
   "metadata": {},
   "outputs": [
    {
     "name": "stdout",
     "output_type": "stream",
     "text": [
      "179 ['i', 'me', 'my', 'myself', 'we']\n"
     ]
    }
   ],
   "source": [
    "STOPWORDS = stopwords.words('english')\n",
    "print(len(STOPWORDS), STOPWORDS[:5])"
   ]
  },
  {
   "cell_type": "code",
   "execution_count": 196,
   "id": "3c4624a3-703c-403a-9eec-55ef584d5402",
   "metadata": {},
   "outputs": [
    {
     "name": "stdout",
     "output_type": "stream",
     "text": [
      "                                             reviews  \\\n",
      "0  I admit, the great majority of films released ...   \n",
      "1  Take a low budget, inexperienced actors doubli...   \n",
      "2  Everybody has seen 'Back To The Future,' right...   \n",
      "3  Doris Day was an icon of beauty in singing and...   \n",
      "4  After a series of silly, fun-loving movies, 19...   \n",
      "\n",
      "                                   lowercase_reviews  \\\n",
      "0  i admit, the great majority of films released ...   \n",
      "1  take a low budget, inexperienced actors doubli...   \n",
      "2  everybody has seen 'back to the future,' right...   \n",
      "3  doris day was an icon of beauty in singing and...   \n",
      "4  after a series of silly, fun-loving movies, 19...   \n",
      "\n",
      "                                       clean_reviews  \\\n",
      "0  i admit the great majority of films released b...   \n",
      "1  take a low budget inexperienced actors doublin...   \n",
      "2  everybody has seen back to the future right wh...   \n",
      "3  doris day was an icon of beauty in singing and...   \n",
      "4  after a series of silly funloving movies 1955 ...   \n",
      "\n",
      "                                  reviews_sw_removed  \n",
      "0  admit great majority films released say 1933 d...  \n",
      "1  take low budget inexperienced actors doubling ...  \n",
      "2  everybody seen back future right whether like ...  \n",
      "3  doris day icon beauty singing acting warm voic...  \n",
      "4  series silly funloving movies 1955 big year do...  \n"
     ]
    }
   ],
   "source": [
    "# .split() splits words separated by space \n",
    "df[\"reviews_sw_removed\"] = df[\"clean_reviews\"].apply(lambda text: \" \".join([word for word in str(text).split() if word not in STOPWORDS]))\n",
    "print(df.head()) "
   ]
  },
  {
   "cell_type": "code",
   "execution_count": 197,
   "id": "45213bca-70ca-4140-801b-def9e73fb031",
   "metadata": {},
   "outputs": [
    {
     "data": {
      "text/plain": [
       "('i admit the great majority of films released before say 1933 are just not for me of the dozen or so major silents i have viewed one i loved the crowd and two were very good the last command and city lights that latter chaplin circa 1931br br so i was apprehensive about this one and humor is often difficult to appreciate uh enjoy decades later i did like the lead actors but thought little of the filmbr br one intriguing sequence early on the guys are supposed to get deloused and for about three minutes fully dressed do some schtick in the background perhaps three dozen men pass by all naked white and black wwi  and for most their butts part or full backside are shown was this an early variation of beefcake courtesy of howard hughes',\n",
       " 'admit great majority films released say 1933 dozen major silents viewed one loved crowd two good last command city lights latter chaplin circa 1931br br apprehensive one humor often difficult appreciate uh enjoy decades later like lead actors thought little filmbr br one intriguing sequence early guys supposed get deloused three minutes fully dressed schtick background perhaps three dozen men pass naked white black wwi butts part full backside shown early variation beefcake courtesy howard hughes')"
      ]
     },
     "execution_count": 197,
     "metadata": {},
     "output_type": "execute_result"
    }
   ],
   "source": [
    "df[\"clean_reviews\"][0],df[\"reviews_sw_removed\"][0] "
   ]
  },
  {
   "cell_type": "markdown",
   "id": "73b727c9-b014-4901-a57e-79a351fbf257",
   "metadata": {},
   "source": [
    "## Removal of frequent words "
   ]
  },
  {
   "cell_type": "code",
   "execution_count": 198,
   "id": "e83ef6c3-8fef-43ef-99e5-ddd4c4440f68",
   "metadata": {},
   "outputs": [
    {
     "data": {
      "text/plain": [
       "{'br', 'like', 'really'}"
      ]
     },
     "execution_count": 198,
     "metadata": {},
     "output_type": "execute_result"
    }
   ],
   "source": [
    "from collections import Counter \n",
    "import itertools \n",
    "cnt = Counter() \n",
    "\n",
    "for text in df[\"reviews_sw_removed\"].values:\n",
    "    for word in text.split():\n",
    "        cnt[word] +=1 \n",
    "\n",
    "freq_words = set([w for w,count in cnt.most_common(10)])\n",
    "\n",
    "# slicing in set \n",
    "set(itertools.islice(freq_words, 3))  "
   ]
  },
  {
   "cell_type": "code",
   "execution_count": 199,
   "id": "be75f578-15de-4a17-a129-a977fcfebd1b",
   "metadata": {},
   "outputs": [
    {
     "name": "stdout",
     "output_type": "stream",
     "text": [
      "                                             reviews  \\\n",
      "0  I admit, the great majority of films released ...   \n",
      "1  Take a low budget, inexperienced actors doubli...   \n",
      "2  Everybody has seen 'Back To The Future,' right...   \n",
      "3  Doris Day was an icon of beauty in singing and...   \n",
      "4  After a series of silly, fun-loving movies, 19...   \n",
      "\n",
      "                                   lowercase_reviews  \\\n",
      "0  i admit, the great majority of films released ...   \n",
      "1  take a low budget, inexperienced actors doubli...   \n",
      "2  everybody has seen 'back to the future,' right...   \n",
      "3  doris day was an icon of beauty in singing and...   \n",
      "4  after a series of silly, fun-loving movies, 19...   \n",
      "\n",
      "                                       clean_reviews  \\\n",
      "0  i admit the great majority of films released b...   \n",
      "1  take a low budget inexperienced actors doublin...   \n",
      "2  everybody has seen back to the future right wh...   \n",
      "3  doris day was an icon of beauty in singing and...   \n",
      "4  after a series of silly funloving movies 1955 ...   \n",
      "\n",
      "                                  reviews_sw_removed  \\\n",
      "0  admit great majority films released say 1933 d...   \n",
      "1  take low budget inexperienced actors doubling ...   \n",
      "2  everybody seen back future right whether like ...   \n",
      "3  doris day icon beauty singing acting warm voic...   \n",
      "4  series silly funloving movies 1955 big year do...   \n",
      "\n",
      "                                     reviews_wo_freq  \n",
      "0  admit majority films released say 1933 dozen m...  \n",
      "1  take low budget inexperienced actors doubling ...  \n",
      "2  everybody seen back future right whether youve...  \n",
      "3  doris day icon beauty singing acting warm voic...  \n",
      "4  series silly funloving movies 1955 big year do...  \n"
     ]
    }
   ],
   "source": [
    "df[\"reviews_wo_freq\"] = df[\"reviews_sw_removed\"].apply(lambda text: \" \".join([word for word in str(text).split() if word not in freq_words]))\n",
    "print(df.head()) "
   ]
  },
  {
   "cell_type": "code",
   "execution_count": 200,
   "id": "cdae1bf0-1729-42c0-be6c-cbb7d2291057",
   "metadata": {},
   "outputs": [],
   "source": [
    "# set(df[\"reviews_sw_removed\"][0].split()), df[\"reviews_wo_freq\"][0]"
   ]
  },
  {
   "cell_type": "code",
   "execution_count": 201,
   "id": "670f806d-d9fd-4c1f-8277-9fc6417e94d9",
   "metadata": {},
   "outputs": [
    {
     "data": {
      "text/plain": [
       "{'film', 'good', 'great', 'movie', 'one', 'really', 'time'}"
      ]
     },
     "execution_count": 201,
     "metadata": {},
     "output_type": "execute_result"
    }
   ],
   "source": [
    "set(df[\"reviews_sw_removed\"][1].split()) - set(df[\"reviews_wo_freq\"][1].split()) "
   ]
  },
  {
   "cell_type": "markdown",
   "id": "2ac21b47-fa3c-47ea-8266-0e87142ac865",
   "metadata": {},
   "source": [
    "## Stemming \n",
    "\n",
    "- PorterStemmer for english language\n",
    "- can also use Snowball Stemmer for some european languages "
   ]
  },
  {
   "cell_type": "code",
   "execution_count": 202,
   "id": "4b1094d0-ec1c-48f2-8080-bd4a3a93a134",
   "metadata": {},
   "outputs": [
    {
     "data": {
      "text/html": [
       "<div>\n",
       "<style scoped>\n",
       "    .dataframe tbody tr th:only-of-type {\n",
       "        vertical-align: middle;\n",
       "    }\n",
       "\n",
       "    .dataframe tbody tr th {\n",
       "        vertical-align: top;\n",
       "    }\n",
       "\n",
       "    .dataframe thead th {\n",
       "        text-align: right;\n",
       "    }\n",
       "</style>\n",
       "<table border=\"1\" class=\"dataframe\">\n",
       "  <thead>\n",
       "    <tr style=\"text-align: right;\">\n",
       "      <th></th>\n",
       "      <th>reviews</th>\n",
       "      <th>lowercase_reviews</th>\n",
       "      <th>clean_reviews</th>\n",
       "      <th>reviews_sw_removed</th>\n",
       "      <th>reviews_wo_freq</th>\n",
       "      <th>stemmed_reviews</th>\n",
       "    </tr>\n",
       "  </thead>\n",
       "  <tbody>\n",
       "    <tr>\n",
       "      <th>0</th>\n",
       "      <td>I admit, the great majority of films released ...</td>\n",
       "      <td>i admit, the great majority of films released ...</td>\n",
       "      <td>i admit the great majority of films released b...</td>\n",
       "      <td>admit great majority films released say 1933 d...</td>\n",
       "      <td>admit majority films released say 1933 dozen m...</td>\n",
       "      <td>admit major film releas say 1933 dozen major s...</td>\n",
       "    </tr>\n",
       "    <tr>\n",
       "      <th>1</th>\n",
       "      <td>Take a low budget, inexperienced actors doubli...</td>\n",
       "      <td>take a low budget, inexperienced actors doubli...</td>\n",
       "      <td>take a low budget inexperienced actors doublin...</td>\n",
       "      <td>take low budget inexperienced actors doubling ...</td>\n",
       "      <td>take low budget inexperienced actors doubling ...</td>\n",
       "      <td>take low budget inexperienc actor doubl produc...</td>\n",
       "    </tr>\n",
       "    <tr>\n",
       "      <th>2</th>\n",
       "      <td>Everybody has seen 'Back To The Future,' right...</td>\n",
       "      <td>everybody has seen 'back to the future,' right...</td>\n",
       "      <td>everybody has seen back to the future right wh...</td>\n",
       "      <td>everybody seen back future right whether like ...</td>\n",
       "      <td>everybody seen back future right whether youve...</td>\n",
       "      <td>everybodi seen back futur right whether youv s...</td>\n",
       "    </tr>\n",
       "    <tr>\n",
       "      <th>3</th>\n",
       "      <td>Doris Day was an icon of beauty in singing and...</td>\n",
       "      <td>doris day was an icon of beauty in singing and...</td>\n",
       "      <td>doris day was an icon of beauty in singing and...</td>\n",
       "      <td>doris day icon beauty singing acting warm voic...</td>\n",
       "      <td>doris day icon beauty singing acting warm voic...</td>\n",
       "      <td>dori day icon beauti sing act warm voic geniu ...</td>\n",
       "    </tr>\n",
       "    <tr>\n",
       "      <th>4</th>\n",
       "      <td>After a series of silly, fun-loving movies, 19...</td>\n",
       "      <td>after a series of silly, fun-loving movies, 19...</td>\n",
       "      <td>after a series of silly funloving movies 1955 ...</td>\n",
       "      <td>series silly funloving movies 1955 big year do...</td>\n",
       "      <td>series silly funloving movies 1955 big year do...</td>\n",
       "      <td>seri silli funlov movi 1955 big year dori day ...</td>\n",
       "    </tr>\n",
       "  </tbody>\n",
       "</table>\n",
       "</div>"
      ],
      "text/plain": [
       "                                             reviews  \\\n",
       "0  I admit, the great majority of films released ...   \n",
       "1  Take a low budget, inexperienced actors doubli...   \n",
       "2  Everybody has seen 'Back To The Future,' right...   \n",
       "3  Doris Day was an icon of beauty in singing and...   \n",
       "4  After a series of silly, fun-loving movies, 19...   \n",
       "\n",
       "                                   lowercase_reviews  \\\n",
       "0  i admit, the great majority of films released ...   \n",
       "1  take a low budget, inexperienced actors doubli...   \n",
       "2  everybody has seen 'back to the future,' right...   \n",
       "3  doris day was an icon of beauty in singing and...   \n",
       "4  after a series of silly, fun-loving movies, 19...   \n",
       "\n",
       "                                       clean_reviews  \\\n",
       "0  i admit the great majority of films released b...   \n",
       "1  take a low budget inexperienced actors doublin...   \n",
       "2  everybody has seen back to the future right wh...   \n",
       "3  doris day was an icon of beauty in singing and...   \n",
       "4  after a series of silly funloving movies 1955 ...   \n",
       "\n",
       "                                  reviews_sw_removed  \\\n",
       "0  admit great majority films released say 1933 d...   \n",
       "1  take low budget inexperienced actors doubling ...   \n",
       "2  everybody seen back future right whether like ...   \n",
       "3  doris day icon beauty singing acting warm voic...   \n",
       "4  series silly funloving movies 1955 big year do...   \n",
       "\n",
       "                                     reviews_wo_freq  \\\n",
       "0  admit majority films released say 1933 dozen m...   \n",
       "1  take low budget inexperienced actors doubling ...   \n",
       "2  everybody seen back future right whether youve...   \n",
       "3  doris day icon beauty singing acting warm voic...   \n",
       "4  series silly funloving movies 1955 big year do...   \n",
       "\n",
       "                                     stemmed_reviews  \n",
       "0  admit major film releas say 1933 dozen major s...  \n",
       "1  take low budget inexperienc actor doubl produc...  \n",
       "2  everybodi seen back futur right whether youv s...  \n",
       "3  dori day icon beauti sing act warm voic geniu ...  \n",
       "4  seri silli funlov movi 1955 big year dori day ...  "
      ]
     },
     "execution_count": 202,
     "metadata": {},
     "output_type": "execute_result"
    }
   ],
   "source": [
    "from nltk.stem.porter import PorterStemmer\n",
    "\n",
    "stemmer = PorterStemmer() \n",
    "df[\"stemmed_reviews\"] = df[\"reviews_wo_freq\"].apply(lambda text: \" \".join([stemmer.stem(word) for word in text.split()]))\n",
    "df.head() \n"
   ]
  },
  {
   "cell_type": "code",
   "execution_count": 203,
   "id": "a51889a1-56db-46af-a958-f801dec0de83",
   "metadata": {},
   "outputs": [
    {
     "name": "stdout",
     "output_type": "stream",
     "text": [
      "inexperienced:inexperienc\n",
      "actors:actor\n",
      "doubling:doubl\n",
      "production:product\n",
      "limited:limit\n",
      "chasers:chaser\n",
      "gives:give\n",
      "absolutely:absolut\n",
      "represents:repres\n",
      "natured:natur\n",
      "friends:friend\n",
      "neighbors:neighbor\n",
      "coming:come\n",
      "together:togeth\n",
      "collaborate:collabor\n",
      "interesting:interest\n",
      "involved:involv\n",
      "probably:probabl\n",
      "terrible:terribl\n",
      "poorly:poorli\n",
      "delivered:deliv\n",
      "hamfisted:hamfist\n",
      "editing:edit\n",
      "chasers:chaser\n",
      "ambition:ambit\n",
      "imagine:imagin\n",
      "necessary:necessari\n",
      "every:everi\n",
      "takes:take\n",
      "suggesting:suggest\n",
      "people:peopl\n",
      "chasers:chaser\n",
      "forgive:forgiv\n",
      "lady:ladi\n",
      "grocery:groceri\n",
      "delivery:deliveri\n",
      "every:everi\n",
      "wrenched:wrench\n",
      "jaws:jaw\n",
      "problematic:problemat\n"
     ]
    }
   ],
   "source": [
    "for word1, word2 in zip(df[\"reviews_wo_freq\"][1].split(), df[\"stemmed_reviews\"][1].split()):\n",
    "    if word1 != word2:\n",
    "        print(f\"{word1}:{word2}\")"
   ]
  },
  {
   "cell_type": "markdown",
   "id": "5c7a2e5e-348d-44d5-8814-73ed7f112630",
   "metadata": {},
   "source": [
    "## Lemmatization \n",
    "\n",
    "- requires words to be categorizedby a part of speech as well as by inflected form?\n",
    "    - inflected language: that changes form or ending of some words in which they are used in sentences changes \n",
    "- more accurate than stemming\n",
    "- slower than stemming, so stemming is performed first\n",
    "    - requires more computational overhead than stemming "
   ]
  },
  {
   "cell_type": "code",
   "execution_count": 204,
   "id": "26b8ec29-8e85-4f1b-8ba9-0b87cba5ab5c",
   "metadata": {},
   "outputs": [
    {
     "data": {
      "text/html": [
       "<div>\n",
       "<style scoped>\n",
       "    .dataframe tbody tr th:only-of-type {\n",
       "        vertical-align: middle;\n",
       "    }\n",
       "\n",
       "    .dataframe tbody tr th {\n",
       "        vertical-align: top;\n",
       "    }\n",
       "\n",
       "    .dataframe thead th {\n",
       "        text-align: right;\n",
       "    }\n",
       "</style>\n",
       "<table border=\"1\" class=\"dataframe\">\n",
       "  <thead>\n",
       "    <tr style=\"text-align: right;\">\n",
       "      <th></th>\n",
       "      <th>reviews</th>\n",
       "      <th>lowercase_reviews</th>\n",
       "      <th>clean_reviews</th>\n",
       "      <th>reviews_sw_removed</th>\n",
       "      <th>reviews_wo_freq</th>\n",
       "      <th>stemmed_reviews</th>\n",
       "      <th>lemmatized_reviews</th>\n",
       "    </tr>\n",
       "  </thead>\n",
       "  <tbody>\n",
       "    <tr>\n",
       "      <th>0</th>\n",
       "      <td>I admit, the great majority of films released ...</td>\n",
       "      <td>i admit, the great majority of films released ...</td>\n",
       "      <td>i admit the great majority of films released b...</td>\n",
       "      <td>admit great majority films released say 1933 d...</td>\n",
       "      <td>admit majority films released say 1933 dozen m...</td>\n",
       "      <td>admit major film releas say 1933 dozen major s...</td>\n",
       "      <td>admit major film releas say 1933 dozen major s...</td>\n",
       "    </tr>\n",
       "    <tr>\n",
       "      <th>1</th>\n",
       "      <td>Take a low budget, inexperienced actors doubli...</td>\n",
       "      <td>take a low budget, inexperienced actors doubli...</td>\n",
       "      <td>take a low budget inexperienced actors doublin...</td>\n",
       "      <td>take low budget inexperienced actors doubling ...</td>\n",
       "      <td>take low budget inexperienced actors doubling ...</td>\n",
       "      <td>take low budget inexperienc actor doubl produc...</td>\n",
       "      <td>take low budget inexperienc actor doubl produc...</td>\n",
       "    </tr>\n",
       "    <tr>\n",
       "      <th>2</th>\n",
       "      <td>Everybody has seen 'Back To The Future,' right...</td>\n",
       "      <td>everybody has seen 'back to the future,' right...</td>\n",
       "      <td>everybody has seen back to the future right wh...</td>\n",
       "      <td>everybody seen back future right whether like ...</td>\n",
       "      <td>everybody seen back future right whether youve...</td>\n",
       "      <td>everybodi seen back futur right whether youv s...</td>\n",
       "      <td>everybodi seen back futur right whether youv s...</td>\n",
       "    </tr>\n",
       "    <tr>\n",
       "      <th>3</th>\n",
       "      <td>Doris Day was an icon of beauty in singing and...</td>\n",
       "      <td>doris day was an icon of beauty in singing and...</td>\n",
       "      <td>doris day was an icon of beauty in singing and...</td>\n",
       "      <td>doris day icon beauty singing acting warm voic...</td>\n",
       "      <td>doris day icon beauty singing acting warm voic...</td>\n",
       "      <td>dori day icon beauti sing act warm voic geniu ...</td>\n",
       "      <td>dori day icon beauti sing act warm voic geniu ...</td>\n",
       "    </tr>\n",
       "    <tr>\n",
       "      <th>4</th>\n",
       "      <td>After a series of silly, fun-loving movies, 19...</td>\n",
       "      <td>after a series of silly, fun-loving movies, 19...</td>\n",
       "      <td>after a series of silly funloving movies 1955 ...</td>\n",
       "      <td>series silly funloving movies 1955 big year do...</td>\n",
       "      <td>series silly funloving movies 1955 big year do...</td>\n",
       "      <td>seri silli funlov movi 1955 big year dori day ...</td>\n",
       "      <td>seri silli funlov movi 1955 big year dori day ...</td>\n",
       "    </tr>\n",
       "  </tbody>\n",
       "</table>\n",
       "</div>"
      ],
      "text/plain": [
       "                                             reviews  \\\n",
       "0  I admit, the great majority of films released ...   \n",
       "1  Take a low budget, inexperienced actors doubli...   \n",
       "2  Everybody has seen 'Back To The Future,' right...   \n",
       "3  Doris Day was an icon of beauty in singing and...   \n",
       "4  After a series of silly, fun-loving movies, 19...   \n",
       "\n",
       "                                   lowercase_reviews  \\\n",
       "0  i admit, the great majority of films released ...   \n",
       "1  take a low budget, inexperienced actors doubli...   \n",
       "2  everybody has seen 'back to the future,' right...   \n",
       "3  doris day was an icon of beauty in singing and...   \n",
       "4  after a series of silly, fun-loving movies, 19...   \n",
       "\n",
       "                                       clean_reviews  \\\n",
       "0  i admit the great majority of films released b...   \n",
       "1  take a low budget inexperienced actors doublin...   \n",
       "2  everybody has seen back to the future right wh...   \n",
       "3  doris day was an icon of beauty in singing and...   \n",
       "4  after a series of silly funloving movies 1955 ...   \n",
       "\n",
       "                                  reviews_sw_removed  \\\n",
       "0  admit great majority films released say 1933 d...   \n",
       "1  take low budget inexperienced actors doubling ...   \n",
       "2  everybody seen back future right whether like ...   \n",
       "3  doris day icon beauty singing acting warm voic...   \n",
       "4  series silly funloving movies 1955 big year do...   \n",
       "\n",
       "                                     reviews_wo_freq  \\\n",
       "0  admit majority films released say 1933 dozen m...   \n",
       "1  take low budget inexperienced actors doubling ...   \n",
       "2  everybody seen back future right whether youve...   \n",
       "3  doris day icon beauty singing acting warm voic...   \n",
       "4  series silly funloving movies 1955 big year do...   \n",
       "\n",
       "                                     stemmed_reviews  \\\n",
       "0  admit major film releas say 1933 dozen major s...   \n",
       "1  take low budget inexperienc actor doubl produc...   \n",
       "2  everybodi seen back futur right whether youv s...   \n",
       "3  dori day icon beauti sing act warm voic geniu ...   \n",
       "4  seri silli funlov movi 1955 big year dori day ...   \n",
       "\n",
       "                                  lemmatized_reviews  \n",
       "0  admit major film releas say 1933 dozen major s...  \n",
       "1  take low budget inexperienc actor doubl produc...  \n",
       "2  everybodi seen back futur right whether youv s...  \n",
       "3  dori day icon beauti sing act warm voic geniu ...  \n",
       "4  seri silli funlov movi 1955 big year dori day ...  "
      ]
     },
     "execution_count": 204,
     "metadata": {},
     "output_type": "execute_result"
    }
   ],
   "source": [
    "from nltk.stem import WordNetLemmatizer\n",
    "\n",
    "lemmatizer = WordNetLemmatizer() \n",
    "df[\"lemmatized_reviews\"] = df[\"stemmed_reviews\"].apply(lambda text: \" \".join([lemmatizer.lemmatize(word) for word in text.split()]))\n",
    "df.head() "
   ]
  },
  {
   "cell_type": "code",
   "execution_count": 205,
   "id": "9bc65616-6d51-444d-b6aa-8a2a2766ca77",
   "metadata": {},
   "outputs": [
    {
     "name": "stdout",
     "output_type": "stream",
     "text": [
      "henchman:henchmen\n",
      "le:less\n",
      "plea:pleas\n"
     ]
    }
   ],
   "source": [
    "word_index_to_check = 2\n",
    "for word1, word2 in zip(df[\"lemmatized_reviews\"][word_index_to_check].split(), df[\"stemmed_reviews\"][word_index_to_check].split()):\n",
    "    if word1 != word2:\n",
    "        print(f\"{word1}:{word2}\")"
   ]
  },
  {
   "cell_type": "markdown",
   "id": "866b8451-d6ea-4ae5-91da-aef74701eaf8",
   "metadata": {},
   "source": [
    "## n-grams \n",
    "\n",
    "- contiguous sequences of n words extracted from text\n",
    "- Unigram, Bigram or Trigram\n",
    "- to capture contextual information and relationships between words in given text "
   ]
  },
  {
   "cell_type": "code",
   "execution_count": 206,
   "id": "f4d38a2f-ac4d-4ae1-b614-1c29defd26da",
   "metadata": {},
   "outputs": [],
   "source": [
    "def n_grams(text, n):\n",
    "    word = text.split(' ')\n",
    "    output = [] \n",
    "    for i in range(len(word) - 1):\n",
    "        output.append(word[i:i+n])\n",
    "    return output "
   ]
  },
  {
   "cell_type": "code",
   "execution_count": 207,
   "id": "a3aca884-14bb-4a0c-aa82-c6d22c256d61",
   "metadata": {},
   "outputs": [
    {
     "data": {
      "text/plain": [
       "[['i', 'admit', 'the'],\n",
       " ['admit', 'the', 'great'],\n",
       " ['the', 'great', 'majority'],\n",
       " ['great', 'majority', 'of'],\n",
       " ['majority', 'of', 'films'],\n",
       " ['of', 'films', 'released'],\n",
       " ['films', 'released', 'before'],\n",
       " ['released', 'before', 'say'],\n",
       " ['before', 'say', '1933'],\n",
       " ['say', '1933', 'are'],\n",
       " ['1933', 'are', 'just'],\n",
       " ['are', 'just', 'not'],\n",
       " ['just', 'not', 'for'],\n",
       " ['not', 'for', 'me'],\n",
       " ['for', 'me', 'of'],\n",
       " ['me', 'of', 'the'],\n",
       " ['of', 'the', 'dozen'],\n",
       " ['the', 'dozen', 'or'],\n",
       " ['dozen', 'or', 'so'],\n",
       " ['or', 'so', 'major'],\n",
       " ['so', 'major', 'silents'],\n",
       " ['major', 'silents', 'i'],\n",
       " ['silents', 'i', 'have'],\n",
       " ['i', 'have', 'viewed'],\n",
       " ['have', 'viewed', 'one'],\n",
       " ['viewed', 'one', 'i'],\n",
       " ['one', 'i', 'loved'],\n",
       " ['i', 'loved', 'the'],\n",
       " ['loved', 'the', 'crowd'],\n",
       " ['the', 'crowd']]"
      ]
     },
     "execution_count": 207,
     "metadata": {},
     "output_type": "execute_result"
    }
   ],
   "source": [
    "demo_txt = \"i admit the great majority of films released before say 1933 are just not for me of the dozen or so major silents i have viewed one i loved the crowd\"\n",
    "n_grams(demo_txt, 3)"
   ]
  },
  {
   "cell_type": "code",
   "execution_count": 210,
   "id": "4a7d5a51-7ce9-42c7-a754-09268c69d1b5",
   "metadata": {},
   "outputs": [
    {
     "data": {
      "text/html": [
       "<div>\n",
       "<style scoped>\n",
       "    .dataframe tbody tr th:only-of-type {\n",
       "        vertical-align: middle;\n",
       "    }\n",
       "\n",
       "    .dataframe tbody tr th {\n",
       "        vertical-align: top;\n",
       "    }\n",
       "\n",
       "    .dataframe thead th {\n",
       "        text-align: right;\n",
       "    }\n",
       "</style>\n",
       "<table border=\"1\" class=\"dataframe\">\n",
       "  <thead>\n",
       "    <tr style=\"text-align: right;\">\n",
       "      <th></th>\n",
       "      <th>reviews</th>\n",
       "      <th>lowercase_reviews</th>\n",
       "      <th>clean_reviews</th>\n",
       "      <th>reviews_sw_removed</th>\n",
       "      <th>reviews_wo_freq</th>\n",
       "      <th>stemmed_reviews</th>\n",
       "      <th>lemmatized_reviews</th>\n",
       "      <th>n_gram_reviews</th>\n",
       "    </tr>\n",
       "  </thead>\n",
       "  <tbody>\n",
       "    <tr>\n",
       "      <th>0</th>\n",
       "      <td>I admit, the great majority of films released ...</td>\n",
       "      <td>i admit, the great majority of films released ...</td>\n",
       "      <td>i admit the great majority of films released b...</td>\n",
       "      <td>admit great majority films released say 1933 d...</td>\n",
       "      <td>admit majority films released say 1933 dozen m...</td>\n",
       "      <td>admit major film releas say 1933 dozen major s...</td>\n",
       "      <td>admit major film releas say 1933 dozen major s...</td>\n",
       "      <td>[[admit, major, film], [major, film, releas], ...</td>\n",
       "    </tr>\n",
       "    <tr>\n",
       "      <th>1</th>\n",
       "      <td>Take a low budget, inexperienced actors doubli...</td>\n",
       "      <td>take a low budget, inexperienced actors doubli...</td>\n",
       "      <td>take a low budget inexperienced actors doublin...</td>\n",
       "      <td>take low budget inexperienced actors doubling ...</td>\n",
       "      <td>take low budget inexperienced actors doubling ...</td>\n",
       "      <td>take low budget inexperienc actor doubl produc...</td>\n",
       "      <td>take low budget inexperienc actor doubl produc...</td>\n",
       "      <td>[[take, low, budget], [low, budget, inexperien...</td>\n",
       "    </tr>\n",
       "    <tr>\n",
       "      <th>2</th>\n",
       "      <td>Everybody has seen 'Back To The Future,' right...</td>\n",
       "      <td>everybody has seen 'back to the future,' right...</td>\n",
       "      <td>everybody has seen back to the future right wh...</td>\n",
       "      <td>everybody seen back future right whether like ...</td>\n",
       "      <td>everybody seen back future right whether youve...</td>\n",
       "      <td>everybodi seen back futur right whether youv s...</td>\n",
       "      <td>everybodi seen back futur right whether youv s...</td>\n",
       "      <td>[[everybodi, seen, back], [seen, back, futur],...</td>\n",
       "    </tr>\n",
       "    <tr>\n",
       "      <th>3</th>\n",
       "      <td>Doris Day was an icon of beauty in singing and...</td>\n",
       "      <td>doris day was an icon of beauty in singing and...</td>\n",
       "      <td>doris day was an icon of beauty in singing and...</td>\n",
       "      <td>doris day icon beauty singing acting warm voic...</td>\n",
       "      <td>doris day icon beauty singing acting warm voic...</td>\n",
       "      <td>dori day icon beauti sing act warm voic geniu ...</td>\n",
       "      <td>dori day icon beauti sing act warm voic geniu ...</td>\n",
       "      <td>[[dori, day, icon], [day, icon, beauti], [icon...</td>\n",
       "    </tr>\n",
       "    <tr>\n",
       "      <th>4</th>\n",
       "      <td>After a series of silly, fun-loving movies, 19...</td>\n",
       "      <td>after a series of silly, fun-loving movies, 19...</td>\n",
       "      <td>after a series of silly funloving movies 1955 ...</td>\n",
       "      <td>series silly funloving movies 1955 big year do...</td>\n",
       "      <td>series silly funloving movies 1955 big year do...</td>\n",
       "      <td>seri silli funlov movi 1955 big year dori day ...</td>\n",
       "      <td>seri silli funlov movi 1955 big year dori day ...</td>\n",
       "      <td>[[seri, silli, funlov], [silli, funlov, movi],...</td>\n",
       "    </tr>\n",
       "  </tbody>\n",
       "</table>\n",
       "</div>"
      ],
      "text/plain": [
       "                                             reviews  \\\n",
       "0  I admit, the great majority of films released ...   \n",
       "1  Take a low budget, inexperienced actors doubli...   \n",
       "2  Everybody has seen 'Back To The Future,' right...   \n",
       "3  Doris Day was an icon of beauty in singing and...   \n",
       "4  After a series of silly, fun-loving movies, 19...   \n",
       "\n",
       "                                   lowercase_reviews  \\\n",
       "0  i admit, the great majority of films released ...   \n",
       "1  take a low budget, inexperienced actors doubli...   \n",
       "2  everybody has seen 'back to the future,' right...   \n",
       "3  doris day was an icon of beauty in singing and...   \n",
       "4  after a series of silly, fun-loving movies, 19...   \n",
       "\n",
       "                                       clean_reviews  \\\n",
       "0  i admit the great majority of films released b...   \n",
       "1  take a low budget inexperienced actors doublin...   \n",
       "2  everybody has seen back to the future right wh...   \n",
       "3  doris day was an icon of beauty in singing and...   \n",
       "4  after a series of silly funloving movies 1955 ...   \n",
       "\n",
       "                                  reviews_sw_removed  \\\n",
       "0  admit great majority films released say 1933 d...   \n",
       "1  take low budget inexperienced actors doubling ...   \n",
       "2  everybody seen back future right whether like ...   \n",
       "3  doris day icon beauty singing acting warm voic...   \n",
       "4  series silly funloving movies 1955 big year do...   \n",
       "\n",
       "                                     reviews_wo_freq  \\\n",
       "0  admit majority films released say 1933 dozen m...   \n",
       "1  take low budget inexperienced actors doubling ...   \n",
       "2  everybody seen back future right whether youve...   \n",
       "3  doris day icon beauty singing acting warm voic...   \n",
       "4  series silly funloving movies 1955 big year do...   \n",
       "\n",
       "                                     stemmed_reviews  \\\n",
       "0  admit major film releas say 1933 dozen major s...   \n",
       "1  take low budget inexperienc actor doubl produc...   \n",
       "2  everybodi seen back futur right whether youv s...   \n",
       "3  dori day icon beauti sing act warm voic geniu ...   \n",
       "4  seri silli funlov movi 1955 big year dori day ...   \n",
       "\n",
       "                                  lemmatized_reviews  \\\n",
       "0  admit major film releas say 1933 dozen major s...   \n",
       "1  take low budget inexperienc actor doubl produc...   \n",
       "2  everybodi seen back futur right whether youv s...   \n",
       "3  dori day icon beauti sing act warm voic geniu ...   \n",
       "4  seri silli funlov movi 1955 big year dori day ...   \n",
       "\n",
       "                                      n_gram_reviews  \n",
       "0  [[admit, major, film], [major, film, releas], ...  \n",
       "1  [[take, low, budget], [low, budget, inexperien...  \n",
       "2  [[everybodi, seen, back], [seen, back, futur],...  \n",
       "3  [[dori, day, icon], [day, icon, beauti], [icon...  \n",
       "4  [[seri, silli, funlov], [silli, funlov, movi],...  "
      ]
     },
     "execution_count": 210,
     "metadata": {},
     "output_type": "execute_result"
    }
   ],
   "source": [
    "# choosing trigram for the reviews\n",
    "n = 3\n",
    "df[\"n_gram_reviews\"] = df[\"lemmatized_reviews\"].apply(lambda text:n_grams(text, n))\n",
    "df.head() "
   ]
  },
  {
   "cell_type": "code",
   "execution_count": 211,
   "id": "7794ad5e-c01a-4f80-9c53-2db286e73e98",
   "metadata": {},
   "outputs": [],
   "source": [
    "df.to_csv('1000_lemmatized.csv', index=False) "
   ]
  },
  {
   "cell_type": "code",
   "execution_count": null,
   "id": "ca8a10d3-0dac-45b0-b7fa-6bd4126446bc",
   "metadata": {},
   "outputs": [],
   "source": []
  }
 ],
 "metadata": {
  "kernelspec": {
   "display_name": "Python 3 (ipykernel)",
   "language": "python",
   "name": "python3"
  },
  "language_info": {
   "codemirror_mode": {
    "name": "ipython",
    "version": 3
   },
   "file_extension": ".py",
   "mimetype": "text/x-python",
   "name": "python",
   "nbconvert_exporter": "python",
   "pygments_lexer": "ipython3",
   "version": "3.11.4"
  }
 },
 "nbformat": 4,
 "nbformat_minor": 5
}
