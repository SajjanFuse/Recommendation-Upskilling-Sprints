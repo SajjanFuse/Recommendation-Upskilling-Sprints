{
 "cells": [
  {
   "cell_type": "code",
   "execution_count": 21,
   "id": "df139503-f39e-4fba-89e8-f146fd817978",
   "metadata": {},
   "outputs": [],
   "source": [
    "from sentence_transformers import SentenceTransformer, util "
   ]
  },
  {
   "cell_type": "code",
   "execution_count": 13,
   "id": "0b8685d1-0189-427b-aa89-95741a2b8407",
   "metadata": {},
   "outputs": [
    {
     "data": {
      "text/plain": [
       "SentenceTransformer(\n",
       "  (0): Transformer({'max_seq_length': 256, 'do_lower_case': False}) with Transformer model: BertModel \n",
       "  (1): Pooling({'word_embedding_dimension': 384, 'pooling_mode_cls_token': False, 'pooling_mode_mean_tokens': True, 'pooling_mode_max_tokens': False, 'pooling_mode_mean_sqrt_len_tokens': False, 'pooling_mode_weightedmean_tokens': False, 'pooling_mode_lasttoken': False, 'include_prompt': True})\n",
       "  (2): Normalize()\n",
       ")"
      ]
     },
     "execution_count": 13,
     "metadata": {},
     "output_type": "execute_result"
    }
   ],
   "source": [
    "model = SentenceTransformer(\"all-MiniLM-L6-v2\")\n",
    "model "
   ]
  },
  {
   "cell_type": "code",
   "execution_count": 14,
   "id": "df3a164c-e47c-42d9-b6f5-975a9316c4a9",
   "metadata": {},
   "outputs": [
    {
     "data": {
      "text/plain": [
       "array([[-0.01371733, -0.04285158, -0.01562865, ...,  0.10017826,\n",
       "         0.12365725, -0.04229672],\n",
       "       [ 0.05273376,  0.0432319 ,  0.03611053, ...,  0.07960209,\n",
       "         0.08644354, -0.04385225],\n",
       "       [ 0.04393357,  0.05893439,  0.04817842, ...,  0.05216277,\n",
       "         0.05610653,  0.10206392]], dtype=float32)"
      ]
     },
     "execution_count": 14,
     "metadata": {},
     "output_type": "execute_result"
    }
   ],
   "source": [
    "sentences = [\n",
    "    \"This framework generates embeddings for each input sentence\",\n",
    "    \"Sentences are passed as a list of strings.\",\n",
    "    \"The quick brown fox jumps over the lazy dog.\",\n",
    "]\n",
    "\n",
    "# Sentences are encoded by calling model.encode()\n",
    "embeddings = model.encode(sentences)\n",
    "embeddings "
   ]
  },
  {
   "cell_type": "code",
   "execution_count": 15,
   "id": "f07ad0be-59e5-4103-995d-0d87d22f10cc",
   "metadata": {},
   "outputs": [
    {
     "name": "stdout",
     "output_type": "stream",
     "text": [
      "Sentence: This framework generates embeddings for each input sentence\n",
      "Incomplete Embedding: \n",
      " [-0.01371733 -0.04285158 -0.01562865  0.01405375  0.03955377  0.12179632\n",
      "  0.02943334 -0.03175237  0.03549596 -0.079314  ]\n",
      "Sentence: Sentences are passed as a list of strings.\n",
      "Incomplete Embedding: \n",
      " [ 0.05273376  0.0432319   0.03611053  0.02490369 -0.03182166  0.08561208\n",
      "  0.10055906 -0.00032588 -0.00795473 -0.01028667]\n",
      "Sentence: The quick brown fox jumps over the lazy dog.\n",
      "Incomplete Embedding: \n",
      " [ 0.04393357  0.05893439  0.04817842  0.07754809  0.02674441 -0.03762958\n",
      " -0.00260509 -0.05994302 -0.00249604  0.02207279]\n"
     ]
    }
   ],
   "source": [
    "for sentence, embedding in zip(sentences, embeddings):\n",
    "    print(\"Sentence:\", sentence)\n",
    "    print(\"Incomplete Embedding: \\n\", embedding[:10])\n",
    "    "
   ]
  },
  {
   "cell_type": "code",
   "execution_count": 18,
   "id": "45efedab-4946-4081-81eb-0b8e9e44b702",
   "metadata": {},
   "outputs": [],
   "source": [
    "sentences1 = [\n",
    "    \"The cat sits outside\",\n",
    "    \"A man is playing guitar\",\n",
    "    \"The new movie is awesome\",\n",
    "]\n",
    "\n",
    "sentences2 = [\n",
    "    \"The dog plays in the garden\",\n",
    "    \"A woman watches TV\",\n",
    "    \"The new movie is so great\",\n",
    "]\n"
   ]
  },
  {
   "cell_type": "code",
   "execution_count": 19,
   "id": "091400e3-7d3d-401a-8fbb-b1e6c69c6c03",
   "metadata": {},
   "outputs": [
    {
     "data": {
      "text/plain": [
       "(tensor([[ 0.1392,  0.0030,  0.0470,  ...,  0.0641, -0.0163,  0.0636],\n",
       "         [ 0.0227, -0.0014, -0.0056,  ..., -0.0225,  0.0846, -0.0283],\n",
       "         [-0.1004, -0.0774, -0.0014,  ..., -0.0010,  0.0718,  0.0221]]),\n",
       " tensor([[ 0.0163, -0.0700,  0.0384,  ...,  0.0447,  0.0254, -0.0023],\n",
       "         [ 0.0054, -0.0920,  0.0140,  ...,  0.0167, -0.0086, -0.0424],\n",
       "         [-0.0842, -0.0592, -0.0010,  ..., -0.0157,  0.0764,  0.0389]]))"
      ]
     },
     "execution_count": 19,
     "metadata": {},
     "output_type": "execute_result"
    }
   ],
   "source": [
    "embeddings1 = model.encode(sentences1, convert_to_tensor=True)\n",
    "embeddings2 = model.encode(sentences2, convert_to_tensor=True)\n",
    "embeddings1, embeddings2"
   ]
  },
  {
   "cell_type": "code",
   "execution_count": 22,
   "id": "10137c67-0dd5-4408-b158-f39c59b9b927",
   "metadata": {},
   "outputs": [
    {
     "name": "stdout",
     "output_type": "stream",
     "text": [
      "The cat sits outside \t\t The dog plays in the garden \t\t Score: 0.2838\n",
      "A man is playing guitar \t\t A woman watches TV \t\t Score: -0.0327\n",
      "The new movie is awesome \t\t The new movie is so great \t\t Score: 0.8939\n"
     ]
    }
   ],
   "source": [
    "cosine_scores = util.cos_sim(embeddings1, embeddings2)\n",
    "\n",
    "# Output the pairs with their score\n",
    "for i in range(len(sentences1)):\n",
    "    print(\"{} \\t\\t {} \\t\\t Score: {:.4f}\".format(\n",
    "        sentences1[i], sentences2[i], cosine_scores[i][i]\n",
    "    ))"
   ]
  },
  {
   "cell_type": "code",
   "execution_count": 23,
   "id": "7a157569-2753-4268-a63a-24974e98401d",
   "metadata": {},
   "outputs": [],
   "source": [
    "sentences3 = [\n",
    "    \"The cat sits outside\",\n",
    "    \"A man is playing guitar\",\n",
    "    \"I love pasta\",\n",
    "    \"The new movie is awesome\",\n",
    "    \"The cat plays in the garden\",\n",
    "    \"A woman watches TV\",\n",
    "    \"The new movie is so great\",\n",
    "    \"Do you like pizza?\",\n",
    "]"
   ]
  },
  {
   "cell_type": "code",
   "execution_count": 24,
   "id": "2e77702b-3423-43d6-a0b8-49c659d22d8c",
   "metadata": {},
   "outputs": [
    {
     "data": {
      "text/plain": [
       "tensor([[ 0.1392,  0.0030,  0.0470,  ...,  0.0641, -0.0163,  0.0636],\n",
       "        [ 0.0227, -0.0014, -0.0056,  ..., -0.0225,  0.0846, -0.0283],\n",
       "        [-0.1025, -0.0541,  0.0108,  ...,  0.1097,  0.0851, -0.0738],\n",
       "        ...,\n",
       "        [ 0.0054, -0.0920,  0.0140,  ...,  0.0167, -0.0086, -0.0424],\n",
       "        [-0.0842, -0.0592, -0.0010,  ..., -0.0157,  0.0764,  0.0389],\n",
       "        [-0.1047,  0.0302, -0.0049,  ...,  0.0555,  0.0570, -0.0948]])"
      ]
     },
     "execution_count": 24,
     "metadata": {},
     "output_type": "execute_result"
    }
   ],
   "source": [
    "embeddings3 = model.encode(sentences3, convert_to_tensor=True)\n",
    "embeddings3 "
   ]
  },
  {
   "cell_type": "code",
   "execution_count": 25,
   "id": "77da9c84-ace9-47e1-8987-87aaa3c9b2fb",
   "metadata": {},
   "outputs": [
    {
     "data": {
      "text/plain": [
       "tensor([[1.0000, 0.5527, 0.1181],\n",
       "        [0.5527, 1.0000, 0.1012],\n",
       "        [0.1181, 0.1012, 1.0000]])"
      ]
     },
     "execution_count": 25,
     "metadata": {},
     "output_type": "execute_result"
    }
   ],
   "source": [
    "cosine_scores = util.cos_sim(embeddings, embeddings)\n",
    "cosine_scores "
   ]
  },
  {
   "cell_type": "code",
   "execution_count": 27,
   "id": "de3b34f1-91d8-4316-97e2-6bc3d3e45559",
   "metadata": {},
   "outputs": [],
   "source": [
    "pairs = []\n",
    "for i in range(cosine_scores.shape[0]):\n",
    "    for j in range(cosine_scores.shape[1]):\n",
    "        pairs.append({\"index\": [i, j], \"score\": cosine_scores[i][j]})\n",
    "\n",
    "# Sort scores in decreasing order\n",
    "pairs = sorted(pairs, key=lambda x: x[\"score\"], reverse=True)"
   ]
  },
  {
   "cell_type": "code",
   "execution_count": 34,
   "id": "ff4731c0-3fcd-4fe0-b2f5-42c04a5c43e8",
   "metadata": {},
   "outputs": [
    {
     "name": "stdout",
     "output_type": "stream",
     "text": [
      "Sentences are passed as a list of strings. \t Sentences are passed as a list of strings. \t Score: 1.0\n",
      "The quick brown fox jumps over the lazy dog. \t The quick brown fox jumps over the lazy dog. \t Score: 1.0\n",
      "This framework generates embeddings for each input sentence \t This framework generates embeddings for each input sentence \t Score: 1.0\n",
      "This framework generates embeddings for each input sentence \t Sentences are passed as a list of strings. \t Score: 0.6\n",
      "Sentences are passed as a list of strings. \t This framework generates embeddings for each input sentence \t Score: 0.6\n",
      "This framework generates embeddings for each input sentence \t The quick brown fox jumps over the lazy dog. \t Score: 0.1\n",
      "The quick brown fox jumps over the lazy dog. \t This framework generates embeddings for each input sentence \t Score: 0.1\n",
      "Sentences are passed as a list of strings. \t The quick brown fox jumps over the lazy dog. \t Score: 0.1\n",
      "The quick brown fox jumps over the lazy dog. \t Sentences are passed as a list of strings. \t Score: 0.1\n"
     ]
    }
   ],
   "source": [
    "for pair in pairs[0:10]:\n",
    "    i, j = pair[\"index\"]\n",
    "    print(\"{} \\t {} \\t Score: {:.1f}\".format(\n",
    "        sentences[i], sentences[j], pair[\"score\"]\n",
    "    ))"
   ]
  },
  {
   "cell_type": "code",
   "execution_count": 36,
   "id": "fec23865-30a4-4aca-8994-1221410539f4",
   "metadata": {},
   "outputs": [
    {
     "name": "stderr",
     "output_type": "stream",
     "text": [
      "C:\\Users\\OMEN\\AppData\\Local\\Temp\\ipykernel_18700\\1592815313.py:4: DtypeWarning: Columns (10) have mixed types. Specify dtype option on import or set low_memory=False.\n",
      "  movies_df = pd.read_csv('../../movie_dataset/movies_metadata.csv')\n"
     ]
    },
    {
     "data": {
      "text/plain": [
       "(   adult  ... vote_count\n",
       " 0  False  ...     5415.0\n",
       " \n",
       " [1 rows x 24 columns],\n",
       " Index(['adult', 'belongs_to_collection', 'budget', 'genres', 'homepage', 'id',\n",
       "        'imdb_id', 'original_language', 'original_title', 'overview',\n",
       "        'popularity', 'poster_path', 'production_companies',\n",
       "        'production_countries', 'release_date', 'revenue', 'runtime',\n",
       "        'spoken_languages', 'status', 'tagline', 'title', 'video',\n",
       "        'vote_average', 'vote_count'],\n",
       "       dtype='object'))"
      ]
     },
     "execution_count": 36,
     "metadata": {},
     "output_type": "execute_result"
    }
   ],
   "source": [
    "# use sentence transformer for sentences comparison \n",
    "import pandas as pd \n",
    "\n",
    "movies_df = pd.read_csv('../../movie_dataset/movies_metadata.csv')\n",
    "movies_df.head(1), movies_df.columns  "
   ]
  },
  {
   "cell_type": "code",
   "execution_count": 37,
   "id": "ecfbfa2f-bdfc-42ab-b148-3ea16c11de9f",
   "metadata": {},
   "outputs": [
    {
     "data": {
      "text/plain": [
       "45466"
      ]
     },
     "execution_count": 37,
     "metadata": {},
     "output_type": "execute_result"
    }
   ],
   "source": [
    "# taking all overviews of all movies \n",
    "all_overviews = movies_df.overview.tolist() \n",
    "len(all_overviews) "
   ]
  },
  {
   "cell_type": "code",
   "execution_count": 39,
   "id": "1ca77cc9-b151-43f3-b158-3ca9f11f06a5",
   "metadata": {},
   "outputs": [
    {
     "data": {
      "text/plain": [
       "tensor([[ 0.0634,  0.0010,  0.0932,  ...,  0.0154,  0.0446,  0.0220],\n",
       "        [ 0.0863,  0.0446, -0.0405,  ..., -0.0033, -0.0293, -0.0266],\n",
       "        [-0.1009,  0.0374, -0.0009,  ...,  0.0568, -0.0262,  0.0183],\n",
       "        ...,\n",
       "        [-0.0612, -0.0261, -0.0052,  ...,  0.0711,  0.0009, -0.0289],\n",
       "        [-0.0189,  0.0755,  0.0105,  ...,  0.0831,  0.0385, -0.0305],\n",
       "        [-0.0727, -0.0136, -0.0711,  ...,  0.0009, -0.0264, -0.0036]])"
      ]
     },
     "execution_count": 39,
     "metadata": {},
     "output_type": "execute_result"
    }
   ],
   "source": [
    "embeddings_movies = model.encode(all_overviews[:100], convert_to_tensor=True)\n",
    "embeddings_movies  "
   ]
  },
  {
   "cell_type": "code",
   "execution_count": 40,
   "id": "137bbfce-05ed-45bd-9059-783d6152bf64",
   "metadata": {},
   "outputs": [
    {
     "data": {
      "text/plain": [
       "tensor([[1.0000, 0.3099, 0.0994,  ..., 0.0916, 0.0919, 0.1399],\n",
       "        [0.3099, 1.0000, 0.2149,  ..., 0.1619, 0.0512, 0.2492],\n",
       "        [0.0994, 0.2149, 1.0000,  ..., 0.1748, 0.0484, 0.2267],\n",
       "        ...,\n",
       "        [0.0916, 0.1619, 0.1748,  ..., 1.0000, 0.0721, 0.1308],\n",
       "        [0.0919, 0.0512, 0.0484,  ..., 0.0721, 1.0000, 0.1819],\n",
       "        [0.1399, 0.2492, 0.2267,  ..., 0.1308, 0.1819, 1.0000]])"
      ]
     },
     "execution_count": 40,
     "metadata": {},
     "output_type": "execute_result"
    }
   ],
   "source": [
    "cosine_scores_movies  = util.cos_sim(embeddings_movies, embeddings_movies)\n",
    "cosine_scores_movies  "
   ]
  },
  {
   "cell_type": "code",
   "execution_count": 49,
   "id": "b0402757-be7c-48cd-be88-2e866c820c84",
   "metadata": {},
   "outputs": [
    {
     "name": "stdout",
     "output_type": "stream",
     "text": [
      "A justice drama based on a true story about a man on death row who in his last days forms a strong relationship with a nun who teaches him forgiveness and gives him spirituality as she accompanies him to his execution. Susan Sarandon won an Oscar for best female actress for her convincing portrayal of Sister Helen Prejean. \t \n",
      "\n",
      "Susan wants to work in television and will therefore do anything it takes, even if it means killing her husband. A very dark comedy from independent director Gus Van Sant with a brilliant Nicole Kidman in the leading role. \n",
      "\n",
      "\t Score: 0.6\n",
      "Susan wants to work in television and will therefore do anything it takes, even if it means killing her husband. A very dark comedy from independent director Gus Van Sant with a brilliant Nicole Kidman in the leading role. \t \n",
      "\n",
      "A justice drama based on a true story about a man on death row who in his last days forms a strong relationship with a nun who teaches him forgiveness and gives him spirituality as she accompanies him to his execution. Susan Sarandon won an Oscar for best female actress for her convincing portrayal of Sister Helen Prejean. \n",
      "\n",
      "\t Score: 0.6\n",
      "The life of the gambling paradise – Las Vegas – and its dark mafia underbelly. \t \n",
      "\n",
      "A dark, hip, urban story of a barren and anonymous city where the underclass' sport of choice is ram-raiding. An exciting game in which stolen cars are driven through shop windows to aid large-scale looting before the police arrive. For Tommy, it's a business, but for Billy and Jo, it's a labour of love. As the competition between Tommy and Billy grows more fierce, the stakes become higher and the \"shopping\" trips increasingly risky. \n",
      "\n",
      "\t Score: 0.5\n"
     ]
    }
   ],
   "source": [
    "pairs = []\n",
    "for i in range(cosine_scores_movies.shape[0]):\n",
    "    for j in range(cosine_scores_movies.shape[1]):\n",
    "        if i != j and cosine_scores_movies[i][j] < 1.0:\n",
    "            pairs.append({\"index\": [i, j], \"score\": cosine_scores_movies[i][j]})\n",
    "\n",
    "# Sort scores in decreasing order\n",
    "pairs = sorted(pairs, key=lambda x: x[\"score\"], reverse=True)\n",
    "\n",
    "for pair in pairs[0:3]:\n",
    "    i, j = pair[\"index\"]\n",
    "    print(\"{} \\t \\n\\n{} \\n\\n\\t Score: {:.1f}\".format(\n",
    "        all_overviews[i], all_overviews[j], pair[\"score\"]\n",
    "    ))"
   ]
  },
  {
   "cell_type": "code",
   "execution_count": null,
   "id": "c0b7afee-2ae6-459f-82ae-9557a8aeeaca",
   "metadata": {},
   "outputs": [],
   "source": []
  }
 ],
 "metadata": {
  "kernelspec": {
   "display_name": "Python 3 (ipykernel)",
   "language": "python",
   "name": "python3"
  },
  "language_info": {
   "codemirror_mode": {
    "name": "ipython",
    "version": 3
   },
   "file_extension": ".py",
   "mimetype": "text/x-python",
   "name": "python",
   "nbconvert_exporter": "python",
   "pygments_lexer": "ipython3",
   "version": "3.11.4"
  }
 },
 "nbformat": 4,
 "nbformat_minor": 5
}
