{
 "cells": [
  {
   "cell_type": "code",
   "execution_count": 1,
   "metadata": {},
   "outputs": [],
   "source": [
    "import pandas as pd \n",
    "import numpy as np "
   ]
  },
  {
   "cell_type": "code",
   "execution_count": 6,
   "metadata": {},
   "outputs": [],
   "source": [
    "order_products_train = pd.read_csv('../../instacart dataset/order_products__train.csv')\n",
    "order_products_prior = pd.read_csv('../../instacart dataset/order_products__prior.csv')\n",
    "departments = pd.read_csv('../../instacart dataset/departments.csv')\n",
    "sample_submission = pd.read_csv('../../instacart dataset/sample_submission.csv')\n",
    "orders = pd.read_csv('../../instacart dataset/orders.csv')\n",
    "products = pd.read_csv('../../instacart dataset/products_.csv')\n",
    "aisles = pd.read_csv('../../instacart dataset/aisles.csv')\n"
   ]
  },
  {
   "cell_type": "code",
   "execution_count": 11,
   "metadata": {},
   "outputs": [
    {
     "name": "stdout",
     "output_type": "stream",
     "text": [
      "   order_id  product_id  add_to_cart_order  reordered\n",
      "0         1       49302                  1          1\n",
      "   order_id  product_id  add_to_cart_order  reordered\n",
      "0         2       33120                  1          1\n",
      "   department_id department\n",
      "0              1     frozen\n",
      "   order_id  user_id eval_set  order_number  order_dow  order_hour_of_day  \\\n",
      "0   2539329        1    prior             1          2                  8   \n",
      "\n",
      "   days_since_prior_order  \n",
      "0                     NaN  \n",
      "   product_id                product_name  aisle_id  department_id\n",
      "0           1  Chocolate Sandwich Cookies        61             19\n",
      "   aisle_id                  aisle\n",
      "0         1  prepared soups salads\n"
     ]
    }
   ],
   "source": [
    "print(order_products_train.head(1))\n",
    "print(order_products_prior.head(1))\n",
    "print(departments.head(1))\n",
    "print(orders.head(1))\n",
    "print(products.head(1))\n",
    "print(aisles.head(1))"
   ]
  },
  {
   "cell_type": "code",
   "execution_count": 14,
   "metadata": {},
   "outputs": [
    {
     "name": "stdout",
     "output_type": "stream",
     "text": [
      "Looking into the dataframe aisles:\n",
      "aisle_id    0\n",
      "aisle       0\n",
      "dtype: int64\n",
      "Looking into the dataframe order_products_train:\n",
      "order_id             0\n",
      "product_id           0\n",
      "add_to_cart_order    0\n",
      "reordered            0\n",
      "dtype: int64\n",
      "Looking into the dataframe order_products_prior:\n",
      "order_id             0\n",
      "product_id           0\n",
      "add_to_cart_order    0\n",
      "reordered            0\n",
      "dtype: int64\n",
      "Looking into the dataframe departments:\n",
      "department_id    0\n",
      "department       0\n",
      "dtype: int64\n"
     ]
    }
   ],
   "source": [
    "print(\"Looking into the dataframe aisles:\")\n",
    "print(aisles.isnull().sum())\n",
    "print(\"Looking into the dataframe order_products_train:\")\n",
    "print(order_products_train.isnull().sum())\n",
    "print(\"Looking into the dataframe order_products_prior:\")\n",
    "print(order_products_prior.isnull().sum())\n",
    "print(\"Looking into the dataframe departments:\")\n",
    "print(departments.isnull().sum())"
   ]
  },
  {
   "cell_type": "code",
   "execution_count": 15,
   "metadata": {},
   "outputs": [
    {
     "name": "stdout",
     "output_type": "stream",
     "text": [
      "Looking into the dataframe orders:\n",
      "order_id                       0\n",
      "user_id                        0\n",
      "eval_set                       0\n",
      "order_number                   0\n",
      "order_dow                      0\n",
      "order_hour_of_day              0\n",
      "days_since_prior_order    206209\n",
      "dtype: int64\n",
      "Looking into the dataframe products:\n",
      "product_id       0\n",
      "product_name     0\n",
      "aisle_id         0\n",
      "department_id    0\n",
      "dtype: int64\n"
     ]
    }
   ],
   "source": [
    "print(\"Looking into the dataframe orders:\")\n",
    "print(orders.isnull().sum())\n",
    "print(\"Looking into the dataframe products:\")\n",
    "print(products.isnull().sum())"
   ]
  },
  {
   "cell_type": "code",
   "execution_count": 16,
   "metadata": {},
   "outputs": [
    {
     "data": {
      "text/html": [
       "<div>\n",
       "<style scoped>\n",
       "    .dataframe tbody tr th:only-of-type {\n",
       "        vertical-align: middle;\n",
       "    }\n",
       "\n",
       "    .dataframe tbody tr th {\n",
       "        vertical-align: top;\n",
       "    }\n",
       "\n",
       "    .dataframe thead th {\n",
       "        text-align: right;\n",
       "    }\n",
       "</style>\n",
       "<table border=\"1\" class=\"dataframe\">\n",
       "  <thead>\n",
       "    <tr style=\"text-align: right;\">\n",
       "      <th></th>\n",
       "      <th>order_id</th>\n",
       "      <th>product_id</th>\n",
       "      <th>add_to_cart_order</th>\n",
       "      <th>reordered</th>\n",
       "    </tr>\n",
       "  </thead>\n",
       "  <tbody>\n",
       "    <tr>\n",
       "      <th>0</th>\n",
       "      <td>2</td>\n",
       "      <td>33120</td>\n",
       "      <td>1</td>\n",
       "      <td>1</td>\n",
       "    </tr>\n",
       "    <tr>\n",
       "      <th>1</th>\n",
       "      <td>2</td>\n",
       "      <td>28985</td>\n",
       "      <td>2</td>\n",
       "      <td>1</td>\n",
       "    </tr>\n",
       "    <tr>\n",
       "      <th>2</th>\n",
       "      <td>2</td>\n",
       "      <td>9327</td>\n",
       "      <td>3</td>\n",
       "      <td>0</td>\n",
       "    </tr>\n",
       "    <tr>\n",
       "      <th>3</th>\n",
       "      <td>2</td>\n",
       "      <td>45918</td>\n",
       "      <td>4</td>\n",
       "      <td>1</td>\n",
       "    </tr>\n",
       "    <tr>\n",
       "      <th>4</th>\n",
       "      <td>2</td>\n",
       "      <td>30035</td>\n",
       "      <td>5</td>\n",
       "      <td>0</td>\n",
       "    </tr>\n",
       "  </tbody>\n",
       "</table>\n",
       "</div>"
      ],
      "text/plain": [
       "   order_id  product_id  add_to_cart_order  reordered\n",
       "0         2       33120                  1          1\n",
       "1         2       28985                  2          1\n",
       "2         2        9327                  3          0\n",
       "3         2       45918                  4          1\n",
       "4         2       30035                  5          0"
      ]
     },
     "execution_count": 16,
     "metadata": {},
     "output_type": "execute_result"
    }
   ],
   "source": [
    "order_products_prior.head()"
   ]
  },
  {
   "cell_type": "code",
   "execution_count": 65,
   "metadata": {},
   "outputs": [
    {
     "data": {
      "text/plain": [
       "order_id\n",
       "1          [Bulgarian Yogurt, Organic 4% Milk Fat Whole M...\n",
       "36         [Grated Pecorino Romano Cheese, Spring Water, ...\n",
       "38         [Shelled Pistachios, Organic Biologique Limes,...\n",
       "96         [Roasted Turkey, Organic Cucumber, Organic Gra...\n",
       "98         [Natural Spring Water, Organic Orange Juice Wi...\n",
       "                                 ...                        \n",
       "3421049    [Gluten Free Rice Bread, Organic Whole Grain W...\n",
       "3421056    [Total Plain Greek Strained Yogurt, Homestyle ...\n",
       "3421058    [Wine Infused Salame Cheese and Crackers Small...\n",
       "3421063    [Organic Half & Half, No Salt Added Gluten-Fre...\n",
       "3421070    [Organic Unsweetened Almond Milk, Creamy Peanu...\n",
       "Name: product_name, Length: 131209, dtype: object"
      ]
     },
     "execution_count": 65,
     "metadata": {},
     "output_type": "execute_result"
    }
   ],
   "source": [
    "transac = order_products_train.merge(products, on=\"product_id\", how=\"left\")\n",
    "transac = transac.groupby('order_id')[\"product_name\"].unique()\n",
    "transac "
   ]
  },
  {
   "cell_type": "code",
   "execution_count": 78,
   "metadata": {},
   "outputs": [],
   "source": [
    "from apyori import apriori "
   ]
  },
  {
   "cell_type": "code",
   "execution_count": 143,
   "metadata": {},
   "outputs": [],
   "source": [
    "# apriori rules \n",
    "rules = apriori(transactions = transac, min_support = 0.003, min_confidence = 0.2, min_lift = 3, min_length = 2, max_length = 6)\n",
    "rules = list(rules)"
   ]
  },
  {
   "cell_type": "code",
   "execution_count": 144,
   "metadata": {},
   "outputs": [
    {
     "data": {
      "text/html": [
       "<div>\n",
       "<style scoped>\n",
       "    .dataframe tbody tr th:only-of-type {\n",
       "        vertical-align: middle;\n",
       "    }\n",
       "\n",
       "    .dataframe tbody tr th {\n",
       "        vertical-align: top;\n",
       "    }\n",
       "\n",
       "    .dataframe thead th {\n",
       "        text-align: right;\n",
       "    }\n",
       "</style>\n",
       "<table border=\"1\" class=\"dataframe\">\n",
       "  <thead>\n",
       "    <tr style=\"text-align: right;\">\n",
       "      <th></th>\n",
       "      <th>Item #1</th>\n",
       "      <th>Item #2</th>\n",
       "      <th>Support</th>\n",
       "      <th>Confidence</th>\n",
       "      <th>Lift</th>\n",
       "    </tr>\n",
       "  </thead>\n",
       "  <tbody>\n",
       "    <tr>\n",
       "      <th>0</th>\n",
       "      <td>Organic Navel Orange</td>\n",
       "      <td>Bag of Organic Bananas</td>\n",
       "      <td>0.005526</td>\n",
       "      <td>0.366162</td>\n",
       "      <td>3.103598</td>\n",
       "    </tr>\n",
       "    <tr>\n",
       "      <th>1</th>\n",
       "      <td>Bunched Cilantro</td>\n",
       "      <td>Large Lemon</td>\n",
       "      <td>0.003132</td>\n",
       "      <td>0.214063</td>\n",
       "      <td>3.452603</td>\n",
       "    </tr>\n",
       "    <tr>\n",
       "      <th>2</th>\n",
       "      <td>Bunched Cilantro</td>\n",
       "      <td>Limes</td>\n",
       "      <td>0.004253</td>\n",
       "      <td>0.290625</td>\n",
       "      <td>6.320672</td>\n",
       "    </tr>\n",
       "    <tr>\n",
       "      <th>3</th>\n",
       "      <td>Garlic</td>\n",
       "      <td>Large Lemon</td>\n",
       "      <td>0.003376</td>\n",
       "      <td>0.230729</td>\n",
       "      <td>3.721419</td>\n",
       "    </tr>\n",
       "    <tr>\n",
       "      <th>4</th>\n",
       "      <td>Jalapeno Peppers</td>\n",
       "      <td>Limes</td>\n",
       "      <td>0.004169</td>\n",
       "      <td>0.288046</td>\n",
       "      <td>6.264590</td>\n",
       "    </tr>\n",
       "  </tbody>\n",
       "</table>\n",
       "</div>"
      ],
      "text/plain": [
       "                Item #1                 Item #2   Support  Confidence  \\\n",
       "0  Organic Navel Orange  Bag of Organic Bananas  0.005526    0.366162   \n",
       "1      Bunched Cilantro             Large Lemon  0.003132    0.214063   \n",
       "2      Bunched Cilantro                   Limes  0.004253    0.290625   \n",
       "3                Garlic             Large Lemon  0.003376    0.230729   \n",
       "4      Jalapeno Peppers                   Limes  0.004169    0.288046   \n",
       "\n",
       "       Lift  \n",
       "0  3.103598  \n",
       "1  3.452603  \n",
       "2  6.320672  \n",
       "3  3.721419  \n",
       "4  6.264590  "
      ]
     },
     "execution_count": 144,
     "metadata": {},
     "output_type": "execute_result"
    }
   ],
   "source": [
    "def inspect(results):\n",
    "    '''\n",
    "    function to put the result in well organised pandas dataframe\n",
    "    '''\n",
    "    lhs         = [tuple(result[2][0][0])[0] for result in results]\n",
    "    rhs         = [tuple(result[2][0][1])[0] for result in results]\n",
    "    supports    = [result[1] for result in results]\n",
    "    confidences = [result[2][0][2] for result in results]\n",
    "    lifts       = [result[2][0][3] for result in results]\n",
    "    return list(zip(lhs, rhs, supports, confidences, lifts))\n",
    "\n",
    "resultsinDataFrame = pd.DataFrame(inspect(rules), columns = ['Item #1', 'Item #2', 'Support', 'Confidence', 'Lift'])\n",
    "resultsinDataFrame.head()"
   ]
  },
  {
   "cell_type": "code",
   "execution_count": 147,
   "metadata": {},
   "outputs": [
    {
     "name": "stdout",
     "output_type": "stream",
     "text": [
      "Top 3 recommendations based on purchase of Banana :\n",
      "            Item #2  Confidence      Lift\n",
      "29  Organic Avocado    0.242000  4.285677\n",
      "28  Organic Avocado    0.221038  3.914452\n",
      "27            Limes    0.209453  4.555303\n"
     ]
    }
   ],
   "source": [
    "def recommend_next_products(current_product, num_recommendations=3):\n",
    "    '''\n",
    "    Recommends next products based on the current product\n",
    "    '''\n",
    "    recommendations = resultsinDataFrame[resultsinDataFrame['Item #1'] == current_product]\n",
    "    recommendations = recommendations.sort_values(by='Confidence', ascending=False)\n",
    "    recommendations = recommendations.head(num_recommendations)\n",
    "    # print(f'Recommendations are {resultsinDataFrame}')\n",
    "    return recommendations[['Item #2', 'Confidence', 'Lift']]\n",
    "\n",
    "# choosing any random product \n",
    "current_product = 'Banana'\n",
    "# current_product = 'Large Lemon'\n",
    "num_recommendations = 3\n",
    "next_products = recommend_next_products(current_product, num_recommendations)\n",
    "print(\"Top\", num_recommendations, \"recommendations based on purchase of\", current_product, \":\")\n",
    "print(next_products)"
   ]
  },
  {
   "cell_type": "code",
   "execution_count": null,
   "metadata": {},
   "outputs": [],
   "source": []
  },
  {
   "cell_type": "code",
   "execution_count": null,
   "metadata": {},
   "outputs": [],
   "source": []
  }
 ],
 "metadata": {
  "kernelspec": {
   "display_name": "fuse_env",
   "language": "python",
   "name": "python3"
  },
  "language_info": {
   "codemirror_mode": {
    "name": "ipython",
    "version": 3
   },
   "file_extension": ".py",
   "mimetype": "text/x-python",
   "name": "python",
   "nbconvert_exporter": "python",
   "pygments_lexer": "ipython3",
   "version": "3.11.4"
  }
 },
 "nbformat": 4,
 "nbformat_minor": 2
}
