{
 "cells": [
  {
   "cell_type": "code",
   "execution_count": 1,
   "id": "9b034785-f785-4af1-b91e-6817709d3961",
   "metadata": {},
   "outputs": [],
   "source": [
    "import pandas as pd \n",
    "import numpy as np "
   ]
  },
  {
   "cell_type": "code",
   "execution_count": 4,
   "id": "ae9225f7-b75a-4371-818c-110b8e9fe7a5",
   "metadata": {},
   "outputs": [
    {
     "data": {
      "text/plain": [
       "Index(['adult', 'belongs_to_collection', 'budget', 'genres', 'homepage', 'id',\n",
       "       'imdb_id', 'original_language', 'original_title', 'overview',\n",
       "       'popularity', 'poster_path', 'production_companies',\n",
       "       'production_countries', 'release_date', 'revenue', 'runtime',\n",
       "       'spoken_languages', 'status', 'tagline', 'title', 'video',\n",
       "       'vote_average', 'vote_count'],\n",
       "      dtype='object')"
      ]
     },
     "execution_count": 4,
     "metadata": {},
     "output_type": "execute_result"
    }
   ],
   "source": [
    "# loading the dataset \n",
    "movies_df = pd.read_csv('../../movie_dataset/movies_metadata.csv', low_memory=False)\n",
    "movies_df.columns "
   ]
  },
  {
   "cell_type": "code",
   "execution_count": 5,
   "id": "12662e60-123c-4af4-808e-eac69871bcdc",
   "metadata": {},
   "outputs": [
    {
     "data": {
      "text/plain": [
       "(          title\n",
       " id             \n",
       " 862   Toy Story\n",
       " 8844    Jumanji,\n",
       "              id\n",
       " title          \n",
       " Toy Story   862\n",
       " Jumanji    8844)"
      ]
     },
     "execution_count": 5,
     "metadata": {},
     "output_type": "execute_result"
    }
   ],
   "source": [
    "# creating a df with only movie id and the title \n",
    "id_map = movies_df[['id', 'title']]\n",
    "id_to_title = id_map.set_index('id')\n",
    "title_to_id = id_map.set_index('title')\n",
    "id_to_title.head(2), title_to_id.head(2)"
   ]
  },
  {
   "cell_type": "code",
   "execution_count": 13,
   "id": "b184cd4e-aac1-47cf-b1bc-082cf267bae4",
   "metadata": {},
   "outputs": [],
   "source": [
    "from surprise import SVD, Reader, Dataset \n",
    "import surprise "
   ]
  },
  {
   "cell_type": "code",
   "execution_count": 14,
   "id": "9fa806ac-2c03-4376-99b9-eeb247122541",
   "metadata": {},
   "outputs": [
    {
     "data": {
      "text/plain": [
       "<surprise.prediction_algorithms.matrix_factorization.SVD at 0x16289df2990>"
      ]
     },
     "execution_count": 14,
     "metadata": {},
     "output_type": "execute_result"
    }
   ],
   "source": [
    "reader = Reader()\n",
    "ratings = pd.read_csv('../../movie_dataset/ratings_small.csv')\n",
    "data = Dataset.load_from_df(ratings[['userId', 'movieId', 'rating']],reader)\n",
    "\n",
    "svd = SVD()\n",
    "svd "
   ]
  },
  {
   "cell_type": "code",
   "execution_count": 21,
   "id": "93ba0b6a-b1db-4fc1-9173-55d39e22fac9",
   "metadata": {},
   "outputs": [
    {
     "name": "stdout",
     "output_type": "stream",
     "text": [
      "<class 'pandas.core.frame.DataFrame'>\n",
      "RangeIndex: 100004 entries, 0 to 100003\n",
      "Data columns (total 4 columns):\n",
      " #   Column     Non-Null Count   Dtype  \n",
      "---  ------     --------------   -----  \n",
      " 0   userId     100004 non-null  int64  \n",
      " 1   movieId    100004 non-null  int64  \n",
      " 2   rating     100004 non-null  float64\n",
      " 3   timestamp  100004 non-null  int64  \n",
      "dtypes: float64(1), int64(3)\n",
      "memory usage: 3.1 MB\n"
     ]
    },
    {
     "data": {
      "text/plain": [
       "(   userId  movieId  rating   timestamp\n",
       " 0       1       31     2.5  1260759144\n",
       " 1       1     1029     3.0  1260759179,\n",
       " None)"
      ]
     },
     "execution_count": 21,
     "metadata": {},
     "output_type": "execute_result"
    }
   ],
   "source": [
    "ratings.head(2) , ratings.info() "
   ]
  },
  {
   "cell_type": "code",
   "execution_count": 15,
   "id": "b0044049-1c3f-4627-87d5-098aaedf2415",
   "metadata": {},
   "outputs": [
    {
     "data": {
      "text/plain": [
       "{'test_rmse': array([0.90100891, 0.8952684 , 0.89293555, 0.90409824, 0.88824767]),\n",
       " 'fit_time': (0.7699284553527832,\n",
       "  0.6979999542236328,\n",
       "  0.7541947364807129,\n",
       "  0.7191648483276367,\n",
       "  0.7028579711914062),\n",
       " 'test_time': (0.10700106620788574,\n",
       "  0.10224461555480957,\n",
       "  0.05728936195373535,\n",
       "  0.061135292053222656,\n",
       "  0.05694127082824707)}"
      ]
     },
     "execution_count": 15,
     "metadata": {},
     "output_type": "execute_result"
    }
   ],
   "source": [
    "surprise.model_selection.cross_validate(svd, data, measures = [\"RMSE\"], cv=5)"
   ]
  },
  {
   "cell_type": "code",
   "execution_count": 18,
   "id": "a1a4bd50-9c82-444b-97b6-5fd57d5f47f0",
   "metadata": {},
   "outputs": [
    {
     "data": {
      "text/plain": [
       "<surprise.prediction_algorithms.matrix_factorization.SVD at 0x16289df2990>"
      ]
     },
     "execution_count": 18,
     "metadata": {},
     "output_type": "execute_result"
    }
   ],
   "source": [
    "\n",
    "trainset = data.build_full_trainset()\n",
    "svd.fit(trainset)\n"
   ]
  },
  {
   "cell_type": "code",
   "execution_count": 22,
   "id": "7a6e9ac2-f2d9-4383-a3b0-6578bd0d5a97",
   "metadata": {},
   "outputs": [
    {
     "data": {
      "text/plain": [
       "2.699173969889621"
      ]
     },
     "execution_count": 22,
     "metadata": {},
     "output_type": "execute_result"
    }
   ],
   "source": [
    "svd.predict(1,856).est "
   ]
  },
  {
   "cell_type": "code",
   "execution_count": 23,
   "id": "ca58b05f-3600-4f88-a0d5-2d8efd0ec405",
   "metadata": {},
   "outputs": [
    {
     "data": {
      "text/plain": [
       "(46628, 46628)"
      ]
     },
     "execution_count": 23,
     "metadata": {},
     "output_type": "execute_result"
    }
   ],
   "source": [
    "# loading the cosine similarity of the movies\n",
    "import pickle \n",
    "\n",
    "with open(\"cosine_sim.pkl\", \"rb\") as f: \n",
    "    cosine_sim = pickle.load(f) \n",
    "\n",
    "cosine_sim.shape "
   ]
  },
  {
   "cell_type": "code",
   "execution_count": 25,
   "id": "b62836ba-f82f-47c1-a84e-18bf3f69b46c",
   "metadata": {},
   "outputs": [
    {
     "data": {
      "text/plain": [
       "(46628,)"
      ]
     },
     "execution_count": 25,
     "metadata": {},
     "output_type": "execute_result"
    }
   ],
   "source": [
    "with open(\"indices.pkl\", \"rb\") as f: \n",
    "    indices_cont = pickle.load(f) \n",
    "indices_cont.shape "
   ]
  },
  {
   "cell_type": "code",
   "execution_count": null,
   "id": "a76e3e9c-9e55-44de-9aea-d7b88bad891e",
   "metadata": {},
   "outputs": [],
   "source": []
  },
  {
   "cell_type": "code",
   "execution_count": 37,
   "id": "3e289acf-6d30-4027-b506-46d4faad6fb5",
   "metadata": {},
   "outputs": [],
   "source": [
    "def content_recommender(title, cosine_sim=cosine_sim, df=movies_df,indices=indices_cont, top_n = 20):\n",
    "    idx = indices[title]\n",
    "    sim_scores = list(enumerate(cosine_sim[idx]))\n",
    "    try:\n",
    "        sim_scores = sorted(sim_scores, key=lambda x: x[1], reverse=True)\n",
    "    except:\n",
    "        pass         \n",
    "    # top n movies \n",
    "    sim_scores = sim_scores[1:top_n]\n",
    "    movie_indices = [i[0] for i in sim_scores]\n",
    "    \n",
    "    return df['title'].iloc[movie_indices].tolist()"
   ]
  },
  {
   "cell_type": "code",
   "execution_count": 38,
   "id": "a005a1ed-f08c-4023-9fef-c8a655c87d9b",
   "metadata": {},
   "outputs": [
    {
     "data": {
      "text/plain": [
       "['It Takes Two',\n",
       " 'Balto',\n",
       " 'Now and Then',\n",
       " 'Father of the Bride Part II',\n",
       " 'Othello',\n",
       " 'Sabrina',\n",
       " 'Restoration',\n",
       " 'Grumpier Old Men',\n",
       " 'Waiting to Exhale']"
      ]
     },
     "execution_count": 38,
     "metadata": {},
     "output_type": "execute_result"
    }
   ],
   "source": [
    "content_recommender('Toy Story', cosine_sim, movies_df,indices_cont,10) "
   ]
  },
  {
   "cell_type": "code",
   "execution_count": 36,
   "id": "2491efad-74cd-4e96-9143-a29662bc1472",
   "metadata": {},
   "outputs": [
    {
     "data": {
      "text/plain": [
       "'It Takes Two'"
      ]
     },
     "execution_count": 36,
     "metadata": {},
     "output_type": "execute_result"
    }
   ],
   "source": [
    "movies_df['title'].iloc[37]"
   ]
  },
  {
   "cell_type": "code",
   "execution_count": 56,
   "id": "4532416a-dbec-4338-a3ae-72b024af2b60",
   "metadata": {},
   "outputs": [],
   "source": [
    "# using cosine sim for movies list with similar content \n",
    "## then using svd for collaborative recommendation \n",
    "\n",
    "def hybrid_recommend(user_id, title,svd, cosine_sim, movies_df, indices_cont, top_n = 10): \n",
    "    # using content based rec\n",
    "    top_movies_titles  = content_recommender(title, cosine_sim, movies_df, indices_cont, top_n)\n",
    "    \n",
    "    top_movies = []\n",
    "    \n",
    "    for i in top_movies_titles: \n",
    "        idx = movies_df.index[movies_df['title'] == i].tolist()[0]\n",
    "        \n",
    "        score = svd.predict(user_id, idx).est\n",
    "        top_movies.append((score, movies_df['title'].iloc[idx]))\n",
    "    \n",
    "    # Sort the recommendations based on SVD scores\n",
    "    top_movies.sort(reverse=True)\n",
    "    \n",
    "    return top_movies"
   ]
  },
  {
   "cell_type": "code",
   "execution_count": 58,
   "id": "f75bb893-08cd-4c68-b648-7509a9874d0e",
   "metadata": {},
   "outputs": [
    {
     "data": {
      "text/plain": [
       "[(3.9690322452128886, 'Jumanji'),\n",
       " (3.7694667419430368, 'Sense and Sensibility'),\n",
       " (3.7641787154535424, 'Nixon'),\n",
       " (3.7448179174551743, 'Now and Then'),\n",
       " (3.6917628738631443, 'Dracula: Dead and Loving It'),\n",
       " (3.6622675075760456, 'Sabrina'),\n",
       " (3.6274706306659525, 'Four Rooms'),\n",
       " (3.569372741708889, 'Othello'),\n",
       " (3.565795965448871, 'Copycat'),\n",
       " (3.478722564019268, 'Clueless'),\n",
       " (3.4760037101124546, 'Sudden Death'),\n",
       " (3.4498802678192892, 'Babe'),\n",
       " (3.428055087036806, 'Pocahontas'),\n",
       " (3.427317232634702, 'Heat'),\n",
       " (3.4113229862482273, 'Grumpier Old Men'),\n",
       " (3.399265274908767, 'Cutthroat Island'),\n",
       " (3.363268264300846, 'It Takes Two'),\n",
       " (3.3106186435903693, 'Ace Ventura: When Nature Calls'),\n",
       " (3.268206224546398, 'Tom and Huck'),\n",
       " (3.2015637369332834, 'The American President'),\n",
       " (3.1755474277389197, 'GoldenEye'),\n",
       " (3.1316981716249863, 'Waiting to Exhale'),\n",
       " (2.9533535648647358, 'To Die For'),\n",
       " (2.9476961034649656, 'Balto'),\n",
       " (2.8108823960505642, 'Money Train'),\n",
       " (2.7614474950144574, 'Casino'),\n",
       " (2.6265464198544146, 'Restoration'),\n",
       " (2.613165283426188, 'Get Shorty'),\n",
       " (2.4065736343086543, 'Father of the Bride Part II')]"
      ]
     },
     "execution_count": 58,
     "metadata": {},
     "output_type": "execute_result"
    }
   ],
   "source": [
    "hybrid_recommend(13, 'Toy Story', svd, cosine_sim, movies_df, indices_cont, top_n=30)"
   ]
  },
  {
   "cell_type": "code",
   "execution_count": null,
   "id": "2b2fa3a5-0303-4251-a34e-364df09d3a28",
   "metadata": {},
   "outputs": [],
   "source": []
  }
 ],
 "metadata": {
  "kernelspec": {
   "display_name": "Python 3 (ipykernel)",
   "language": "python",
   "name": "python3"
  },
  "language_info": {
   "codemirror_mode": {
    "name": "ipython",
    "version": 3
   },
   "file_extension": ".py",
   "mimetype": "text/x-python",
   "name": "python",
   "nbconvert_exporter": "python",
   "pygments_lexer": "ipython3",
   "version": "3.11.4"
  }
 },
 "nbformat": 4,
 "nbformat_minor": 5
}
