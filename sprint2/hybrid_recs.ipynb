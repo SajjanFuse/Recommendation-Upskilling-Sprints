{
 "cells": [
  {
   "cell_type": "code",
   "execution_count": 72,
   "id": "9b034785-f785-4af1-b91e-6817709d3961",
   "metadata": {},
   "outputs": [],
   "source": [
    "import pandas as pd \n",
    "import numpy as np \n",
    "import random "
   ]
  },
  {
   "cell_type": "code",
   "execution_count": 16,
   "id": "ae9225f7-b75a-4371-818c-110b8e9fe7a5",
   "metadata": {},
   "outputs": [
    {
     "data": {
      "text/plain": [
       "Index(['adult', 'belongs_to_collection', 'budget', 'genres', 'homepage', 'id',\n",
       "       'imdb_id', 'original_language', 'original_title', 'overview',\n",
       "       'popularity', 'poster_path', 'production_companies',\n",
       "       'production_countries', 'release_date', 'revenue', 'runtime',\n",
       "       'spoken_languages', 'status', 'tagline', 'title', 'video',\n",
       "       'vote_average', 'vote_count'],\n",
       "      dtype='object')"
      ]
     },
     "execution_count": 16,
     "metadata": {},
     "output_type": "execute_result"
    }
   ],
   "source": [
    "# loading the dataset \n",
    "movies_df = pd.read_csv('../../movie_dataset/movies_metadata.csv', low_memory=False)\n",
    "movies_df.columns "
   ]
  },
  {
   "cell_type": "code",
   "execution_count": 17,
   "id": "12662e60-123c-4af4-808e-eac69871bcdc",
   "metadata": {},
   "outputs": [
    {
     "data": {
      "text/plain": [
       "(          title\n",
       " id             \n",
       " 862   Toy Story\n",
       " 8844    Jumanji,\n",
       "              id\n",
       " title          \n",
       " Toy Story   862\n",
       " Jumanji    8844)"
      ]
     },
     "execution_count": 17,
     "metadata": {},
     "output_type": "execute_result"
    }
   ],
   "source": [
    "# creating a df with only movie id and the title \n",
    "id_map = movies_df[['id', 'title']]\n",
    "id_to_title = id_map.set_index('id')\n",
    "title_to_id = id_map.set_index('title')\n",
    "id_to_title.head(2), title_to_id.head(2)"
   ]
  },
  {
   "cell_type": "code",
   "execution_count": 18,
   "id": "b184cd4e-aac1-47cf-b1bc-082cf267bae4",
   "metadata": {},
   "outputs": [],
   "source": [
    "from surprise import SVD, Reader, Dataset \n",
    "import surprise "
   ]
  },
  {
   "cell_type": "code",
   "execution_count": 19,
   "id": "9fa806ac-2c03-4376-99b9-eeb247122541",
   "metadata": {},
   "outputs": [
    {
     "data": {
      "text/plain": [
       "<surprise.prediction_algorithms.matrix_factorization.SVD at 0x2162d2dd910>"
      ]
     },
     "execution_count": 19,
     "metadata": {},
     "output_type": "execute_result"
    }
   ],
   "source": [
    "reader = Reader()\n",
    "ratings = pd.read_csv('../../movie_dataset/ratings_small.csv')\n",
    "data = Dataset.load_from_df(ratings[['userId', 'movieId', 'rating']],reader)\n",
    "\n",
    "svd = SVD()\n",
    "svd "
   ]
  },
  {
   "cell_type": "code",
   "execution_count": 20,
   "id": "93ba0b6a-b1db-4fc1-9173-55d39e22fac9",
   "metadata": {},
   "outputs": [
    {
     "name": "stdout",
     "output_type": "stream",
     "text": [
      "<class 'pandas.core.frame.DataFrame'>\n",
      "RangeIndex: 100004 entries, 0 to 100003\n",
      "Data columns (total 4 columns):\n",
      " #   Column     Non-Null Count   Dtype  \n",
      "---  ------     --------------   -----  \n",
      " 0   userId     100004 non-null  int64  \n",
      " 1   movieId    100004 non-null  int64  \n",
      " 2   rating     100004 non-null  float64\n",
      " 3   timestamp  100004 non-null  int64  \n",
      "dtypes: float64(1), int64(3)\n",
      "memory usage: 3.1 MB\n"
     ]
    },
    {
     "data": {
      "text/plain": [
       "(   userId  movieId  rating   timestamp\n",
       " 0       1       31     2.5  1260759144\n",
       " 1       1     1029     3.0  1260759179,\n",
       " None)"
      ]
     },
     "execution_count": 20,
     "metadata": {},
     "output_type": "execute_result"
    }
   ],
   "source": [
    "ratings.head(2) , ratings.info() "
   ]
  },
  {
   "cell_type": "code",
   "execution_count": 21,
   "id": "b0044049-1c3f-4627-87d5-098aaedf2415",
   "metadata": {},
   "outputs": [
    {
     "data": {
      "text/plain": [
       "{'test_rmse': array([0.90660804, 0.8957668 , 0.89732883, 0.89175318, 0.8919353 ]),\n",
       " 'fit_time': (2.7585561275482178,\n",
       "  2.81941294670105,\n",
       "  2.9234230518341064,\n",
       "  2.8841300010681152,\n",
       "  2.870241403579712),\n",
       " 'test_time': (0.29331183433532715,\n",
       "  0.616814374923706,\n",
       "  0.2983400821685791,\n",
       "  0.2945382595062256,\n",
       "  0.5261836051940918)}"
      ]
     },
     "execution_count": 21,
     "metadata": {},
     "output_type": "execute_result"
    }
   ],
   "source": [
    "surprise.model_selection.cross_validate(svd, data, measures = [\"RMSE\"], cv=5)"
   ]
  },
  {
   "cell_type": "code",
   "execution_count": 22,
   "id": "a1a4bd50-9c82-444b-97b6-5fd57d5f47f0",
   "metadata": {},
   "outputs": [
    {
     "data": {
      "text/plain": [
       "<surprise.prediction_algorithms.matrix_factorization.SVD at 0x2162d2dd910>"
      ]
     },
     "execution_count": 22,
     "metadata": {},
     "output_type": "execute_result"
    }
   ],
   "source": [
    "\n",
    "trainset = data.build_full_trainset()\n",
    "svd.fit(trainset)\n"
   ]
  },
  {
   "cell_type": "code",
   "execution_count": 23,
   "id": "4da5398a-8f9c-4757-b378-fa8dd09fb61a",
   "metadata": {},
   "outputs": [],
   "source": [
    "import pickle \n",
    "\n",
    "with open(\"svd.pkl\", \"wb\") as f: \n",
    "    pickle.dump(svd, f) "
   ]
  },
  {
   "cell_type": "code",
   "execution_count": 24,
   "id": "7a6e9ac2-f2d9-4383-a3b0-6578bd0d5a97",
   "metadata": {},
   "outputs": [
    {
     "data": {
      "text/plain": [
       "2.6511383807318225"
      ]
     },
     "execution_count": 24,
     "metadata": {},
     "output_type": "execute_result"
    }
   ],
   "source": [
    "svd.predict(1,856).est "
   ]
  },
  {
   "cell_type": "code",
   "execution_count": 25,
   "id": "ca58b05f-3600-4f88-a0d5-2d8efd0ec405",
   "metadata": {},
   "outputs": [
    {
     "data": {
      "text/plain": [
       "(46628, 46628)"
      ]
     },
     "execution_count": 25,
     "metadata": {},
     "output_type": "execute_result"
    }
   ],
   "source": [
    "# loading the cosine similarity of the movies\n",
    "import pickle \n",
    "\n",
    "with open(\"cosine_sim.pkl\", \"rb\") as f: \n",
    "    cosine_sim = pickle.load(f) \n",
    "\n",
    "cosine_sim.shape "
   ]
  },
  {
   "cell_type": "code",
   "execution_count": 26,
   "id": "7f1368a8-b010-41dc-9384-d1667bf9ecd1",
   "metadata": {},
   "outputs": [
    {
     "data": {
      "text/plain": [
       "2.6511383807318225"
      ]
     },
     "execution_count": 26,
     "metadata": {},
     "output_type": "execute_result"
    }
   ],
   "source": [
    "import pickle \n",
    "\n",
    "with open(\"svd.pkl\", \"rb\") as f: \n",
    "    svd2 = pickle.load(f) \n",
    "svd2.predict(1,856).est "
   ]
  },
  {
   "cell_type": "code",
   "execution_count": 27,
   "id": "b62836ba-f82f-47c1-a84e-18bf3f69b46c",
   "metadata": {},
   "outputs": [
    {
     "data": {
      "text/plain": [
       "(46628,)"
      ]
     },
     "execution_count": 27,
     "metadata": {},
     "output_type": "execute_result"
    }
   ],
   "source": [
    "with open(\"indices.pkl\", \"rb\") as f: \n",
    "    indices_cont = pickle.load(f) \n",
    "indices_cont.shape "
   ]
  },
  {
   "cell_type": "code",
   "execution_count": null,
   "id": "a76e3e9c-9e55-44de-9aea-d7b88bad891e",
   "metadata": {},
   "outputs": [],
   "source": []
  },
  {
   "cell_type": "code",
   "execution_count": 28,
   "id": "3e289acf-6d30-4027-b506-46d4faad6fb5",
   "metadata": {},
   "outputs": [],
   "source": [
    "def content_recommender(title, cosine_sim=cosine_sim, df=movies_df,indices=indices_cont, top_n = 20):\n",
    "    idx = indices[title]\n",
    "    sim_scores = list(enumerate(cosine_sim[idx]))\n",
    "    try:\n",
    "        sim_scores = sorted(sim_scores, key=lambda x: x[1], reverse=True)\n",
    "    except:\n",
    "        pass         \n",
    "    # top n movies \n",
    "    sim_scores = sim_scores[1:top_n]\n",
    "    movie_indices = [i[0] for i in sim_scores]\n",
    "    \n",
    "    return df['title'].iloc[movie_indices].tolist()"
   ]
  },
  {
   "cell_type": "code",
   "execution_count": 29,
   "id": "a005a1ed-f08c-4023-9fef-c8a655c87d9b",
   "metadata": {},
   "outputs": [
    {
     "data": {
      "text/plain": [
       "['It Takes Two',\n",
       " 'Balto',\n",
       " 'Now and Then',\n",
       " 'Father of the Bride Part II',\n",
       " 'Othello',\n",
       " 'Sabrina',\n",
       " 'Restoration',\n",
       " 'Grumpier Old Men',\n",
       " 'Waiting to Exhale']"
      ]
     },
     "execution_count": 29,
     "metadata": {},
     "output_type": "execute_result"
    }
   ],
   "source": [
    "content_recommender('Toy Story', cosine_sim, movies_df,indices_cont,10) "
   ]
  },
  {
   "cell_type": "code",
   "execution_count": 30,
   "id": "2491efad-74cd-4e96-9143-a29662bc1472",
   "metadata": {},
   "outputs": [
    {
     "data": {
      "text/plain": [
       "'It Takes Two'"
      ]
     },
     "execution_count": 30,
     "metadata": {},
     "output_type": "execute_result"
    }
   ],
   "source": [
    "movies_df['title'].iloc[37]"
   ]
  },
  {
   "cell_type": "code",
   "execution_count": 32,
   "id": "c37ea70c-feac-4658-924b-b02034f5f108",
   "metadata": {},
   "outputs": [
    {
     "data": {
      "text/plain": [
       "(['Toy Story', 'Jumanji', 'Grumpier Old Men', 'Waiting to Exhale'], 45466)"
      ]
     },
     "execution_count": 32,
     "metadata": {},
     "output_type": "execute_result"
    }
   ],
   "source": [
    "movies_df['title'].tolist()[:4], len(movies_df['title'].tolist()) "
   ]
  },
  {
   "cell_type": "code",
   "execution_count": 73,
   "id": "7d53973d-d17a-4ebf-9f62-8a96001e585e",
   "metadata": {},
   "outputs": [],
   "source": [
    "def collaborative_recommend(user_id, movies_df, top_n = 10): \n",
    "    top_movies = [] \n",
    "    movies = random.sample(movies_df['title'].tolist(), 200)\n",
    "    for movie in movies:\n",
    "        try:\n",
    "            idx = movies_df.index[movies_df['title'] == movie].tolist()[0]\n",
    "        \n",
    "            score = svd.predict(user_id, idx).est \n",
    "            top_movies.append((score, movies_df['title'].iloc[idx]))\n",
    "        except: \n",
    "            continue \n",
    "    top_movies.sort(reverse=True)\n",
    "    return [movie[1] for movie in top_movies][:top_n] "
   ]
  },
  {
   "cell_type": "code",
   "execution_count": 75,
   "id": "062efe08-c464-490f-b836-0da6ce62a5df",
   "metadata": {},
   "outputs": [
    {
     "data": {
      "text/plain": [
       "['Sgt. Bilko',\n",
       " 'The Negotiator',\n",
       " 'The Woman Next Door',\n",
       " 'Wild Wild West',\n",
       " 'S.O.B.',\n",
       " 'Zardoz',\n",
       " 'Citizen Kane',\n",
       " 'Samurai Vendetta',\n",
       " 'JLG/JLG: Self-Portrait in December',\n",
       " 'The Impostors']"
      ]
     },
     "execution_count": 75,
     "metadata": {},
     "output_type": "execute_result"
    }
   ],
   "source": [
    "collaborative_recommend(109, movies_df) "
   ]
  },
  {
   "cell_type": "code",
   "execution_count": 81,
   "id": "4532416a-dbec-4338-a3ae-72b024af2b60",
   "metadata": {},
   "outputs": [],
   "source": [
    "# using cosine sim for movies list with similar content \n",
    "## then using svd for collaborative recommendation \n",
    "\n",
    "def hybrid_recommend(user_id, title,svd, cosine_sim, movies_df, indices_cont, top_n = 10): \n",
    "    # using content based rec\n",
    "    top_movies_titles  = content_recommender(title, cosine_sim, movies_df, indices_cont, top_n=100)\n",
    "    print(top_movies_titles) \n",
    "    top_movies = []\n",
    "    \n",
    "    for i in top_movies_titles: \n",
    "        idx = movies_df.index[movies_df['title'] == i].tolist()[0]\n",
    "        \n",
    "        score = svd.predict(user_id, idx).est\n",
    "        top_movies.append((score, movies_df['title'].iloc[idx]))\n",
    "    \n",
    "    # Sort the recommendations based on SVD scores\n",
    "    top_movies.sort(reverse=True)\n",
    "    \n",
    "    return top_movies"
   ]
  },
  {
   "cell_type": "code",
   "execution_count": 82,
   "id": "f75bb893-08cd-4c68-b648-7509a9874d0e",
   "metadata": {},
   "outputs": [
    {
     "name": "stdout",
     "output_type": "stream",
     "text": [
      "['Jumanji']\n"
     ]
    },
    {
     "data": {
      "text/plain": [
       "[(3.8934401625079516, 'Jumanji')]"
      ]
     },
     "execution_count": 82,
     "metadata": {},
     "output_type": "execute_result"
    }
   ],
   "source": [
    "hybrid_recommend(1984, 'Bed of Roses', svd, cosine_sim, movies_df, indices_cont, top_n=30)"
   ]
  },
  {
   "cell_type": "code",
   "execution_count": 83,
   "id": "2b2fa3a5-0303-4251-a34e-364df09d3a28",
   "metadata": {},
   "outputs": [
    {
     "data": {
      "text/plain": [
       "['Jumanji']"
      ]
     },
     "execution_count": 83,
     "metadata": {},
     "output_type": "execute_result"
    }
   ],
   "source": [
    "content_recommender('Bed of Roses') "
   ]
  },
  {
   "cell_type": "code",
   "execution_count": null,
   "id": "f4051545-eabf-41f3-9596-2b89f0fb927e",
   "metadata": {},
   "outputs": [],
   "source": []
  }
 ],
 "metadata": {
  "kernelspec": {
   "display_name": "Python 3 (ipykernel)",
   "language": "python",
   "name": "python3"
  },
  "language_info": {
   "codemirror_mode": {
    "name": "ipython",
    "version": 3
   },
   "file_extension": ".py",
   "mimetype": "text/x-python",
   "name": "python",
   "nbconvert_exporter": "python",
   "pygments_lexer": "ipython3",
   "version": "3.11.4"
  }
 },
 "nbformat": 4,
 "nbformat_minor": 5
}
