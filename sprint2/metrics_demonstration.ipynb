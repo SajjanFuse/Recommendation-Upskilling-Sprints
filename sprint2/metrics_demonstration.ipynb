{
 "cells": [
  {
   "cell_type": "code",
   "execution_count": 16,
   "id": "5c8bd134-c0ed-4663-9c56-a1274c11670c",
   "metadata": {},
   "outputs": [],
   "source": [
    "import numpy as np\n",
    "from collections import defaultdict"
   ]
  },
  {
   "cell_type": "code",
   "execution_count": 17,
   "id": "4eff0ac5-96f0-481d-a0ba-7ef59b0f275d",
   "metadata": {},
   "outputs": [],
   "source": [
    "def mean_average_precision(actual_interactions, predicted_interactions, k):\n",
    "    map_scores = []\n",
    "    for user_id, actual_items in actual_interactions.items():\n",
    "        if user_id in predicted_interactions:\n",
    "            predicted_items = [item[0] for item in predicted_interactions[user_id]][:k]\n",
    "            map_score = average_precision(actual_items, predicted_items, k)\n",
    "            map_scores.append(map_score)\n",
    "    return np.mean(map_scores)"
   ]
  },
  {
   "cell_type": "code",
   "execution_count": 18,
   "id": "790319e0-1e37-481a-938b-27ba9ac82659",
   "metadata": {},
   "outputs": [],
   "source": [
    "def average_precision(actual_items, predicted_items, k):\n",
    "    num_hits = 0\n",
    "    precision_at_k = []\n",
    "    for i, item in enumerate(predicted_items):\n",
    "        if item in actual_items:\n",
    "            num_hits += 1\n",
    "            precision_at_k.append(num_hits / (i + 1))\n",
    "    if not precision_at_k:\n",
    "        return 0\n",
    "    return np.sum(precision_at_k) / min(len(actual_items), k)"
   ]
  },
  {
   "cell_type": "code",
   "execution_count": 1,
   "id": "aa2a5c3d",
   "metadata": {},
   "outputs": [],
   "source": [
    "def discounted_cumulative_gain(actual_items, predicted_items, k):\n",
    "    dcg = 0\n",
    "    for i, item in enumerate(predicted_items):\n",
    "        if item in actual_items:\n",
    "            dcg += 1 / np.log2(i + 2)\n",
    "    return dcg\n",
    "\n",
    "def ideal_discounted_cumulative_gain(actual_items, k):\n",
    "    idcg = sum(1 / np.log2(i + 2) for i in range(min(len(actual_items), k)))\n",
    "    return idcg"
   ]
  },
  {
   "cell_type": "code",
   "execution_count": 19,
   "id": "d38a7290-6f9f-4b67-9a75-e715cee6fdd9",
   "metadata": {},
   "outputs": [],
   "source": [
    "def normalized_discounted_cumulative_gain(actual_interactions, predicted_interactions, k):\n",
    "    ndcg_scores = []\n",
    "    for user_id, actual_items in actual_interactions.items():\n",
    "        if user_id in predicted_interactions:\n",
    "            predicted_items = [item[0] for item in predicted_interactions[user_id]][:k]\n",
    "            ndcg_score = discounted_cumulative_gain(actual_items, predicted_items, k)\n",
    "            idcg_score = ideal_discounted_cumulative_gain(actual_items, k)\n",
    "            if idcg_score == 0:\n",
    "                ndcg_scores.append(0)\n",
    "            else:\n",
    "                ndcg_scores.append(ndcg_score / idcg_score)\n",
    "    return np.mean(ndcg_scores)"
   ]
  },
  {
   "cell_type": "code",
   "execution_count": 21,
   "id": "aee935b9-25ec-4347-9da4-015172ff84a5",
   "metadata": {},
   "outputs": [],
   "source": [
    "def coverage(predicted_interactions, catalog_size):\n",
    "    unique_items = set(item for sublist in predicted_interactions.values() for item, _ in sublist)\n",
    "    return len(unique_items) / catalog_size\n",
    "\n",
    "def novelty(predicted_interactions, item_popularity):\n",
    "    novelty_scores = []\n",
    "    for user_id, predictions in predicted_interactions.items():\n",
    "        user_novelty = 0\n",
    "        for item_id, _ in predictions:\n",
    "            user_novelty += item_popularity.get(item_id, 0)\n",
    "        novelty_scores.append(user_novelty / len(predictions))\n",
    "    return np.mean(novelty_scores)"
   ]
  },
  {
   "cell_type": "code",
   "execution_count": 22,
   "id": "b9ed066f-8cd3-45da-8534-7cf45f924ce3",
   "metadata": {},
   "outputs": [],
   "source": [
    "def mean_reciprocal_rank(actual_interactions, predicted_interactions):\n",
    "    rr_scores = []\n",
    "    for user_id, actual_items in actual_interactions.items():\n",
    "        if user_id in predicted_interactions:\n",
    "            predicted_items = [item[0] for item in predicted_interactions[user_id]]\n",
    "            rr_score = reciprocal_rank(actual_items, predicted_items)\n",
    "            rr_scores.append(rr_score)\n",
    "    return np.mean(rr_scores)\n",
    "\n",
    "def reciprocal_rank(actual_items, predicted_items):\n",
    "    for i, item in enumerate(predicted_items):\n",
    "        if item in actual_items:\n",
    "            return 1 / (i + 1)\n",
    "    return 0"
   ]
  },
  {
   "cell_type": "code",
   "execution_count": 27,
   "id": "289314f8-ea0e-41eb-a782-3b773602264a",
   "metadata": {},
   "outputs": [],
   "source": [
    "# Fake data \n",
    "num_users = 100\n",
    "num_items = 500\n",
    "num_recommendations = 10\n",
    "catalog_size = 1000"
   ]
  },
  {
   "cell_type": "code",
   "execution_count": null,
   "id": "2948dfe1-ce0c-446a-81f2-ce97180d571b",
   "metadata": {},
   "outputs": [],
   "source": []
  },
  {
   "cell_type": "code",
   "execution_count": 31,
   "id": "0a305171-c915-4180-85b6-26d247fe52ad",
   "metadata": {},
   "outputs": [],
   "source": [
    "\n",
    "actual_interactions = {}\n",
    "for user_id in range(num_users):\n",
    "    num_interactions = np.random.randint(1, 20)\n",
    "    items = np.random.choice(num_items, size=num_interactions, replace=False)\n",
    "    actual_interactions[user_id] = list(items)\n",
    "\n",
    "\n",
    "predicted_interactions = defaultdict(list)\n",
    "for user_id in range(num_users):\n",
    "    recommendations = [(np.random.randint(num_items), np.random.rand()) for _ in range(num_recommendations)]\n",
    "    predicted_interactions[user_id] = recommendations\n",
    "\n",
    "# random item popularity scores\n",
    "item_popularity = {item_id: np.random.rand() for item_id in range(num_items)}\n"
   ]
  },
  {
   "cell_type": "code",
   "execution_count": 25,
   "id": "f7fde288-68c9-4f1a-b532-e528fd121fa0",
   "metadata": {},
   "outputs": [],
   "source": [
    "# Compute performance metrics\n",
    "k = 10\n",
    "map_score = mean_average_precision(actual_interactions, predicted_interactions, k)\n",
    "ndcg_score = normalized_discounted_cumulative_gain(actual_interactions, predicted_interactions, k)\n",
    "cov_score = coverage(predicted_interactions, catalog_size)\n",
    "novelty_score = novelty(predicted_interactions, item_popularity)\n",
    "mrr_score = mean_reciprocal_rank(actual_interactions, predicted_interactions)"
   ]
  },
  {
   "cell_type": "code",
   "execution_count": 26,
   "id": "e2c69a31-7fa8-4aa4-8260-471bf8a600b7",
   "metadata": {},
   "outputs": [
    {
     "name": "stdout",
     "output_type": "stream",
     "text": [
      "Mean Average Precision (MAP): 0.007836224489795918\n",
      "Normalized Discounted Cumulative Gain (NDCG): 0.02209089756520599\n",
      "Coverage: 0.431\n",
      "Novelty: 0.5103124443957959\n",
      "Mean Reciprocal Rank (MRR): 0.04314682539682539\n"
     ]
    }
   ],
   "source": [
    "print(\"Mean Average Precision (MAP):\", map_score)\n",
    "print(\"Normalized Discounted Cumulative Gain (NDCG):\", ndcg_score)\n",
    "print(\"Coverage:\", cov_score)\n",
    "print(\"Novelty:\", novelty_score)\n",
    "print(\"Mean Reciprocal Rank (MRR):\", mrr_score)"
   ]
  },
  {
   "cell_type": "code",
   "execution_count": null,
   "id": "5f05ac56-6e32-48ce-9d1d-1725bf696dbe",
   "metadata": {},
   "outputs": [],
   "source": []
  }
 ],
 "metadata": {
  "kernelspec": {
   "display_name": "Python 3 (ipykernel)",
   "language": "python",
   "name": "python3"
  },
  "language_info": {
   "codemirror_mode": {
    "name": "ipython",
    "version": 3
   },
   "file_extension": ".py",
   "mimetype": "text/x-python",
   "name": "python",
   "nbconvert_exporter": "python",
   "pygments_lexer": "ipython3",
   "version": "3.11.4"
  }
 },
 "nbformat": 4,
 "nbformat_minor": 5
}
