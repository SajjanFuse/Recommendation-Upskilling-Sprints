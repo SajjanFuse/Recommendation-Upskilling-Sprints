{
 "cells": [
  {
   "cell_type": "code",
   "execution_count": 2,
   "id": "0636f9ab-dede-4f8c-af7b-36c9fa2eec84",
   "metadata": {},
   "outputs": [],
   "source": [
    "import numpy as np \n",
    "import torch \n",
    "import torch.nn as nn\n",
    "import torch.nn.functional as F"
   ]
  },
  {
   "cell_type": "code",
   "execution_count": 5,
   "id": "2f1cb612-33bd-4705-9971-a65f5d0cdad5",
   "metadata": {},
   "outputs": [
    {
     "data": {
      "text/plain": [
       "(tensor([[ 0.0000,  1.3000],\n",
       "         [-0.6000,  0.0000],\n",
       "         [ 0.0000,  0.9000],\n",
       "         [-0.8000,  0.0000]]),\n",
       " torch.Size([4, 2]))"
      ]
     },
     "execution_count": 5,
     "metadata": {},
     "output_type": "execute_result"
    }
   ],
   "source": [
    "a = torch.tensor([[0,1.3], [-0.6,0], [0, 0.9], [-0.8, 0]])\n",
    "a, a.shape "
   ]
  },
  {
   "cell_type": "code",
   "execution_count": 6,
   "id": "b472d1e3-cc4e-434b-846d-ddf55aec1e5c",
   "metadata": {},
   "outputs": [
    {
     "data": {
      "text/plain": [
       "(tensor([[ 0.0000,  0.0000, -0.8000,  0.0000, -0.6000],\n",
       "         [ 0.5000,  0.0000,  0.0000,  0.8000,  0.0000]]),\n",
       " torch.Size([2, 5]))"
      ]
     },
     "execution_count": 6,
     "metadata": {},
     "output_type": "execute_result"
    }
   ],
   "source": [
    "b = torch.tensor([[0,0,-0.8,0,-0.6], [0.5,0,0,0.8,0]])\n",
    "b, b.shape "
   ]
  },
  {
   "cell_type": "code",
   "execution_count": 7,
   "id": "f01bbdac-5436-49af-b8d6-2a0b1cf6f93d",
   "metadata": {},
   "outputs": [
    {
     "data": {
      "text/plain": [
       "tensor([[0.6500, 0.0000, 0.0000, 1.0400, 0.0000],\n",
       "        [0.0000, 0.0000, 0.4800, 0.0000, 0.3600],\n",
       "        [0.4500, 0.0000, 0.0000, 0.7200, 0.0000],\n",
       "        [0.0000, 0.0000, 0.6400, 0.0000, 0.4800]])"
      ]
     },
     "execution_count": 7,
     "metadata": {},
     "output_type": "execute_result"
    }
   ],
   "source": [
    "torch.mm(a,b)"
   ]
  },
  {
   "cell_type": "code",
   "execution_count": null,
   "id": "8d409101-2746-4dfd-a364-8a5885959d9d",
   "metadata": {},
   "outputs": [],
   "source": []
  }
 ],
 "metadata": {
  "kernelspec": {
   "display_name": "Python 3 (ipykernel)",
   "language": "python",
   "name": "python3"
  },
  "language_info": {
   "codemirror_mode": {
    "name": "ipython",
    "version": 3
   },
   "file_extension": ".py",
   "mimetype": "text/x-python",
   "name": "python",
   "nbconvert_exporter": "python",
   "pygments_lexer": "ipython3",
   "version": "3.11.4"
  }
 },
 "nbformat": 4,
 "nbformat_minor": 5
}
