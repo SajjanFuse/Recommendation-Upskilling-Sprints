{
  "cells": [
    {
      "cell_type": "code",
      "execution_count": null,
      "metadata": {
        "colab": {
          "base_uri": "https://localhost:8080/"
        },
        "id": "Q4qPJ_ClAiLg",
        "outputId": "a0255eb3-2fb3-41a9-a660-76a3b3317737"
      },
      "outputs": [
        {
          "name": "stdout",
          "output_type": "stream",
          "text": [
            "\u001b[2K     \u001b[90m━━━━━━━━━━━━━━━━━━━━━━━━━━━━━━━━━━━━━━━━\u001b[0m \u001b[32m497.6/497.6 MB\u001b[0m \u001b[31m3.0 MB/s\u001b[0m eta \u001b[36m0:00:00\u001b[0m\n",
            "\u001b[2K     \u001b[90m━━━━━━━━━━━━━━━━━━━━━━━━━━━━━━━━━━━━━━━━\u001b[0m \u001b[32m42.6/42.6 kB\u001b[0m \u001b[31m3.9 MB/s\u001b[0m eta \u001b[36m0:00:00\u001b[0m\n",
            "\u001b[2K     \u001b[90m━━━━━━━━━━━━━━━━━━━━━━━━━━━━━━━━━━━━━━━━\u001b[0m \u001b[32m5.8/5.8 MB\u001b[0m \u001b[31m63.6 MB/s\u001b[0m eta \u001b[36m0:00:00\u001b[0m\n",
            "\u001b[2K     \u001b[90m━━━━━━━━━━━━━━━━━━━━━━━━━━━━━━━━━━━━━━━━\u001b[0m \u001b[32m462.5/462.5 kB\u001b[0m \u001b[31m33.3 MB/s\u001b[0m eta \u001b[36m0:00:00\u001b[0m\n",
            "\u001b[2K     \u001b[90m━━━━━━━━━━━━━━━━━━━━━━━━━━━━━━━━━━━━━━━━\u001b[0m \u001b[32m1.4/1.4 MB\u001b[0m \u001b[31m52.9 MB/s\u001b[0m eta \u001b[36m0:00:00\u001b[0m\n",
            "\u001b[2K     \u001b[90m━━━━━━━━━━━━━━━━━━━━━━━━━━━━━━━━━━━━━━━━\u001b[0m \u001b[32m4.9/4.9 MB\u001b[0m \u001b[31m45.0 MB/s\u001b[0m eta \u001b[36m0:00:00\u001b[0m\n",
            "\u001b[2K     \u001b[90m━━━━━━━━━━━━━━━━━━━━━━━━━━━━━━━━━━━━━━━━\u001b[0m \u001b[32m781.3/781.3 kB\u001b[0m \u001b[31m51.2 MB/s\u001b[0m eta \u001b[36m0:00:00\u001b[0m\n",
            "\u001b[?25h\u001b[31mERROR: pip's dependency resolver does not currently take into account all the packages that are installed. This behaviour is the source of the following dependency conflicts.\n",
            "pandas-gbq 0.19.2 requires google-auth-oauthlib>=0.7.0, but you have google-auth-oauthlib 0.4.6 which is incompatible.\u001b[0m\u001b[31m\n",
            "\u001b[2K     \u001b[90m━━━━━━━━━━━━━━━━━━━━━━━━━━━━━━━━━━━━━━━━\u001b[0m \u001b[32m141.2/141.2 kB\u001b[0m \u001b[31m1.8 MB/s\u001b[0m eta \u001b[36m0:00:00\u001b[0m\n",
            "\u001b[2K     \u001b[90m━━━━━━━━━━━━━━━━━━━━━━━━━━━━━━━━━━━━━━━━\u001b[0m \u001b[32m4.5/4.5 MB\u001b[0m \u001b[31m25.4 MB/s\u001b[0m eta \u001b[36m0:00:00\u001b[0m\n",
            "\u001b[?25h"
          ]
        }
      ],
      "source": [
        "! pip uninstall -y -q tensorflow\n",
        "! pip install -q tensorflow-gpu==2.8.0\n",
        "! pip install -q deepmatch"
      ]
    },
    {
      "cell_type": "markdown",
      "metadata": {
        "id": "S3cefa8Fg-GT"
      },
      "source": [
        "# DeepFM With Estimator"
      ]
    },
    {
      "cell_type": "code",
      "execution_count": 203,
      "metadata": {
        "id": "9aPhynoH5cOM"
      },
      "outputs": [],
      "source": [
        "import pandas as pd\n",
        "import numpy as np\n",
        "import sklearn"
      ]
    },
    {
      "cell_type": "code",
      "execution_count": 204,
      "metadata": {
        "colab": {
          "base_uri": "https://localhost:8080/",
          "height": 251
        },
        "id": "GAQptanqAlvW",
        "outputId": "c61b8da7-ff69-404d-8a13-da07f468478b"
      },
      "outputs": [
        {
          "data": {
            "application/vnd.google.colaboratory.intrinsic+json": {
              "summary": "{\n  \"name\": \"df\",\n  \"rows\": 10000,\n  \"fields\": [\n    {\n      \"column\": \"Daily Time Spent on Site\",\n      \"properties\": {\n        \"dtype\": \"number\",\n        \"std\": 15.704141935309405,\n        \"min\": 32.6,\n        \"max\": 90.97,\n        \"num_unique_values\": 460,\n        \"samples\": [\n          81.58,\n          57.24,\n          74.07\n        ],\n        \"semantic_type\": \"\",\n        \"description\": \"\"\n      }\n    },\n    {\n      \"column\": \"Age\",\n      \"properties\": {\n        \"dtype\": \"number\",\n        \"std\": 8.572972738563772,\n        \"min\": 19.0,\n        \"max\": 60.0,\n        \"num_unique_values\": 39,\n        \"samples\": [\n          60.0,\n          48.0,\n          26.0\n        ],\n        \"semantic_type\": \"\",\n        \"description\": \"\"\n      }\n    },\n    {\n      \"column\": \"Area Income\",\n      \"properties\": {\n        \"dtype\": \"number\",\n        \"std\": 13343.708717688587,\n        \"min\": 13996.5,\n        \"max\": 79332.33,\n        \"num_unique_values\": 524,\n        \"samples\": [\n          42760.22,\n          56593.8,\n          73538.09\n        ],\n        \"semantic_type\": \"\",\n        \"description\": \"\"\n      }\n    },\n    {\n      \"column\": \"Daily Internet Usage\",\n      \"properties\": {\n        \"dtype\": \"number\",\n        \"std\": 40.820951456932306,\n        \"min\": 105.22,\n        \"max\": 269.96,\n        \"num_unique_values\": 505,\n        \"samples\": [\n          223.03,\n          124.54,\n          171.9\n        ],\n        \"semantic_type\": \"\",\n        \"description\": \"\"\n      }\n    },\n    {\n      \"column\": \"Ad Topic Line\",\n      \"properties\": {\n        \"dtype\": \"category\",\n        \"num_unique_values\": 559,\n        \"samples\": [\n          \"Extended systemic policy\",\n          \"Organic bottom-line service-desk\",\n          \"Enhanced homogeneous moderator\"\n        ],\n        \"semantic_type\": \"\",\n        \"description\": \"\"\n      }\n    },\n    {\n      \"column\": \"City\",\n      \"properties\": {\n        \"dtype\": \"category\",\n        \"num_unique_values\": 521,\n        \"samples\": [\n          \"North Garyhaven\",\n          \"Port Jodi\",\n          \"Port Jeffrey\"\n        ],\n        \"semantic_type\": \"\",\n        \"description\": \"\"\n      }\n    },\n    {\n      \"column\": \"Gender\",\n      \"properties\": {\n        \"dtype\": \"category\",\n        \"num_unique_values\": 2,\n        \"samples\": [\n          \"Female\",\n          \"Male\"\n        ],\n        \"semantic_type\": \"\",\n        \"description\": \"\"\n      }\n    },\n    {\n      \"column\": \"Country\",\n      \"properties\": {\n        \"dtype\": \"category\",\n        \"num_unique_values\": 207,\n        \"samples\": [\n          \"Central African Republic\",\n          \"Saint Pierre and Miquelon\"\n        ],\n        \"semantic_type\": \"\",\n        \"description\": \"\"\n      }\n    },\n    {\n      \"column\": \"Timestamp\",\n      \"properties\": {\n        \"dtype\": \"object\",\n        \"num_unique_values\": 567,\n        \"samples\": [\n          \"2016-02-14 22:23:30\",\n          \"2016-07-07 13:37:34\"\n        ],\n        \"semantic_type\": \"\",\n        \"description\": \"\"\n      }\n    },\n    {\n      \"column\": \"Clicked on Ad\",\n      \"properties\": {\n        \"dtype\": \"number\",\n        \"std\": 0,\n        \"min\": 0,\n        \"max\": 1,\n        \"num_unique_values\": 2,\n        \"samples\": [\n          1,\n          0\n        ],\n        \"semantic_type\": \"\",\n        \"description\": \"\"\n      }\n    }\n  ]\n}",
              "type": "dataframe",
              "variable_name": "df"
            },
            "text/html": [
              "\n",
              "  <div id=\"df-d7b82a80-e01d-4c2c-afc1-446462343a00\" class=\"colab-df-container\">\n",
              "    <div>\n",
              "<style scoped>\n",
              "    .dataframe tbody tr th:only-of-type {\n",
              "        vertical-align: middle;\n",
              "    }\n",
              "\n",
              "    .dataframe tbody tr th {\n",
              "        vertical-align: top;\n",
              "    }\n",
              "\n",
              "    .dataframe thead th {\n",
              "        text-align: right;\n",
              "    }\n",
              "</style>\n",
              "<table border=\"1\" class=\"dataframe\">\n",
              "  <thead>\n",
              "    <tr style=\"text-align: right;\">\n",
              "      <th></th>\n",
              "      <th>Daily Time Spent on Site</th>\n",
              "      <th>Age</th>\n",
              "      <th>Area Income</th>\n",
              "      <th>Daily Internet Usage</th>\n",
              "      <th>Ad Topic Line</th>\n",
              "      <th>City</th>\n",
              "      <th>Gender</th>\n",
              "      <th>Country</th>\n",
              "      <th>Timestamp</th>\n",
              "      <th>Clicked on Ad</th>\n",
              "    </tr>\n",
              "  </thead>\n",
              "  <tbody>\n",
              "    <tr>\n",
              "      <th>0</th>\n",
              "      <td>62.26</td>\n",
              "      <td>32.0</td>\n",
              "      <td>69481.85</td>\n",
              "      <td>172.83</td>\n",
              "      <td>Decentralized real-time circuit</td>\n",
              "      <td>Lisafort</td>\n",
              "      <td>Male</td>\n",
              "      <td>Svalbard &amp; Jan Mayen Islands</td>\n",
              "      <td>2016-06-09 21:43:05</td>\n",
              "      <td>0</td>\n",
              "    </tr>\n",
              "    <tr>\n",
              "      <th>1</th>\n",
              "      <td>41.73</td>\n",
              "      <td>31.0</td>\n",
              "      <td>61840.26</td>\n",
              "      <td>207.17</td>\n",
              "      <td>Optional full-range projection</td>\n",
              "      <td>West Angelabury</td>\n",
              "      <td>Male</td>\n",
              "      <td>Singapore</td>\n",
              "      <td>2016-01-16 17:56:05</td>\n",
              "      <td>0</td>\n",
              "    </tr>\n",
              "  </tbody>\n",
              "</table>\n",
              "</div>\n",
              "    <div class=\"colab-df-buttons\">\n",
              "\n",
              "  <div class=\"colab-df-container\">\n",
              "    <button class=\"colab-df-convert\" onclick=\"convertToInteractive('df-d7b82a80-e01d-4c2c-afc1-446462343a00')\"\n",
              "            title=\"Convert this dataframe to an interactive table.\"\n",
              "            style=\"display:none;\">\n",
              "\n",
              "  <svg xmlns=\"http://www.w3.org/2000/svg\" height=\"24px\" viewBox=\"0 -960 960 960\">\n",
              "    <path d=\"M120-120v-720h720v720H120Zm60-500h600v-160H180v160Zm220 220h160v-160H400v160Zm0 220h160v-160H400v160ZM180-400h160v-160H180v160Zm440 0h160v-160H620v160ZM180-180h160v-160H180v160Zm440 0h160v-160H620v160Z\"/>\n",
              "  </svg>\n",
              "    </button>\n",
              "\n",
              "  <style>\n",
              "    .colab-df-container {\n",
              "      display:flex;\n",
              "      gap: 12px;\n",
              "    }\n",
              "\n",
              "    .colab-df-convert {\n",
              "      background-color: #E8F0FE;\n",
              "      border: none;\n",
              "      border-radius: 50%;\n",
              "      cursor: pointer;\n",
              "      display: none;\n",
              "      fill: #1967D2;\n",
              "      height: 32px;\n",
              "      padding: 0 0 0 0;\n",
              "      width: 32px;\n",
              "    }\n",
              "\n",
              "    .colab-df-convert:hover {\n",
              "      background-color: #E2EBFA;\n",
              "      box-shadow: 0px 1px 2px rgba(60, 64, 67, 0.3), 0px 1px 3px 1px rgba(60, 64, 67, 0.15);\n",
              "      fill: #174EA6;\n",
              "    }\n",
              "\n",
              "    .colab-df-buttons div {\n",
              "      margin-bottom: 4px;\n",
              "    }\n",
              "\n",
              "    [theme=dark] .colab-df-convert {\n",
              "      background-color: #3B4455;\n",
              "      fill: #D2E3FC;\n",
              "    }\n",
              "\n",
              "    [theme=dark] .colab-df-convert:hover {\n",
              "      background-color: #434B5C;\n",
              "      box-shadow: 0px 1px 3px 1px rgba(0, 0, 0, 0.15);\n",
              "      filter: drop-shadow(0px 1px 2px rgba(0, 0, 0, 0.3));\n",
              "      fill: #FFFFFF;\n",
              "    }\n",
              "  </style>\n",
              "\n",
              "    <script>\n",
              "      const buttonEl =\n",
              "        document.querySelector('#df-d7b82a80-e01d-4c2c-afc1-446462343a00 button.colab-df-convert');\n",
              "      buttonEl.style.display =\n",
              "        google.colab.kernel.accessAllowed ? 'block' : 'none';\n",
              "\n",
              "      async function convertToInteractive(key) {\n",
              "        const element = document.querySelector('#df-d7b82a80-e01d-4c2c-afc1-446462343a00');\n",
              "        const dataTable =\n",
              "          await google.colab.kernel.invokeFunction('convertToInteractive',\n",
              "                                                    [key], {});\n",
              "        if (!dataTable) return;\n",
              "\n",
              "        const docLinkHtml = 'Like what you see? Visit the ' +\n",
              "          '<a target=\"_blank\" href=https://colab.research.google.com/notebooks/data_table.ipynb>data table notebook</a>'\n",
              "          + ' to learn more about interactive tables.';\n",
              "        element.innerHTML = '';\n",
              "        dataTable['output_type'] = 'display_data';\n",
              "        await google.colab.output.renderOutput(dataTable, element);\n",
              "        const docLink = document.createElement('div');\n",
              "        docLink.innerHTML = docLinkHtml;\n",
              "        element.appendChild(docLink);\n",
              "      }\n",
              "    </script>\n",
              "  </div>\n",
              "\n",
              "\n",
              "<div id=\"df-c25adbc2-f39d-44e2-8984-182edb277de1\">\n",
              "  <button class=\"colab-df-quickchart\" onclick=\"quickchart('df-c25adbc2-f39d-44e2-8984-182edb277de1')\"\n",
              "            title=\"Suggest charts\"\n",
              "            style=\"display:none;\">\n",
              "\n",
              "<svg xmlns=\"http://www.w3.org/2000/svg\" height=\"24px\"viewBox=\"0 0 24 24\"\n",
              "     width=\"24px\">\n",
              "    <g>\n",
              "        <path d=\"M19 3H5c-1.1 0-2 .9-2 2v14c0 1.1.9 2 2 2h14c1.1 0 2-.9 2-2V5c0-1.1-.9-2-2-2zM9 17H7v-7h2v7zm4 0h-2V7h2v10zm4 0h-2v-4h2v4z\"/>\n",
              "    </g>\n",
              "</svg>\n",
              "  </button>\n",
              "\n",
              "<style>\n",
              "  .colab-df-quickchart {\n",
              "      --bg-color: #E8F0FE;\n",
              "      --fill-color: #1967D2;\n",
              "      --hover-bg-color: #E2EBFA;\n",
              "      --hover-fill-color: #174EA6;\n",
              "      --disabled-fill-color: #AAA;\n",
              "      --disabled-bg-color: #DDD;\n",
              "  }\n",
              "\n",
              "  [theme=dark] .colab-df-quickchart {\n",
              "      --bg-color: #3B4455;\n",
              "      --fill-color: #D2E3FC;\n",
              "      --hover-bg-color: #434B5C;\n",
              "      --hover-fill-color: #FFFFFF;\n",
              "      --disabled-bg-color: #3B4455;\n",
              "      --disabled-fill-color: #666;\n",
              "  }\n",
              "\n",
              "  .colab-df-quickchart {\n",
              "    background-color: var(--bg-color);\n",
              "    border: none;\n",
              "    border-radius: 50%;\n",
              "    cursor: pointer;\n",
              "    display: none;\n",
              "    fill: var(--fill-color);\n",
              "    height: 32px;\n",
              "    padding: 0;\n",
              "    width: 32px;\n",
              "  }\n",
              "\n",
              "  .colab-df-quickchart:hover {\n",
              "    background-color: var(--hover-bg-color);\n",
              "    box-shadow: 0 1px 2px rgba(60, 64, 67, 0.3), 0 1px 3px 1px rgba(60, 64, 67, 0.15);\n",
              "    fill: var(--button-hover-fill-color);\n",
              "  }\n",
              "\n",
              "  .colab-df-quickchart-complete:disabled,\n",
              "  .colab-df-quickchart-complete:disabled:hover {\n",
              "    background-color: var(--disabled-bg-color);\n",
              "    fill: var(--disabled-fill-color);\n",
              "    box-shadow: none;\n",
              "  }\n",
              "\n",
              "  .colab-df-spinner {\n",
              "    border: 2px solid var(--fill-color);\n",
              "    border-color: transparent;\n",
              "    border-bottom-color: var(--fill-color);\n",
              "    animation:\n",
              "      spin 1s steps(1) infinite;\n",
              "  }\n",
              "\n",
              "  @keyframes spin {\n",
              "    0% {\n",
              "      border-color: transparent;\n",
              "      border-bottom-color: var(--fill-color);\n",
              "      border-left-color: var(--fill-color);\n",
              "    }\n",
              "    20% {\n",
              "      border-color: transparent;\n",
              "      border-left-color: var(--fill-color);\n",
              "      border-top-color: var(--fill-color);\n",
              "    }\n",
              "    30% {\n",
              "      border-color: transparent;\n",
              "      border-left-color: var(--fill-color);\n",
              "      border-top-color: var(--fill-color);\n",
              "      border-right-color: var(--fill-color);\n",
              "    }\n",
              "    40% {\n",
              "      border-color: transparent;\n",
              "      border-right-color: var(--fill-color);\n",
              "      border-top-color: var(--fill-color);\n",
              "    }\n",
              "    60% {\n",
              "      border-color: transparent;\n",
              "      border-right-color: var(--fill-color);\n",
              "    }\n",
              "    80% {\n",
              "      border-color: transparent;\n",
              "      border-right-color: var(--fill-color);\n",
              "      border-bottom-color: var(--fill-color);\n",
              "    }\n",
              "    90% {\n",
              "      border-color: transparent;\n",
              "      border-bottom-color: var(--fill-color);\n",
              "    }\n",
              "  }\n",
              "</style>\n",
              "\n",
              "  <script>\n",
              "    async function quickchart(key) {\n",
              "      const quickchartButtonEl =\n",
              "        document.querySelector('#' + key + ' button');\n",
              "      quickchartButtonEl.disabled = true;  // To prevent multiple clicks.\n",
              "      quickchartButtonEl.classList.add('colab-df-spinner');\n",
              "      try {\n",
              "        const charts = await google.colab.kernel.invokeFunction(\n",
              "            'suggestCharts', [key], {});\n",
              "      } catch (error) {\n",
              "        console.error('Error during call to suggestCharts:', error);\n",
              "      }\n",
              "      quickchartButtonEl.classList.remove('colab-df-spinner');\n",
              "      quickchartButtonEl.classList.add('colab-df-quickchart-complete');\n",
              "    }\n",
              "    (() => {\n",
              "      let quickchartButtonEl =\n",
              "        document.querySelector('#df-c25adbc2-f39d-44e2-8984-182edb277de1 button');\n",
              "      quickchartButtonEl.style.display =\n",
              "        google.colab.kernel.accessAllowed ? 'block' : 'none';\n",
              "    })();\n",
              "  </script>\n",
              "</div>\n",
              "    </div>\n",
              "  </div>\n"
            ],
            "text/plain": [
              "   Daily Time Spent on Site   Age  Area Income  Daily Internet Usage  \\\n",
              "0                     62.26  32.0     69481.85                172.83   \n",
              "1                     41.73  31.0     61840.26                207.17   \n",
              "\n",
              "                     Ad Topic Line             City Gender  \\\n",
              "0  Decentralized real-time circuit         Lisafort   Male   \n",
              "1   Optional full-range projection  West Angelabury   Male   \n",
              "\n",
              "                        Country            Timestamp  Clicked on Ad  \n",
              "0  Svalbard & Jan Mayen Islands  2016-06-09 21:43:05              0  \n",
              "1                     Singapore  2016-01-16 17:56:05              0  "
            ]
          },
          "execution_count": 204,
          "metadata": {},
          "output_type": "execute_result"
        }
      ],
      "source": [
        "df_org = pd.read_csv('/content/ad_10000records.csv')\n",
        "df = df_org\n",
        "df.head(2)"
      ]
    },
    {
      "cell_type": "code",
      "execution_count": 204,
      "metadata": {
        "id": "ustBcoZN0Qjg"
      },
      "outputs": [],
      "source": []
    },
    {
      "cell_type": "code",
      "execution_count": 205,
      "metadata": {
        "colab": {
          "base_uri": "https://localhost:8080/",
          "height": 219
        },
        "id": "lelTaAtUBqk6",
        "outputId": "477d4c69-50d5-450c-f818-84ba6333b030"
      },
      "outputs": [
        {
          "data": {
            "application/vnd.google.colaboratory.intrinsic+json": {
              "summary": "{\n  \"name\": \"df\",\n  \"rows\": 10000,\n  \"fields\": [\n    {\n      \"column\": \"daily_time_on_site\",\n      \"properties\": {\n        \"dtype\": \"number\",\n        \"std\": 15.704141935309405,\n        \"min\": 32.6,\n        \"max\": 90.97,\n        \"num_unique_values\": 460,\n        \"samples\": [\n          81.58,\n          57.24,\n          74.07\n        ],\n        \"semantic_type\": \"\",\n        \"description\": \"\"\n      }\n    },\n    {\n      \"column\": \"Age\",\n      \"properties\": {\n        \"dtype\": \"number\",\n        \"std\": 8.572972738563772,\n        \"min\": 19.0,\n        \"max\": 60.0,\n        \"num_unique_values\": 39,\n        \"samples\": [\n          60.0,\n          48.0,\n          26.0\n        ],\n        \"semantic_type\": \"\",\n        \"description\": \"\"\n      }\n    },\n    {\n      \"column\": \"Area_Income\",\n      \"properties\": {\n        \"dtype\": \"number\",\n        \"std\": 13343.708717688587,\n        \"min\": 13996.5,\n        \"max\": 79332.33,\n        \"num_unique_values\": 524,\n        \"samples\": [\n          42760.22,\n          56593.8,\n          73538.09\n        ],\n        \"semantic_type\": \"\",\n        \"description\": \"\"\n      }\n    },\n    {\n      \"column\": \"Daily_Internet_Usage\",\n      \"properties\": {\n        \"dtype\": \"number\",\n        \"std\": 40.820951456932306,\n        \"min\": 105.22,\n        \"max\": 269.96,\n        \"num_unique_values\": 505,\n        \"samples\": [\n          223.03,\n          124.54,\n          171.9\n        ],\n        \"semantic_type\": \"\",\n        \"description\": \"\"\n      }\n    },\n    {\n      \"column\": \"Ad_Topic_Line\",\n      \"properties\": {\n        \"dtype\": \"category\",\n        \"num_unique_values\": 559,\n        \"samples\": [\n          \"Extended systemic policy\",\n          \"Organic bottom-line service-desk\",\n          \"Enhanced homogeneous moderator\"\n        ],\n        \"semantic_type\": \"\",\n        \"description\": \"\"\n      }\n    },\n    {\n      \"column\": \"City\",\n      \"properties\": {\n        \"dtype\": \"category\",\n        \"num_unique_values\": 521,\n        \"samples\": [\n          \"North Garyhaven\",\n          \"Port Jodi\",\n          \"Port Jeffrey\"\n        ],\n        \"semantic_type\": \"\",\n        \"description\": \"\"\n      }\n    },\n    {\n      \"column\": \"Gender\",\n      \"properties\": {\n        \"dtype\": \"category\",\n        \"num_unique_values\": 2,\n        \"samples\": [\n          \"Female\",\n          \"Male\"\n        ],\n        \"semantic_type\": \"\",\n        \"description\": \"\"\n      }\n    },\n    {\n      \"column\": \"Country\",\n      \"properties\": {\n        \"dtype\": \"category\",\n        \"num_unique_values\": 207,\n        \"samples\": [\n          \"Central African Republic\",\n          \"Saint Pierre and Miquelon\"\n        ],\n        \"semantic_type\": \"\",\n        \"description\": \"\"\n      }\n    },\n    {\n      \"column\": \"Timestamp\",\n      \"properties\": {\n        \"dtype\": \"object\",\n        \"num_unique_values\": 567,\n        \"samples\": [\n          \"2016-02-14 22:23:30\",\n          \"2016-07-07 13:37:34\"\n        ],\n        \"semantic_type\": \"\",\n        \"description\": \"\"\n      }\n    },\n    {\n      \"column\": \"Clicked_on_Ad\",\n      \"properties\": {\n        \"dtype\": \"number\",\n        \"std\": 0,\n        \"min\": 0,\n        \"max\": 1,\n        \"num_unique_values\": 2,\n        \"samples\": [\n          1,\n          0\n        ],\n        \"semantic_type\": \"\",\n        \"description\": \"\"\n      }\n    }\n  ]\n}",
              "type": "dataframe",
              "variable_name": "df"
            },
            "text/html": [
              "\n",
              "  <div id=\"df-0839e622-2a51-499e-a4b9-d0504597e59d\" class=\"colab-df-container\">\n",
              "    <div>\n",
              "<style scoped>\n",
              "    .dataframe tbody tr th:only-of-type {\n",
              "        vertical-align: middle;\n",
              "    }\n",
              "\n",
              "    .dataframe tbody tr th {\n",
              "        vertical-align: top;\n",
              "    }\n",
              "\n",
              "    .dataframe thead th {\n",
              "        text-align: right;\n",
              "    }\n",
              "</style>\n",
              "<table border=\"1\" class=\"dataframe\">\n",
              "  <thead>\n",
              "    <tr style=\"text-align: right;\">\n",
              "      <th></th>\n",
              "      <th>daily_time_on_site</th>\n",
              "      <th>Age</th>\n",
              "      <th>Area_Income</th>\n",
              "      <th>Daily_Internet_Usage</th>\n",
              "      <th>Ad_Topic_Line</th>\n",
              "      <th>City</th>\n",
              "      <th>Gender</th>\n",
              "      <th>Country</th>\n",
              "      <th>Timestamp</th>\n",
              "      <th>Clicked_on_Ad</th>\n",
              "    </tr>\n",
              "  </thead>\n",
              "  <tbody>\n",
              "    <tr>\n",
              "      <th>0</th>\n",
              "      <td>62.26</td>\n",
              "      <td>32.0</td>\n",
              "      <td>69481.85</td>\n",
              "      <td>172.83</td>\n",
              "      <td>Decentralized real-time circuit</td>\n",
              "      <td>Lisafort</td>\n",
              "      <td>Male</td>\n",
              "      <td>Svalbard &amp; Jan Mayen Islands</td>\n",
              "      <td>2016-06-09 21:43:05</td>\n",
              "      <td>0</td>\n",
              "    </tr>\n",
              "    <tr>\n",
              "      <th>1</th>\n",
              "      <td>41.73</td>\n",
              "      <td>31.0</td>\n",
              "      <td>61840.26</td>\n",
              "      <td>207.17</td>\n",
              "      <td>Optional full-range projection</td>\n",
              "      <td>West Angelabury</td>\n",
              "      <td>Male</td>\n",
              "      <td>Singapore</td>\n",
              "      <td>2016-01-16 17:56:05</td>\n",
              "      <td>0</td>\n",
              "    </tr>\n",
              "  </tbody>\n",
              "</table>\n",
              "</div>\n",
              "    <div class=\"colab-df-buttons\">\n",
              "\n",
              "  <div class=\"colab-df-container\">\n",
              "    <button class=\"colab-df-convert\" onclick=\"convertToInteractive('df-0839e622-2a51-499e-a4b9-d0504597e59d')\"\n",
              "            title=\"Convert this dataframe to an interactive table.\"\n",
              "            style=\"display:none;\">\n",
              "\n",
              "  <svg xmlns=\"http://www.w3.org/2000/svg\" height=\"24px\" viewBox=\"0 -960 960 960\">\n",
              "    <path d=\"M120-120v-720h720v720H120Zm60-500h600v-160H180v160Zm220 220h160v-160H400v160Zm0 220h160v-160H400v160ZM180-400h160v-160H180v160Zm440 0h160v-160H620v160ZM180-180h160v-160H180v160Zm440 0h160v-160H620v160Z\"/>\n",
              "  </svg>\n",
              "    </button>\n",
              "\n",
              "  <style>\n",
              "    .colab-df-container {\n",
              "      display:flex;\n",
              "      gap: 12px;\n",
              "    }\n",
              "\n",
              "    .colab-df-convert {\n",
              "      background-color: #E8F0FE;\n",
              "      border: none;\n",
              "      border-radius: 50%;\n",
              "      cursor: pointer;\n",
              "      display: none;\n",
              "      fill: #1967D2;\n",
              "      height: 32px;\n",
              "      padding: 0 0 0 0;\n",
              "      width: 32px;\n",
              "    }\n",
              "\n",
              "    .colab-df-convert:hover {\n",
              "      background-color: #E2EBFA;\n",
              "      box-shadow: 0px 1px 2px rgba(60, 64, 67, 0.3), 0px 1px 3px 1px rgba(60, 64, 67, 0.15);\n",
              "      fill: #174EA6;\n",
              "    }\n",
              "\n",
              "    .colab-df-buttons div {\n",
              "      margin-bottom: 4px;\n",
              "    }\n",
              "\n",
              "    [theme=dark] .colab-df-convert {\n",
              "      background-color: #3B4455;\n",
              "      fill: #D2E3FC;\n",
              "    }\n",
              "\n",
              "    [theme=dark] .colab-df-convert:hover {\n",
              "      background-color: #434B5C;\n",
              "      box-shadow: 0px 1px 3px 1px rgba(0, 0, 0, 0.15);\n",
              "      filter: drop-shadow(0px 1px 2px rgba(0, 0, 0, 0.3));\n",
              "      fill: #FFFFFF;\n",
              "    }\n",
              "  </style>\n",
              "\n",
              "    <script>\n",
              "      const buttonEl =\n",
              "        document.querySelector('#df-0839e622-2a51-499e-a4b9-d0504597e59d button.colab-df-convert');\n",
              "      buttonEl.style.display =\n",
              "        google.colab.kernel.accessAllowed ? 'block' : 'none';\n",
              "\n",
              "      async function convertToInteractive(key) {\n",
              "        const element = document.querySelector('#df-0839e622-2a51-499e-a4b9-d0504597e59d');\n",
              "        const dataTable =\n",
              "          await google.colab.kernel.invokeFunction('convertToInteractive',\n",
              "                                                    [key], {});\n",
              "        if (!dataTable) return;\n",
              "\n",
              "        const docLinkHtml = 'Like what you see? Visit the ' +\n",
              "          '<a target=\"_blank\" href=https://colab.research.google.com/notebooks/data_table.ipynb>data table notebook</a>'\n",
              "          + ' to learn more about interactive tables.';\n",
              "        element.innerHTML = '';\n",
              "        dataTable['output_type'] = 'display_data';\n",
              "        await google.colab.output.renderOutput(dataTable, element);\n",
              "        const docLink = document.createElement('div');\n",
              "        docLink.innerHTML = docLinkHtml;\n",
              "        element.appendChild(docLink);\n",
              "      }\n",
              "    </script>\n",
              "  </div>\n",
              "\n",
              "\n",
              "<div id=\"df-d7f53b7b-cb71-41ee-bcde-7c4e3960d8a1\">\n",
              "  <button class=\"colab-df-quickchart\" onclick=\"quickchart('df-d7f53b7b-cb71-41ee-bcde-7c4e3960d8a1')\"\n",
              "            title=\"Suggest charts\"\n",
              "            style=\"display:none;\">\n",
              "\n",
              "<svg xmlns=\"http://www.w3.org/2000/svg\" height=\"24px\"viewBox=\"0 0 24 24\"\n",
              "     width=\"24px\">\n",
              "    <g>\n",
              "        <path d=\"M19 3H5c-1.1 0-2 .9-2 2v14c0 1.1.9 2 2 2h14c1.1 0 2-.9 2-2V5c0-1.1-.9-2-2-2zM9 17H7v-7h2v7zm4 0h-2V7h2v10zm4 0h-2v-4h2v4z\"/>\n",
              "    </g>\n",
              "</svg>\n",
              "  </button>\n",
              "\n",
              "<style>\n",
              "  .colab-df-quickchart {\n",
              "      --bg-color: #E8F0FE;\n",
              "      --fill-color: #1967D2;\n",
              "      --hover-bg-color: #E2EBFA;\n",
              "      --hover-fill-color: #174EA6;\n",
              "      --disabled-fill-color: #AAA;\n",
              "      --disabled-bg-color: #DDD;\n",
              "  }\n",
              "\n",
              "  [theme=dark] .colab-df-quickchart {\n",
              "      --bg-color: #3B4455;\n",
              "      --fill-color: #D2E3FC;\n",
              "      --hover-bg-color: #434B5C;\n",
              "      --hover-fill-color: #FFFFFF;\n",
              "      --disabled-bg-color: #3B4455;\n",
              "      --disabled-fill-color: #666;\n",
              "  }\n",
              "\n",
              "  .colab-df-quickchart {\n",
              "    background-color: var(--bg-color);\n",
              "    border: none;\n",
              "    border-radius: 50%;\n",
              "    cursor: pointer;\n",
              "    display: none;\n",
              "    fill: var(--fill-color);\n",
              "    height: 32px;\n",
              "    padding: 0;\n",
              "    width: 32px;\n",
              "  }\n",
              "\n",
              "  .colab-df-quickchart:hover {\n",
              "    background-color: var(--hover-bg-color);\n",
              "    box-shadow: 0 1px 2px rgba(60, 64, 67, 0.3), 0 1px 3px 1px rgba(60, 64, 67, 0.15);\n",
              "    fill: var(--button-hover-fill-color);\n",
              "  }\n",
              "\n",
              "  .colab-df-quickchart-complete:disabled,\n",
              "  .colab-df-quickchart-complete:disabled:hover {\n",
              "    background-color: var(--disabled-bg-color);\n",
              "    fill: var(--disabled-fill-color);\n",
              "    box-shadow: none;\n",
              "  }\n",
              "\n",
              "  .colab-df-spinner {\n",
              "    border: 2px solid var(--fill-color);\n",
              "    border-color: transparent;\n",
              "    border-bottom-color: var(--fill-color);\n",
              "    animation:\n",
              "      spin 1s steps(1) infinite;\n",
              "  }\n",
              "\n",
              "  @keyframes spin {\n",
              "    0% {\n",
              "      border-color: transparent;\n",
              "      border-bottom-color: var(--fill-color);\n",
              "      border-left-color: var(--fill-color);\n",
              "    }\n",
              "    20% {\n",
              "      border-color: transparent;\n",
              "      border-left-color: var(--fill-color);\n",
              "      border-top-color: var(--fill-color);\n",
              "    }\n",
              "    30% {\n",
              "      border-color: transparent;\n",
              "      border-left-color: var(--fill-color);\n",
              "      border-top-color: var(--fill-color);\n",
              "      border-right-color: var(--fill-color);\n",
              "    }\n",
              "    40% {\n",
              "      border-color: transparent;\n",
              "      border-right-color: var(--fill-color);\n",
              "      border-top-color: var(--fill-color);\n",
              "    }\n",
              "    60% {\n",
              "      border-color: transparent;\n",
              "      border-right-color: var(--fill-color);\n",
              "    }\n",
              "    80% {\n",
              "      border-color: transparent;\n",
              "      border-right-color: var(--fill-color);\n",
              "      border-bottom-color: var(--fill-color);\n",
              "    }\n",
              "    90% {\n",
              "      border-color: transparent;\n",
              "      border-bottom-color: var(--fill-color);\n",
              "    }\n",
              "  }\n",
              "</style>\n",
              "\n",
              "  <script>\n",
              "    async function quickchart(key) {\n",
              "      const quickchartButtonEl =\n",
              "        document.querySelector('#' + key + ' button');\n",
              "      quickchartButtonEl.disabled = true;  // To prevent multiple clicks.\n",
              "      quickchartButtonEl.classList.add('colab-df-spinner');\n",
              "      try {\n",
              "        const charts = await google.colab.kernel.invokeFunction(\n",
              "            'suggestCharts', [key], {});\n",
              "      } catch (error) {\n",
              "        console.error('Error during call to suggestCharts:', error);\n",
              "      }\n",
              "      quickchartButtonEl.classList.remove('colab-df-spinner');\n",
              "      quickchartButtonEl.classList.add('colab-df-quickchart-complete');\n",
              "    }\n",
              "    (() => {\n",
              "      let quickchartButtonEl =\n",
              "        document.querySelector('#df-d7f53b7b-cb71-41ee-bcde-7c4e3960d8a1 button');\n",
              "      quickchartButtonEl.style.display =\n",
              "        google.colab.kernel.accessAllowed ? 'block' : 'none';\n",
              "    })();\n",
              "  </script>\n",
              "</div>\n",
              "    </div>\n",
              "  </div>\n"
            ],
            "text/plain": [
              "   daily_time_on_site   Age  Area_Income  Daily_Internet_Usage  \\\n",
              "0               62.26  32.0     69481.85                172.83   \n",
              "1               41.73  31.0     61840.26                207.17   \n",
              "\n",
              "                     Ad_Topic_Line             City Gender  \\\n",
              "0  Decentralized real-time circuit         Lisafort   Male   \n",
              "1   Optional full-range projection  West Angelabury   Male   \n",
              "\n",
              "                        Country            Timestamp  Clicked_on_Ad  \n",
              "0  Svalbard & Jan Mayen Islands  2016-06-09 21:43:05              0  \n",
              "1                     Singapore  2016-01-16 17:56:05              0  "
            ]
          },
          "execution_count": 205,
          "metadata": {},
          "output_type": "execute_result"
        }
      ],
      "source": [
        "df = df.rename(columns = {'Daily Time Spent on Site':'daily_time_on_site',\n",
        "                          'Daily Internet Usage':'Daily_Internet_Usage',\n",
        "                          'Area Income':'Area_Income',\n",
        "                          'Ad Topic Line':'Ad_Topic_Line',\n",
        "                          'Clicked on Ad':'Clicked_on_Ad'})\n",
        "df.head(2)"
      ]
    },
    {
      "cell_type": "code",
      "execution_count": 206,
      "metadata": {
        "id": "8skVwmG70Sww"
      },
      "outputs": [],
      "source": [
        "df['daily_time_on_site'] = df['daily_time_on_site'].astype(float)\n",
        "df['Daily_Internet_Usage'] = df['Daily_Internet_Usage'].astype(float)\n",
        "df['Area_Income'] = df['Area_Income'].astype(float)\n",
        "df['Ad_Topic_Line'] = df['Ad_Topic_Line'].astype(str)\n",
        "df['Clicked_on_Ad'] = df['Clicked_on_Ad'].astype(int)\n",
        "df['Country'] = df['Country'].astype(str)\n",
        "df['City'] = df['City'].astype(str)"
      ]
    },
    {
      "cell_type": "code",
      "execution_count": 207,
      "metadata": {
        "id": "BEmGdL5-tJdC"
      },
      "outputs": [],
      "source": [
        "# getting sparse features\n",
        "numerical_features = ['daily_time_on_site','Age', 'Area_Income', 'Daily_Internet_Usage']\n",
        "sparse_features = ['Ad_Topic_Line', 'City', 'Gender', 'Country']\n",
        "target = ['Clicked_on_Ad']"
      ]
    },
    {
      "cell_type": "code",
      "execution_count": 208,
      "metadata": {
        "colab": {
          "base_uri": "https://localhost:8080/",
          "height": 470
        },
        "id": "BfaKyXhKBHXq",
        "outputId": "0b7e3611-3a0e-4853-a911-ee9c2421f303"
      },
      "outputs": [
        {
          "data": {
            "text/plain": [
              "<Axes: title={'center': 'Daily Time Spent on Site'}, ylabel='Frequency'>"
            ]
          },
          "execution_count": 208,
          "metadata": {},
          "output_type": "execute_result"
        },
        {
          "data": {
            "image/png": "[encoded data removed]",
            "text/plain": [
              "<Figure size 640x480 with 1 Axes>"
            ]
          },
          "metadata": {},
          "output_type": "display_data"
        }
      ],
      "source": [
        "from matplotlib import pyplot as plt\n",
        "df['daily_time_on_site'].plot(kind='hist', bins=20, title='Daily Time Spent on Site')\n"
      ]
    },
    {
      "cell_type": "code",
      "execution_count": 209,
      "metadata": {
        "colab": {
          "base_uri": "https://localhost:8080/"
        },
        "id": "gf5y6Ue5A9-H",
        "outputId": "31a493e0-b218-4a22-c0d4-0dc9a9170de4"
      },
      "outputs": [
        {
          "name": "stdout",
          "output_type": "stream",
          "text": [
            "<class 'pandas.core.frame.DataFrame'>\n",
            "RangeIndex: 10000 entries, 0 to 9999\n",
            "Data columns (total 10 columns):\n",
            " #   Column                Non-Null Count  Dtype  \n",
            "---  ------                --------------  -----  \n",
            " 0   daily_time_on_site    10000 non-null  float64\n",
            " 1   Age                   10000 non-null  float64\n",
            " 2   Area_Income           10000 non-null  float64\n",
            " 3   Daily_Internet_Usage  10000 non-null  float64\n",
            " 4   Ad_Topic_Line         10000 non-null  object \n",
            " 5   City                  10000 non-null  object \n",
            " 6   Gender                10000 non-null  object \n",
            " 7   Country               10000 non-null  object \n",
            " 8   Timestamp             10000 non-null  object \n",
            " 9   Clicked_on_Ad         10000 non-null  int64  \n",
            "dtypes: float64(4), int64(1), object(5)\n",
            "memory usage: 781.4+ KB\n"
          ]
        }
      ],
      "source": [
        "df.info()"
      ]
    },
    {
      "cell_type": "code",
      "execution_count": 210,
      "metadata": {
        "colab": {
          "base_uri": "https://localhost:8080/",
          "height": 468
        },
        "id": "Z-rF1QXhBAZe",
        "outputId": "ce349faf-7f82-4bd2-8270-7fe916033f57"
      },
      "outputs": [
        {
          "data": {
            "text/plain": [
              "<Axes: xlabel='daily_time_on_site', ylabel='Age'>"
            ]
          },
          "execution_count": 210,
          "metadata": {},
          "output_type": "execute_result"
        },
        {
          "data": {
            "image/png": "[encoded data removed]",
            "text/plain": [
              "<Figure size 640x480 with 1 Axes>"
            ]
          },
          "metadata": {},
          "output_type": "display_data"
        }
      ],
      "source": [
        "df.plot(kind='scatter', x='daily_time_on_site', y='Age', s=32, alpha=.8)"
      ]
    },
    {
      "cell_type": "code",
      "execution_count": 211,
      "metadata": {
        "colab": {
          "base_uri": "https://localhost:8080/"
        },
        "id": "stSdV0GvBdXo",
        "outputId": "21c756c2-1669-417c-a3a7-ac13c15262dc"
      },
      "outputs": [
        {
          "name": "stdout",
          "output_type": "stream",
          "text": [
            "0\n",
            "0\n",
            "0\n",
            "0\n",
            "0\n",
            "0\n",
            "0\n",
            "0\n",
            "0\n",
            "0\n"
          ]
        }
      ],
      "source": [
        "for col in df.columns:\n",
        "  print(df[col].isna().sum())"
      ]
    },
    {
      "cell_type": "markdown",
      "metadata": {
        "id": "kmZeYViwV6So"
      },
      "source": [
        "## Getting number of unique elements in each columns"
      ]
    },
    {
      "cell_type": "code",
      "execution_count": 212,
      "metadata": {
        "colab": {
          "base_uri": "https://localhost:8080/"
        },
        "id": "VV6-KI3IcvEp",
        "outputId": "43ec0b99-804d-4ccd-ce56-ac3d6ece9b15"
      },
      "outputs": [
        {
          "data": {
            "text/plain": [
              "Index(['daily_time_on_site', 'Age', 'Area_Income', 'Daily_Internet_Usage',\n",
              "       'Ad_Topic_Line', 'City', 'Gender', 'Country', 'Timestamp',\n",
              "       'Clicked_on_Ad'],\n",
              "      dtype='object')"
            ]
          },
          "execution_count": 212,
          "metadata": {},
          "output_type": "execute_result"
        }
      ],
      "source": [
        "df.columns"
      ]
    },
    {
      "cell_type": "code",
      "execution_count": 213,
      "metadata": {
        "colab": {
          "base_uri": "https://localhost:8080/"
        },
        "id": "DvbnnSysU81e",
        "outputId": "b86cdfd4-cb25-43d0-cf5e-b4230cb3f815"
      },
      "outputs": [
        {
          "data": {
            "text/plain": [
              "[('Ad_Topic_Line', 559), ('City', 521), ('Gender', 2), ('Country', 207)]"
            ]
          },
          "execution_count": 213,
          "metadata": {},
          "output_type": "execute_result"
        }
      ],
      "source": [
        "unique_elements = []\n",
        "for col in sparse_features:\n",
        "  unique_elements.append((col, df[col].nunique()))\n",
        "unique_elements"
      ]
    },
    {
      "cell_type": "code",
      "execution_count": 214,
      "metadata": {
        "id": "-3AxAYSLWzhE"
      },
      "outputs": [],
      "source": [
        "from sklearn.preprocessing import LabelEncoder\n",
        "\n",
        "from sklearn.model_selection import train_test_split\n",
        "\n",
        "from deepctr.models import *\n",
        "import deepctr"
      ]
    },
    {
      "cell_type": "markdown",
      "metadata": {
        "id": "ZuUAwWhLuRt_"
      },
      "source": [
        "### Checking the shapes of the Series of each columns"
      ]
    },
    {
      "cell_type": "code",
      "execution_count": 215,
      "metadata": {
        "id": "MCKqIrf_WJHP"
      },
      "outputs": [],
      "source": [
        "# giving each unique feature a label for easier differentiation\n",
        "\n",
        "# 1. Label Encoding: storing the label encoders for output comparison\n",
        "label_encoders = {}\n",
        "for feature in sparse_features:\n",
        "  lbe = LabelEncoder()\n",
        "  df[feature] = lbe.fit_transform(df[feature])\n",
        "  label_encoders[feature] = lbe\n",
        "\n",
        "# 2. Standard Scaling for Numerical Features\n",
        "scalers = {}\n",
        "for feature in numerical_features:\n",
        "  scaler = sklearn.preprocessing.MinMaxScaler(feature_range=(0,1))\n",
        "  df[feature] = scaler.fit_transform(df[feature].values.reshape(-1,1))\n",
        "  scalers[feature] = scaler\n"
      ]
    },
    {
      "cell_type": "code",
      "execution_count": 216,
      "metadata": {
        "id": "NlLVDT30XEIk"
      },
      "outputs": [],
      "source": [
        "fixed_length_feature_columns = [deepctr.feature_column.SparseFeat(feature, df[feature].max() + 1, embedding_dim=3) for feature in sparse_features]\n",
        "\n",
        "#adding numerical features to above feature columns\n",
        "fixed_length_feature_columns += [deepctr.feature_column.DenseFeat(feature, 1) for feature in numerical_features]\n",
        "\n",
        "linear_feature_columns = fixed_length_feature_columns\n",
        "dnn_feature_columns = fixed_length_feature_columns"
      ]
    },
    {
      "cell_type": "code",
      "execution_count": 217,
      "metadata": {
        "id": "pDkMzhhXX5oW"
      },
      "outputs": [],
      "source": [
        "feature_names = deepctr.feature_column.get_feature_names(fixed_length_feature_columns+dnn_feature_columns)"
      ]
    },
    {
      "cell_type": "code",
      "execution_count": 218,
      "metadata": {
        "colab": {
          "base_uri": "https://localhost:8080/"
        },
        "id": "w_KGFOaFYD4W",
        "outputId": "69a9c2c6-b9b1-4cd0-80d6-de5290a77ba4"
      },
      "outputs": [
        {
          "data": {
            "text/plain": [
              "((8000, 10), (2000, 10))"
            ]
          },
          "execution_count": 218,
          "metadata": {},
          "output_type": "execute_result"
        }
      ],
      "source": [
        "train, test = train_test_split(df, test_size=0.2)\n",
        "train.shape, test.shape"
      ]
    },
    {
      "cell_type": "code",
      "execution_count": 219,
      "metadata": {
        "id": "FVE2i4NnZYjX"
      },
      "outputs": [],
      "source": [
        "from itertools import islice\n",
        "\n",
        "def take(iterables, n):\n",
        "  return list(islice(iterables, n).items())"
      ]
    },
    {
      "cell_type": "code",
      "execution_count": 220,
      "metadata": {
        "id": "rtp4wUIjaSJt"
      },
      "outputs": [],
      "source": [
        "from deepctr.estimator.inputs import input_fn_pandas"
      ]
    },
    {
      "cell_type": "code",
      "execution_count": 221,
      "metadata": {
        "colab": {
          "base_uri": "https://localhost:8080/"
        },
        "id": "skhpHfRaY1A9",
        "outputId": "5651f062-f908-4476-8eb0-bb0885b185b7"
      },
      "outputs": [
        {
          "data": {
            "text/plain": [
              "(dict, dict)"
            ]
          },
          "execution_count": 221,
          "metadata": {},
          "output_type": "execute_result"
        }
      ],
      "source": [
        "train_model_input = {name:train[name] for name in feature_names}\n",
        "test_model_input = {name:test[name] for name in feature_names}\n",
        "type(train_model_input),type( test_model_input),"
      ]
    },
    {
      "cell_type": "code",
      "execution_count": 222,
      "metadata": {
        "id": "ahkUopo8ZIzZ"
      },
      "outputs": [],
      "source": [
        "model = DeepFM(linear_feature_columns, dnn_feature_columns, task='regression')\n",
        "model.compile('adam','mse', metrics=['mse', 'accuracy'])"
      ]
    },
    {
      "cell_type": "code",
      "execution_count": 223,
      "metadata": {
        "id": "nqlFlxs3qSha"
      },
      "outputs": [],
      "source": [
        "epochs = 20\n",
        "batch_size = 256"
      ]
    },
    {
      "cell_type": "code",
      "execution_count": 224,
      "metadata": {
        "colab": {
          "base_uri": "https://localhost:8080/"
        },
        "id": "mULw3Th8az4W",
        "outputId": "3a297dab-898b-41b5-8d01-3400f981e6c3"
      },
      "outputs": [
        {
          "name": "stdout",
          "output_type": "stream",
          "text": [
            "Epoch 1/20\n",
            "25/25 - 2s - loss: 0.2149 - mse: 0.2149 - accuracy: 0.6656 - val_loss: 0.1692 - val_mse: 0.1692 - val_accuracy: 0.7563\n",
            "Epoch 2/20\n",
            "25/25 - 0s - loss: 0.1175 - mse: 0.1174 - accuracy: 0.8409 - val_loss: 0.1146 - val_mse: 0.1146 - val_accuracy: 0.8525\n",
            "Epoch 3/20\n",
            "25/25 - 0s - loss: 0.0830 - mse: 0.0830 - accuracy: 0.8994 - val_loss: 0.1031 - val_mse: 0.1030 - val_accuracy: 0.8700\n",
            "Epoch 4/20\n",
            "25/25 - 0s - loss: 0.0736 - mse: 0.0736 - accuracy: 0.9136 - val_loss: 0.1019 - val_mse: 0.1019 - val_accuracy: 0.8675\n",
            "Epoch 5/20\n",
            "25/25 - 0s - loss: 0.0695 - mse: 0.0695 - accuracy: 0.9191 - val_loss: 0.1026 - val_mse: 0.1026 - val_accuracy: 0.8706\n",
            "Epoch 6/20\n",
            "25/25 - 0s - loss: 0.0690 - mse: 0.0690 - accuracy: 0.9177 - val_loss: 0.1043 - val_mse: 0.1043 - val_accuracy: 0.8644\n",
            "Epoch 7/20\n",
            "25/25 - 0s - loss: 0.0661 - mse: 0.0661 - accuracy: 0.9216 - val_loss: 0.1071 - val_mse: 0.1071 - val_accuracy: 0.8562\n",
            "Epoch 8/20\n",
            "25/25 - 0s - loss: 0.0625 - mse: 0.0624 - accuracy: 0.9244 - val_loss: 0.1053 - val_mse: 0.1052 - val_accuracy: 0.8612\n",
            "Epoch 9/20\n",
            "25/25 - 0s - loss: 0.0604 - mse: 0.0603 - accuracy: 0.9261 - val_loss: 0.1068 - val_mse: 0.1067 - val_accuracy: 0.8612\n",
            "Epoch 10/20\n",
            "25/25 - 0s - loss: 0.0583 - mse: 0.0583 - accuracy: 0.9287 - val_loss: 0.1059 - val_mse: 0.1058 - val_accuracy: 0.8581\n",
            "Epoch 11/20\n",
            "25/25 - 0s - loss: 0.0569 - mse: 0.0569 - accuracy: 0.9273 - val_loss: 0.1101 - val_mse: 0.1100 - val_accuracy: 0.8550\n",
            "Epoch 12/20\n",
            "25/25 - 0s - loss: 0.0572 - mse: 0.0572 - accuracy: 0.9281 - val_loss: 0.1076 - val_mse: 0.1075 - val_accuracy: 0.8600\n",
            "Epoch 13/20\n",
            "25/25 - 0s - loss: 0.0536 - mse: 0.0535 - accuracy: 0.9316 - val_loss: 0.1109 - val_mse: 0.1109 - val_accuracy: 0.8550\n",
            "Epoch 14/20\n",
            "25/25 - 0s - loss: 0.0517 - mse: 0.0517 - accuracy: 0.9352 - val_loss: 0.1112 - val_mse: 0.1112 - val_accuracy: 0.8556\n",
            "Epoch 15/20\n",
            "25/25 - 0s - loss: 0.0504 - mse: 0.0503 - accuracy: 0.9361 - val_loss: 0.1151 - val_mse: 0.1150 - val_accuracy: 0.8494\n",
            "Epoch 16/20\n",
            "25/25 - 0s - loss: 0.0498 - mse: 0.0497 - accuracy: 0.9378 - val_loss: 0.1212 - val_mse: 0.1211 - val_accuracy: 0.8475\n",
            "Epoch 17/20\n",
            "25/25 - 0s - loss: 0.0477 - mse: 0.0476 - accuracy: 0.9403 - val_loss: 0.1164 - val_mse: 0.1163 - val_accuracy: 0.8531\n",
            "Epoch 18/20\n",
            "25/25 - 0s - loss: 0.0468 - mse: 0.0468 - accuracy: 0.9423 - val_loss: 0.1142 - val_mse: 0.1142 - val_accuracy: 0.8487\n",
            "Epoch 19/20\n",
            "25/25 - 0s - loss: 0.0459 - mse: 0.0458 - accuracy: 0.9450 - val_loss: 0.1155 - val_mse: 0.1154 - val_accuracy: 0.8475\n",
            "Epoch 20/20\n",
            "25/25 - 0s - loss: 0.0434 - mse: 0.0434 - accuracy: 0.9458 - val_loss: 0.1164 - val_mse: 0.1163 - val_accuracy: 0.8481\n"
          ]
        }
      ],
      "source": [
        "history = model.fit(train_model_input, train[target].values,\n",
        "                        batch_size=batch_size, epochs=epochs, verbose=2, validation_split=0.2, )"
      ]
    },
    {
      "cell_type": "code",
      "execution_count": 225,
      "metadata": {
        "colab": {
          "base_uri": "https://localhost:8080/"
        },
        "id": "_mCpIrUydIkA",
        "outputId": "5e7361d2-1410-4d1b-bfc3-5fc5e9b42a9d"
      },
      "outputs": [
        {
          "name": "stdout",
          "output_type": "stream",
          "text": [
            "test MSE 0.1087\n"
          ]
        }
      ],
      "source": [
        "pred_ans = model.predict(test_model_input, batch_size=256)\n",
        "print(\"test MSE\", round(sklearn.metrics.mean_squared_error(test[target].values, pred_ans), 4))"
      ]
    },
    {
      "cell_type": "code",
      "execution_count": 226,
      "metadata": {
        "id": "09NUI3cxd7xq"
      },
      "outputs": [],
      "source": [
        "# Extract values\n",
        "loss = history.history['loss']\n",
        "val_loss = history.history['val_loss']\n",
        "accuracy = history.history['accuracy']\n",
        "val_accuracy = history.history['val_accuracy']\n",
        "epochs = range(1, len(loss) + 1)"
      ]
    },
    {
      "cell_type": "code",
      "execution_count": 227,
      "metadata": {
        "colab": {
          "base_uri": "https://localhost:8080/",
          "height": 592
        },
        "id": "JB8dRYL2dQKn",
        "outputId": "ead056ee-b9fb-477c-983f-f49bcbac0c1e"
      },
      "outputs": [
        {
          "name": "stderr",
          "output_type": "stream",
          "text": [
            "<ipython-input-227-18e194bd7217>:15: UserWarning: color is redundantly defined by the 'color' keyword argument and the fmt string \"b-\" (-> color='b'). The keyword argument will take precedence.\n",
            "  plt.plot(epochs, loss, 'b-', label='Training loss', color='blue')\n",
            "<ipython-input-227-18e194bd7217>:16: UserWarning: color is redundantly defined by the 'color' keyword argument and the fmt string \"r--\" (-> color='r'). The keyword argument will take precedence.\n",
            "  plt.plot(epochs, val_loss, 'r--', label='Validation loss', color='lightcoral')\n",
            "<ipython-input-227-18e194bd7217>:32: UserWarning: color is redundantly defined by the 'color' keyword argument and the fmt string \"b-\" (-> color='b'). The keyword argument will take precedence.\n",
            "  plt.plot(epochs, accuracy, 'b-', label='Training accuracy', color='darkblue')\n",
            "<ipython-input-227-18e194bd7217>:33: UserWarning: color is redundantly defined by the 'color' keyword argument and the fmt string \"r--\" (-> color='r'). The keyword argument will take precedence.\n",
            "  plt.plot(epochs, val_accuracy, 'r--', label='Validation accuracy', color='darkred')\n"
          ]
        },
        {
          "data": {
            "image/png": "[encoded data removed]",
            "text/plain": [
              "<Figure size 1200x600 with 2 Axes>"
            ]
          },
          "metadata": {},
          "output_type": "display_data"
        }
      ],
      "source": [
        "epochs_list = list(range(1, 21))\n",
        "\n",
        "#getting lowest val_loss\n",
        "min_loss_epoch = epochs[val_loss.index(min(val_loss))]\n",
        "min_loss_value = min(val_loss)\n",
        "\n",
        "# getting highest val accuracy\n",
        "max_acc_epoch = epochs[val_accuracy.index(max(val_accuracy))]\n",
        "max_acc_value = max(val_accuracy)\n",
        "\n",
        "# Plotting the Loss\n",
        "plt.figure(figsize=(12, 6))\n",
        "\n",
        "plt.subplot(1, 2, 1)\n",
        "plt.plot(epochs, loss, 'b-', label='Training loss', color='blue')\n",
        "plt.plot(epochs, val_loss, 'r--', label='Validation loss', color='lightcoral')\n",
        "plt.scatter(min_loss_epoch, min_loss_value, color='red')  # Red dot at minimum validation loss\n",
        "plt.annotate(f'Epoch {min_loss_epoch}\\nLoss {min_loss_value:.2f}',\n",
        "             xy=(min_loss_epoch, min_loss_value),\n",
        "             xytext=(min_loss_epoch, min_loss_value + 0.05),\n",
        "             arrowprops=dict(facecolor='black', shrink=0.05))\n",
        "plt.title('Training and Validation Loss with DeepFM')\n",
        "ax = plt.gca()\n",
        "ax.set_xlim([0,20])\n",
        "ax.set_ylim([0,0.5])\n",
        "plt.xlabel('Epochs')\n",
        "plt.ylabel('Loss')\n",
        "plt.legend()\n",
        "\n",
        "# Plotting the Accuracy\n",
        "plt.subplot(1, 2, 2)\n",
        "plt.plot(epochs, accuracy, 'b-', label='Training accuracy', color='darkblue')\n",
        "plt.plot(epochs, val_accuracy, 'r--', label='Validation accuracy', color='darkred')\n",
        "plt.scatter(max_acc_epoch, max_acc_value, color='red')  # Red dot at maximum validation accuracy\n",
        "plt.annotate(f'Epoch {max_acc_epoch}\\nAcc {max_acc_value:.2f}',\n",
        "             xy=(max_acc_epoch, max_acc_value),\n",
        "             xytext=(max_acc_epoch, max_acc_value - 0.05),\n",
        "             arrowprops=dict(facecolor='black', shrink=0.05))\n",
        "plt.title('Training and Validation Accuracy with DeepFM')\n",
        "ax = plt.gca()\n",
        "ax.set_xlim([0,20])\n",
        "ax.set_ylim([0.5,1])\n",
        "plt.xlabel('Epochs')\n",
        "plt.ylabel('Accuracy')\n",
        "plt.legend()\n",
        "\n",
        "plt.tight_layout()\n",
        "plt.show()"
      ]
    },
    {
      "cell_type": "markdown",
      "metadata": {
        "id": "5QVbN8UJh88P"
      },
      "source": [
        "## Checking the predicted advertisement clicks with random data"
      ]
    },
    {
      "cell_type": "code",
      "execution_count": 228,
      "metadata": {
        "colab": {
          "base_uri": "https://localhost:8080/",
          "height": 118
        },
        "id": "cRB17qmJeCPW",
        "outputId": "eceeb99c-ef67-426c-b577-c972519bd70b"
      },
      "outputs": [
        {
          "data": {
            "application/vnd.google.colaboratory.intrinsic+json": {
              "summary": "{\n  \"name\": \"test_df\",\n  \"rows\": 1,\n  \"fields\": [\n    {\n      \"column\": \"daily_time_on_site\",\n      \"properties\": {\n        \"dtype\": \"number\",\n        \"std\": null,\n        \"min\": 120,\n        \"max\": 120,\n        \"num_unique_values\": 1,\n        \"samples\": [\n          120\n        ],\n        \"semantic_type\": \"\",\n        \"description\": \"\"\n      }\n    },\n    {\n      \"column\": \"Age\",\n      \"properties\": {\n        \"dtype\": \"number\",\n        \"std\": null,\n        \"min\": 26,\n        \"max\": 26,\n        \"num_unique_values\": 1,\n        \"samples\": [\n          26\n        ],\n        \"semantic_type\": \"\",\n        \"description\": \"\"\n      }\n    },\n    {\n      \"column\": \"Area_Income\",\n      \"properties\": {\n        \"dtype\": \"number\",\n        \"std\": null,\n        \"min\": 50000,\n        \"max\": 50000,\n        \"num_unique_values\": 1,\n        \"samples\": [\n          50000\n        ],\n        \"semantic_type\": \"\",\n        \"description\": \"\"\n      }\n    },\n    {\n      \"column\": \"Daily_Internet_Usage\",\n      \"properties\": {\n        \"dtype\": \"number\",\n        \"std\": null,\n        \"min\": 150,\n        \"max\": 150,\n        \"num_unique_values\": 1,\n        \"samples\": [\n          150\n        ],\n        \"semantic_type\": \"\",\n        \"description\": \"\"\n      }\n    },\n    {\n      \"column\": \"Ad_Topic_Line\",\n      \"properties\": {\n        \"dtype\": \"string\",\n        \"num_unique_values\": 1,\n        \"samples\": [\n          \"Decentralized real-time circuit\"\n        ],\n        \"semantic_type\": \"\",\n        \"description\": \"\"\n      }\n    },\n    {\n      \"column\": \"City\",\n      \"properties\": {\n        \"dtype\": \"string\",\n        \"num_unique_values\": 1,\n        \"samples\": [\n          \"West Richard\"\n        ],\n        \"semantic_type\": \"\",\n        \"description\": \"\"\n      }\n    },\n    {\n      \"column\": \"Gender\",\n      \"properties\": {\n        \"dtype\": \"string\",\n        \"num_unique_values\": 1,\n        \"samples\": [\n          \"Male\"\n        ],\n        \"semantic_type\": \"\",\n        \"description\": \"\"\n      }\n    },\n    {\n      \"column\": \"Country\",\n      \"properties\": {\n        \"dtype\": \"string\",\n        \"num_unique_values\": 1,\n        \"samples\": [\n          \"Singapore\"\n        ],\n        \"semantic_type\": \"\",\n        \"description\": \"\"\n      }\n    }\n  ]\n}",
              "type": "dataframe",
              "variable_name": "test_df"
            },
            "text/html": [
              "\n",
              "  <div id=\"df-1e0e40cc-f974-448a-8396-cc1698e511a0\" class=\"colab-df-container\">\n",
              "    <div>\n",
              "<style scoped>\n",
              "    .dataframe tbody tr th:only-of-type {\n",
              "        vertical-align: middle;\n",
              "    }\n",
              "\n",
              "    .dataframe tbody tr th {\n",
              "        vertical-align: top;\n",
              "    }\n",
              "\n",
              "    .dataframe thead th {\n",
              "        text-align: right;\n",
              "    }\n",
              "</style>\n",
              "<table border=\"1\" class=\"dataframe\">\n",
              "  <thead>\n",
              "    <tr style=\"text-align: right;\">\n",
              "      <th></th>\n",
              "      <th>daily_time_on_site</th>\n",
              "      <th>Age</th>\n",
              "      <th>Area_Income</th>\n",
              "      <th>Daily_Internet_Usage</th>\n",
              "      <th>Ad_Topic_Line</th>\n",
              "      <th>City</th>\n",
              "      <th>Gender</th>\n",
              "      <th>Country</th>\n",
              "    </tr>\n",
              "  </thead>\n",
              "  <tbody>\n",
              "    <tr>\n",
              "      <th>0</th>\n",
              "      <td>120</td>\n",
              "      <td>26</td>\n",
              "      <td>50000</td>\n",
              "      <td>150</td>\n",
              "      <td>Decentralized real-time circuit</td>\n",
              "      <td>West Richard</td>\n",
              "      <td>Male</td>\n",
              "      <td>Singapore</td>\n",
              "    </tr>\n",
              "  </tbody>\n",
              "</table>\n",
              "</div>\n",
              "    <div class=\"colab-df-buttons\">\n",
              "\n",
              "  <div class=\"colab-df-container\">\n",
              "    <button class=\"colab-df-convert\" onclick=\"convertToInteractive('df-1e0e40cc-f974-448a-8396-cc1698e511a0')\"\n",
              "            title=\"Convert this dataframe to an interactive table.\"\n",
              "            style=\"display:none;\">\n",
              "\n",
              "  <svg xmlns=\"http://www.w3.org/2000/svg\" height=\"24px\" viewBox=\"0 -960 960 960\">\n",
              "    <path d=\"M120-120v-720h720v720H120Zm60-500h600v-160H180v160Zm220 220h160v-160H400v160Zm0 220h160v-160H400v160ZM180-400h160v-160H180v160Zm440 0h160v-160H620v160ZM180-180h160v-160H180v160Zm440 0h160v-160H620v160Z\"/>\n",
              "  </svg>\n",
              "    </button>\n",
              "\n",
              "  <style>\n",
              "    .colab-df-container {\n",
              "      display:flex;\n",
              "      gap: 12px;\n",
              "    }\n",
              "\n",
              "    .colab-df-convert {\n",
              "      background-color: #E8F0FE;\n",
              "      border: none;\n",
              "      border-radius: 50%;\n",
              "      cursor: pointer;\n",
              "      display: none;\n",
              "      fill: #1967D2;\n",
              "      height: 32px;\n",
              "      padding: 0 0 0 0;\n",
              "      width: 32px;\n",
              "    }\n",
              "\n",
              "    .colab-df-convert:hover {\n",
              "      background-color: #E2EBFA;\n",
              "      box-shadow: 0px 1px 2px rgba(60, 64, 67, 0.3), 0px 1px 3px 1px rgba(60, 64, 67, 0.15);\n",
              "      fill: #174EA6;\n",
              "    }\n",
              "\n",
              "    .colab-df-buttons div {\n",
              "      margin-bottom: 4px;\n",
              "    }\n",
              "\n",
              "    [theme=dark] .colab-df-convert {\n",
              "      background-color: #3B4455;\n",
              "      fill: #D2E3FC;\n",
              "    }\n",
              "\n",
              "    [theme=dark] .colab-df-convert:hover {\n",
              "      background-color: #434B5C;\n",
              "      box-shadow: 0px 1px 3px 1px rgba(0, 0, 0, 0.15);\n",
              "      filter: drop-shadow(0px 1px 2px rgba(0, 0, 0, 0.3));\n",
              "      fill: #FFFFFF;\n",
              "    }\n",
              "  </style>\n",
              "\n",
              "    <script>\n",
              "      const buttonEl =\n",
              "        document.querySelector('#df-1e0e40cc-f974-448a-8396-cc1698e511a0 button.colab-df-convert');\n",
              "      buttonEl.style.display =\n",
              "        google.colab.kernel.accessAllowed ? 'block' : 'none';\n",
              "\n",
              "      async function convertToInteractive(key) {\n",
              "        const element = document.querySelector('#df-1e0e40cc-f974-448a-8396-cc1698e511a0');\n",
              "        const dataTable =\n",
              "          await google.colab.kernel.invokeFunction('convertToInteractive',\n",
              "                                                    [key], {});\n",
              "        if (!dataTable) return;\n",
              "\n",
              "        const docLinkHtml = 'Like what you see? Visit the ' +\n",
              "          '<a target=\"_blank\" href=https://colab.research.google.com/notebooks/data_table.ipynb>data table notebook</a>'\n",
              "          + ' to learn more about interactive tables.';\n",
              "        element.innerHTML = '';\n",
              "        dataTable['output_type'] = 'display_data';\n",
              "        await google.colab.output.renderOutput(dataTable, element);\n",
              "        const docLink = document.createElement('div');\n",
              "        docLink.innerHTML = docLinkHtml;\n",
              "        element.appendChild(docLink);\n",
              "      }\n",
              "    </script>\n",
              "  </div>\n",
              "\n",
              "    </div>\n",
              "  </div>\n"
            ],
            "text/plain": [
              "   daily_time_on_site  Age  Area_Income  Daily_Internet_Usage  \\\n",
              "0                 120   26        50000                   150   \n",
              "\n",
              "                     Ad_Topic_Line          City Gender    Country  \n",
              "0  Decentralized real-time circuit  West Richard   Male  Singapore  "
            ]
          },
          "execution_count": 228,
          "metadata": {},
          "output_type": "execute_result"
        }
      ],
      "source": [
        "user_input = {\n",
        "  'daily_time_on_site':[ 120],\n",
        "  'Age':[ 26],\n",
        "  'Area_Income':[ 50000],\n",
        "  'Daily_Internet_Usage':[ 150],\n",
        "  'Ad_Topic_Line':[ 'Decentralized real-time circuit'],\n",
        "  'City':[ 'West Richard'],\n",
        "  'Gender':['Male'],\n",
        "  'Country':['Singapore']\n",
        "}\n",
        "test_df = pd.DataFrame(user_input)\n",
        "test_df.head()"
      ]
    },
    {
      "cell_type": "code",
      "execution_count": null,
      "metadata": {
        "colab": {
          "base_uri": "https://localhost:8080/"
        },
        "id": "JhwJ-d0eiTL7",
        "outputId": "98e23e78-d3c2-423c-e456-505e4b0a6ba1"
      },
      "outputs": [],
      "source": [
        "for feature in sparse_features:\n",
        "  test_df[feature] = label_encoders[feature].transform([test_df[feature]])\n",
        "for feature in numerical_features:\n",
        "  test_df[feature] = scalers[feature].transform(test_df[feature].values.reshape(-1, 1))\n",
        "\n",
        "# preparing user inputs to the model\n",
        "user_input_model = {name:test_df[name] for name in feature_names}\n",
        "user_input_model"
      ]
    },
    {
      "cell_type": "code",
      "execution_count": 230,
      "metadata": {
        "colab": {
          "base_uri": "https://localhost:8080/"
        },
        "id": "bdRYPPTFoZ9s",
        "outputId": "09656a9b-6905-4fc5-e380-f688f574c4d4"
      },
      "outputs": [
        {
          "name": "stdout",
          "output_type": "stream",
          "text": [
            "<class 'pandas.core.series.Series'> (8000,)\n"
          ]
        },
        {
          "data": {
            "text/plain": [
              "(pandas.core.series.Series, (1,))"
            ]
          },
          "execution_count": 230,
          "metadata": {},
          "output_type": "execute_result"
        }
      ],
      "source": [
        "# matching the random test data with the format of model input data\n",
        "\n",
        "all_keys_train = list(train_model_input.values())\n",
        "all_keys_inp = list(user_input_model.values())\n",
        "print(type(all_keys_train[0]), all_keys_train[0].shape)\n",
        "type(all_keys_inp[0]), all_keys_inp[0].shape"
      ]
    },
    {
      "cell_type": "markdown",
      "metadata": {
        "id": "eYZW8f6t616l"
      },
      "source": [
        "### Error in inference shapes"
      ]
    },
    {
      "cell_type": "code",
      "execution_count": 231,
      "metadata": {
        "colab": {
          "base_uri": "https://localhost:8080/"
        },
        "id": "Sr17fWrBjbdI",
        "outputId": "9f4004d5-75b0-4cfe-f565-59e7713125ea"
      },
      "outputs": [
        {
          "name": "stdout",
          "output_type": "stream",
          "text": [
            "Predicted click rate: 0.057296365\n"
          ]
        }
      ],
      "source": [
        "# Predict the rating\n",
        "predicted_rating = model.predict(user_input_model)\n",
        "print(\"Predicted click rate:\", predicted_rating[0][0])"
      ]
    }
  ],
  "metadata": {
    "colab": {
      "provenance": []
    },
    "kernelspec": {
      "display_name": "Python 3",
      "name": "python3"
    },
    "language_info": {
      "name": "python"
    }
  },
  "nbformat": 4,
  "nbformat_minor": 0
}
