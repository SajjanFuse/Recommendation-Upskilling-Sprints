{
 "cells": [
  {
   "cell_type": "code",
   "execution_count": 2,
   "metadata": {},
   "outputs": [],
   "source": [
    "import numpy as np \n",
    "import matplotlib.pyplot as plt\n",
    "import pandas as pd "
   ]
  },
  {
   "cell_type": "code",
   "execution_count": 3,
   "metadata": {},
   "outputs": [],
   "source": [
    "from sklearn.metrics import log_loss, roc_auc_score\n",
    "from sklearn.model_selection import train_test_split\n",
    "from sklearn.preprocessing import LabelEncoder, MinMaxScaler\n",
    "\n",
    "from deepctr.models import *\n",
    "from deepctr.feature_column import SparseFeat, DenseFeat, get_feature_names"
   ]
  },
  {
   "cell_type": "code",
   "execution_count": 5,
   "metadata": {},
   "outputs": [],
   "source": [
    "data = pd.read_csv('sample.txt')\n",
    "\n",
    "sparse_features = ['C' + str(i) for i in range(1, 27)]\n",
    "dense_features = ['I' + str(i) for i in range(1, 14)]\n",
    "\n",
    "data[sparse_features] = data[sparse_features].fillna('-1', )\n",
    "data[dense_features] = data[dense_features].fillna(0, )\n",
    "target = ['label']\n",
    "\n",
    "for feat in sparse_features:\n",
    "    lbe = LabelEncoder()\n",
    "    data[feat] = lbe.fit_transform(data[feat])\n",
    "mms = MinMaxScaler(feature_range=(0, 1))\n",
    "data[dense_features] = mms.fit_transform(data[dense_features])\n",
    "\n",
    "# 2.count #unique features for each sparse field,and record dense feature field name\n",
    "\n",
    "fixlen_feature_columns = [SparseFeat(feat, vocabulary_size=data[feat].max() + 1, embedding_dim=4)\n",
    "                            for i, feat in enumerate(sparse_features)] + [DenseFeat(feat, 1, )\n",
    "                                                                        for feat in dense_features]\n",
    "\n",
    "dnn_feature_columns = fixlen_feature_columns\n",
    "linear_feature_columns = fixlen_feature_columns\n",
    "\n",
    "feature_names = get_feature_names(linear_feature_columns + dnn_feature_columns)"
   ]
  },
  {
   "cell_type": "code",
   "execution_count": 9,
   "metadata": {},
   "outputs": [
    {
     "name": "stdout",
     "output_type": "stream",
     "text": [
      "Epoch 1/30\n",
      "1/1 - 3s - loss: 0.7207 - binary_crossentropy: 0.7207 - val_loss: 0.7286 - val_binary_crossentropy: 0.7286\n",
      "Epoch 2/30\n",
      "1/1 - 0s - loss: 0.6936 - binary_crossentropy: 0.6936 - val_loss: 0.7108 - val_binary_crossentropy: 0.7108\n",
      "Epoch 3/30\n",
      "1/1 - 0s - loss: 0.6686 - binary_crossentropy: 0.6686 - val_loss: 0.6941 - val_binary_crossentropy: 0.6941\n",
      "Epoch 4/30\n",
      "1/1 - 0s - loss: 0.6449 - binary_crossentropy: 0.6448 - val_loss: 0.6783 - val_binary_crossentropy: 0.6783\n",
      "Epoch 5/30\n",
      "1/1 - 0s - loss: 0.6217 - binary_crossentropy: 0.6217 - val_loss: 0.6631 - val_binary_crossentropy: 0.6631\n",
      "Epoch 6/30\n",
      "1/1 - 0s - loss: 0.5985 - binary_crossentropy: 0.5985 - val_loss: 0.6486 - val_binary_crossentropy: 0.6486\n",
      "Epoch 7/30\n",
      "1/1 - 0s - loss: 0.5753 - binary_crossentropy: 0.5753 - val_loss: 0.6350 - val_binary_crossentropy: 0.6350\n",
      "Epoch 8/30\n",
      "1/1 - 0s - loss: 0.5525 - binary_crossentropy: 0.5525 - val_loss: 0.6231 - val_binary_crossentropy: 0.6230\n",
      "Epoch 9/30\n",
      "1/1 - 0s - loss: 0.5303 - binary_crossentropy: 0.5303 - val_loss: 0.6133 - val_binary_crossentropy: 0.6133\n",
      "Epoch 10/30\n",
      "1/1 - 0s - loss: 0.5091 - binary_crossentropy: 0.5091 - val_loss: 0.6063 - val_binary_crossentropy: 0.6062\n",
      "Epoch 11/30\n",
      "1/1 - 0s - loss: 0.4893 - binary_crossentropy: 0.4892 - val_loss: 0.6024 - val_binary_crossentropy: 0.6023\n",
      "Epoch 12/30\n",
      "1/1 - 0s - loss: 0.4710 - binary_crossentropy: 0.4710 - val_loss: 0.6017 - val_binary_crossentropy: 0.6017\n",
      "Epoch 13/30\n",
      "1/1 - 0s - loss: 0.4543 - binary_crossentropy: 0.4542 - val_loss: 0.6036 - val_binary_crossentropy: 0.6036\n",
      "Epoch 14/30\n",
      "1/1 - 0s - loss: 0.4385 - binary_crossentropy: 0.4385 - val_loss: 0.6074 - val_binary_crossentropy: 0.6074\n",
      "Epoch 15/30\n",
      "1/1 - 0s - loss: 0.4229 - binary_crossentropy: 0.4228 - val_loss: 0.6119 - val_binary_crossentropy: 0.6119\n",
      "Epoch 16/30\n",
      "1/1 - 0s - loss: 0.4062 - binary_crossentropy: 0.4062 - val_loss: 0.6158 - val_binary_crossentropy: 0.6158\n",
      "Epoch 17/30\n",
      "1/1 - 0s - loss: 0.3877 - binary_crossentropy: 0.3877 - val_loss: 0.6185 - val_binary_crossentropy: 0.6184\n",
      "Epoch 18/30\n",
      "1/1 - 0s - loss: 0.3671 - binary_crossentropy: 0.3670 - val_loss: 0.6198 - val_binary_crossentropy: 0.6198\n",
      "Epoch 19/30\n",
      "1/1 - 0s - loss: 0.3447 - binary_crossentropy: 0.3447 - val_loss: 0.6203 - val_binary_crossentropy: 0.6203\n",
      "Epoch 20/30\n",
      "1/1 - 0s - loss: 0.3213 - binary_crossentropy: 0.3212 - val_loss: 0.6203 - val_binary_crossentropy: 0.6203\n",
      "Epoch 21/30\n",
      "1/1 - 0s - loss: 0.2974 - binary_crossentropy: 0.2974 - val_loss: 0.6207 - val_binary_crossentropy: 0.6206\n",
      "Epoch 22/30\n",
      "1/1 - 0s - loss: 0.2739 - binary_crossentropy: 0.2739 - val_loss: 0.6219 - val_binary_crossentropy: 0.6218\n",
      "Epoch 23/30\n",
      "1/1 - 0s - loss: 0.2512 - binary_crossentropy: 0.2512 - val_loss: 0.6242 - val_binary_crossentropy: 0.6242\n",
      "Epoch 24/30\n",
      "1/1 - 0s - loss: 0.2297 - binary_crossentropy: 0.2296 - val_loss: 0.6280 - val_binary_crossentropy: 0.6280\n",
      "Epoch 25/30\n",
      "1/1 - 0s - loss: 0.2093 - binary_crossentropy: 0.2092 - val_loss: 0.6333 - val_binary_crossentropy: 0.6333\n",
      "Epoch 26/30\n",
      "1/1 - 0s - loss: 0.1902 - binary_crossentropy: 0.1901 - val_loss: 0.6402 - val_binary_crossentropy: 0.6402\n",
      "Epoch 27/30\n",
      "1/1 - 0s - loss: 0.1728 - binary_crossentropy: 0.1728 - val_loss: 0.6487 - val_binary_crossentropy: 0.6487\n",
      "Epoch 28/30\n",
      "1/1 - 0s - loss: 0.1573 - binary_crossentropy: 0.1572 - val_loss: 0.6592 - val_binary_crossentropy: 0.6591\n",
      "Epoch 29/30\n",
      "1/1 - 0s - loss: 0.1433 - binary_crossentropy: 0.1432 - val_loss: 0.6713 - val_binary_crossentropy: 0.6712\n",
      "Epoch 30/30\n",
      "1/1 - 0s - loss: 0.1307 - binary_crossentropy: 0.1307 - val_loss: 0.6857 - val_binary_crossentropy: 0.6857\n"
     ]
    }
   ],
   "source": [
    "# 3.generate input data for model\n",
    "epochs = 30\n",
    "\n",
    "\n",
    "train, test = train_test_split(data, test_size=0.2, random_state=2020)\n",
    "train_model_input = {name: train[name] for name in feature_names}\n",
    "test_model_input = {name: test[name] for name in feature_names}\n",
    "\n",
    "# 4.Define Model,train,predict and evaluate\n",
    "model = DeepFM(linear_feature_columns, dnn_feature_columns, task='binary')\n",
    "model.compile(\"adam\", \"binary_crossentropy\",\n",
    "                metrics=['binary_crossentropy'], )\n",
    "\n",
    "history = model.fit(train_model_input, train[target].values,\n",
    "                    batch_size=256, epochs=epochs, verbose=2, validation_split=0.2, )"
   ]
  },
  {
   "cell_type": "code",
   "execution_count": 12,
   "metadata": {},
   "outputs": [
    {
     "data": {
      "text/plain": [
       "11"
      ]
     },
     "execution_count": 12,
     "metadata": {},
     "output_type": "execute_result"
    }
   ],
   "source": [
    "val_loss.index(min(val_loss))"
   ]
  },
  {
   "cell_type": "code",
   "execution_count": 16,
   "metadata": {},
   "outputs": [
    {
     "name": "stderr",
     "output_type": "stream",
     "text": [
      "c:\\Users\\OMEN\\anaconda3\\envs\\deepctr\\lib\\site-packages\\ipykernel_launcher.py:15: UserWarning: color is redundantly defined by the 'color' keyword argument and the fmt string \"b-\" (-> color='b'). The keyword argument will take precedence.\n",
      "  from ipykernel import kernelapp as app\n",
      "c:\\Users\\OMEN\\anaconda3\\envs\\deepctr\\lib\\site-packages\\ipykernel_launcher.py:16: UserWarning: color is redundantly defined by the 'color' keyword argument and the fmt string \"r--\" (-> color='r'). The keyword argument will take precedence.\n",
      "  app.launch_new_instance()\n"
     ]
    },
    {
     "data": {
      "image/png": "[encoded data removed]",
      "text/plain": [
       "<Figure size 864x432 with 1 Axes>"
      ]
     },
     "metadata": {
      "needs_background": "light"
     },
     "output_type": "display_data"
    }
   ],
   "source": [
    "loss = history.history['loss']\n",
    "val_loss = history.history['val_loss']\n",
    "\n",
    "epochs_list = range(1, len(loss) + 1)\n",
    "\n",
    "#getting lowest val_loss\n",
    "min_loss_epoch = epochs_list[val_loss.index(min(val_loss))]\n",
    "min_loss_value = min(val_loss)\n",
    "\n",
    "\n",
    "# Plotting the Loss\n",
    "plt.figure(figsize=(12, 6))\n",
    "\n",
    "plt.subplot(1, 2, 1)\n",
    "plt.plot(epochs_list, loss, 'b-', label='Training loss', color='blue')\n",
    "plt.plot(epochs_list, val_loss, 'r--', label='Validation loss', color='lightcoral')\n",
    "plt.scatter(min_loss_epoch, min_loss_value, color='red')  # Red dot at minimum validation loss\n",
    "plt.annotate(f'Epoch {min_loss_epoch}\\nLoss {min_loss_value:.2f}',\n",
    "             xy=(min_loss_epoch, min_loss_value),\n",
    "             xytext=(min_loss_epoch, min_loss_value + 0.05),\n",
    "             arrowprops=dict(facecolor='black', shrink=0.05))\n",
    "plt.title('Training and Validation Loss with DeepFM')\n",
    "ax = plt.gca()\n",
    "ax.set_xlim([0,30])\n",
    "ax.set_ylim([0,1])\n",
    "plt.xlabel('Epochs')\n",
    "plt.ylabel('Loss')\n",
    "plt.legend()\n",
    "\n",
    "plt.tight_layout()\n",
    "plt.show()"
   ]
  },
  {
   "cell_type": "code",
   "execution_count": 17,
   "metadata": {},
   "outputs": [
    {
     "name": "stdout",
     "output_type": "stream",
     "text": [
      "test LogLoss 0.4743\n",
      "test AUC 0.7527\n"
     ]
    }
   ],
   "source": [
    "pred_ans = model.predict(test_model_input, batch_size=256)\n",
    "print(\"test LogLoss\", round(log_loss(test[target].values, pred_ans), 4))\n",
    "print(\"test AUC\", round(roc_auc_score(test[target].values, pred_ans), 4))"
   ]
  },
  {
   "cell_type": "code",
   "execution_count": 19,
   "metadata": {},
   "outputs": [
    {
     "data": {
      "text/plain": [
       "dict_keys(['C1', 'C2', 'C3', 'C4', 'C5', 'C6', 'C7', 'C8', 'C9', 'C10', 'C11', 'C12', 'C13', 'C14', 'C15', 'C16', 'C17', 'C18', 'C19', 'C20', 'C21', 'C22', 'C23', 'C24', 'C25', 'C26', 'I1', 'I2', 'I3', 'I4', 'I5', 'I6', 'I7', 'I8', 'I9', 'I10', 'I11', 'I12', 'I13'])"
      ]
     },
     "execution_count": 19,
     "metadata": {},
     "output_type": "execute_result"
    }
   ],
   "source": [
    "test_model_input.keys()"
   ]
  },
  {
   "cell_type": "code",
   "execution_count": 20,
   "metadata": {},
   "outputs": [
    {
     "data": {
      "text/plain": [
       "tensorflow.python.keras.engine.functional.Functional"
      ]
     },
     "execution_count": 20,
     "metadata": {},
     "output_type": "execute_result"
    }
   ],
   "source": [
    "type(model)"
   ]
  },
  {
   "cell_type": "code",
   "execution_count": null,
   "metadata": {},
   "outputs": [],
   "source": []
  }
 ],
 "metadata": {
  "kernelspec": {
   "display_name": "deepctr",
   "language": "python",
   "name": "python3"
  },
  "language_info": {
   "codemirror_mode": {
    "name": "ipython",
    "version": 3
   },
   "file_extension": ".py",
   "mimetype": "text/x-python",
   "name": "python",
   "nbconvert_exporter": "python",
   "pygments_lexer": "ipython3",
   "version": "3.7.12"
  }
 },
 "nbformat": 4,
 "nbformat_minor": 2
}
