{
 "cells": [
  {
   "cell_type": "code",
   "execution_count": 1,
   "metadata": {},
   "outputs": [],
   "source": [
    "from sklearn.metrics import log_loss, roc_auc_score\n",
    "from sklearn.model_selection import train_test_split\n",
    "from sklearn.preprocessing import LabelEncoder, MinMaxScaler\n",
    "\n",
    "from deepctr.models import *\n",
    "from deepctr.feature_column import SparseFeat, DenseFeat, get_feature_names\n",
    "\n",
    "import numpy as np \n",
    "import matplotlib.pyplot as plt\n",
    "import pandas as pd "
   ]
  },
  {
   "cell_type": "code",
   "execution_count": 2,
   "metadata": {},
   "outputs": [],
   "source": [
    "data = pd.read_csv('sample.txt')\n",
    "\n",
    "sparse_features = ['C' + str(i) for i in range(1, 27)]\n",
    "dense_features = ['I' + str(i) for i in range(1, 14)]\n",
    "\n",
    "data[sparse_features] = data[sparse_features].fillna('-1', )\n",
    "data[dense_features] = data[dense_features].fillna(0, )\n",
    "target = ['label']\n",
    "\n",
    "# 1.do simple Transformation for dense features\n",
    "mms = MinMaxScaler(feature_range=(0, 1))\n",
    "data[dense_features] = mms.fit_transform(data[dense_features])\n",
    "\n",
    "# 2.set hashing space for each sparse field,and record dense feature field name\n",
    "\n",
    "fixlen_feature_columns = [SparseFeat(feat, vocabulary_size=1000, embedding_dim=4, use_hash=True, dtype='string')\n",
    "                            # since the input is string\n",
    "                            for feat in sparse_features] + [DenseFeat(feat, 1, )\n",
    "                                                            for feat in dense_features]\n",
    "\n",
    "linear_feature_columns = fixlen_feature_columns\n",
    "dnn_feature_columns = fixlen_feature_columns\n",
    "feature_names = get_feature_names(linear_feature_columns + dnn_feature_columns, )\n"
   ]
  },
  {
   "cell_type": "code",
   "execution_count": 3,
   "metadata": {},
   "outputs": [],
   "source": [
    "# 3.generate input data for model\n",
    "\n",
    "train, test = train_test_split(data, test_size=0.2, random_state=2020)\n",
    "\n",
    "train_model_input = {name: train[name] for name in feature_names}\n",
    "test_model_input = {name: test[name] for name in feature_names}"
   ]
  },
  {
   "cell_type": "code",
   "execution_count": 6,
   "metadata": {},
   "outputs": [
    {
     "name": "stdout",
     "output_type": "stream",
     "text": [
      "Epoch 1/30\n",
      "1/1 - 4s - loss: 0.6540 - binary_crossentropy: 0.6540 - val_loss: 0.6337 - val_binary_crossentropy: 0.6337\n",
      "Epoch 2/30\n",
      "1/1 - 0s - loss: 0.6372 - binary_crossentropy: 0.6372 - val_loss: 0.6271 - val_binary_crossentropy: 0.6270\n",
      "Epoch 3/30\n",
      "1/1 - 0s - loss: 0.6228 - binary_crossentropy: 0.6228 - val_loss: 0.6206 - val_binary_crossentropy: 0.6206\n",
      "Epoch 4/30\n",
      "1/1 - 0s - loss: 0.6091 - binary_crossentropy: 0.6091 - val_loss: 0.6142 - val_binary_crossentropy: 0.6141\n",
      "Epoch 5/30\n",
      "1/1 - 0s - loss: 0.5957 - binary_crossentropy: 0.5957 - val_loss: 0.6076 - val_binary_crossentropy: 0.6076\n",
      "Epoch 6/30\n",
      "1/1 - 0s - loss: 0.5823 - binary_crossentropy: 0.5823 - val_loss: 0.6013 - val_binary_crossentropy: 0.6013\n",
      "Epoch 7/30\n",
      "1/1 - 0s - loss: 0.5687 - binary_crossentropy: 0.5687 - val_loss: 0.5951 - val_binary_crossentropy: 0.5951\n",
      "Epoch 8/30\n",
      "1/1 - 0s - loss: 0.5547 - binary_crossentropy: 0.5547 - val_loss: 0.5893 - val_binary_crossentropy: 0.5893\n",
      "Epoch 9/30\n",
      "1/1 - 0s - loss: 0.5404 - binary_crossentropy: 0.5403 - val_loss: 0.5837 - val_binary_crossentropy: 0.5837\n",
      "Epoch 10/30\n",
      "1/1 - 0s - loss: 0.5255 - binary_crossentropy: 0.5254 - val_loss: 0.5787 - val_binary_crossentropy: 0.5786\n",
      "Epoch 11/30\n",
      "1/1 - 0s - loss: 0.5101 - binary_crossentropy: 0.5100 - val_loss: 0.5741 - val_binary_crossentropy: 0.5740\n",
      "Epoch 12/30\n",
      "1/1 - 0s - loss: 0.4941 - binary_crossentropy: 0.4941 - val_loss: 0.5702 - val_binary_crossentropy: 0.5702\n",
      "Epoch 13/30\n",
      "1/1 - 0s - loss: 0.4776 - binary_crossentropy: 0.4776 - val_loss: 0.5678 - val_binary_crossentropy: 0.5677\n",
      "Epoch 14/30\n",
      "1/1 - 0s - loss: 0.4604 - binary_crossentropy: 0.4603 - val_loss: 0.5666 - val_binary_crossentropy: 0.5665\n",
      "Epoch 15/30\n",
      "1/1 - 0s - loss: 0.4423 - binary_crossentropy: 0.4423 - val_loss: 0.5666 - val_binary_crossentropy: 0.5665\n",
      "Epoch 16/30\n",
      "1/1 - 0s - loss: 0.4233 - binary_crossentropy: 0.4232 - val_loss: 0.5678 - val_binary_crossentropy: 0.5678\n",
      "Epoch 17/30\n",
      "1/1 - 0s - loss: 0.4029 - binary_crossentropy: 0.4029 - val_loss: 0.5701 - val_binary_crossentropy: 0.5700\n",
      "Epoch 18/30\n",
      "1/1 - 0s - loss: 0.3809 - binary_crossentropy: 0.3809 - val_loss: 0.5731 - val_binary_crossentropy: 0.5731\n",
      "Epoch 19/30\n",
      "1/1 - 0s - loss: 0.3575 - binary_crossentropy: 0.3575 - val_loss: 0.5772 - val_binary_crossentropy: 0.5772\n",
      "Epoch 20/30\n",
      "1/1 - 0s - loss: 0.3325 - binary_crossentropy: 0.3325 - val_loss: 0.5823 - val_binary_crossentropy: 0.5822\n",
      "Epoch 21/30\n",
      "1/1 - 0s - loss: 0.3062 - binary_crossentropy: 0.3062 - val_loss: 0.5886 - val_binary_crossentropy: 0.5886\n",
      "Epoch 22/30\n",
      "1/1 - 0s - loss: 0.2790 - binary_crossentropy: 0.2790 - val_loss: 0.5967 - val_binary_crossentropy: 0.5967\n",
      "Epoch 23/30\n",
      "1/1 - 0s - loss: 0.2515 - binary_crossentropy: 0.2515 - val_loss: 0.6070 - val_binary_crossentropy: 0.6069\n",
      "Epoch 24/30\n",
      "1/1 - 0s - loss: 0.2242 - binary_crossentropy: 0.2242 - val_loss: 0.6194 - val_binary_crossentropy: 0.6193\n",
      "Epoch 25/30\n",
      "1/1 - 0s - loss: 0.1978 - binary_crossentropy: 0.1977 - val_loss: 0.6345 - val_binary_crossentropy: 0.6345\n",
      "Epoch 26/30\n",
      "1/1 - 0s - loss: 0.1726 - binary_crossentropy: 0.1725 - val_loss: 0.6527 - val_binary_crossentropy: 0.6526\n",
      "Epoch 27/30\n",
      "1/1 - 0s - loss: 0.1490 - binary_crossentropy: 0.1490 - val_loss: 0.6737 - val_binary_crossentropy: 0.6736\n",
      "Epoch 28/30\n",
      "1/1 - 0s - loss: 0.1276 - binary_crossentropy: 0.1276 - val_loss: 0.6983 - val_binary_crossentropy: 0.6983\n",
      "Epoch 29/30\n",
      "1/1 - 0s - loss: 0.1084 - binary_crossentropy: 0.1083 - val_loss: 0.7264 - val_binary_crossentropy: 0.7263\n",
      "Epoch 30/30\n",
      "1/1 - 0s - loss: 0.0912 - binary_crossentropy: 0.0911 - val_loss: 0.7575 - val_binary_crossentropy: 0.7574\n"
     ]
    }
   ],
   "source": [
    "# 4.Define Model,train,predict and evaluate\n",
    "model = DeepFM(linear_feature_columns, dnn_feature_columns, task='binary')\n",
    "model.compile(\"adam\", \"binary_crossentropy\",\n",
    "                metrics=['binary_crossentropy'], )\n",
    "\n",
    "history = model.fit(train_model_input, train[target].values,\n",
    "                    batch_size=256, epochs=30, verbose=2, validation_split=0.2, )"
   ]
  },
  {
   "cell_type": "code",
   "execution_count": 7,
   "metadata": {},
   "outputs": [
    {
     "name": "stderr",
     "output_type": "stream",
     "text": [
      "c:\\Users\\OMEN\\anaconda3\\envs\\deepctr\\lib\\site-packages\\ipykernel_launcher.py:15: UserWarning: color is redundantly defined by the 'color' keyword argument and the fmt string \"b-\" (-> color='b'). The keyword argument will take precedence.\n",
      "  from ipykernel import kernelapp as app\n",
      "c:\\Users\\OMEN\\anaconda3\\envs\\deepctr\\lib\\site-packages\\ipykernel_launcher.py:16: UserWarning: color is redundantly defined by the 'color' keyword argument and the fmt string \"r--\" (-> color='r'). The keyword argument will take precedence.\n",
      "  app.launch_new_instance()\n"
     ]
    },
    {
     "data": {
      "image/png": "[encoded data removed]",
      "text/plain": [
       "<Figure size 864x432 with 1 Axes>"
      ]
     },
     "metadata": {
      "needs_background": "light"
     },
     "output_type": "display_data"
    }
   ],
   "source": [
    "loss = history.history['loss']\n",
    "val_loss = history.history['val_loss']\n",
    "\n",
    "epochs_list = range(1, len(loss) + 1)\n",
    "\n",
    "#getting lowest val_loss\n",
    "min_loss_epoch = epochs_list[val_loss.index(min(val_loss))]\n",
    "min_loss_value = min(val_loss)\n",
    "\n",
    "\n",
    "# Plotting the Loss\n",
    "plt.figure(figsize=(12, 6))\n",
    "\n",
    "plt.subplot(1, 2, 1)\n",
    "plt.plot(epochs_list, loss, 'b-', label='Training loss', color='blue')\n",
    "plt.plot(epochs_list, val_loss, 'r--', label='Validation loss', color='lightcoral')\n",
    "plt.scatter(min_loss_epoch, min_loss_value, color='red')  # Red dot at minimum validation loss\n",
    "plt.annotate(f'Epoch {min_loss_epoch}\\nLoss {min_loss_value:.2f}',\n",
    "             xy=(min_loss_epoch, min_loss_value),\n",
    "             xytext=(min_loss_epoch, min_loss_value + 0.05),\n",
    "             arrowprops=dict(facecolor='black', shrink=0.05))\n",
    "plt.title('Training and Validation Loss with DeepFM')\n",
    "ax = plt.gca()\n",
    "ax.set_xlim([0,30])\n",
    "ax.set_ylim([0,1])\n",
    "plt.xlabel('Epochs')\n",
    "plt.ylabel('Loss')\n",
    "plt.legend()\n",
    "\n",
    "plt.tight_layout()\n",
    "plt.show()"
   ]
  },
  {
   "cell_type": "code",
   "execution_count": 8,
   "metadata": {},
   "outputs": [
    {
     "name": "stdout",
     "output_type": "stream",
     "text": [
      "test LogLoss 0.4365\n",
      "test AUC 0.8781\n"
     ]
    }
   ],
   "source": [
    "pred_ans = model.predict(test_model_input, batch_size=256)\n",
    "print(\"test LogLoss\", round(log_loss(test[target].values, pred_ans), 4))\n",
    "print(\"test AUC\", round(roc_auc_score(test[target].values, pred_ans), 4))"
   ]
  },
  {
   "cell_type": "code",
   "execution_count": null,
   "metadata": {},
   "outputs": [],
   "source": []
  }
 ],
 "metadata": {
  "kernelspec": {
   "display_name": "deepctr",
   "language": "python",
   "name": "python3"
  },
  "language_info": {
   "codemirror_mode": {
    "name": "ipython",
    "version": 3
   },
   "file_extension": ".py",
   "mimetype": "text/x-python",
   "name": "python",
   "nbconvert_exporter": "python",
   "pygments_lexer": "ipython3",
   "version": "3.7.12"
  }
 },
 "nbformat": 4,
 "nbformat_minor": 2
}
