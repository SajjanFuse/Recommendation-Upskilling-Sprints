{
  "cells": [
    {
      "cell_type": "code",
      "execution_count": 1,
      "metadata": {
        "colab": {
          "base_uri": "https://localhost:8080/"
        },
        "id": "0hJ_kyHfBRnf",
        "outputId": "36c717d7-fc43-4811-ea02-8ebec7e1e9db"
      },
      "outputs": [
        {
          "name": "stdout",
          "output_type": "stream",
          "text": [
            "\u001b[2K     \u001b[90m━━━━━━━━━━━━━━━━━━━━━━━━━━━━━━━━━━━━━━━━\u001b[0m \u001b[32m497.6/497.6 MB\u001b[0m \u001b[31m1.9 MB/s\u001b[0m eta \u001b[36m0:00:00\u001b[0m\n",
            "\u001b[2K     \u001b[90m━━━━━━━━━━━━━━━━━━━━━━━━━━━━━━━━━━━━━━━━\u001b[0m \u001b[32m42.6/42.6 kB\u001b[0m \u001b[31m4.9 MB/s\u001b[0m eta \u001b[36m0:00:00\u001b[0m\n",
            "\u001b[2K     \u001b[90m━━━━━━━━━━━━━━━━━━━━━━━━━━━━━━━━━━━━━━━━\u001b[0m \u001b[32m5.8/5.8 MB\u001b[0m \u001b[31m90.3 MB/s\u001b[0m eta \u001b[36m0:00:00\u001b[0m\n",
            "\u001b[2K     \u001b[90m━━━━━━━━━━━━━━━━━━━━━━━━━━━━━━━━━━━━━━━━\u001b[0m \u001b[32m462.5/462.5 kB\u001b[0m \u001b[31m39.7 MB/s\u001b[0m eta \u001b[36m0:00:00\u001b[0m\n",
            "\u001b[2K     \u001b[90m━━━━━━━━━━━━━━━━━━━━━━━━━━━━━━━━━━━━━━━━\u001b[0m \u001b[32m1.4/1.4 MB\u001b[0m \u001b[31m67.8 MB/s\u001b[0m eta \u001b[36m0:00:00\u001b[0m\n",
            "\u001b[2K     \u001b[90m━━━━━━━━━━━━━━━━━━━━━━━━━━━━━━━━━━━━━━━━\u001b[0m \u001b[32m4.9/4.9 MB\u001b[0m \u001b[31m87.1 MB/s\u001b[0m eta \u001b[36m0:00:00\u001b[0m\n",
            "\u001b[2K     \u001b[90m━━━━━━━━━━━━━━━━━━━━━━━━━━━━━━━━━━━━━━━━\u001b[0m \u001b[32m781.3/781.3 kB\u001b[0m \u001b[31m44.7 MB/s\u001b[0m eta \u001b[36m0:00:00\u001b[0m\n",
            "\u001b[?25h\u001b[31mERROR: pip's dependency resolver does not currently take into account all the packages that are installed. This behaviour is the source of the following dependency conflicts.\n",
            "pandas-gbq 0.19.2 requires google-auth-oauthlib>=0.7.0, but you have google-auth-oauthlib 0.4.6 which is incompatible.\u001b[0m\u001b[31m\n",
            "\u001b[2K     \u001b[90m━━━━━━━━━━━━━━━━━━━━━━━━━━━━━━━━━━━━━━━━\u001b[0m \u001b[32m141.2/141.2 kB\u001b[0m \u001b[31m6.4 MB/s\u001b[0m eta \u001b[36m0:00:00\u001b[0m\n",
            "\u001b[2K     \u001b[90m━━━━━━━━━━━━━━━━━━━━━━━━━━━━━━━━━━━━━━━━\u001b[0m \u001b[32m4.5/4.5 MB\u001b[0m \u001b[31m18.5 MB/s\u001b[0m eta \u001b[36m0:00:00\u001b[0m\n",
            "\u001b[?25h"
          ]
        }
      ],
      "source": [
        "! pip uninstall -y -q tensorflow\n",
        "! pip install -q tensorflow-gpu==2.8.0\n",
        "! pip install -q deepmatch"
      ]
    },
    {
      "cell_type": "code",
      "execution_count": 1,
      "metadata": {
        "id": "SMFiGofQBViw"
      },
      "outputs": [],
      "source": [
        "import pandas as pd\n",
        "import numpy as np\n",
        "import matplotlib.pyplot as plt\n",
        "import sklearn\n",
        "\n",
        "from deepctr.models import *\n",
        "import deepctr\n",
        "import csv"
      ]
    },
    {
      "cell_type": "code",
      "execution_count": 2,
      "metadata": {
        "id": "VDQRI-4uBfKv"
      },
      "outputs": [],
      "source": [
        "recipe_df = pd.read_csv('recipe_without_reviews.csv', low_memory=False)"
      ]
    },
    {
      "cell_type": "code",
      "execution_count": 3,
      "metadata": {
        "id": "c1tXe4TULiZf"
      },
      "outputs": [],
      "source": [
        "meal_df = pd.read_csv('meal.csv')\n",
        "user_recipe_df = pd.read_csv('user_recipe.csv')"
      ]
    },
    {
      "cell_type": "code",
      "execution_count": 4,
      "metadata": {
        "colab": {
          "base_uri": "https://localhost:8080/"
        },
        "id": "Nn_9_yniEgbf",
        "outputId": "e69617ad-558b-4211-f534-c653707d4ff0"
      },
      "outputs": [
        {
          "name": "stdout",
          "output_type": "stream",
          "text": [
            "<class 'pandas.core.frame.DataFrame'>\n",
            "RangeIndex: 7280 entries, 0 to 7279\n",
            "Data columns (total 11 columns):\n",
            " #   Column              Non-Null Count  Dtype  \n",
            "---  ------              --------------  -----  \n",
            " 0   Unnamed: 0          7280 non-null   int64  \n",
            " 1   recipe_id           7280 non-null   int64  \n",
            " 2   recipe_name         7280 non-null   object \n",
            " 3   review_nums         7280 non-null   int64  \n",
            " 4   category            7280 non-null   object \n",
            " 5   aver_rate           7280 non-null   float64\n",
            " 6   image_url           7280 non-null   object \n",
            " 7   ingredients         7280 non-null   object \n",
            " 8   cooking_directions  7280 non-null   object \n",
            " 9   nutritions          7280 non-null   object \n",
            " 10  tags                7278 non-null   object \n",
            "dtypes: float64(1), int64(3), object(7)\n",
            "memory usage: 625.8+ KB\n"
          ]
        }
      ],
      "source": [
        "recipe_df.info()"
      ]
    },
    {
      "cell_type": "code",
      "execution_count": 5,
      "metadata": {
        "colab": {
          "base_uri": "https://localhost:8080/"
        },
        "id": "P1AUpYpEEDYH",
        "outputId": "97d610db-5838-4d43-d755-5c9fc7f09c25"
      },
      "outputs": [
        {
          "data": {
            "text/plain": [
              "0         False\n",
              "1         False\n",
              "2         False\n",
              "3         False\n",
              "4         False\n",
              "          ...  \n",
              "151143    False\n",
              "151144    False\n",
              "151145    False\n",
              "151146    False\n",
              "151147    False\n",
              "Name: recipe_id, Length: 151148, dtype: bool"
            ]
          },
          "execution_count": 5,
          "metadata": {},
          "output_type": "execute_result"
        }
      ],
      "source": [
        "user_recipe_df.recipe_id.isna()"
      ]
    },
    {
      "cell_type": "code",
      "execution_count": 6,
      "metadata": {
        "colab": {
          "base_uri": "https://localhost:8080/",
          "height": 504
        },
        "id": "spZX8p4hNjbZ",
        "outputId": "ed2ec4e2-b4f6-492a-bdd6-375218dfd14a"
      },
      "outputs": [
        {
          "data": {
            "text/html": [
              "<div>\n",
              "<style scoped>\n",
              "    .dataframe tbody tr th:only-of-type {\n",
              "        vertical-align: middle;\n",
              "    }\n",
              "\n",
              "    .dataframe tbody tr th {\n",
              "        vertical-align: top;\n",
              "    }\n",
              "\n",
              "    .dataframe thead th {\n",
              "        text-align: right;\n",
              "    }\n",
              "</style>\n",
              "<table border=\"1\" class=\"dataframe\">\n",
              "  <thead>\n",
              "    <tr style=\"text-align: right;\">\n",
              "      <th></th>\n",
              "      <th>Unnamed: 0</th>\n",
              "      <th>recipe_id</th>\n",
              "      <th>recipe_name</th>\n",
              "      <th>review_nums</th>\n",
              "      <th>category</th>\n",
              "      <th>aver_rate</th>\n",
              "      <th>image_url</th>\n",
              "      <th>ingredients</th>\n",
              "      <th>cooking_directions</th>\n",
              "      <th>nutritions</th>\n",
              "      <th>tags</th>\n",
              "    </tr>\n",
              "  </thead>\n",
              "  <tbody>\n",
              "    <tr>\n",
              "      <th>0</th>\n",
              "      <td>0</td>\n",
              "      <td>6698</td>\n",
              "      <td>Mom's Zucchini Bread</td>\n",
              "      <td>9355</td>\n",
              "      <td>appetizer</td>\n",
              "      <td>4.754207</td>\n",
              "      <td>https://images.media-allrecipes.com/userphotos...</td>\n",
              "      <td>all-purpose flour^salt^baking soda^baking powd...</td>\n",
              "      <td>{'directions': u'Prep\\n20 m\\nCook\\n1 h\\nReady ...</td>\n",
              "      <td>{u'niacin': {u'hasCompleteData': True, u'name'...</td>\n",
              "      <td>north-american;breads;easy;beginner-cook;inexp...</td>\n",
              "    </tr>\n",
              "    <tr>\n",
              "      <th>1</th>\n",
              "      <td>1</td>\n",
              "      <td>6709</td>\n",
              "      <td>Zucchini Walnut Bread</td>\n",
              "      <td>58</td>\n",
              "      <td>appetizer</td>\n",
              "      <td>4.478873</td>\n",
              "      <td>http://images.media-allrecipes.com/userphotos/...</td>\n",
              "      <td>chopped walnuts^eggs^white sugar^vegetable oil...</td>\n",
              "      <td>{'directions': u'Whisk together flour, baking ...</td>\n",
              "      <td>{u'niacin': {u'hasCompleteData': True, u'name'...</td>\n",
              "      <td>weeknight;breads;fruit;vegetables;kid-friendly...</td>\n",
              "    </tr>\n",
              "    <tr>\n",
              "      <th>2</th>\n",
              "      <td>2</td>\n",
              "      <td>6725</td>\n",
              "      <td>Honey Wheat Bread I</td>\n",
              "      <td>2054</td>\n",
              "      <td>appetizer</td>\n",
              "      <td>4.766846</td>\n",
              "      <td>http://images.media-allrecipes.com/userphotos/...</td>\n",
              "      <td>rapid rise yeast^white sugar^warm water (110 d...</td>\n",
              "      <td>{'directions': u'Prep\\n25 m\\nCook\\n35 m\\nReady...</td>\n",
              "      <td>{u'niacin': {u'hasCompleteData': True, u'name'...</td>\n",
              "      <td>healthy;breads;dietary;low-cholesterol;healthy...</td>\n",
              "    </tr>\n",
              "    <tr>\n",
              "      <th>3</th>\n",
              "      <td>3</td>\n",
              "      <td>6730</td>\n",
              "      <td>Chocolate Chip Orange Zucchini Bread</td>\n",
              "      <td>503</td>\n",
              "      <td>dessert</td>\n",
              "      <td>4.674833</td>\n",
              "      <td>https://images.media-allrecipes.com/userphotos...</td>\n",
              "      <td>eggs^white sugar^vegetable oil^vanilla extract...</td>\n",
              "      <td>{'directions': u'Sift together flour, baking p...</td>\n",
              "      <td>{u'niacin': {u'hasCompleteData': True, u'name'...</td>\n",
              "      <td>for-large-groups;healthy;breads;kid-friendly;d...</td>\n",
              "    </tr>\n",
              "    <tr>\n",
              "      <th>4</th>\n",
              "      <td>4</td>\n",
              "      <td>6732</td>\n",
              "      <td>Chocolate Chip Pumpkin Bread</td>\n",
              "      <td>866</td>\n",
              "      <td>dessert</td>\n",
              "      <td>4.718112</td>\n",
              "      <td>https://images.media-allrecipes.com/userphotos...</td>\n",
              "      <td>white sugar^pumpkin puree^vegetable oil^water^...</td>\n",
              "      <td>{'directions': u'Prep\\n30 m\\nCook\\n1 h\\nReady ...</td>\n",
              "      <td>{u'niacin': {u'hasCompleteData': True, u'name'...</td>\n",
              "      <td>breads;fall;winter;seasonal;quick-breads;4-hou...</td>\n",
              "    </tr>\n",
              "  </tbody>\n",
              "</table>\n",
              "</div>"
            ],
            "text/plain": [
              "   Unnamed: 0  recipe_id                           recipe_name  review_nums  \\\n",
              "0           0       6698                  Mom's Zucchini Bread         9355   \n",
              "1           1       6709                 Zucchini Walnut Bread           58   \n",
              "2           2       6725                   Honey Wheat Bread I         2054   \n",
              "3           3       6730  Chocolate Chip Orange Zucchini Bread          503   \n",
              "4           4       6732          Chocolate Chip Pumpkin Bread          866   \n",
              "\n",
              "    category  aver_rate                                          image_url  \\\n",
              "0  appetizer   4.754207  https://images.media-allrecipes.com/userphotos...   \n",
              "1  appetizer   4.478873  http://images.media-allrecipes.com/userphotos/...   \n",
              "2  appetizer   4.766846  http://images.media-allrecipes.com/userphotos/...   \n",
              "3    dessert   4.674833  https://images.media-allrecipes.com/userphotos...   \n",
              "4    dessert   4.718112  https://images.media-allrecipes.com/userphotos...   \n",
              "\n",
              "                                         ingredients  \\\n",
              "0  all-purpose flour^salt^baking soda^baking powd...   \n",
              "1  chopped walnuts^eggs^white sugar^vegetable oil...   \n",
              "2  rapid rise yeast^white sugar^warm water (110 d...   \n",
              "3  eggs^white sugar^vegetable oil^vanilla extract...   \n",
              "4  white sugar^pumpkin puree^vegetable oil^water^...   \n",
              "\n",
              "                                  cooking_directions  \\\n",
              "0  {'directions': u'Prep\\n20 m\\nCook\\n1 h\\nReady ...   \n",
              "1  {'directions': u'Whisk together flour, baking ...   \n",
              "2  {'directions': u'Prep\\n25 m\\nCook\\n35 m\\nReady...   \n",
              "3  {'directions': u'Sift together flour, baking p...   \n",
              "4  {'directions': u'Prep\\n30 m\\nCook\\n1 h\\nReady ...   \n",
              "\n",
              "                                          nutritions  \\\n",
              "0  {u'niacin': {u'hasCompleteData': True, u'name'...   \n",
              "1  {u'niacin': {u'hasCompleteData': True, u'name'...   \n",
              "2  {u'niacin': {u'hasCompleteData': True, u'name'...   \n",
              "3  {u'niacin': {u'hasCompleteData': True, u'name'...   \n",
              "4  {u'niacin': {u'hasCompleteData': True, u'name'...   \n",
              "\n",
              "                                                tags  \n",
              "0  north-american;breads;easy;beginner-cook;inexp...  \n",
              "1  weeknight;breads;fruit;vegetables;kid-friendly...  \n",
              "2  healthy;breads;dietary;low-cholesterol;healthy...  \n",
              "3  for-large-groups;healthy;breads;kid-friendly;d...  \n",
              "4  breads;fall;winter;seasonal;quick-breads;4-hou...  "
            ]
          },
          "execution_count": 6,
          "metadata": {},
          "output_type": "execute_result"
        }
      ],
      "source": [
        "recipe_df.head()"
      ]
    },
    {
      "cell_type": "code",
      "execution_count": 7,
      "metadata": {
        "colab": {
          "base_uri": "https://localhost:8080/",
          "height": 306
        },
        "id": "O82O2VaSM0Vp",
        "outputId": "129a6765-09dd-4292-ea8f-134877185734"
      },
      "outputs": [
        {
          "data": {
            "image/png": "[encoded data removed]",
            "text/plain": [
              "<Figure size 1296x432 with 3 Axes>"
            ]
          },
          "metadata": {
            "needs_background": "light"
          },
          "output_type": "display_data"
        }
      ],
      "source": [
        "import matplotlib.pyplot as plt\n",
        "from matplotlib.gridspec import GridSpec\n",
        "import pandas.plotting as pd_plotting\n",
        "from pandas.plotting import table\n",
        "\n",
        "recipe_columns = pd.DataFrame({'Columns': recipe_df.columns})\n",
        "meal_columns = pd.DataFrame({'Columns': meal_df.columns})\n",
        "user_recipe_columns = pd.DataFrame({'Columns': user_recipe_df.columns})\n",
        "\n",
        "\n",
        "# Plotting\n",
        "fig, axes = plt.subplots(1, 3, figsize=(18, 6))\n",
        "\n",
        "# Colors for backgrounds\n",
        "colors = ['#FFDDC1', '#C1FFD7', '#C1E1FF']\n",
        "\n",
        "# Recipe DataFrame columns\n",
        "axes[0].axis('off')\n",
        "axes[0].set_title('Recipe DataFrame')\n",
        "table(axes[0], recipe_columns, cellLoc='center', loc='center', colColours=[colors[0]] * 1)\n",
        "\n",
        "# Meal DataFrame columns\n",
        "axes[1].axis('off')\n",
        "axes[1].set_title('Meal DataFrame')\n",
        "table(axes[1], meal_columns, cellLoc='center', loc='center', colColours=[colors[1]] * 1)\n",
        "\n",
        "# User Recipe DataFrame columns\n",
        "axes[2].axis('off')\n",
        "axes[2].set_title('User Recipe DataFrame')\n",
        "table(axes[2], user_recipe_columns, cellLoc='center', loc='center', colColours=[colors[2]] * 1)\n",
        "\n",
        "plt.subplots_adjust(wspace=0.3)\n",
        "plt.show()\n"
      ]
    },
    {
      "cell_type": "code",
      "execution_count": 8,
      "metadata": {
        "colab": {
          "base_uri": "https://localhost:8080/"
        },
        "id": "ndRfWzzNOZFf",
        "outputId": "f5dfbd5d-f41e-4715-d4c9-78aeb8424a0e"
      },
      "outputs": [
        {
          "name": "stdout",
          "output_type": "stream",
          "text": [
            "<class 'pandas.core.frame.DataFrame'>\n",
            "Int64Index: 151148 entries, 0 to 151147\n",
            "Data columns (total 14 columns):\n",
            " #   Column              Non-Null Count   Dtype  \n",
            "---  ------              --------------   -----  \n",
            " 0   user_id             151148 non-null  int64  \n",
            " 1   recipe_id           151148 non-null  int64  \n",
            " 2   rating              151148 non-null  int64  \n",
            " 3   dateLastModified    151148 non-null  object \n",
            " 4   Unnamed: 0          151148 non-null  int64  \n",
            " 5   recipe_name         151148 non-null  object \n",
            " 6   review_nums         151148 non-null  int64  \n",
            " 7   category            151148 non-null  object \n",
            " 8   aver_rate           151148 non-null  float64\n",
            " 9   image_url           151148 non-null  object \n",
            " 10  ingredients         151148 non-null  object \n",
            " 11  cooking_directions  151148 non-null  object \n",
            " 12  nutritions          151148 non-null  object \n",
            " 13  tags                151120 non-null  object \n",
            "dtypes: float64(1), int64(5), object(8)\n",
            "memory usage: 17.3+ MB\n"
          ]
        },
        {
          "data": {
            "text/plain": [
              "(   user_id  recipe_id  rating           dateLastModified  Unnamed: 0  \\\n",
              " 0       39      61727       4  2001-03-26T07:36:16.653\\n        4262   \n",
              " 1     8799      61727       5  2004-09-21T06:23:16.427\\n        4262   \n",
              " 2    35974      61727       5  2003-04-19T07:31:14.357\\n        4262   \n",
              " 3    89295      61727       5  2011-09-01T17:50:36.427\\n        4262   \n",
              " \n",
              "                   recipe_name  review_nums   category  aver_rate  \\\n",
              " 0  Ten Minute Enchilada Sauce         2443  main-dish   4.439774   \n",
              " 1  Ten Minute Enchilada Sauce         2443  main-dish   4.439774   \n",
              " 2  Ten Minute Enchilada Sauce         2443  main-dish   4.439774   \n",
              " 3  Ten Minute Enchilada Sauce         2443  main-dish   4.439774   \n",
              " \n",
              "                                            image_url  \\\n",
              " 0  https://images.media-allrecipes.com/userphotos...   \n",
              " 1  https://images.media-allrecipes.com/userphotos...   \n",
              " 2  https://images.media-allrecipes.com/userphotos...   \n",
              " 3  https://images.media-allrecipes.com/userphotos...   \n",
              " \n",
              "                                          ingredients  \\\n",
              " 0  vegetable oil^self-rising flour^New Mexico^tom...   \n",
              " 1  vegetable oil^self-rising flour^New Mexico^tom...   \n",
              " 2  vegetable oil^self-rising flour^New Mexico^tom...   \n",
              " 3  vegetable oil^self-rising flour^New Mexico^tom...   \n",
              " \n",
              "                                   cooking_directions  \\\n",
              " 0  {'directions': u'Prep\\n10 m\\nCook\\n15 m\\nReady...   \n",
              " 1  {'directions': u'Prep\\n10 m\\nCook\\n15 m\\nReady...   \n",
              " 2  {'directions': u'Prep\\n10 m\\nCook\\n15 m\\nReady...   \n",
              " 3  {'directions': u'Prep\\n10 m\\nCook\\n15 m\\nReady...   \n",
              " \n",
              "                                           nutritions  \\\n",
              " 0  {u'niacin': {u'hasCompleteData': True, u'name'...   \n",
              " 1  {u'niacin': {u'hasCompleteData': True, u'name'...   \n",
              " 2  {u'niacin': {u'hasCompleteData': True, u'name'...   \n",
              " 3  {u'niacin': {u'hasCompleteData': True, u'name'...   \n",
              " \n",
              "                                                 tags  \n",
              " 0  15-minutes-or-less;north-american;sauces;condi...  \n",
              " 1  15-minutes-or-less;north-american;sauces;condi...  \n",
              " 2  15-minutes-or-less;north-american;sauces;condi...  \n",
              " 3  15-minutes-or-less;north-american;sauces;condi...  ,\n",
              " None)"
            ]
          },
          "execution_count": 8,
          "metadata": {},
          "output_type": "execute_result"
        }
      ],
      "source": [
        "#merging columns\n",
        "df = user_recipe_df.merge(recipe_df, on='recipe_id')\n",
        "df.head(4), df.info()"
      ]
    },
    {
      "cell_type": "code",
      "execution_count": 9,
      "metadata": {
        "colab": {
          "base_uri": "https://localhost:8080/"
        },
        "id": "FqfQth0KD-hB",
        "outputId": "f6120d03-ea2b-4e25-ba10-39e6b026657d"
      },
      "outputs": [
        {
          "name": "stdout",
          "output_type": "stream",
          "text": [
            "<class 'pandas.core.frame.DataFrame'>\n",
            "Int64Index: 151148 entries, 0 to 151147\n",
            "Data columns (total 14 columns):\n",
            " #   Column              Non-Null Count   Dtype  \n",
            "---  ------              --------------   -----  \n",
            " 0   user_id             151148 non-null  int64  \n",
            " 1   recipe_id           151148 non-null  int64  \n",
            " 2   rating              151148 non-null  int64  \n",
            " 3   dateLastModified    151148 non-null  object \n",
            " 4   Unnamed: 0          151148 non-null  int64  \n",
            " 5   recipe_name         151148 non-null  object \n",
            " 6   review_nums         151148 non-null  int64  \n",
            " 7   category            151148 non-null  object \n",
            " 8   aver_rate           151148 non-null  float64\n",
            " 9   image_url           151148 non-null  object \n",
            " 10  ingredients         151148 non-null  object \n",
            " 11  cooking_directions  151148 non-null  object \n",
            " 12  nutritions          151148 non-null  object \n",
            " 13  tags                151120 non-null  object \n",
            "dtypes: float64(1), int64(5), object(8)\n",
            "memory usage: 17.3+ MB\n"
          ]
        }
      ],
      "source": [
        "df.info()"
      ]
    },
    {
      "cell_type": "code",
      "execution_count": 12,
      "metadata": {
        "colab": {
          "base_uri": "https://localhost:8080/"
        },
        "id": "9Arh7mLgOZDv",
        "outputId": "534bffcf-ec5a-4d03-ebf9-d7a7f72c9d1a"
      },
      "outputs": [
        {
          "data": {
            "text/plain": [
              "array([ 7,  6, 17, 19, 15, 16,  8, 23,  4, 10, 18, 13, 11, 12,  2, 20, 22,\n",
              "        5, 21, 14,  9,  0,  3,  1], dtype=int64)"
            ]
          },
          "execution_count": 12,
          "metadata": {},
          "output_type": "execute_result"
        }
      ],
      "source": [
        "df[\"datetime\"] = pd.to_datetime(df['dateLastModified'])\n",
        "df[\"year\"] = df[\"datetime\"].dt.year\n",
        "df[\"month\"] = df[\"datetime\"].dt.month\n",
        "df[\"day\"] = df[\"datetime\"].dt.day\n",
        "df[\"hour\"] = df[\"datetime\"].dt.hour\n",
        "df.hour.unique()"
      ]
    },
    {
      "cell_type": "markdown",
      "metadata": {
        "id": "vzn58sUPpRj_"
      },
      "source": [
        "## Combining nutritions with appropriate data type"
      ]
    },
    {
      "cell_type": "code",
      "execution_count": 13,
      "metadata": {
        "colab": {
          "base_uri": "https://localhost:8080/",
          "height": 199
        },
        "id": "gaihnzZVOZBX",
        "outputId": "3dc11831-88f2-4efd-cb71-0891c1fd659d"
      },
      "outputs": [
        {
          "data": {
            "text/plain": [
              "\"{u'niacin': {u'hasCompleteData': True, u'name': u'Niacin Equivalents', u'amount': 1.057699, u'percentDailyValue': u'8', u'displayValue': u'1', u'unit': u'mg'}, u'sugars': {u'hasCompleteData': False, u'name': u'Sugars', u'amount': 1.901137, u'percentDailyValue': u'0', u'displayValue': u'1.9', u'unit': u'g'}, u'sodium': {u'hasCompleteData': True, u'name': u'Sodium', u'amount': 408.3739, u'percentDailyValue': u'16', u'displayValue': u'408', u'unit': u'mg'}, u'carbohydrates': {u'hasCompleteData': True, u'name': u'Carbohydrates', u'amount': 7.002383, u'percentDailyValue': u'2', u'displayValue': u'7', u'unit': u'g'}, u'vitaminB6': {u'hasCompleteData': True, u'name': u'Vitamin B6', u'amount': 0.2361635, u'percentDailyValue': u'15', u'displayValue': u'< 1', u'unit': u'mg'}, u'calories': {u'hasCompleteData': True, u'name': u'Calories', u'amount': 116.0103, u'percentDailyValue': u'6', u'displayValue': u'116', u'unit': u'kcal'}, u'thiamin': {u'hasCompleteData': False, u'name': u'Thiamin', u'amount': 0.06190769, u'percentDailyValue': u'6', u'displayValue': u'< 1', u'unit': u'mg'}, u'fat': {u'hasCompleteData': True, u'name': u'Fat', u'amount': 10.08417, u'percentDailyValue': u'16', u'displayValue': u'10.1', u'unit': u'g'}, u'folate': {u'hasCompleteData': True, u'name': u'Folate', u'amount': 14.60743, u'percentDailyValue': u'8', u'displayValue': u'15', u'unit': u'mcg'}, u'caloriesFromFat': {u'hasCompleteData': True, u'name': u'Calories from Fat', u'amount': 90.75753, u'percentDailyValue': u'-', u'displayValue': u'91', u'unit': u'kcal'}, u'calcium': {u'hasCompleteData': True, u'name': u'Calcium', u'amount': 31.37654, u'percentDailyValue': u'4', u'displayValue': u'31', u'unit': u'mg'}, u'fiber': {u'hasCompleteData': True, u'name': u'Dietary Fiber', u'amount': 2.428349, u'percentDailyValue': u'10', u'displayValue': u'2.4', u'unit': u'g'}, u'magnesium': {u'hasCompleteData': True, u'name': u'Magnesium', u'amount': 16.56026, u'percentDailyValue': u'6', u'displayValue': u'17', u'unit': u'mg'}, u'iron': {u'hasCompleteData': True, u'name': u'Iron', u'amount': 1.325251, u'percentDailyValue': u'13', u'displayValue': u'1', u'unit': u'mg'}, u'cholesterol': {u'hasCompleteData': True, u'name': u'Cholesterol', u'amount': 0.0, u'percentDailyValue': u'0', u'displayValue': u'0', u'unit': u'mg'}, u'protein': {u'hasCompleteData': True, u'name': u'Protein', u'amount': 1.440184, u'percentDailyValue': u'3', u'displayValue': u'1.4', u'unit': u'g'}, u'vitaminA': {u'hasCompleteData': True, u'name': u'Vitamin A - IU', u'amount': 1700.992, u'percentDailyValue': u'34', u'displayValue': u'1701', u'unit': u'IU'}, u'potassium': {u'hasCompleteData': True, u'name': u'Potassium', u'amount': 232.0614, u'percentDailyValue': u'7', u'displayValue': u'232', u'unit': u'mg'}, u'saturatedFat': {u'hasCompleteData': True, u'name': u'Saturated Fat', u'amount': 1.592779, u'percentDailyValue': u'8', u'displayValue': u'1.6', u'unit': u'g'}, u'vitaminC': {u'hasCompleteData': True, u'name': u'Vitamin C', u'amount': 6.040018, u'percentDailyValue': u'10', u'displayValue': u'6', u'unit': u'mg'}}\""
            ]
          },
          "execution_count": 13,
          "metadata": {},
          "output_type": "execute_result"
        }
      ],
      "source": [
        "df.nutritions[1]"
      ]
    },
    {
      "cell_type": "markdown",
      "metadata": {
        "id": "MeE8mhjhsogs"
      },
      "source": [
        "### Percent Daily Value: This provides information on how much of the daily recommended intake of the nutrient is present in the food.\n",
        "Hence, considering this value in determining the nutrition containment in the recipes"
      ]
    },
    {
      "cell_type": "code",
      "execution_count": 14,
      "metadata": {
        "colab": {
          "base_uri": "https://localhost:8080/"
        },
        "id": "n4DEpbb2OY_H",
        "outputId": "d31d4130-0346-49a2-b496-96a112214e6c"
      },
      "outputs": [
        {
          "data": {
            "text/plain": [
              "0         {'niacin': {'hasCompleteData': True, 'name': '...\n",
              "1         {'niacin': {'hasCompleteData': True, 'name': '...\n",
              "2         {'niacin': {'hasCompleteData': True, 'name': '...\n",
              "3         {'niacin': {'hasCompleteData': True, 'name': '...\n",
              "4         {'niacin': {'hasCompleteData': True, 'name': '...\n",
              "                                ...                        \n",
              "151143    {'niacin': {'hasCompleteData': False, 'name': ...\n",
              "151144    {'niacin': {'hasCompleteData': False, 'name': ...\n",
              "151145    {'niacin': {'hasCompleteData': False, 'name': ...\n",
              "151146    {'niacin': {'hasCompleteData': False, 'name': ...\n",
              "151147    {'niacin': {'hasCompleteData': True, 'name': '...\n",
              "Name: nutritions, Length: 151148, dtype: object"
            ]
          },
          "execution_count": 14,
          "metadata": {},
          "output_type": "execute_result"
        }
      ],
      "source": [
        "# converting the complex nutritions info to simple list of nutritions name\n",
        "\n",
        "import ast\n",
        "\n",
        "df['nutritions'] = df['nutritions'].apply(lambda x: ast.literal_eval(x))\n",
        "df['nutritions']"
      ]
    },
    {
      "cell_type": "code",
      "execution_count": 15,
      "metadata": {
        "colab": {
          "base_uri": "https://localhost:8080/"
        },
        "id": "_RWTC-FNukbi",
        "outputId": "25b295e9-3746-4bff-d7e3-abe778e741a5"
      },
      "outputs": [
        {
          "data": {
            "text/plain": [
              "0         [vitaminA, sodium, fat, vitaminB6, iron, fiber...\n",
              "1         [vitaminA, sodium, fat, vitaminB6, iron, fiber...\n",
              "2         [vitaminA, sodium, fat, vitaminB6, iron, fiber...\n",
              "3         [vitaminA, sodium, fat, vitaminB6, iron, fiber...\n",
              "4         [vitaminA, sodium, fat, vitaminB6, iron, fiber...\n",
              "                                ...                        \n",
              "151143    [vitaminA, sodium, fat, vitaminB6, iron, fiber...\n",
              "151144    [vitaminA, sodium, fat, vitaminB6, iron, fiber...\n",
              "151145    [vitaminA, sodium, fat, vitaminB6, iron, fiber...\n",
              "151146    [vitaminA, sodium, fat, vitaminB6, iron, fiber...\n",
              "151147    [vitaminA, sodium, fat, vitaminB6, iron, fiber...\n",
              "Name: nutritions_list, Length: 151148, dtype: object"
            ]
          },
          "execution_count": 15,
          "metadata": {},
          "output_type": "execute_result"
        }
      ],
      "source": [
        "demo_nutrition = df['nutritions'][0]\n",
        "\n",
        "def convert_percent_daily_value(value):\n",
        "    if value == '-':\n",
        "        return 0\n",
        "    else:\n",
        "        return int(value)\n",
        "\n",
        "\n",
        "top_3 = sorted(demo_nutrition.items(), key=lambda x: convert_percent_daily_value(x[1]['percentDailyValue']), reverse=True)[:]\n",
        "top_3 = [item[0] for item in top_3]\n",
        "\n",
        "def get_top_3(nutritions):\n",
        "  top_3 = sorted(demo_nutrition.items(), key=lambda x: convert_percent_daily_value(x[1]['percentDailyValue']), reverse=True)[:30]\n",
        "  top_3 = [item[0] for item in top_3]\n",
        "  return top_3\n",
        "\n",
        "df['nutritions_list'] = df['nutritions'].apply(lambda x:get_top_3(x))\n",
        "df['nutritions_list']"
      ]
    },
    {
      "cell_type": "code",
      "execution_count": 16,
      "metadata": {
        "colab": {
          "base_uri": "https://localhost:8080/"
        },
        "id": "KFk9plgArZV9",
        "outputId": "81276c27-5971-47fb-cf0c-461661639861"
      },
      "outputs": [
        {
          "data": {
            "text/plain": [
              "3022960"
            ]
          },
          "execution_count": 16,
          "metadata": {},
          "output_type": "execute_result"
        }
      ],
      "source": [
        "# all nutrients\n",
        "all_nutritions = [nutrition for sublist in df['nutritions_list'] for nutrition in sublist]\n",
        "len(all_nutritions)"
      ]
    },
    {
      "cell_type": "code",
      "execution_count": 18,
      "metadata": {
        "colab": {
          "base_uri": "https://localhost:8080/"
        },
        "id": "CdSImoq2rlKF",
        "outputId": "a9420f97-d7c9-40bc-eb6b-ae66bd9d1958"
      },
      "outputs": [
        {
          "data": {
            "text/plain": [
              "20"
            ]
          },
          "execution_count": 18,
          "metadata": {},
          "output_type": "execute_result"
        }
      ],
      "source": [
        "import collections \n",
        "\n",
        "nutrition_counts = collections.Counter(all_nutritions)\n",
        "top_nutritions = nutrition_counts.most_common(50)\n",
        "\n",
        "unique_nutritions = [nutrition[0] for nutrition in top_nutritions]\n",
        "\n",
        "nutrition_frequencies = [nutrition[1] for nutrition in top_nutritions]\n",
        "len( unique_nutritions)"
      ]
    },
    {
      "cell_type": "code",
      "execution_count": 19,
      "metadata": {
        "colab": {
          "base_uri": "https://localhost:8080/",
          "height": 508
        },
        "id": "TCAKYXFbryx0",
        "outputId": "4127d7d6-c5df-41f5-87b3-03a2a3ec0cc5"
      },
      "outputs": [
        {
          "data": {
            "image/png": "[encoded data removed]",
            "text/plain": [
              "<Figure size 720x432 with 1 Axes>"
            ]
          },
          "metadata": {
            "needs_background": "light"
          },
          "output_type": "display_data"
        }
      ],
      "source": [
        "# visualizing the tags distribution in the recipes dataframe\n",
        "plt.figure(figsize=(10,6))\n",
        "plt.bar(unique_nutritions, nutrition_frequencies, color='darkred')\n",
        "plt.xlabel('Nutritions')\n",
        "plt.ylabel('Frequency')\n",
        "plt.title('Frequency of Nutritions')\n",
        "plt.xticks(rotation=70, ha='right')\n",
        "plt.tight_layout()\n",
        "plt.show()"
      ]
    },
    {
      "cell_type": "markdown",
      "metadata": {
        "id": "TopUwar3yYuW"
      },
      "source": [
        "## Since all nutritions are similar in all recipes, nutritions do not play any role in recommendation"
      ]
    },
    {
      "cell_type": "markdown",
      "metadata": {
        "id": "ul-HK8QxpZiH"
      },
      "source": [
        "## Appending the tags of each recipes in appropriate format"
      ]
    },
    {
      "cell_type": "code",
      "execution_count": 23,
      "metadata": {},
      "outputs": [
        {
          "data": {
            "text/plain": [
              "str"
            ]
          },
          "execution_count": 23,
          "metadata": {},
          "output_type": "execute_result"
        }
      ],
      "source": [
        "type( df['tags'][0])"
      ]
    },
    {
      "cell_type": "code",
      "execution_count": 24,
      "metadata": {
        "colab": {
          "base_uri": "https://localhost:8080/"
        },
        "id": "hW1Z-Cq5pWeB",
        "outputId": "4252d717-6d25-4591-e5ad-74803f2773a1"
      },
      "outputs": [
        {
          "data": {
            "text/plain": [
              "0         [15-minutes-or-less, north-american, sauces, c...\n",
              "1         [15-minutes-or-less, north-american, sauces, c...\n",
              "2         [15-minutes-or-less, north-american, sauces, c...\n",
              "3         [15-minutes-or-less, north-american, sauces, c...\n",
              "4         [15-minutes-or-less, north-american, sauces, c...\n",
              "                                ...                        \n",
              "151143    [60-minutes-or-less, healthy, main-dish, veget...\n",
              "151144    [30-minutes-or-less, main-dish, poultry, rice,...\n",
              "151145    [main-dish, poultry, oven, refrigerator, dinne...\n",
              "151146    [30-minutes-or-less, appetizers, lunch, vegeta...\n",
              "151147    [weeknight, for-large-groups, desserts, easy, ...\n",
              "Name: tags_list, Length: 151148, dtype: object"
            ]
          },
          "execution_count": 24,
          "metadata": {},
          "output_type": "execute_result"
        }
      ],
      "source": [
        "df['tags_list'] = df['tags'].apply(lambda x:str(x).split(';'))\n",
        "df['tags_list']"
      ]
    },
    {
      "cell_type": "code",
      "execution_count": 25,
      "metadata": {
        "colab": {
          "base_uri": "https://localhost:8080/"
        },
        "id": "bvv3hDy0peAp",
        "outputId": "e4264919-0777-4f07-bc26-bde331b0e5c7"
      },
      "outputs": [
        {
          "data": {
            "text/plain": [
              "1929289"
            ]
          },
          "execution_count": 25,
          "metadata": {},
          "output_type": "execute_result"
        }
      ],
      "source": [
        "# getting all tags\n",
        "all_tags = [tag for sublist in df['tags_list'] for tag in sublist]\n",
        "len(all_tags)"
      ]
    },
    {
      "cell_type": "code",
      "execution_count": 26,
      "metadata": {
        "id": "scv3gN9IqQ3c"
      },
      "outputs": [],
      "source": [
        "# getting tag counts\n",
        "import collections\n",
        "tag_counts = collections.Counter(all_tags)\n",
        "# tag_counts -> returns 'stir-fry': 141,\n",
        "#          'new-zealand': 5,\n",
        "#          'tomatoes': 15,"
      ]
    },
    {
      "cell_type": "code",
      "execution_count": 27,
      "metadata": {
        "colab": {
          "base_uri": "https://localhost:8080/"
        },
        "id": "xWll3airqK5g",
        "outputId": "039929c1-0f22-4fec-a895-63cb355e386a"
      },
      "outputs": [
        {
          "data": {
            "text/plain": [
              "50"
            ]
          },
          "execution_count": 27,
          "metadata": {},
          "output_type": "execute_result"
        }
      ],
      "source": [
        "top_tags = tag_counts.most_common(50)\n",
        "\n",
        "unique_tags = [tag[0] for tag in top_tags]\n",
        "\n",
        "tag_frequencies = [tag[1] for tag in top_tags]\n",
        "len( unique_tags)"
      ]
    },
    {
      "cell_type": "code",
      "execution_count": 28,
      "metadata": {
        "colab": {
          "base_uri": "https://localhost:8080/",
          "height": 508
        },
        "id": "WXyJniLhqpvk",
        "outputId": "dd58c629-e8cd-4a3d-e60b-1e5c9ad092ff"
      },
      "outputs": [
        {
          "data": {
            "image/png": "[encoded data removed]",
            "text/plain": [
              "<Figure size 720x432 with 1 Axes>"
            ]
          },
          "metadata": {
            "needs_background": "light"
          },
          "output_type": "display_data"
        }
      ],
      "source": [
        "# visualizing the tags distribution in the recipes dataframe\n",
        "plt.figure(figsize=(10,6))\n",
        "plt.bar(unique_tags, tag_frequencies, color='darkred')\n",
        "plt.xlabel('Tags')\n",
        "plt.ylabel('Frequency')\n",
        "plt.title('Frequency of Tags')\n",
        "plt.xticks(rotation=70, ha='right')\n",
        "plt.tight_layout()\n",
        "plt.show()"
      ]
    },
    {
      "cell_type": "markdown",
      "metadata": {
        "id": "yvEfVa1vydV2"
      },
      "source": [
        "## Evaluating the diversity in cooking preparation"
      ]
    },
    {
      "cell_type": "code",
      "execution_count": 29,
      "metadata": {
        "colab": {
          "base_uri": "https://localhost:8080/",
          "height": 126
        },
        "id": "48rzOZI6q-rU",
        "outputId": "43566ac3-28a7-4c98-f2bc-1c05e50b281b"
      },
      "outputs": [
        {
          "data": {
            "text/plain": [
              "\"{'directions': u'Prep\\\\n10 m\\\\nCook\\\\n15 m\\\\nReady In\\\\n25 m\\\\nHeat oil in a skillet over medium-high heat. Stir in flour and chili powder, reduce heat to medium, and cook until lightly brown, stirring constantly to prevent burning flour.\\\\nGradually stir in tomato sauce, water, cumin, garlic powder, and onion salt into the flour and chili powder until smooth, and continue cooking over medium heat approximately 10 minutes, or until thickened slightly. Season to taste with salt.'}\""
            ]
          },
          "execution_count": 29,
          "metadata": {},
          "output_type": "execute_result"
        }
      ],
      "source": [
        "df['cooking_directions'][0]"
      ]
    },
    {
      "cell_type": "code",
      "execution_count": 30,
      "metadata": {
        "colab": {
          "base_uri": "https://localhost:8080/"
        },
        "id": "m6-LE7oD0jvb",
        "outputId": "ad8f8a4e-9c2e-444e-ebe5-9b5c0b6c1df4"
      },
      "outputs": [
        {
          "name": "stderr",
          "output_type": "stream",
          "text": [
            "[nltk_data] Downloading package punkt to\n",
            "[nltk_data]     C:\\Users\\OMEN\\AppData\\Roaming\\nltk_data...\n",
            "[nltk_data]   Package punkt is already up-to-date!\n",
            "[nltk_data] Downloading package averaged_perceptron_tagger to\n",
            "[nltk_data]     C:\\Users\\OMEN\\AppData\\Roaming\\nltk_data...\n",
            "[nltk_data]   Package averaged_perceptron_tagger is already up-to-\n",
            "[nltk_data]       date!\n",
            "[nltk_data] Downloading package stopwords to\n",
            "[nltk_data]     C:\\Users\\OMEN\\AppData\\Roaming\\nltk_data...\n",
            "[nltk_data]   Package stopwords is already up-to-date!\n"
          ]
        },
        {
          "data": {
            "text/plain": [
              "True"
            ]
          },
          "execution_count": 30,
          "metadata": {},
          "output_type": "execute_result"
        }
      ],
      "source": [
        "from nltk import pos_tag\n",
        "import nltk\n",
        "from nltk.tokenize import word_tokenize\n",
        "from nltk.corpus import stopwords\n",
        "from collections import Counter\n",
        "\n",
        "nltk.download('punkt')\n",
        "nltk.download('averaged_perceptron_tagger')\n",
        "nltk.download('stopwords')"
      ]
    },
    {
      "cell_type": "code",
      "execution_count": 31,
      "metadata": {
        "id": "8ah0qtg1ykac"
      },
      "outputs": [],
      "source": [
        "def give_keywords(cooking_direction):\n",
        "\n",
        "  tokens = word_tokenize(cooking_direction.lower())\n",
        "\n",
        "  pos_tags = pos_tag(tokens)\n",
        "  stop_words = set(stopwords.words('english'))\n",
        "\n",
        "  selected_pos_tags = ['NN', 'NNS', 'VB', 'VBD', 'VBG', 'VBN', 'VBP', 'VBZ', 'JJ']\n",
        "  filtered_words = [word for word, pos_tag in pos_tags if word.isalnum() and word not in stop_words and pos_tag in selected_pos_tags]\n",
        "  word_freq = Counter(filtered_words)\n",
        "\n",
        "  # Select top keywords (e.g., top 5)\n",
        "  top_keywords = word_freq.most_common(10)\n",
        "  return [word for word, _ in top_keywords]"
      ]
    },
    {
      "cell_type": "code",
      "execution_count": 32,
      "metadata": {
        "colab": {
          "base_uri": "https://localhost:8080/"
        },
        "id": "Zr5_Or9T0I1M",
        "outputId": "4e20d0e5-b700-4669-afba-f1cba4798c1c"
      },
      "outputs": [
        {
          "data": {
            "text/plain": [
              "(['heat',\n",
              "  'powder',\n",
              "  'stir',\n",
              "  'flour',\n",
              "  'chili',\n",
              "  'medium',\n",
              "  'salt',\n",
              "  'oil',\n",
              "  'skillet',\n",
              "  'reduce'],\n",
              " ['baking',\n",
              "  'oven',\n",
              "  'degrees',\n",
              "  'sugar',\n",
              "  'minutes',\n",
              "  'cool',\n",
              "  'f',\n",
              "  'c',\n",
              "  'large',\n",
              "  'bowl'])"
            ]
          },
          "execution_count": 32,
          "metadata": {},
          "output_type": "execute_result"
        }
      ],
      "source": [
        "give_keywords(df['cooking_directions'][2]), give_keywords(df['cooking_directions'][500])"
      ]
    },
    {
      "cell_type": "code",
      "execution_count": 34,
      "metadata": {
        "colab": {
          "base_uri": "https://localhost:8080/"
        },
        "id": "W4MQMcEY0OIH",
        "outputId": "0520e651-76a6-429b-e455-a799a7d6786c"
      },
      "outputs": [
        {
          "data": {
            "text/plain": [
              "0         [heat, powder, stir, flour, chili, medium, sal...\n",
              "1         [heat, powder, stir, flour, chili, medium, sal...\n",
              "2         [heat, powder, stir, flour, chili, medium, sal...\n",
              "3         [heat, powder, stir, flour, chili, medium, sal...\n",
              "4         [heat, powder, stir, flour, chili, medium, sal...\n",
              "                                ...                        \n",
              "151143    [cover, minutes, peppers, dish, aluminum, quin...\n",
              "151144    [min, heat, add, cook, stir, boil, cheese, spi...\n",
              "151145    [chicken, desired, knorr, r, heat, skillet, sa...\n",
              "151146    [spinach, stir, powder, olive, oil, skillet, m...\n",
              "151147    [medium, heat, boil, inch, h, saucepan, combin...\n",
              "Name: cooking_words, Length: 151148, dtype: object"
            ]
          },
          "execution_count": 34,
          "metadata": {},
          "output_type": "execute_result"
        }
      ],
      "source": [
        "df['cooking_words'] = df['cooking_directions'].apply(lambda x:give_keywords(x))\n",
        "df['cooking_words']"
      ]
    },
    {
      "cell_type": "code",
      "execution_count": 35,
      "metadata": {
        "colab": {
          "base_uri": "https://localhost:8080/"
        },
        "id": "d_fPakDM1Xcr",
        "outputId": "bddbf480-7b80-4b2f-919e-a853c793eba9"
      },
      "outputs": [
        {
          "name": "stdout",
          "output_type": "stream",
          "text": [
            "1510005\n"
          ]
        },
        {
          "data": {
            "text/plain": [
              "50"
            ]
          },
          "execution_count": 35,
          "metadata": {},
          "output_type": "execute_result"
        }
      ],
      "source": [
        "all_cooking_words = [cooking_word for sublist in df['cooking_words'] for cooking_word in sublist]\n",
        "print(len(all_cooking_words))\n",
        "\n",
        "cooking_word_counts = collections.Counter(all_cooking_words)\n",
        "\n",
        "top_cooking_words = cooking_word_counts.most_common(50)\n",
        "\n",
        "unique_cooking_words = [cooking_word[0] for cooking_word in top_cooking_words]\n",
        "\n",
        "cooking_word_frequencies = [cooking_word[1] for cooking_word in top_cooking_words]\n",
        "len( unique_cooking_words)"
      ]
    },
    {
      "cell_type": "code",
      "execution_count": 36,
      "metadata": {
        "id": "t14kceDU2Xg6"
      },
      "outputs": [],
      "source": [
        "# most common words in cooking directions\n",
        "\n",
        "most_common_cooking_words = [word for word, _ in cooking_word_counts.most_common(10)]"
      ]
    },
    {
      "cell_type": "code",
      "execution_count": 37,
      "metadata": {
        "id": "g8ALtbNL2cs3"
      },
      "outputs": [],
      "source": [
        "# again, but deducing the most common words\n",
        "\n",
        "def give_keywords(cooking_direction, discard_words = most_common_cooking_words):\n",
        "\n",
        "  tokens = word_tokenize(cooking_direction.lower())\n",
        "\n",
        "  pos_tags = pos_tag(tokens)\n",
        "  stop_words = set(stopwords.words('english'))\n",
        "\n",
        "  selected_pos_tags = ['NN', 'NNS', 'VB', 'VBD', 'VBG', 'VBN', 'VBP', 'VBZ', 'JJ']\n",
        "  filtered_words = [word for word, pos_tag in pos_tags if word.isalnum() and word not in stop_words and pos_tag in selected_pos_tags]\n",
        "\n",
        "  filtered_words = [word for word in filtered_words if word not in discard_words]\n",
        "\n",
        "  word_freq = Counter(filtered_words)\n",
        "\n",
        "  # Select top keywords (e.g., top 5)\n",
        "  top_keywords = word_freq.most_common(50)\n",
        "  return [word for word, _ in top_keywords]"
      ]
    },
    {
      "cell_type": "code",
      "execution_count": 38,
      "metadata": {
        "colab": {
          "base_uri": "https://localhost:8080/"
        },
        "id": "RvoUfrYa3s54",
        "outputId": "03ee74cb-447d-44a5-841d-2af8cfccc880"
      },
      "outputs": [
        {
          "data": {
            "text/plain": [
              "(['powder',\n",
              "  'flour',\n",
              "  'chili',\n",
              "  'salt',\n",
              "  'oil',\n",
              "  'skillet',\n",
              "  'reduce',\n",
              "  'cook',\n",
              "  'brown',\n",
              "  'stirring',\n",
              "  'prevent',\n",
              "  'burning',\n",
              "  'tomato',\n",
              "  'sauce',\n",
              "  'water',\n",
              "  'cumin',\n",
              "  'garlic',\n",
              "  'onion',\n",
              "  'smooth',\n",
              "  'continue',\n",
              "  'cooking',\n",
              "  'thickened',\n",
              "  'season',\n",
              "  'taste'],\n",
              " ['baking',\n",
              "  'sugar',\n",
              "  'cool',\n",
              "  'c',\n",
              "  'cream',\n",
              "  'butter',\n",
              "  'brown',\n",
              "  'white',\n",
              "  'smooth',\n",
              "  'beat',\n",
              "  'eggs',\n",
              "  'time',\n",
              "  'vanilla',\n",
              "  'combine',\n",
              "  'flour',\n",
              "  'soda',\n",
              "  'salt',\n",
              "  'creamed',\n",
              "  'mixture',\n",
              "  'blended',\n",
              "  'mix',\n",
              "  'quick',\n",
              "  'oats',\n",
              "  'walnuts',\n",
              "  'chocolate',\n",
              "  'chips',\n",
              "  'drop',\n",
              "  'heaping',\n",
              "  'spoonfuls',\n",
              "  'ungreased',\n",
              "  'preheated',\n",
              "  'allow',\n",
              "  'cookies',\n",
              "  'sheet',\n",
              "  'transferring',\n",
              "  'wire',\n",
              "  'rack'])"
            ]
          },
          "execution_count": 38,
          "metadata": {},
          "output_type": "execute_result"
        }
      ],
      "source": [
        "give_keywords(df['cooking_directions'][2], most_common_cooking_words), give_keywords(df['cooking_directions'][500], most_common_cooking_words)"
      ]
    },
    {
      "cell_type": "code",
      "execution_count": 39,
      "metadata": {
        "colab": {
          "base_uri": "https://localhost:8080/"
        },
        "id": "laOJu9j63qe5",
        "outputId": "519b74c6-0803-4931-fd6e-123e6a8c13ef"
      },
      "outputs": [
        {
          "data": {
            "text/plain": [
              "0         [powder, flour, chili, salt, oil, skillet, red...\n",
              "1         [powder, flour, chili, salt, oil, skillet, red...\n",
              "2         [powder, flour, chili, salt, oil, skillet, red...\n",
              "3         [powder, flour, chili, salt, oil, skillet, red...\n",
              "4         [powder, flour, chili, salt, oil, skillet, red...\n",
              "                                ...                        \n",
              "151143    [cover, peppers, dish, aluminum, quinoa, mixtu...\n",
              "151144    [min, add, cook, boil, cheese, spinach, pan, c...\n",
              "151145    [chicken, desired, knorr, r, skillet, salt, pe...\n",
              "151146    [spinach, powder, olive, oil, skillet, cook, w...\n",
              "151147    [boil, inch, saucepan, combine, corn, syrup, p...\n",
              "Name: cooking_words, Length: 151148, dtype: object"
            ]
          },
          "execution_count": 39,
          "metadata": {},
          "output_type": "execute_result"
        }
      ],
      "source": [
        "df['cooking_words'] = df['cooking_directions'].apply(lambda x:give_keywords(x))\n",
        "df['cooking_words']"
      ]
    },
    {
      "cell_type": "code",
      "execution_count": 40,
      "metadata": {
        "colab": {
          "base_uri": "https://localhost:8080/"
        },
        "id": "SSNJ8ElF5Xe_",
        "outputId": "7574c072-aa06-43d8-afe9-fbe7713e2173"
      },
      "outputs": [
        {
          "name": "stdout",
          "output_type": "stream",
          "text": [
            "4958343\n"
          ]
        },
        {
          "data": {
            "text/plain": [
              "30"
            ]
          },
          "execution_count": 40,
          "metadata": {},
          "output_type": "execute_result"
        }
      ],
      "source": [
        "all_cooking_words = [cooking_word for sublist in df['cooking_words'] for cooking_word in sublist]\n",
        "print(len(all_cooking_words))\n",
        "\n",
        "cooking_word_counts = collections.Counter(all_cooking_words)\n",
        "\n",
        "top_cooking_words = cooking_word_counts.most_common(30)\n",
        "\n",
        "unique_cooking_words = [cooking_word[0] for cooking_word in top_cooking_words]\n",
        "\n",
        "cooking_word_frequencies = [cooking_word[1] for cooking_word in top_cooking_words]\n",
        "len( unique_cooking_words)"
      ]
    },
    {
      "cell_type": "code",
      "execution_count": 41,
      "metadata": {
        "colab": {
          "base_uri": "https://localhost:8080/"
        },
        "id": "gzVOHGew5fVn",
        "outputId": "33c1e590-4f73-49ea-9370-2c57d1d8ab36"
      },
      "outputs": [
        {
          "data": {
            "text/plain": [
              "[('preheated', 47762),\n",
              " ('add', 49936),\n",
              " ('baking', 52235),\n",
              " ('pepper', 53782),\n",
              " ('cook', 57507),\n",
              " ('butter', 58258),\n",
              " ('sugar', 60255),\n",
              " ('mix', 63348),\n",
              " ('mixture', 67605),\n",
              " ('salt', 79470)]"
            ]
          },
          "execution_count": 41,
          "metadata": {},
          "output_type": "execute_result"
        }
      ],
      "source": [
        "cooking_word_counts.most_common(10)[::-1]"
      ]
    },
    {
      "cell_type": "code",
      "execution_count": 42,
      "metadata": {
        "colab": {
          "base_uri": "https://localhost:8080/",
          "height": 427
        },
        "id": "N41SLFNb7ec9",
        "outputId": "5191a91b-4b98-4ddf-812a-d7d5cb7e642a"
      },
      "outputs": [
        {
          "data": {
            "image/png": "[encoded data removed]",
            "text/plain": [
              "<Figure size 1152x576 with 1 Axes>"
            ]
          },
          "metadata": {
            "needs_background": "light"
          },
          "output_type": "display_data"
        }
      ],
      "source": [
        "# Calculate total number of words\n",
        "total_words = sum(cooking_word_frequencies)\n",
        "\n",
        "# Calculate percentage of total words for each word\n",
        "word_percentages = [(freq / total_words) * 100 for freq in cooking_word_frequencies]\n",
        "\n",
        "# Plot\n",
        "plt.figure(figsize=(16, 8))\n",
        "bars = plt.bar(unique_cooking_words, cooking_word_frequencies, color='darkred', width=0.6)\n",
        "\n",
        "for bar, percentage in zip(bars, word_percentages):\n",
        "    plt.text(bar.get_x() + bar.get_width()/2, bar.get_height(), f'{percentage:.1f}%',\n",
        "             ha='center', va='bottom', color='black', fontsize=8)\n",
        "\n",
        "plt.xlabel('Cooking Words')\n",
        "plt.ylabel('Frequency')\n",
        "plt.title('Frequency of Cooking Words')\n",
        "plt.xticks(rotation=70, ha='right')\n",
        "plt.tight_layout()\n",
        "plt.show()"
      ]
    },
    {
      "cell_type": "code",
      "execution_count": 43,
      "metadata": {
        "colab": {
          "base_uri": "https://localhost:8080/",
          "height": 508
        },
        "id": "vX5xMGtw5xUQ",
        "outputId": "667d06bf-a732-4dd8-e59e-d12c987f6df5"
      },
      "outputs": [
        {
          "data": {
            "image/png": "[encoded data removed]",
            "text/plain": [
              "<Figure size 720x432 with 1 Axes>"
            ]
          },
          "metadata": {
            "needs_background": "light"
          },
          "output_type": "display_data"
        }
      ],
      "source": [
        "plt.figure(figsize=(10,6))\n",
        "plt.bar(unique_cooking_words, cooking_word_frequencies, color='darkred')\n",
        "plt.xlabel('Cooking Words')\n",
        "plt.ylabel('Frequency')\n",
        "plt.title('Frequency of Cooking Words')\n",
        "plt.xticks(rotation=70, ha='right')\n",
        "plt.tight_layout()\n",
        "plt.show()"
      ]
    },
    {
      "cell_type": "code",
      "execution_count": null,
      "metadata": {
        "id": "CMzHiqzZDUzZ"
      },
      "outputs": [],
      "source": []
    },
    {
      "cell_type": "markdown",
      "metadata": {
        "id": "AA5LH6eD9_R6"
      },
      "source": [
        "## Preprocessing the ingredients column"
      ]
    },
    {
      "cell_type": "code",
      "execution_count": 44,
      "metadata": {
        "colab": {
          "base_uri": "https://localhost:8080/",
          "height": 54
        },
        "id": "7xNwb8Om9_IC",
        "outputId": "bf850314-047d-4e2d-d9f1-d9dfbe0b92ac"
      },
      "outputs": [
        {
          "data": {
            "text/plain": [
              "'vegetable oil^self-rising flour^New Mexico^tomato sauce^water^ground cumin^garlic powder^onion salt^salt to taste'"
            ]
          },
          "execution_count": 44,
          "metadata": {},
          "output_type": "execute_result"
        }
      ],
      "source": [
        "df['ingredients'][0]"
      ]
    },
    {
      "cell_type": "markdown",
      "metadata": {
        "id": "dUNkCiwL42aw"
      },
      "source": [
        "## Getting final df for construction of model"
      ]
    },
    {
      "cell_type": "code",
      "execution_count": 45,
      "metadata": {
        "id": "RMiK5kAC5-0P"
      },
      "outputs": [],
      "source": [
        "def preprocess_(row_list):\n",
        "  \"\"\"\n",
        "  Returns the elements of list separated by '|'\n",
        "  \"\"\"\n",
        "  temp =  '|'.join([item.strip() for item in row_list])\n",
        "  return temp.replace(' ', '')"
      ]
    },
    {
      "cell_type": "code",
      "execution_count": 46,
      "metadata": {},
      "outputs": [
        {
          "data": {
            "text/html": [
              "<div>\n",
              "<style scoped>\n",
              "    .dataframe tbody tr th:only-of-type {\n",
              "        vertical-align: middle;\n",
              "    }\n",
              "\n",
              "    .dataframe tbody tr th {\n",
              "        vertical-align: top;\n",
              "    }\n",
              "\n",
              "    .dataframe thead th {\n",
              "        text-align: right;\n",
              "    }\n",
              "</style>\n",
              "<table border=\"1\" class=\"dataframe\">\n",
              "  <thead>\n",
              "    <tr style=\"text-align: right;\">\n",
              "      <th></th>\n",
              "      <th>cooking_words</th>\n",
              "    </tr>\n",
              "  </thead>\n",
              "  <tbody>\n",
              "    <tr>\n",
              "      <th>0</th>\n",
              "      <td>powder|flour|chili|salt|oil|skillet|reduce|coo...</td>\n",
              "    </tr>\n",
              "    <tr>\n",
              "      <th>1</th>\n",
              "      <td>powder|flour|chili|salt|oil|skillet|reduce|coo...</td>\n",
              "    </tr>\n",
              "    <tr>\n",
              "      <th>2</th>\n",
              "      <td>powder|flour|chili|salt|oil|skillet|reduce|coo...</td>\n",
              "    </tr>\n",
              "    <tr>\n",
              "      <th>3</th>\n",
              "      <td>powder|flour|chili|salt|oil|skillet|reduce|coo...</td>\n",
              "    </tr>\n",
              "    <tr>\n",
              "      <th>4</th>\n",
              "      <td>powder|flour|chili|salt|oil|skillet|reduce|coo...</td>\n",
              "    </tr>\n",
              "    <tr>\n",
              "      <th>...</th>\n",
              "      <td>...</td>\n",
              "    </tr>\n",
              "    <tr>\n",
              "      <th>151143</th>\n",
              "      <td>cover|peppers|dish|aluminum|quinoa|mixture|bak...</td>\n",
              "    </tr>\n",
              "    <tr>\n",
              "      <th>151144</th>\n",
              "      <td>min|add|cook|boil|cheese|spinach|pan|covered|d...</td>\n",
              "    </tr>\n",
              "    <tr>\n",
              "      <th>151145</th>\n",
              "      <td>chicken|desired|knorr|r|skillet|salt|pepper|fl...</td>\n",
              "    </tr>\n",
              "    <tr>\n",
              "      <th>151146</th>\n",
              "      <td>spinach|powder|olive|oil|skillet|cook|wilted|c...</td>\n",
              "    </tr>\n",
              "    <tr>\n",
              "      <th>151147</th>\n",
              "      <td>boil|inch|saucepan|combine|corn|syrup|peanut|b...</td>\n",
              "    </tr>\n",
              "  </tbody>\n",
              "</table>\n",
              "<p>151148 rows × 1 columns</p>\n",
              "</div>"
            ],
            "text/plain": [
              "                                            cooking_words\n",
              "0       powder|flour|chili|salt|oil|skillet|reduce|coo...\n",
              "1       powder|flour|chili|salt|oil|skillet|reduce|coo...\n",
              "2       powder|flour|chili|salt|oil|skillet|reduce|coo...\n",
              "3       powder|flour|chili|salt|oil|skillet|reduce|coo...\n",
              "4       powder|flour|chili|salt|oil|skillet|reduce|coo...\n",
              "...                                                   ...\n",
              "151143  cover|peppers|dish|aluminum|quinoa|mixture|bak...\n",
              "151144  min|add|cook|boil|cheese|spinach|pan|covered|d...\n",
              "151145  chicken|desired|knorr|r|skillet|salt|pepper|fl...\n",
              "151146  spinach|powder|olive|oil|skillet|cook|wilted|c...\n",
              "151147  boil|inch|saucepan|combine|corn|syrup|peanut|b...\n",
              "\n",
              "[151148 rows x 1 columns]"
            ]
          },
          "execution_count": 46,
          "metadata": {},
          "output_type": "execute_result"
        }
      ],
      "source": [
        "df[['cooking_words']] = df[['cooking_words']].applymap(preprocess_)\n",
        "df[['cooking_words']]"
      ]
    },
    {
      "cell_type": "code",
      "execution_count": 47,
      "metadata": {
        "colab": {
          "base_uri": "https://localhost:8080/"
        },
        "id": "HX7QmuQK-Liz",
        "outputId": "d1e77247-de8c-417a-b416-4df05617a935"
      },
      "outputs": [
        {
          "name": "stdout",
          "output_type": "stream",
          "text": [
            "1390612\n"
          ]
        },
        {
          "data": {
            "text/plain": [
              "50"
            ]
          },
          "execution_count": 47,
          "metadata": {},
          "output_type": "execute_result"
        }
      ],
      "source": [
        "df['ingredients_list'] = df['ingredients'].apply(lambda x:x.split('^'))\n",
        "\n",
        "all_ingredients_words = [ingredients_word for sublist in df['ingredients_list'] for ingredients_word in sublist]\n",
        "print(len(all_ingredients_words))\n",
        "\n",
        "ingredients_word_counts = collections.Counter(all_ingredients_words)\n",
        "\n",
        "top_ingredients_words = ingredients_word_counts.most_common(50)\n",
        "\n",
        "unique_ingredients_words = [ingredients_word[0] for ingredients_word in top_ingredients_words]\n",
        "\n",
        "ingredients_word_frequencies = [ingredients_word[1] for ingredients_word in top_ingredients_words]\n",
        "len( unique_ingredients_words)\n"
      ]
    },
    {
      "cell_type": "code",
      "execution_count": 48,
      "metadata": {
        "colab": {
          "base_uri": "https://localhost:8080/",
          "height": 508
        },
        "id": "lqRoSAb9-0ui",
        "outputId": "bca4d4c5-c63d-499d-b161-c54545310b05"
      },
      "outputs": [
        {
          "data": {
            "image/png": "[encoded data removed]",
            "text/plain": [
              "<Figure size 720x432 with 1 Axes>"
            ]
          },
          "metadata": {
            "needs_background": "light"
          },
          "output_type": "display_data"
        }
      ],
      "source": [
        "plt.figure(figsize=(10,6))\n",
        "plt.bar(unique_ingredients_words, ingredients_word_frequencies, color='darkred')\n",
        "plt.xlabel('Ingredients Words')\n",
        "plt.ylabel('Frequency')\n",
        "plt.title('Frequency of Ingredients Words')\n",
        "plt.xticks(rotation=70, ha='right')\n",
        "plt.tight_layout()\n",
        "plt.show()"
      ]
    },
    {
      "cell_type": "code",
      "execution_count": 49,
      "metadata": {
        "colab": {
          "base_uri": "https://localhost:8080/"
        },
        "id": "ZqKmMRyO_kpR",
        "outputId": "228b0b9c-3bb5-47cb-dc09-a98d16cbb715"
      },
      "outputs": [
        {
          "data": {
            "text/plain": [
              "(                                         ingredients_list\n",
              " 0       vegetableoil|self-risingflour|NewMexico|tomato...\n",
              " 1       vegetableoil|self-risingflour|NewMexico|tomato...\n",
              " 2       vegetableoil|self-risingflour|NewMexico|tomato...\n",
              " 3       vegetableoil|self-risingflour|NewMexico|tomato...\n",
              " 4       vegetableoil|self-risingflour|NewMexico|tomato...\n",
              " ...                                                   ...\n",
              " 151143  quinoarinsedanddrained|water|oliveoil|smalloni...\n",
              " 151144  KRAFTRoastedRedPepperItalianwithParmesanDressi...\n",
              " 151145  bonelessskinlesschickenbreasts|vegetableoil|li...\n",
              " 151146  oliveoil|bagfreshspinach|artichokeheartsdraine...\n",
              " 151147  cornsyrup|peanutbutter|semisweetchocolatechips...\n",
              " \n",
              " [151148 rows x 1 columns],\n",
              "                                                 tags_list\n",
              " 0       15-minutes-or-less|north-american|sauces|condi...\n",
              " 1       15-minutes-or-less|north-american|sauces|condi...\n",
              " 2       15-minutes-or-less|north-american|sauces|condi...\n",
              " 3       15-minutes-or-less|north-american|sauces|condi...\n",
              " 4       15-minutes-or-less|north-american|sauces|condi...\n",
              " ...                                                   ...\n",
              " 151143  60-minutes-or-less|healthy|main-dish|vegetable...\n",
              " 151144  30-minutes-or-less|main-dish|poultry|rice|vege...\n",
              " 151145  main-dish|poultry|oven|refrigerator|dinner-par...\n",
              " 151146  30-minutes-or-less|appetizers|lunch|vegetables...\n",
              " 151147  weeknight|for-large-groups|desserts|easy|refri...\n",
              " \n",
              " [151148 rows x 1 columns])"
            ]
          },
          "execution_count": 49,
          "metadata": {},
          "output_type": "execute_result"
        }
      ],
      "source": [
        "df[['ingredients_list']] = df[['ingredients_list']].applymap(preprocess_)\n",
        "df[['tags_list']] = df[['tags_list']].applymap(preprocess_)\n",
        "df[['ingredients_list']], df[['tags_list']]"
      ]
    },
    {
      "cell_type": "code",
      "execution_count": 51,
      "metadata": {},
      "outputs": [
        {
          "data": {
            "text/plain": [
              "0         powder|flour|chili|salt|oil|skillet|reduce|coo...\n",
              "1         powder|flour|chili|salt|oil|skillet|reduce|coo...\n",
              "2         powder|flour|chili|salt|oil|skillet|reduce|coo...\n",
              "3         powder|flour|chili|salt|oil|skillet|reduce|coo...\n",
              "4         powder|flour|chili|salt|oil|skillet|reduce|coo...\n",
              "                                ...                        \n",
              "151143    cover|peppers|dish|aluminum|quinoa|mixture|bak...\n",
              "151144    min|add|cook|boil|cheese|spinach|pan|covered|d...\n",
              "151145    chicken|desired|knorr|r|skillet|salt|pepper|fl...\n",
              "151146    spinach|powder|olive|oil|skillet|cook|wilted|c...\n",
              "151147    boil|inch|saucepan|combine|corn|syrup|peanut|b...\n",
              "Name: cooking_words, Length: 151148, dtype: object"
            ]
          },
          "execution_count": 51,
          "metadata": {},
          "output_type": "execute_result"
        }
      ],
      "source": [
        "df['cooking_words']"
      ]
    },
    {
      "cell_type": "code",
      "execution_count": 183,
      "metadata": {
        "id": "Vh3sCr4r8n3A"
      },
      "outputs": [],
      "source": [
        "# df[['tags_list']] = df[['tags_list']].applymap(preprocess_)\n",
        "\n",
        "# df[['cooking_words']] = df[['cooking_words']].applymap(preprocess_)\n",
        "\n",
        "# df[['tags']].applymap(lambda x:preprocess(x.split(';')))"
      ]
    },
    {
      "cell_type": "code",
      "execution_count": 52,
      "metadata": {
        "colab": {
          "base_uri": "https://localhost:8080/"
        },
        "id": "sFpz0Him9ypS",
        "outputId": "7730fd8e-8a01-416e-8ccc-9b26a5795b1f"
      },
      "outputs": [
        {
          "data": {
            "text/plain": [
              "Index(['user_id', 'recipe_id', 'rating', 'dateLastModified', 'Unnamed: 0',\n",
              "       'recipe_name', 'review_nums', 'category', 'aver_rate', 'image_url',\n",
              "       'ingredients', 'cooking_directions', 'nutritions', 'tags', 'datetime',\n",
              "       'year', 'month', 'day', 'hour', 'nutritions_list', 'tags_list',\n",
              "       'cooking_words', 'ingredients_list'],\n",
              "      dtype='object')"
            ]
          },
          "execution_count": 52,
          "metadata": {},
          "output_type": "execute_result"
        }
      ],
      "source": [
        "df.columns"
      ]
    },
    {
      "cell_type": "code",
      "execution_count": 53,
      "metadata": {
        "colab": {
          "base_uri": "https://localhost:8080/",
          "height": 704
        },
        "id": "-_trQme492eT",
        "outputId": "f834d697-f503-4478-b7e3-8cb601f65040"
      },
      "outputs": [
        {
          "data": {
            "text/html": [
              "<div>\n",
              "<style scoped>\n",
              "    .dataframe tbody tr th:only-of-type {\n",
              "        vertical-align: middle;\n",
              "    }\n",
              "\n",
              "    .dataframe tbody tr th {\n",
              "        vertical-align: top;\n",
              "    }\n",
              "\n",
              "    .dataframe thead th {\n",
              "        text-align: right;\n",
              "    }\n",
              "</style>\n",
              "<table border=\"1\" class=\"dataframe\">\n",
              "  <thead>\n",
              "    <tr style=\"text-align: right;\">\n",
              "      <th></th>\n",
              "      <th>ingredients_list</th>\n",
              "      <th>cooking_words</th>\n",
              "      <th>tags_list</th>\n",
              "    </tr>\n",
              "  </thead>\n",
              "  <tbody>\n",
              "    <tr>\n",
              "      <th>0</th>\n",
              "      <td>vegetableoil|self-risingflour|NewMexico|tomato...</td>\n",
              "      <td>powder|flour|chili|salt|oil|skillet|reduce|coo...</td>\n",
              "      <td>15-minutes-or-less|north-american|sauces|condi...</td>\n",
              "    </tr>\n",
              "    <tr>\n",
              "      <th>1</th>\n",
              "      <td>vegetableoil|self-risingflour|NewMexico|tomato...</td>\n",
              "      <td>powder|flour|chili|salt|oil|skillet|reduce|coo...</td>\n",
              "      <td>15-minutes-or-less|north-american|sauces|condi...</td>\n",
              "    </tr>\n",
              "    <tr>\n",
              "      <th>2</th>\n",
              "      <td>vegetableoil|self-risingflour|NewMexico|tomato...</td>\n",
              "      <td>powder|flour|chili|salt|oil|skillet|reduce|coo...</td>\n",
              "      <td>15-minutes-or-less|north-american|sauces|condi...</td>\n",
              "    </tr>\n",
              "    <tr>\n",
              "      <th>3</th>\n",
              "      <td>vegetableoil|self-risingflour|NewMexico|tomato...</td>\n",
              "      <td>powder|flour|chili|salt|oil|skillet|reduce|coo...</td>\n",
              "      <td>15-minutes-or-less|north-american|sauces|condi...</td>\n",
              "    </tr>\n",
              "    <tr>\n",
              "      <th>4</th>\n",
              "      <td>vegetableoil|self-risingflour|NewMexico|tomato...</td>\n",
              "      <td>powder|flour|chili|salt|oil|skillet|reduce|coo...</td>\n",
              "      <td>15-minutes-or-less|north-american|sauces|condi...</td>\n",
              "    </tr>\n",
              "    <tr>\n",
              "      <th>...</th>\n",
              "      <td>...</td>\n",
              "      <td>...</td>\n",
              "      <td>...</td>\n",
              "    </tr>\n",
              "    <tr>\n",
              "      <th>151143</th>\n",
              "      <td>quinoarinsedanddrained|water|oliveoil|smalloni...</td>\n",
              "      <td>cover|peppers|dish|aluminum|quinoa|mixture|bak...</td>\n",
              "      <td>60-minutes-or-less|healthy|main-dish|vegetable...</td>\n",
              "    </tr>\n",
              "    <tr>\n",
              "      <th>151144</th>\n",
              "      <td>KRAFTRoastedRedPepperItalianwithParmesanDressi...</td>\n",
              "      <td>min|add|cook|boil|cheese|spinach|pan|covered|d...</td>\n",
              "      <td>30-minutes-or-less|main-dish|poultry|rice|vege...</td>\n",
              "    </tr>\n",
              "    <tr>\n",
              "      <th>151145</th>\n",
              "      <td>bonelessskinlesschickenbreasts|vegetableoil|li...</td>\n",
              "      <td>chicken|desired|knorr|r|skillet|salt|pepper|fl...</td>\n",
              "      <td>main-dish|poultry|oven|refrigerator|dinner-par...</td>\n",
              "    </tr>\n",
              "    <tr>\n",
              "      <th>151146</th>\n",
              "      <td>oliveoil|bagfreshspinach|artichokeheartsdraine...</td>\n",
              "      <td>spinach|powder|olive|oil|skillet|cook|wilted|c...</td>\n",
              "      <td>30-minutes-or-less|appetizers|lunch|vegetables...</td>\n",
              "    </tr>\n",
              "    <tr>\n",
              "      <th>151147</th>\n",
              "      <td>cornsyrup|peanutbutter|semisweetchocolatechips...</td>\n",
              "      <td>boil|inch|saucepan|combine|corn|syrup|peanut|b...</td>\n",
              "      <td>weeknight|for-large-groups|desserts|easy|refri...</td>\n",
              "    </tr>\n",
              "  </tbody>\n",
              "</table>\n",
              "<p>151148 rows × 3 columns</p>\n",
              "</div>"
            ],
            "text/plain": [
              "                                         ingredients_list  \\\n",
              "0       vegetableoil|self-risingflour|NewMexico|tomato...   \n",
              "1       vegetableoil|self-risingflour|NewMexico|tomato...   \n",
              "2       vegetableoil|self-risingflour|NewMexico|tomato...   \n",
              "3       vegetableoil|self-risingflour|NewMexico|tomato...   \n",
              "4       vegetableoil|self-risingflour|NewMexico|tomato...   \n",
              "...                                                   ...   \n",
              "151143  quinoarinsedanddrained|water|oliveoil|smalloni...   \n",
              "151144  KRAFTRoastedRedPepperItalianwithParmesanDressi...   \n",
              "151145  bonelessskinlesschickenbreasts|vegetableoil|li...   \n",
              "151146  oliveoil|bagfreshspinach|artichokeheartsdraine...   \n",
              "151147  cornsyrup|peanutbutter|semisweetchocolatechips...   \n",
              "\n",
              "                                            cooking_words  \\\n",
              "0       powder|flour|chili|salt|oil|skillet|reduce|coo...   \n",
              "1       powder|flour|chili|salt|oil|skillet|reduce|coo...   \n",
              "2       powder|flour|chili|salt|oil|skillet|reduce|coo...   \n",
              "3       powder|flour|chili|salt|oil|skillet|reduce|coo...   \n",
              "4       powder|flour|chili|salt|oil|skillet|reduce|coo...   \n",
              "...                                                   ...   \n",
              "151143  cover|peppers|dish|aluminum|quinoa|mixture|bak...   \n",
              "151144  min|add|cook|boil|cheese|spinach|pan|covered|d...   \n",
              "151145  chicken|desired|knorr|r|skillet|salt|pepper|fl...   \n",
              "151146  spinach|powder|olive|oil|skillet|cook|wilted|c...   \n",
              "151147  boil|inch|saucepan|combine|corn|syrup|peanut|b...   \n",
              "\n",
              "                                                tags_list  \n",
              "0       15-minutes-or-less|north-american|sauces|condi...  \n",
              "1       15-minutes-or-less|north-american|sauces|condi...  \n",
              "2       15-minutes-or-less|north-american|sauces|condi...  \n",
              "3       15-minutes-or-less|north-american|sauces|condi...  \n",
              "4       15-minutes-or-less|north-american|sauces|condi...  \n",
              "...                                                   ...  \n",
              "151143  60-minutes-or-less|healthy|main-dish|vegetable...  \n",
              "151144  30-minutes-or-less|main-dish|poultry|rice|vege...  \n",
              "151145  main-dish|poultry|oven|refrigerator|dinner-par...  \n",
              "151146  30-minutes-or-less|appetizers|lunch|vegetables...  \n",
              "151147  weeknight|for-large-groups|desserts|easy|refri...  \n",
              "\n",
              "[151148 rows x 3 columns]"
            ]
          },
          "execution_count": 53,
          "metadata": {},
          "output_type": "execute_result"
        }
      ],
      "source": [
        "df[['ingredients_list', 'cooking_words', 'tags_list']]"
      ]
    },
    {
      "cell_type": "code",
      "execution_count": 54,
      "metadata": {
        "colab": {
          "base_uri": "https://localhost:8080/",
          "height": 201
        },
        "id": "HkcjjdCv3vE2",
        "outputId": "3400ff25-0058-4ab1-a743-e74b341c8dbf"
      },
      "outputs": [
        {
          "data": {
            "text/html": [
              "<div>\n",
              "<style scoped>\n",
              "    .dataframe tbody tr th:only-of-type {\n",
              "        vertical-align: middle;\n",
              "    }\n",
              "\n",
              "    .dataframe tbody tr th {\n",
              "        vertical-align: top;\n",
              "    }\n",
              "\n",
              "    .dataframe thead th {\n",
              "        text-align: right;\n",
              "    }\n",
              "</style>\n",
              "<table border=\"1\" class=\"dataframe\">\n",
              "  <thead>\n",
              "    <tr style=\"text-align: right;\">\n",
              "      <th></th>\n",
              "      <th>user_id</th>\n",
              "      <th>rating</th>\n",
              "      <th>recipe_id</th>\n",
              "      <th>recipe_name</th>\n",
              "      <th>tags_list</th>\n",
              "      <th>cooking_words</th>\n",
              "      <th>review_nums</th>\n",
              "      <th>aver_rate</th>\n",
              "      <th>category</th>\n",
              "      <th>year</th>\n",
              "      <th>month</th>\n",
              "      <th>day</th>\n",
              "      <th>hour</th>\n",
              "    </tr>\n",
              "  </thead>\n",
              "  <tbody>\n",
              "    <tr>\n",
              "      <th>0</th>\n",
              "      <td>39</td>\n",
              "      <td>4</td>\n",
              "      <td>61727</td>\n",
              "      <td>Ten Minute Enchilada Sauce</td>\n",
              "      <td>15-minutes-or-less|north-american|sauces|condi...</td>\n",
              "      <td>powder|flour|chili|salt|oil|skillet|reduce|coo...</td>\n",
              "      <td>2443</td>\n",
              "      <td>4.439774</td>\n",
              "      <td>main-dish</td>\n",
              "      <td>2001</td>\n",
              "      <td>3</td>\n",
              "      <td>26</td>\n",
              "      <td>7</td>\n",
              "    </tr>\n",
              "    <tr>\n",
              "      <th>1</th>\n",
              "      <td>8799</td>\n",
              "      <td>5</td>\n",
              "      <td>61727</td>\n",
              "      <td>Ten Minute Enchilada Sauce</td>\n",
              "      <td>15-minutes-or-less|north-american|sauces|condi...</td>\n",
              "      <td>powder|flour|chili|salt|oil|skillet|reduce|coo...</td>\n",
              "      <td>2443</td>\n",
              "      <td>4.439774</td>\n",
              "      <td>main-dish</td>\n",
              "      <td>2004</td>\n",
              "      <td>9</td>\n",
              "      <td>21</td>\n",
              "      <td>6</td>\n",
              "    </tr>\n",
              "  </tbody>\n",
              "</table>\n",
              "</div>"
            ],
            "text/plain": [
              "   user_id  rating  recipe_id                 recipe_name  \\\n",
              "0       39       4      61727  Ten Minute Enchilada Sauce   \n",
              "1     8799       5      61727  Ten Minute Enchilada Sauce   \n",
              "\n",
              "                                           tags_list  \\\n",
              "0  15-minutes-or-less|north-american|sauces|condi...   \n",
              "1  15-minutes-or-less|north-american|sauces|condi...   \n",
              "\n",
              "                                       cooking_words  review_nums  aver_rate  \\\n",
              "0  powder|flour|chili|salt|oil|skillet|reduce|coo...         2443   4.439774   \n",
              "1  powder|flour|chili|salt|oil|skillet|reduce|coo...         2443   4.439774   \n",
              "\n",
              "    category  year  month  day  hour  \n",
              "0  main-dish  2001      3   26     7  \n",
              "1  main-dish  2004      9   21     6  "
            ]
          },
          "execution_count": 54,
          "metadata": {},
          "output_type": "execute_result"
        }
      ],
      "source": [
        "final_df = df[['user_id', 'rating', 'recipe_id','recipe_name', 'tags_list', 'cooking_words', 'review_nums', 'aver_rate', 'category', 'year', 'month', 'day', 'hour']]\n",
        "final_df.head(2)"
      ]
    },
    {
      "cell_type": "code",
      "execution_count": 55,
      "metadata": {
        "colab": {
          "base_uri": "https://localhost:8080/"
        },
        "id": "BozJ4Sg6DtEK",
        "outputId": "a1715ec9-49a8-48e3-8eb3-a451cbc8e3f9"
      },
      "outputs": [
        {
          "name": "stdout",
          "output_type": "stream",
          "text": [
            "<class 'pandas.core.frame.DataFrame'>\n",
            "Int64Index: 151148 entries, 0 to 151147\n",
            "Data columns (total 13 columns):\n",
            " #   Column         Non-Null Count   Dtype  \n",
            "---  ------         --------------   -----  \n",
            " 0   user_id        151148 non-null  int64  \n",
            " 1   rating         151148 non-null  int64  \n",
            " 2   recipe_id      151148 non-null  int64  \n",
            " 3   recipe_name    151148 non-null  object \n",
            " 4   tags_list      151148 non-null  object \n",
            " 5   cooking_words  151148 non-null  object \n",
            " 6   review_nums    151148 non-null  int64  \n",
            " 7   aver_rate      151148 non-null  float64\n",
            " 8   category       151148 non-null  object \n",
            " 9   year           151148 non-null  int64  \n",
            " 10  month          151148 non-null  int64  \n",
            " 11  day            151148 non-null  int64  \n",
            " 12  hour           151148 non-null  int64  \n",
            "dtypes: float64(1), int64(8), object(4)\n",
            "memory usage: 20.2+ MB\n"
          ]
        }
      ],
      "source": [
        "final_df.info()"
      ]
    },
    {
      "cell_type": "code",
      "execution_count": 56,
      "metadata": {
        "id": "hNz6Qu_tDwYy"
      },
      "outputs": [],
      "source": [
        "final_df.to_csv('final_dataframe2.csv')"
      ]
    },
    {
      "cell_type": "code",
      "execution_count": null,
      "metadata": {
        "id": "i_NEclPhE7LB"
      },
      "outputs": [],
      "source": []
    }
  ],
  "metadata": {
    "colab": {
      "provenance": []
    },
    "kernelspec": {
      "display_name": "Python 3",
      "name": "python3"
    },
    "language_info": {
      "codemirror_mode": {
        "name": "ipython",
        "version": 3
      },
      "file_extension": ".py",
      "mimetype": "text/x-python",
      "name": "python",
      "nbconvert_exporter": "python",
      "pygments_lexer": "ipython3",
      "version": "3.7.12"
    }
  },
  "nbformat": 4,
  "nbformat_minor": 0
}
