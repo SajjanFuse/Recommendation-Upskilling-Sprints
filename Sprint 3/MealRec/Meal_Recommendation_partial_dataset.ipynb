{
  "cells": [
    {
      "cell_type": "code",
      "execution_count": 1,
      "metadata": {
        "colab": {
          "base_uri": "https://localhost:8080/"
        },
        "id": "FGuiFkYR_kis",
        "outputId": "e5140272-961d-4c1d-b071-1bcbe2265c36"
      },
      "outputs": [
        {
          "name": "stdout",
          "output_type": "stream",
          "text": [
            "\u001b[2K     \u001b[90m━━━━━━━━━━━━━━━━━━━━━━━━━━━━━━━━━━━━━━━━\u001b[0m \u001b[32m497.6/497.6 MB\u001b[0m \u001b[31m2.1 MB/s\u001b[0m eta \u001b[36m0:00:00\u001b[0m\n",
            "\u001b[2K     \u001b[90m━━━━━━━━━━━━━━━━━━━━━━━━━━━━━━━━━━━━━━━━\u001b[0m \u001b[32m42.6/42.6 kB\u001b[0m \u001b[31m5.1 MB/s\u001b[0m eta \u001b[36m0:00:00\u001b[0m\n",
            "\u001b[2K     \u001b[90m━━━━━━━━━━━━━━━━━━━━━━━━━━━━━━━━━━━━━━━━\u001b[0m \u001b[32m5.8/5.8 MB\u001b[0m \u001b[31m91.5 MB/s\u001b[0m eta \u001b[36m0:00:00\u001b[0m\n",
            "\u001b[2K     \u001b[90m━━━━━━━━━━━━━━━━━━━━━━━━━━━━━━━━━━━━━━━━\u001b[0m \u001b[32m462.5/462.5 kB\u001b[0m \u001b[31m43.4 MB/s\u001b[0m eta \u001b[36m0:00:00\u001b[0m\n",
            "\u001b[2K     \u001b[90m━━━━━━━━━━━━━━━━━━━━━━━━━━━━━━━━━━━━━━━━\u001b[0m \u001b[32m1.4/1.4 MB\u001b[0m \u001b[31m74.8 MB/s\u001b[0m eta \u001b[36m0:00:00\u001b[0m\n",
            "\u001b[2K     \u001b[90m━━━━━━━━━━━━━━━━━━━━━━━━━━━━━━━━━━━━━━━━\u001b[0m \u001b[32m4.9/4.9 MB\u001b[0m \u001b[31m89.9 MB/s\u001b[0m eta \u001b[36m0:00:00\u001b[0m\n",
            "\u001b[2K     \u001b[90m━━━━━━━━━━━━━━━━━━━━━━━━━━━━━━━━━━━━━━━━\u001b[0m \u001b[32m781.3/781.3 kB\u001b[0m \u001b[31m58.2 MB/s\u001b[0m eta \u001b[36m0:00:00\u001b[0m\n",
            "\u001b[?25h\u001b[31mERROR: pip's dependency resolver does not currently take into account all the packages that are installed. This behaviour is the source of the following dependency conflicts.\n",
            "pandas-gbq 0.19.2 requires google-auth-oauthlib>=0.7.0, but you have google-auth-oauthlib 0.4.6 which is incompatible.\u001b[0m\u001b[31m\n",
            "\u001b[2K     \u001b[90m━━━━━━━━━━━━━━━━━━━━━━━━━━━━━━━━━━━━━━━━\u001b[0m \u001b[32m141.2/141.2 kB\u001b[0m \u001b[31m5.4 MB/s\u001b[0m eta \u001b[36m0:00:00\u001b[0m\n",
            "\u001b[2K     \u001b[90m━━━━━━━━━━━━━━━━━━━━━━━━━━━━━━━━━━━━━━━━\u001b[0m \u001b[32m4.5/4.5 MB\u001b[0m \u001b[31m16.3 MB/s\u001b[0m eta \u001b[36m0:00:00\u001b[0m\n",
            "\u001b[?25h"
          ]
        }
      ],
      "source": [
        "! pip uninstall -y -q tensorflow\n",
        "! pip install -q tensorflow-gpu==2.8.0\n",
        "! pip install -q deepmatch"
      ]
    },
    {
      "cell_type": "markdown",
      "metadata": {},
      "source": [
        "# Partial"
      ]
    },
    {
      "cell_type": "code",
      "execution_count": 1,
      "metadata": {
        "id": "GpLCSm1x_s2b"
      },
      "outputs": [],
      "source": [
        "import pandas as pd\n",
        "import numpy as np\n",
        "import matplotlib.pyplot as plt\n",
        "import sklearn"
      ]
    },
    {
      "cell_type": "code",
      "execution_count": 2,
      "metadata": {
        "id": "YgV7jXdgAB_p"
      },
      "outputs": [],
      "source": [
        "from deepctr.models import *\n",
        "import deepctr\n",
        "import csv"
      ]
    },
    {
      "cell_type": "code",
      "execution_count": 3,
      "metadata": {
        "colab": {
          "base_uri": "https://localhost:8080/"
        },
        "id": "yKCupSulAE0o",
        "outputId": "c48238c8-8c6c-432f-cf61-931613f6a5f6"
      },
      "outputs": [
        {
          "data": {
            "text/plain": [
              "(   user_id  recipe_id  rating           dateLastModified\n",
              " 0       39      61727       4  2001-03-26T07:36:16.653\\n\n",
              " 1       39       7612       5  2004-08-02T16:48:37.107\\n,\n",
              "          user_id  recipe_id  rating           dateLastModified\n",
              " 0             39      61727       4  2001-03-26T07:36:16.653\\n\n",
              " 1             39       7612       5  2004-08-02T16:48:37.107\\n\n",
              " 2             39      12009       4   2001-02-28T10:37:25.59\\n\n",
              " 3             39      88185       5  2009-05-18T14:55:11.517\\n\n",
              " 4             39      24445       5   2015-05-07T15:42:20.32\\n\n",
              " ...          ...        ...     ...                        ...\n",
              " 151143  21907115      12942       5   2010-02-26T07:06:39.46\\n\n",
              " 151144  21907115      16348       4   2009-07-17T14:15:47.27\\n\n",
              " 151145  21907115      24332       5  2008-02-20T13:08:55.997\\n\n",
              " 151146  21907115       7322       4   2012-11-19T07:22:35.54\\n\n",
              " 151147  21907115      18327       4   2016-04-12T04:10:38.48\\n\n",
              " \n",
              " [151148 rows x 4 columns])"
            ]
          },
          "execution_count": 3,
          "metadata": {},
          "output_type": "execute_result"
        }
      ],
      "source": [
        "user_recipe_df = pd.read_csv('user_recipe.csv',  encoding='utf-8')\n",
        "user_recipe_df.head(2), user_recipe_df"
      ]
    },
    {
      "cell_type": "code",
      "execution_count": null,
      "metadata": {
        "id": "9k6nT3k3DNUp"
      },
      "outputs": [],
      "source": []
    },
    {
      "cell_type": "code",
      "execution_count": 4,
      "metadata": {
        "colab": {
          "base_uri": "https://localhost:8080/",
          "height": 253
        },
        "id": "b6L__eCPAm7N",
        "outputId": "88c3f1c9-f66d-48c8-84ee-5196f0bd2929"
      },
      "outputs": [
        {
          "data": {
            "text/html": [
              "<div>\n",
              "<style scoped>\n",
              "    .dataframe tbody tr th:only-of-type {\n",
              "        vertical-align: middle;\n",
              "    }\n",
              "\n",
              "    .dataframe tbody tr th {\n",
              "        vertical-align: top;\n",
              "    }\n",
              "\n",
              "    .dataframe thead th {\n",
              "        text-align: right;\n",
              "    }\n",
              "</style>\n",
              "<table border=\"1\" class=\"dataframe\">\n",
              "  <thead>\n",
              "    <tr style=\"text-align: right;\">\n",
              "      <th></th>\n",
              "      <th>Unnamed: 0</th>\n",
              "      <th>recipe_id</th>\n",
              "      <th>recipe_name</th>\n",
              "      <th>review_nums</th>\n",
              "      <th>category</th>\n",
              "      <th>aver_rate</th>\n",
              "      <th>image_url</th>\n",
              "      <th>ingredients</th>\n",
              "      <th>cooking_directions</th>\n",
              "      <th>nutritions</th>\n",
              "      <th>tags</th>\n",
              "    </tr>\n",
              "  </thead>\n",
              "  <tbody>\n",
              "    <tr>\n",
              "      <th>0</th>\n",
              "      <td>0</td>\n",
              "      <td>6698</td>\n",
              "      <td>Mom's Zucchini Bread</td>\n",
              "      <td>9355</td>\n",
              "      <td>appetizer</td>\n",
              "      <td>4.754207</td>\n",
              "      <td>https://images.media-allrecipes.com/userphotos...</td>\n",
              "      <td>all-purpose flour^salt^baking soda^baking powd...</td>\n",
              "      <td>{'directions': u'Prep\\n20 m\\nCook\\n1 h\\nReady ...</td>\n",
              "      <td>{u'niacin': {u'hasCompleteData': True, u'name'...</td>\n",
              "      <td>north-american;breads;easy;beginner-cook;inexp...</td>\n",
              "    </tr>\n",
              "    <tr>\n",
              "      <th>1</th>\n",
              "      <td>1</td>\n",
              "      <td>6709</td>\n",
              "      <td>Zucchini Walnut Bread</td>\n",
              "      <td>58</td>\n",
              "      <td>appetizer</td>\n",
              "      <td>4.478873</td>\n",
              "      <td>http://images.media-allrecipes.com/userphotos/...</td>\n",
              "      <td>chopped walnuts^eggs^white sugar^vegetable oil...</td>\n",
              "      <td>{'directions': u'Whisk together flour, baking ...</td>\n",
              "      <td>{u'niacin': {u'hasCompleteData': True, u'name'...</td>\n",
              "      <td>weeknight;breads;fruit;vegetables;kid-friendly...</td>\n",
              "    </tr>\n",
              "  </tbody>\n",
              "</table>\n",
              "</div>"
            ],
            "text/plain": [
              "   Unnamed: 0  recipe_id            recipe_name  review_nums   category  \\\n",
              "0           0       6698   Mom's Zucchini Bread         9355  appetizer   \n",
              "1           1       6709  Zucchini Walnut Bread           58  appetizer   \n",
              "\n",
              "   aver_rate                                          image_url  \\\n",
              "0   4.754207  https://images.media-allrecipes.com/userphotos...   \n",
              "1   4.478873  http://images.media-allrecipes.com/userphotos/...   \n",
              "\n",
              "                                         ingredients  \\\n",
              "0  all-purpose flour^salt^baking soda^baking powd...   \n",
              "1  chopped walnuts^eggs^white sugar^vegetable oil...   \n",
              "\n",
              "                                  cooking_directions  \\\n",
              "0  {'directions': u'Prep\\n20 m\\nCook\\n1 h\\nReady ...   \n",
              "1  {'directions': u'Whisk together flour, baking ...   \n",
              "\n",
              "                                          nutritions  \\\n",
              "0  {u'niacin': {u'hasCompleteData': True, u'name'...   \n",
              "1  {u'niacin': {u'hasCompleteData': True, u'name'...   \n",
              "\n",
              "                                                tags  \n",
              "0  north-american;breads;easy;beginner-cook;inexp...  \n",
              "1  weeknight;breads;fruit;vegetables;kid-friendly...  "
            ]
          },
          "execution_count": 4,
          "metadata": {},
          "output_type": "execute_result"
        }
      ],
      "source": [
        "recipe_df = pd.read_csv('recipe_without_reviews.csv')\n",
        "recipe_df.head(2)"
      ]
    },
    {
      "cell_type": "code",
      "execution_count": 5,
      "metadata": {
        "colab": {
          "base_uri": "https://localhost:8080/",
          "height": 112
        },
        "id": "zCrczF_cDxzt",
        "outputId": "5d70b83c-a128-4855-84a6-9abc8c392059"
      },
      "outputs": [
        {
          "data": {
            "text/html": [
              "<div>\n",
              "<style scoped>\n",
              "    .dataframe tbody tr th:only-of-type {\n",
              "        vertical-align: middle;\n",
              "    }\n",
              "\n",
              "    .dataframe tbody tr th {\n",
              "        vertical-align: top;\n",
              "    }\n",
              "\n",
              "    .dataframe thead th {\n",
              "        text-align: right;\n",
              "    }\n",
              "</style>\n",
              "<table border=\"1\" class=\"dataframe\">\n",
              "  <thead>\n",
              "    <tr style=\"text-align: right;\">\n",
              "      <th></th>\n",
              "      <th>meal_id</th>\n",
              "      <th>user_id</th>\n",
              "    </tr>\n",
              "  </thead>\n",
              "  <tbody>\n",
              "    <tr>\n",
              "      <th>0</th>\n",
              "      <td>26</td>\n",
              "      <td>39</td>\n",
              "    </tr>\n",
              "    <tr>\n",
              "      <th>1</th>\n",
              "      <td>37</td>\n",
              "      <td>39</td>\n",
              "    </tr>\n",
              "  </tbody>\n",
              "</table>\n",
              "</div>"
            ],
            "text/plain": [
              "   meal_id  user_id\n",
              "0       26       39\n",
              "1       37       39"
            ]
          },
          "execution_count": 5,
          "metadata": {},
          "output_type": "execute_result"
        }
      ],
      "source": [
        "user_meal_df = pd.read_csv('user_meal.csv')\n",
        "user_meal_df.head(2)"
      ]
    },
    {
      "cell_type": "code",
      "execution_count": 6,
      "metadata": {
        "colab": {
          "base_uri": "https://localhost:8080/",
          "height": 112
        },
        "id": "NaskwREfB4bF",
        "outputId": "73ffaef9-8334-42ac-c958-4401429691f7"
      },
      "outputs": [
        {
          "data": {
            "text/html": [
              "<div>\n",
              "<style scoped>\n",
              "    .dataframe tbody tr th:only-of-type {\n",
              "        vertical-align: middle;\n",
              "    }\n",
              "\n",
              "    .dataframe tbody tr th {\n",
              "        vertical-align: top;\n",
              "    }\n",
              "\n",
              "    .dataframe thead th {\n",
              "        text-align: right;\n",
              "    }\n",
              "</style>\n",
              "<table border=\"1\" class=\"dataframe\">\n",
              "  <thead>\n",
              "    <tr style=\"text-align: right;\">\n",
              "      <th></th>\n",
              "      <th>bundle_id</th>\n",
              "      <th>appetizer</th>\n",
              "      <th>main_dish</th>\n",
              "      <th>dessert</th>\n",
              "    </tr>\n",
              "  </thead>\n",
              "  <tbody>\n",
              "    <tr>\n",
              "      <th>0</th>\n",
              "      <td>242</td>\n",
              "      <td>8626</td>\n",
              "      <td>8652</td>\n",
              "      <td>17652</td>\n",
              "    </tr>\n",
              "    <tr>\n",
              "      <th>1</th>\n",
              "      <td>885</td>\n",
              "      <td>15034</td>\n",
              "      <td>25272</td>\n",
              "      <td>24843</td>\n",
              "    </tr>\n",
              "  </tbody>\n",
              "</table>\n",
              "</div>"
            ],
            "text/plain": [
              "   bundle_id  appetizer  main_dish  dessert\n",
              "0        242       8626       8652    17652\n",
              "1        885      15034      25272    24843"
            ]
          },
          "execution_count": 6,
          "metadata": {},
          "output_type": "execute_result"
        }
      ],
      "source": [
        "meal_df = pd.read_csv('meal.csv')\n",
        "meal_df.head(2)"
      ]
    },
    {
      "cell_type": "code",
      "execution_count": 7,
      "metadata": {
        "colab": {
          "base_uri": "https://localhost:8080/",
          "height": 420
        },
        "id": "Xl9DmHvuD8fC",
        "outputId": "a876fc18-308e-4e95-a1ad-2b5a08731610"
      },
      "outputs": [
        {
          "data": {
            "text/html": [
              "<div>\n",
              "<style scoped>\n",
              "    .dataframe tbody tr th:only-of-type {\n",
              "        vertical-align: middle;\n",
              "    }\n",
              "\n",
              "    .dataframe tbody tr th {\n",
              "        vertical-align: top;\n",
              "    }\n",
              "\n",
              "    .dataframe thead th {\n",
              "        text-align: right;\n",
              "    }\n",
              "</style>\n",
              "<table border=\"1\" class=\"dataframe\">\n",
              "  <thead>\n",
              "    <tr style=\"text-align: right;\">\n",
              "      <th></th>\n",
              "      <th>user_id</th>\n",
              "      <th>recipe_id</th>\n",
              "      <th>rating</th>\n",
              "      <th>dateLastModified</th>\n",
              "      <th>Unnamed: 0</th>\n",
              "      <th>recipe_name</th>\n",
              "      <th>review_nums</th>\n",
              "      <th>category</th>\n",
              "      <th>aver_rate</th>\n",
              "      <th>image_url</th>\n",
              "      <th>ingredients</th>\n",
              "      <th>cooking_directions</th>\n",
              "      <th>nutritions</th>\n",
              "      <th>tags</th>\n",
              "    </tr>\n",
              "  </thead>\n",
              "  <tbody>\n",
              "    <tr>\n",
              "      <th>0</th>\n",
              "      <td>39</td>\n",
              "      <td>61727</td>\n",
              "      <td>4</td>\n",
              "      <td>2001-03-26T07:36:16.653\\n</td>\n",
              "      <td>4262</td>\n",
              "      <td>Ten Minute Enchilada Sauce</td>\n",
              "      <td>2443</td>\n",
              "      <td>main-dish</td>\n",
              "      <td>4.439774</td>\n",
              "      <td>https://images.media-allrecipes.com/userphotos...</td>\n",
              "      <td>vegetable oil^self-rising flour^New Mexico^tom...</td>\n",
              "      <td>{'directions': u'Prep\\n10 m\\nCook\\n15 m\\nReady...</td>\n",
              "      <td>{u'niacin': {u'hasCompleteData': True, u'name'...</td>\n",
              "      <td>15-minutes-or-less;north-american;sauces;condi...</td>\n",
              "    </tr>\n",
              "    <tr>\n",
              "      <th>1</th>\n",
              "      <td>8799</td>\n",
              "      <td>61727</td>\n",
              "      <td>5</td>\n",
              "      <td>2004-09-21T06:23:16.427\\n</td>\n",
              "      <td>4262</td>\n",
              "      <td>Ten Minute Enchilada Sauce</td>\n",
              "      <td>2443</td>\n",
              "      <td>main-dish</td>\n",
              "      <td>4.439774</td>\n",
              "      <td>https://images.media-allrecipes.com/userphotos...</td>\n",
              "      <td>vegetable oil^self-rising flour^New Mexico^tom...</td>\n",
              "      <td>{'directions': u'Prep\\n10 m\\nCook\\n15 m\\nReady...</td>\n",
              "      <td>{u'niacin': {u'hasCompleteData': True, u'name'...</td>\n",
              "      <td>15-minutes-or-less;north-american;sauces;condi...</td>\n",
              "    </tr>\n",
              "    <tr>\n",
              "      <th>2</th>\n",
              "      <td>35974</td>\n",
              "      <td>61727</td>\n",
              "      <td>5</td>\n",
              "      <td>2003-04-19T07:31:14.357\\n</td>\n",
              "      <td>4262</td>\n",
              "      <td>Ten Minute Enchilada Sauce</td>\n",
              "      <td>2443</td>\n",
              "      <td>main-dish</td>\n",
              "      <td>4.439774</td>\n",
              "      <td>https://images.media-allrecipes.com/userphotos...</td>\n",
              "      <td>vegetable oil^self-rising flour^New Mexico^tom...</td>\n",
              "      <td>{'directions': u'Prep\\n10 m\\nCook\\n15 m\\nReady...</td>\n",
              "      <td>{u'niacin': {u'hasCompleteData': True, u'name'...</td>\n",
              "      <td>15-minutes-or-less;north-american;sauces;condi...</td>\n",
              "    </tr>\n",
              "    <tr>\n",
              "      <th>3</th>\n",
              "      <td>89295</td>\n",
              "      <td>61727</td>\n",
              "      <td>5</td>\n",
              "      <td>2011-09-01T17:50:36.427\\n</td>\n",
              "      <td>4262</td>\n",
              "      <td>Ten Minute Enchilada Sauce</td>\n",
              "      <td>2443</td>\n",
              "      <td>main-dish</td>\n",
              "      <td>4.439774</td>\n",
              "      <td>https://images.media-allrecipes.com/userphotos...</td>\n",
              "      <td>vegetable oil^self-rising flour^New Mexico^tom...</td>\n",
              "      <td>{'directions': u'Prep\\n10 m\\nCook\\n15 m\\nReady...</td>\n",
              "      <td>{u'niacin': {u'hasCompleteData': True, u'name'...</td>\n",
              "      <td>15-minutes-or-less;north-american;sauces;condi...</td>\n",
              "    </tr>\n",
              "  </tbody>\n",
              "</table>\n",
              "</div>"
            ],
            "text/plain": [
              "   user_id  recipe_id  rating           dateLastModified  Unnamed: 0  \\\n",
              "0       39      61727       4  2001-03-26T07:36:16.653\\n        4262   \n",
              "1     8799      61727       5  2004-09-21T06:23:16.427\\n        4262   \n",
              "2    35974      61727       5  2003-04-19T07:31:14.357\\n        4262   \n",
              "3    89295      61727       5  2011-09-01T17:50:36.427\\n        4262   \n",
              "\n",
              "                  recipe_name  review_nums   category  aver_rate  \\\n",
              "0  Ten Minute Enchilada Sauce         2443  main-dish   4.439774   \n",
              "1  Ten Minute Enchilada Sauce         2443  main-dish   4.439774   \n",
              "2  Ten Minute Enchilada Sauce         2443  main-dish   4.439774   \n",
              "3  Ten Minute Enchilada Sauce         2443  main-dish   4.439774   \n",
              "\n",
              "                                           image_url  \\\n",
              "0  https://images.media-allrecipes.com/userphotos...   \n",
              "1  https://images.media-allrecipes.com/userphotos...   \n",
              "2  https://images.media-allrecipes.com/userphotos...   \n",
              "3  https://images.media-allrecipes.com/userphotos...   \n",
              "\n",
              "                                         ingredients  \\\n",
              "0  vegetable oil^self-rising flour^New Mexico^tom...   \n",
              "1  vegetable oil^self-rising flour^New Mexico^tom...   \n",
              "2  vegetable oil^self-rising flour^New Mexico^tom...   \n",
              "3  vegetable oil^self-rising flour^New Mexico^tom...   \n",
              "\n",
              "                                  cooking_directions  \\\n",
              "0  {'directions': u'Prep\\n10 m\\nCook\\n15 m\\nReady...   \n",
              "1  {'directions': u'Prep\\n10 m\\nCook\\n15 m\\nReady...   \n",
              "2  {'directions': u'Prep\\n10 m\\nCook\\n15 m\\nReady...   \n",
              "3  {'directions': u'Prep\\n10 m\\nCook\\n15 m\\nReady...   \n",
              "\n",
              "                                          nutritions  \\\n",
              "0  {u'niacin': {u'hasCompleteData': True, u'name'...   \n",
              "1  {u'niacin': {u'hasCompleteData': True, u'name'...   \n",
              "2  {u'niacin': {u'hasCompleteData': True, u'name'...   \n",
              "3  {u'niacin': {u'hasCompleteData': True, u'name'...   \n",
              "\n",
              "                                                tags  \n",
              "0  15-minutes-or-less;north-american;sauces;condi...  \n",
              "1  15-minutes-or-less;north-american;sauces;condi...  \n",
              "2  15-minutes-or-less;north-american;sauces;condi...  \n",
              "3  15-minutes-or-less;north-american;sauces;condi...  "
            ]
          },
          "execution_count": 7,
          "metadata": {},
          "output_type": "execute_result"
        }
      ],
      "source": [
        "# merging user_recipe and recipe df\n",
        "user_recipe_merged_df = user_recipe_df.merge(recipe_df, on='recipe_id')\n",
        "user_recipe_merged_df.head(4)"
      ]
    },
    {
      "cell_type": "code",
      "execution_count": 8,
      "metadata": {
        "colab": {
          "base_uri": "https://localhost:8080/"
        },
        "id": "6vLRYCjcLLBo",
        "outputId": "56c51741-b056-41dc-cb77-b4339d7adf4d"
      },
      "outputs": [
        {
          "data": {
            "text/plain": [
              "Index(['user_id', 'recipe_id', 'rating', 'dateLastModified', 'Unnamed: 0',\n",
              "       'recipe_name', 'review_nums', 'category', 'aver_rate', 'image_url',\n",
              "       'ingredients', 'cooking_directions', 'nutritions', 'tags'],\n",
              "      dtype='object')"
            ]
          },
          "execution_count": 8,
          "metadata": {},
          "output_type": "execute_result"
        }
      ],
      "source": [
        "all_columns = user_recipe_merged_df.columns\n",
        "all_columns"
      ]
    },
    {
      "cell_type": "code",
      "execution_count": 9,
      "metadata": {
        "colab": {
          "base_uri": "https://localhost:8080/"
        },
        "id": "d_BeTGzXLSOK",
        "outputId": "6f94633e-7076-4f8f-9161-7d016a212604"
      },
      "outputs": [
        {
          "data": {
            "text/plain": [
              "(array([     39,    8799,   35974, ..., 2549544,  798244, 2695053],\n",
              "       dtype=int64),\n",
              " 1575)"
            ]
          },
          "execution_count": 9,
          "metadata": {},
          "output_type": "execute_result"
        }
      ],
      "source": [
        "user_recipe_merged_df.user_id.unique(), user_recipe_merged_df.user_id.nunique()"
      ]
    },
    {
      "cell_type": "code",
      "execution_count": 10,
      "metadata": {
        "colab": {
          "base_uri": "https://localhost:8080/"
        },
        "id": "2VqG7bqgXMfk",
        "outputId": "c1657033-fa80-493e-f0fc-9b2d297f7cf5"
      },
      "outputs": [
        {
          "data": {
            "text/plain": [
              "(array(['Ten Minute Enchilada Sauce', \"Chocolate Lovers' Favorite Cake\",\n",
              "        'Cajun Chicken Pasta', ..., 'Fiesta Lime Chicken',\n",
              "        'Spinach and Artichoke Greek Yogurt Dip',\n",
              "        'Chewy Chocolate Peanut Bars'], dtype=object),\n",
              " 7280)"
            ]
          },
          "execution_count": 10,
          "metadata": {},
          "output_type": "execute_result"
        }
      ],
      "source": [
        "user_recipe_merged_df.recipe_name.unique(), user_recipe_merged_df.recipe_name.nunique()"
      ]
    },
    {
      "cell_type": "code",
      "execution_count": 11,
      "metadata": {
        "colab": {
          "base_uri": "https://localhost:8080/"
        },
        "id": "HhswiXXPLYcc",
        "outputId": "8e4db262-02b7-455a-b2b4-bd6275e61099"
      },
      "outputs": [
        {
          "data": {
            "text/plain": [
              "5    101162\n",
              "4     49986\n",
              "Name: rating, dtype: int64"
            ]
          },
          "execution_count": 11,
          "metadata": {},
          "output_type": "execute_result"
        }
      ],
      "source": [
        "user_recipe_merged_df.rating.value_counts()"
      ]
    },
    {
      "cell_type": "code",
      "execution_count": 12,
      "metadata": {
        "colab": {
          "base_uri": "https://localhost:8080/"
        },
        "id": "ZvqY3pvdaFmY",
        "outputId": "eea97397-c6e1-4ac9-f6f6-a448e252df65"
      },
      "outputs": [
        {
          "data": {
            "text/plain": [
              "(array(['main-dish', 'dessert', 'appetizer'], dtype=object), 3)"
            ]
          },
          "execution_count": 12,
          "metadata": {},
          "output_type": "execute_result"
        }
      ],
      "source": [
        "# unique category of recipes\n",
        "unique_categories = user_recipe_merged_df.category.unique()\n",
        "unique_categories, user_recipe_merged_df.category.nunique()"
      ]
    },
    {
      "cell_type": "markdown",
      "metadata": {
        "id": "hIKG64rjc6MY"
      },
      "source": [
        "## Visualizing the info"
      ]
    },
    {
      "cell_type": "code",
      "execution_count": 13,
      "metadata": {
        "colab": {
          "base_uri": "https://localhost:8080/",
          "height": 472
        },
        "id": "J0cnB2uXZrzh",
        "outputId": "aafd2583-3696-4074-b455-99e1bbf0a52a"
      },
      "outputs": [
        {
          "data": {
            "image/png": "[encoded data removed]",
            "text/plain": [
              "<Figure size 432x288 with 1 Axes>"
            ]
          },
          "metadata": {
            "needs_background": "light"
          },
          "output_type": "display_data"
        }
      ],
      "source": [
        "users_recipe_counts = user_recipe_merged_df['user_id'].value_counts().sort_index()\n",
        "users_per_recipe_count = users_recipe_counts.value_counts().sort_index()\n",
        "\n",
        "plt.bar(users_per_recipe_count.index, users_per_recipe_count.values, color='red')\n",
        "plt.xlabel('No of recipes rated by users')\n",
        "plt.ylabel('No of users')\n",
        "plt.xlim(0,400)\n",
        "plt.title('No of users VS No of Recipes Rated')\n",
        "plt.grid(axis='y', linestyle='--', alpha=0.5)\n",
        "plt.show()"
      ]
    },
    {
      "cell_type": "code",
      "execution_count": 14,
      "metadata": {
        "colab": {
          "base_uri": "https://localhost:8080/",
          "height": 472
        },
        "id": "dH1AfoKcehnr",
        "outputId": "35b90c7d-2e05-4abf-c525-a566304d483c"
      },
      "outputs": [
        {
          "data": {
            "image/png": "[encoded data removed]",
            "text/plain": [
              "<Figure size 432x288 with 1 Axes>"
            ]
          },
          "metadata": {
            "needs_background": "light"
          },
          "output_type": "display_data"
        }
      ],
      "source": [
        "avg_ratings = user_recipe_merged_df.groupby('recipe_id')['aver_rate'].mean()\n",
        "\n",
        "plt.hist(avg_ratings, bins=100, color='skyblue')\n",
        "plt.xlabel('Average Rating of each Recipe')\n",
        "plt.ylabel('Frequency')\n",
        "plt.xlim(0,5)\n",
        "plt.title('Distribution of Average Ratings for Unique Recipes')\n",
        "plt.show()"
      ]
    },
    {
      "cell_type": "code",
      "execution_count": 15,
      "metadata": {
        "colab": {
          "base_uri": "https://localhost:8080/",
          "height": 472
        },
        "id": "rcu-KvW-fLF4",
        "outputId": "5bd03a9c-0f93-453e-eac0-4cc83d49b0ba"
      },
      "outputs": [
        {
          "data": {
            "image/png": "[encoded data removed]",
            "text/plain": [
              "<Figure size 432x288 with 1 Axes>"
            ]
          },
          "metadata": {
            "needs_background": "light"
          },
          "output_type": "display_data"
        }
      ],
      "source": [
        "plt.hist(avg_ratings, bins=200, color='skyblue')\n",
        "plt.xlabel('Average Rating of each Recipe')\n",
        "plt.ylabel('Frequency')\n",
        "plt.xlim(3,5)\n",
        "plt.title('Distribution of Average Ratings for Unique Recipes')\n",
        "plt.show()"
      ]
    },
    {
      "cell_type": "code",
      "execution_count": null,
      "metadata": {
        "id": "-4JBY9xP0zK4"
      },
      "outputs": [],
      "source": []
    },
    {
      "cell_type": "code",
      "execution_count": 16,
      "metadata": {
        "colab": {
          "base_uri": "https://localhost:8080/"
        },
        "id": "vfgq939NhIjC",
        "outputId": "412411cf-5b0b-4032-f157-9c9ff4ca564e"
      },
      "outputs": [
        {
          "data": {
            "text/plain": [
              "0        2001-03-26T07:36:16.653\\n\n",
              "1        2004-09-21T06:23:16.427\\n\n",
              "2        2003-04-19T07:31:14.357\\n\n",
              "3        2011-09-01T17:50:36.427\\n\n",
              "4        2008-02-07T17:04:54.523\\n\n",
              "                   ...            \n",
              "99995    2009-03-31T18:48:32.423\\n\n",
              "99996     2010-10-23T08:14:33.82\\n\n",
              "99997    2008-03-19T16:52:30.527\\n\n",
              "99998     2008-12-09T06:42:09.97\\n\n",
              "99999    2009-03-24T17:25:14.397\\n\n",
              "Name: dateLastModified, Length: 100000, dtype: object"
            ]
          },
          "execution_count": 16,
          "metadata": {},
          "output_type": "execute_result"
        }
      ],
      "source": [
        "# taking only 100000 for the ingredients mixed model\n",
        "\n",
        "df = user_recipe_merged_df[:100000]\n",
        "df['dateLastModified']"
      ]
    },
    {
      "cell_type": "code",
      "execution_count": 18,
      "metadata": {
        "colab": {
          "base_uri": "https://localhost:8080/"
        },
        "id": "WH5KnOOug9pI",
        "outputId": "9fae2ade-3557-472f-e2d1-3b4045c0e5df"
      },
      "outputs": [
        {
          "name": "stderr",
          "output_type": "stream",
          "text": [
            "c:\\Users\\OMEN\\anaconda3\\envs\\deepctr\\lib\\site-packages\\ipykernel_launcher.py:3: SettingWithCopyWarning: \n",
            "A value is trying to be set on a copy of a slice from a DataFrame.\n",
            "Try using .loc[row_indexer,col_indexer] = value instead\n",
            "\n",
            "See the caveats in the documentation: https://pandas.pydata.org/pandas-docs/stable/user_guide/indexing.html#returning-a-view-versus-a-copy\n",
            "  This is separate from the ipykernel package so we can avoid doing imports until\n",
            "c:\\Users\\OMEN\\anaconda3\\envs\\deepctr\\lib\\site-packages\\ipykernel_launcher.py:4: SettingWithCopyWarning: \n",
            "A value is trying to be set on a copy of a slice from a DataFrame.\n",
            "Try using .loc[row_indexer,col_indexer] = value instead\n",
            "\n",
            "See the caveats in the documentation: https://pandas.pydata.org/pandas-docs/stable/user_guide/indexing.html#returning-a-view-versus-a-copy\n",
            "  after removing the cwd from sys.path.\n",
            "c:\\Users\\OMEN\\anaconda3\\envs\\deepctr\\lib\\site-packages\\ipykernel_launcher.py:5: SettingWithCopyWarning: \n",
            "A value is trying to be set on a copy of a slice from a DataFrame.\n",
            "Try using .loc[row_indexer,col_indexer] = value instead\n",
            "\n",
            "See the caveats in the documentation: https://pandas.pydata.org/pandas-docs/stable/user_guide/indexing.html#returning-a-view-versus-a-copy\n",
            "  \"\"\"\n",
            "c:\\Users\\OMEN\\anaconda3\\envs\\deepctr\\lib\\site-packages\\ipykernel_launcher.py:6: SettingWithCopyWarning: \n",
            "A value is trying to be set on a copy of a slice from a DataFrame.\n",
            "Try using .loc[row_indexer,col_indexer] = value instead\n",
            "\n",
            "See the caveats in the documentation: https://pandas.pydata.org/pandas-docs/stable/user_guide/indexing.html#returning-a-view-versus-a-copy\n",
            "  \n",
            "c:\\Users\\OMEN\\anaconda3\\envs\\deepctr\\lib\\site-packages\\ipykernel_launcher.py:7: SettingWithCopyWarning: \n",
            "A value is trying to be set on a copy of a slice from a DataFrame.\n",
            "Try using .loc[row_indexer,col_indexer] = value instead\n",
            "\n",
            "See the caveats in the documentation: https://pandas.pydata.org/pandas-docs/stable/user_guide/indexing.html#returning-a-view-versus-a-copy\n",
            "  import sys\n"
          ]
        },
        {
          "data": {
            "text/plain": [
              "array([ 7,  6, 17, 19, 15, 16,  8, 23,  4, 10, 18, 13, 11, 12,  2, 20, 22,\n",
              "        5, 21, 14,  9,  0,  3,  1], dtype=int64)"
            ]
          },
          "execution_count": 18,
          "metadata": {},
          "output_type": "execute_result"
        }
      ],
      "source": [
        "# preprocessing the date modified to get the hour of recommendation\n",
        "# the hour at which review was given can be an insight maybe?\n",
        "df[\"datetime\"] = pd.to_datetime(df['dateLastModified'])\n",
        "df[\"year\"] = df[\"datetime\"].dt.year\n",
        "df[\"month\"] = df[\"datetime\"].dt.month\n",
        "df[\"day\"] = df[\"datetime\"].dt.day\n",
        "df[\"hour\"] = df[\"datetime\"].dt.hour\n",
        "df.hour.unique()"
      ]
    },
    {
      "cell_type": "code",
      "execution_count": 19,
      "metadata": {
        "id": "m4xCUCdsleyL"
      },
      "outputs": [],
      "source": [
        "from sklearn.model_selection import train_test_split\n"
      ]
    },
    {
      "cell_type": "markdown",
      "metadata": {
        "id": "loC-IaXRY_e8"
      },
      "source": [
        "## Model with Using only Hour of the Day"
      ]
    },
    {
      "cell_type": "code",
      "execution_count": 119,
      "metadata": {
        "colab": {
          "base_uri": "https://localhost:8080/"
        },
        "id": "oMqjJ5ydrO1L",
        "outputId": "10b2e555-8c02-4bfb-cbf0-89cc91723cce"
      },
      "outputs": [
        {
          "data": {
            "text/plain": [
              "(array([4.43977356, 4.68384552, 4.67671633, ..., 4.05000019, 3.91382408,\n",
              "        4.68283606]),\n",
              " 1493)"
            ]
          },
          "execution_count": 119,
          "metadata": {},
          "output_type": "execute_result"
        }
      ],
      "source": [
        "# df[['user_id', 'hour']]\n",
        "df['aver_rate'].unique(), df['aver_rate'].nunique()"
      ]
    },
    {
      "cell_type": "code",
      "execution_count": null,
      "metadata": {
        "id": "dG_Ukb4i4RVU"
      },
      "outputs": [],
      "source": [
        "df_user_hour = df\n",
        "\n",
        "# since the rating is only 4 or 5, it can be treated as categorical value\n",
        "sparse_features_user_hour = ['user_id', 'hour']\n",
        "target = ['rating']\n",
        "\n",
        "df_user_hour[sparse_features_user_hour] = df_user_hour[sparse_features_user_hour].fillna(0)\n",
        "\n",
        "label_encoders_user_hour = {}\n",
        "for feature in sparse_features_user_hour:\n",
        "  lbe = sklearn.preprocessing.LabelEncoder()\n",
        "  df_user_hour[feature] = lbe.fit_transform(df_user_hour[feature])\n",
        "  label_encoders_user_hour[feature] = lbe\n",
        "\n",
        "train, test = train_test_split(df_user_hour, test_size=0.25)\n",
        "\n",
        "feature_columns_user_hour = [deepctr.feature_column.SparseFeat(feature, vocabulary_size = df_user_hour[feature].max() + 1, embedding_dim=6) for feature in sparse_features_user_hour]\n",
        "\n",
        "dnn_feature_columns_user_hour = feature_columns_user_hour\n",
        "linear_feature_columns_user_hour = feature_columns_user_hour\n",
        "feature_names_user_hour = deepctr.feature_column.get_feature_names(linear_feature_columns_user_hour+dnn_feature_columns_user_hour)\n",
        "\n",
        "epochs = 20\n",
        "\n",
        "# getting the train and test data for the model input ready\n",
        "train_model_input_user_hour = {name: train[name] for name in feature_names_user_hour}\n",
        "test_model_input_user_hour = {name: test[name] for name in feature_names_user_hour}\n",
        "\n",
        "model_user_hour = deepctr.models.DeepFM(linear_feature_columns_user_hour, dnn_feature_columns_user_hour, task='regression')\n",
        "\n",
        "model_user_hour.compile('adam', 'mse', metrics=['mse', 'accuracy'])\n",
        "\n",
        "history_user_hour = model_user_hour.fit(train_model_input_user_hour, train[target].values, batch_size=256, epochs = epochs, verbose = 1, validation_split = 0.2)\n",
        "\n",
        "mse_user_hour = model_user_hour.evaluate(test_model_input_user_hour, test[target].values, batch_size=256)[1]\n",
        "print(f'MSE IS :{mse_user_hour}')\n",
        "\n",
        "loss = history_user_hour.history['loss']\n",
        "val_loss = history_user_hour.history['val_loss']\n",
        "\n",
        "epoch_arr = list(range(1, epochs+1))\n",
        "\n",
        "# Plotting the Loss\n",
        "plt.figure(figsize=(12, 6))\n",
        "\n",
        "plt.subplot(1, 2, 1)\n",
        "plt.plot(epoch_arr, loss, 'b-', label='Training loss', color='blue')\n",
        "plt.plot(epoch_arr, val_loss, 'r--', label='Validation loss', color='lightcoral')\n",
        "plt.title('Training and Validation Loss with DeepFM')\n",
        "ax = plt.gca()\n",
        "ax.set_xlim([0,20])\n",
        "ax.set_ylim([0,1])\n",
        "plt.xlabel('Epochs')\n",
        "plt.ylabel('Loss')\n",
        "plt.legend()\n",
        "plt.show()"
      ]
    },
    {
      "cell_type": "code",
      "execution_count": null,
      "metadata": {
        "id": "TxmJJJ41XCRx"
      },
      "outputs": [],
      "source": [
        "df_user_hour = df\n",
        "\n",
        "# since the rating is only 4 or 5, it can be treated as categorical value\n",
        "sparse_features_user_hour = ['user_id', 'hour']\n",
        "target = ['rating']\n",
        "\n",
        "df_user_hour[sparse_features_user_hour] = df_user_hour[sparse_features_user_hour].fillna(0)\n",
        "\n",
        "label_encoders_user_hour = {}\n",
        "for feature in sparse_features_user_hour:\n",
        "  lbe = sklearn.preprocessing.LabelEncoder()\n",
        "  df_user_hour[feature] = lbe.fit_transform(df_user_hour[feature])\n",
        "  label_encoders_user_hour[feature] = lbe\n",
        "\n",
        "train, test = train_test_split(df_user_hour, test_size=0.25)\n",
        "\n",
        "feature_columns_user_hour = [deepctr.feature_column.SparseFeat(feature, vocabulary_size = df_user_hour[feature].max() + 1, embedding_dim=6) for feature in sparse_features_user_hour]\n",
        "\n",
        "dnn_feature_columns_user_hour = feature_columns_user_hour\n",
        "linear_feature_columns_user_hour = feature_columns_user_hour\n",
        "feature_names_user_hour = deepctr.feature_column.get_feature_names(linear_feature_columns_user_hour+dnn_feature_columns_user_hour)\n",
        "\n",
        "epochs = 20\n",
        "\n",
        "# getting the train and test data for the model input ready\n",
        "train_model_input_user_hour = {name: train[name] for name in feature_names_user_hour}\n",
        "test_model_input_user_hour = {name: test[name] for name in feature_names_user_hour}\n",
        "\n",
        "model_user_hour = deepctr.models.DeepFM(linear_feature_columns_user_hour, dnn_feature_columns_user_hour, task='regression')\n",
        "\n",
        "model_user_hour.compile('adam', 'mse', metrics=['mse', 'accuracy'])\n",
        "\n",
        "history_user_hour = model_user_hour.fit(train_model_input_user_hour, train[target].values, batch_size=256, epochs = epochs, verbose = 1, validation_split = 0.2)\n",
        "\n",
        "mse_user_hour = model_user_hour.evaluate(test_model_input_user_hour, test[target].values, batch_size=256)[1]\n",
        "print(f'MSE IS :{mse_user_hour}')\n",
        "\n",
        "loss = history_user_hour.history['loss']\n",
        "val_loss = history_user_hour.history['val_loss']\n",
        "\n",
        "epoch_arr = list(range(1, epochs+1))\n",
        "\n",
        "# Plotting the Loss\n",
        "plt.figure(figsize=(12, 6))\n",
        "\n",
        "plt.subplot(1, 2, 1)\n",
        "plt.plot(epoch_arr, loss, 'b-', label='Training loss', color='blue')\n",
        "plt.plot(epoch_arr, val_loss, 'r--', label='Validation loss', color='lightcoral')\n",
        "plt.title('Training and Validation Loss with DeepFM')\n",
        "ax = plt.gca()\n",
        "ax.set_xlim([0,20])\n",
        "ax.set_ylim([0,0.1])\n",
        "plt.xlabel('Epochs')\n",
        "plt.ylabel('Loss')\n",
        "plt.legend()\n",
        "plt.show()"
      ]
    },
    {
      "cell_type": "markdown",
      "metadata": {
        "id": "vaTF-Z-q65qZ"
      },
      "source": [
        "## Adding more features for the model"
      ]
    },
    {
      "cell_type": "code",
      "execution_count": 20,
      "metadata": {
        "colab": {
          "base_uri": "https://localhost:8080/"
        },
        "id": "YVsQyl-67bZ3",
        "outputId": "e967f60c-5097-4987-aa1f-7f884b727f6a"
      },
      "outputs": [
        {
          "name": "stderr",
          "output_type": "stream",
          "text": [
            "c:\\Users\\OMEN\\anaconda3\\envs\\deepctr\\lib\\site-packages\\ipykernel_launcher.py:1: FutureWarning: The default value of regex will change from True to False in a future version. In addition, single character regular expressions will *not* be treated as literal strings when regex=True.\n",
            "  \"\"\"Entry point for launching an IPython kernel.\n",
            "c:\\Users\\OMEN\\anaconda3\\envs\\deepctr\\lib\\site-packages\\ipykernel_launcher.py:1: SettingWithCopyWarning: \n",
            "A value is trying to be set on a copy of a slice from a DataFrame.\n",
            "Try using .loc[row_indexer,col_indexer] = value instead\n",
            "\n",
            "See the caveats in the documentation: https://pandas.pydata.org/pandas-docs/stable/user_guide/indexing.html#returning-a-view-versus-a-copy\n",
            "  \"\"\"Entry point for launching an IPython kernel.\n",
            "c:\\Users\\OMEN\\anaconda3\\envs\\deepctr\\lib\\site-packages\\ipykernel_launcher.py:2: SettingWithCopyWarning: \n",
            "A value is trying to be set on a copy of a slice from a DataFrame.\n",
            "Try using .loc[row_indexer,col_indexer] = value instead\n",
            "\n",
            "See the caveats in the documentation: https://pandas.pydata.org/pandas-docs/stable/user_guide/indexing.html#returning-a-view-versus-a-copy\n",
            "  \n"
          ]
        },
        {
          "data": {
            "text/plain": [
              "0        vegetableoil|self-risingflour|NewMexico|tomato...\n",
              "1        vegetableoil|self-risingflour|NewMexico|tomato...\n",
              "2        vegetableoil|self-risingflour|NewMexico|tomato...\n",
              "3        vegetableoil|self-risingflour|NewMexico|tomato...\n",
              "4        vegetableoil|self-risingflour|NewMexico|tomato...\n",
              "                               ...                        \n",
              "99995    to3pound)wholechicken|celerywithleaves|babycar...\n",
              "99996    to3pound)wholechicken|celerywithleaves|babycar...\n",
              "99997    to3pound)wholechicken|celerywithleaves|babycar...\n",
              "99998    to3pound)wholechicken|celerywithleaves|babycar...\n",
              "99999    to3pound)wholechicken|celerywithleaves|babycar...\n",
              "Name: ingredients, Length: 100000, dtype: object"
            ]
          },
          "execution_count": 20,
          "metadata": {},
          "output_type": "execute_result"
        }
      ],
      "source": [
        "df['ingredients'] = df['ingredients'].str.replace('^', '|')\n",
        "df['ingredients'] = df['ingredients'].str.replace(' ', '')\n",
        "df['ingredients']"
      ]
    },
    {
      "cell_type": "code",
      "execution_count": 21,
      "metadata": {
        "id": "rh0iW2AJ_Trk"
      },
      "outputs": [],
      "source": [
        "def split(x):\n",
        "    key_ans = x.split('|')\n",
        "    for key in key_ans:\n",
        "        if key not in key2index:\n",
        "            # Notice : input value 0 is a special \"padding\",so we do not use 0 to encode valid feature for sequence input\n",
        "            key2index[key] = len(key2index) + 1\n",
        "    return list(map(lambda x: key2index[x], key_ans))"
      ]
    },
    {
      "cell_type": "code",
      "execution_count": 22,
      "metadata": {
        "id": "04F7Ry9vx0Ub"
      },
      "outputs": [],
      "source": [
        "from tensorflow.keras.preprocessing.sequence import pad_sequences"
      ]
    },
    {
      "cell_type": "code",
      "execution_count": 23,
      "metadata": {
        "colab": {
          "base_uri": "https://localhost:8080/"
        },
        "id": "cdkm8EV665Iw",
        "outputId": "a8baba9d-3713-4229-d1ce-f485688effcd"
      },
      "outputs": [
        {
          "name": "stderr",
          "output_type": "stream",
          "text": [
            "c:\\Users\\OMEN\\anaconda3\\envs\\deepctr\\lib\\site-packages\\pandas\\core\\frame.py:3641: SettingWithCopyWarning: \n",
            "A value is trying to be set on a copy of a slice from a DataFrame.\n",
            "Try using .loc[row_indexer,col_indexer] = value instead\n",
            "\n",
            "See the caveats in the documentation: https://pandas.pydata.org/pandas-docs/stable/user_guide/indexing.html#returning-a-view-versus-a-copy\n",
            "  self[k1] = value[k2]\n",
            "c:\\Users\\OMEN\\anaconda3\\envs\\deepctr\\lib\\site-packages\\ipykernel_launcher.py:13: SettingWithCopyWarning: \n",
            "A value is trying to be set on a copy of a slice from a DataFrame.\n",
            "Try using .loc[row_indexer,col_indexer] = value instead\n",
            "\n",
            "See the caveats in the documentation: https://pandas.pydata.org/pandas-docs/stable/user_guide/indexing.html#returning-a-view-versus-a-copy\n",
            "  del sys.path[0]\n"
          ]
        },
        {
          "name": "stdout",
          "output_type": "stream",
          "text": [
            "Length of ingredients list before padding -> 9\n",
            "Max length of ingredients is: 28\n",
            "1\n"
          ]
        }
      ],
      "source": [
        "df_mixed = df\n",
        "\n",
        "# since the rating is only 4 or 5, it can be treated as categorical value\n",
        "sparse_features_mixed = ['user_id', 'hour', 'category']\n",
        "variable_length_features = ['ingredients']\n",
        "target = ['rating']\n",
        "\n",
        "df_mixed[sparse_features_mixed] = df_mixed[sparse_features_mixed].fillna(0)\n",
        "\n",
        "label_encoders_mixed = {}\n",
        "for feature in sparse_features_mixed:\n",
        "  lbe = sklearn.preprocessing.LabelEncoder()\n",
        "  df_mixed[feature] = lbe.fit_transform(df_mixed[feature])\n",
        "  label_encoders_mixed[feature] = lbe\n",
        "\n",
        "train, test = train_test_split(df_mixed, test_size=0.2)\n",
        "\n",
        "# -------------------DIFFERENT FEATURES---------------------------------------------------------\n",
        "\n",
        "\n",
        "key2index = {}\n",
        "ingredients_list = list(map(split, df_mixed['ingredients'].values))\n",
        "ingredients_length = np.array(list(map(len, ingredients_list)))\n",
        "print(f'Length of ingredients list before padding -> {len(ingredients_list[0])}')\n",
        "max_len = max(ingredients_length)\n",
        "print(f'Max length of ingredients is: {max_len}')\n",
        "\n",
        "# padding sequences for uniformity of ingredients list\n",
        "ingredients_list = pad_sequences(ingredients_list, maxlen = max_len, padding='post')\n",
        "print(len(ingredients_list[[0]]))\n",
        "\n",
        "feature_columns_mixed = [deepctr.feature_column.SparseFeat(feature, vocabulary_size = df_mixed[feature].max() + 1, embedding_dim=4) for feature in sparse_features_mixed]\n",
        "\n",
        "varlen_feature_columns = [deepctr.feature_column.VarLenSparseFeat(deepctr.feature_column.SparseFeat('ingredients', vocabulary_size=len(key2index) + 1, embedding_dim=4), maxlen=max_len, combiner='mean', weight_name=None)]\n",
        "\n",
        "dnn_feature_columns_mixed = feature_columns_mixed + varlen_feature_columns\n",
        "linear_feature_columns_mixed = feature_columns_mixed + varlen_feature_columns\n",
        "feature_names_mixed = deepctr.feature_column.get_feature_names(linear_feature_columns_mixed+dnn_feature_columns_mixed)\n"
      ]
    },
    {
      "cell_type": "code",
      "execution_count": 24,
      "metadata": {
        "colab": {
          "base_uri": "https://localhost:8080/"
        },
        "id": "ktlmmWJHDORV",
        "outputId": "093329a6-9554-4bd8-d82b-0f1a6a59de01"
      },
      "outputs": [
        {
          "data": {
            "text/plain": [
              "(['user_id', 'hour', 'category', 'ingredients'],\n",
              " [VarLenSparseFeat(sparsefeat=SparseFeat(name='ingredients', vocabulary_size=2772, embedding_dim=4, use_hash=False, vocabulary_path=None, dtype='int32', embeddings_initializer=<tensorflow.python.keras.initializers.initializers_v1.RandomNormal object at 0x000002402E5BF0C8>, embedding_name='ingredients', group_name='default_group', trainable=True), maxlen=28, combiner='mean', length_name=None, weight_name=None, weight_norm=True)])"
            ]
          },
          "execution_count": 24,
          "metadata": {},
          "output_type": "execute_result"
        }
      ],
      "source": [
        "feature_names_mixed, varlen_feature_columns"
      ]
    },
    {
      "cell_type": "code",
      "execution_count": 25,
      "metadata": {
        "colab": {
          "base_uri": "https://localhost:8080/"
        },
        "id": "qWNgARPwDdUX",
        "outputId": "4c6371be-301c-4c12-c8af-0f263eba2d86"
      },
      "outputs": [
        {
          "data": {
            "text/plain": [
              "<tensorflow.python.keras.engine.functional.Functional at 0x2402d139388>"
            ]
          },
          "execution_count": 25,
          "metadata": {},
          "output_type": "execute_result"
        }
      ],
      "source": [
        "# ------------------FOR MODEL ------------------------------------------------------------------\n",
        "\n",
        "epochs = 20\n",
        "\n",
        "# getting the train and test data for the model input ready\n",
        "train_model_input_mixed = {name: train[name] for name in feature_names_mixed}\n",
        "train_model_input_mixed[\"ingredients\"] = ingredients_list\n",
        "train_model_input_mixed[\"ingredients_weight\"] = np.random.randn(df_mixed.shape[0], max_len, 1)\n",
        "\n",
        "test_model_input_mixed = {name: test[name] for name in feature_names_mixed}\n",
        "\n",
        "\n",
        "# -------------------------MODEL ---------------------------------------------------------------\n",
        "\n",
        "model_mixed = deepctr.models.DeepFM(linear_feature_columns_mixed, dnn_feature_columns_mixed, task='regression')\n",
        "\n",
        "model_mixed.compile('adam', 'mse', metrics=['mse'])\n",
        "model_mixed"
      ]
    },
    {
      "cell_type": "code",
      "execution_count": 26,
      "metadata": {
        "colab": {
          "base_uri": "https://localhost:8080/"
        },
        "id": "DDzUp-6Jwhs9",
        "outputId": "f012850c-f058-4512-984c-5446b774c518"
      },
      "outputs": [
        {
          "data": {
            "text/plain": [
              "100000"
            ]
          },
          "execution_count": 26,
          "metadata": {},
          "output_type": "execute_result"
        }
      ],
      "source": [
        "len(train_model_input_mixed['ingredients'])"
      ]
    },
    {
      "cell_type": "code",
      "execution_count": 27,
      "metadata": {
        "colab": {
          "base_uri": "https://localhost:8080/"
        },
        "id": "rUGSN6bN2DvW",
        "outputId": "cab56a0b-f6c6-41bf-94a4-4e363dc82d7e"
      },
      "outputs": [
        {
          "data": {
            "text/plain": [
              "((80000, 19), (20000, 19))"
            ]
          },
          "execution_count": 27,
          "metadata": {},
          "output_type": "execute_result"
        }
      ],
      "source": [
        "train.shape, test.shape"
      ]
    },
    {
      "cell_type": "code",
      "execution_count": 32,
      "metadata": {},
      "outputs": [
        {
          "name": "stdout",
          "output_type": "stream",
          "text": [
            "int64\n",
            "int64\n",
            "int32\n",
            "int32\n",
            "float64\n"
          ]
        }
      ],
      "source": [
        "train_model_input_mixed.keys() \n",
        "for l in list(train_model_input_mixed.keys()):\n",
        "    print(train_model_input_mixed[l].dtype)  "
      ]
    },
    {
      "cell_type": "code",
      "execution_count": 128,
      "metadata": {
        "colab": {
          "base_uri": "https://localhost:8080/"
        },
        "id": "5ZhyTjoBDMT3",
        "outputId": "0c32edd5-e4fc-4eb9-a32e-959c2765da2f"
      },
      "outputs": [
        {
          "name": "stdout",
          "output_type": "stream",
          "text": [
            "model training started\n",
            "Epoch 1/20\n"
          ]
        },
        {
          "name": "stderr",
          "output_type": "stream",
          "text": [
            "/usr/local/lib/python3.10/dist-packages/tensorflow/python/keras/engine/functional.py:587: UserWarning: Input dict contained keys ['ingredients_weight'] which did not match any model input. They will be ignored by the model.\n",
            "  warnings.warn(\n"
          ]
        },
        {
          "name": "stdout",
          "output_type": "stream",
          "text": [
            "1999/2000 [============================>.] - ETA: 0s - loss: 0.4630 - mse: 0.4630"
          ]
        },
        {
          "name": "stderr",
          "output_type": "stream",
          "text": [
            "/usr/local/lib/python3.10/dist-packages/tensorflow/python/keras/engine/functional.py:587: UserWarning: Input dict contained keys ['ingredients_weight'] which did not match any model input. They will be ignored by the model.\n",
            "  warnings.warn(\n"
          ]
        },
        {
          "name": "stdout",
          "output_type": "stream",
          "text": [
            "2000/2000 [==============================] - 10s 4ms/step - loss: 0.4629 - mse: 0.4629 - val_loss: 0.2037 - val_mse: 0.2035\n",
            "Epoch 2/20\n",
            "2000/2000 [==============================] - 6s 3ms/step - loss: 0.1979 - mse: 0.1977 - val_loss: 0.1980 - val_mse: 0.1977\n",
            "Epoch 3/20\n",
            "2000/2000 [==============================] - 9s 4ms/step - loss: 0.1980 - mse: 0.1976 - val_loss: 0.2025 - val_mse: 0.2020\n",
            "Epoch 4/20\n",
            "2000/2000 [==============================] - 9s 5ms/step - loss: 0.1954 - mse: 0.1948 - val_loss: 0.1966 - val_mse: 0.1960\n",
            "Epoch 5/20\n",
            "2000/2000 [==============================] - 8s 4ms/step - loss: 0.1956 - mse: 0.1949 - val_loss: 0.1995 - val_mse: 0.1987\n",
            "Epoch 6/20\n",
            "2000/2000 [==============================] - 8s 4ms/step - loss: 0.1929 - mse: 0.1919 - val_loss: 0.2006 - val_mse: 0.1996\n",
            "Epoch 7/20\n",
            "2000/2000 [==============================] - 7s 4ms/step - loss: 0.1926 - mse: 0.1916 - val_loss: 0.1982 - val_mse: 0.1970\n",
            "Epoch 8/20\n",
            "2000/2000 [==============================] - 9s 4ms/step - loss: 0.1912 - mse: 0.1899 - val_loss: 0.1994 - val_mse: 0.1981\n",
            "Epoch 9/20\n",
            "2000/2000 [==============================] - 7s 3ms/step - loss: 0.1897 - mse: 0.1883 - val_loss: 0.2065 - val_mse: 0.2049\n",
            "Epoch 10/20\n",
            "2000/2000 [==============================] - 9s 4ms/step - loss: 0.1869 - mse: 0.1852 - val_loss: 0.2185 - val_mse: 0.2167\n",
            "Epoch 11/20\n",
            "2000/2000 [==============================] - 6s 3ms/step - loss: 0.1844 - mse: 0.1825 - val_loss: 0.2068 - val_mse: 0.2049\n",
            "Epoch 12/20\n",
            "2000/2000 [==============================] - 9s 4ms/step - loss: 0.1808 - mse: 0.1786 - val_loss: 0.2053 - val_mse: 0.2030\n",
            "Epoch 13/20\n",
            "2000/2000 [==============================] - 8s 4ms/step - loss: 0.1779 - mse: 0.1755 - val_loss: 0.2079 - val_mse: 0.2054\n",
            "Epoch 14/20\n",
            "2000/2000 [==============================] - 16s 8ms/step - loss: 0.1751 - mse: 0.1725 - val_loss: 0.2073 - val_mse: 0.2047\n",
            "Epoch 15/20\n",
            "2000/2000 [==============================] - 12s 6ms/step - loss: 0.1731 - mse: 0.1704 - val_loss: 0.2281 - val_mse: 0.2252\n",
            "Epoch 16/20\n",
            "2000/2000 [==============================] - 9s 4ms/step - loss: 0.1712 - mse: 0.1682 - val_loss: 0.2117 - val_mse: 0.2087\n",
            "Epoch 17/20\n",
            "2000/2000 [==============================] - 10s 5ms/step - loss: 0.1697 - mse: 0.1666 - val_loss: 0.2176 - val_mse: 0.2143\n",
            "Epoch 18/20\n",
            "2000/2000 [==============================] - 7s 4ms/step - loss: 0.1680 - mse: 0.1646 - val_loss: 0.2154 - val_mse: 0.2120\n",
            "Epoch 19/20\n",
            "2000/2000 [==============================] - 10s 5ms/step - loss: 0.1669 - mse: 0.1634 - val_loss: 0.2158 - val_mse: 0.2123\n",
            "Epoch 20/20\n",
            "2000/2000 [==============================] - 6s 3ms/step - loss: 0.1664 - mse: 0.1628 - val_loss: 0.2156 - val_mse: 0.2119\n"
          ]
        }
      ],
      "source": [
        "print('model training started')\n",
        "history_mixed = model_mixed.fit(train_model_input_mixed, train[target].values, batch_size=32, epochs = epochs, verbose = 1, validation_split = 0.2)\n",
        "# ----------------------------------------------------------------------------------"
      ]
    },
    {
      "cell_type": "code",
      "execution_count": 129,
      "metadata": {
        "id": "o_WUvBxq5YgN"
      },
      "outputs": [],
      "source": [
        "loss = history_mixed.history['loss']\n",
        "val_loss = history_mixed.history['val_loss']"
      ]
    },
    {
      "cell_type": "code",
      "execution_count": 132,
      "metadata": {
        "colab": {
          "base_uri": "https://localhost:8080/",
          "height": 656
        },
        "id": "dFN2DbdO8dWI",
        "outputId": "8c0320af-7b94-4945-e80f-63dad01621a3"
      },
      "outputs": [
        {
          "name": "stderr",
          "output_type": "stream",
          "text": [
            "<ipython-input-132-c0896c8d417a>:7: UserWarning: color is redundantly defined by the 'color' keyword argument and the fmt string \"b-\" (-> color='b'). The keyword argument will take precedence.\n",
            "  plt.plot(epoch_arr, loss, 'b-', label='Training loss', color='blue')\n",
            "<ipython-input-132-c0896c8d417a>:8: UserWarning: color is redundantly defined by the 'color' keyword argument and the fmt string \"r--\" (-> color='r'). The keyword argument will take precedence.\n",
            "  plt.plot(epoch_arr, val_loss, 'r--', label='Validation loss', color='lightcoral')\n"
          ]
        },
        {
          "data": {
            "image/png": "[encoded data removed]",
            "text/plain": [
              "<Figure size 1200x600 with 1 Axes>"
            ]
          },
          "metadata": {},
          "output_type": "display_data"
        }
      ],
      "source": [
        "epoch_arr = list(range(1, epochs+1))\n",
        "\n",
        "# Plotting the Loss\n",
        "plt.figure(figsize=(12, 6))\n",
        "\n",
        "plt.subplot(1, 2, 1)\n",
        "plt.plot(epoch_arr, loss, 'b-', label='Training loss', color='blue')\n",
        "plt.plot(epoch_arr, val_loss, 'r--', label='Validation loss', color='lightcoral')\n",
        "plt.title('Training and Validation Loss with DeepFM (100000 rows)')\n",
        "ax = plt.gca()\n",
        "ax.set_xlim([0,25])\n",
        "ax.set_ylim([0.1, 0.4])\n",
        "plt.xlabel('Epochs')\n",
        "plt.ylabel('Loss')\n",
        "plt.legend()\n",
        "plt.show()"
      ]
    },
    {
      "cell_type": "code",
      "execution_count": null,
      "metadata": {
        "id": "rNULUHc78dTx"
      },
      "outputs": [],
      "source": [
        "# ingredients are: vegetable oil^self-rising flour^New Mexico"
      ]
    },
    {
      "cell_type": "code",
      "execution_count": 133,
      "metadata": {
        "colab": {
          "base_uri": "https://localhost:8080/"
        },
        "id": "ZHsasJE898Vv",
        "outputId": "9a6eab8a-54b1-41d5-d6fb-38fb6da14b3e"
      },
      "outputs": [
        {
          "data": {
            "text/plain": [
              "0           0\n",
              "1           6\n",
              "2          20\n",
              "3          32\n",
              "4          37\n",
              "         ... \n",
              "99995    1070\n",
              "99996    1107\n",
              "99997    1125\n",
              "99998    1155\n",
              "99999    1184\n",
              "Name: user_id, Length: 100000, dtype: int64"
            ]
          },
          "execution_count": 133,
          "metadata": {},
          "output_type": "execute_result"
        }
      ],
      "source": [
        "df.user_id"
      ]
    },
    {
      "cell_type": "code",
      "execution_count": 136,
      "metadata": {
        "colab": {
          "base_uri": "https://localhost:8080/",
          "height": 112
        },
        "id": "j_j64kKF9MH_",
        "outputId": "323c3c19-2ae2-4e27-9119-41166c48d5fe"
      },
      "outputs": [
        {
          "data": {
            "application/vnd.google.colaboratory.intrinsic+json": {
              "summary": "{\n  \"name\": \"test_df\",\n  \"rows\": 2,\n  \"fields\": [\n    {\n      \"column\": \"user_id\",\n      \"properties\": {\n        \"dtype\": \"number\",\n        \"std\": 733,\n        \"min\": 32,\n        \"max\": 1070,\n        \"num_unique_values\": 2,\n        \"samples\": [\n          1070,\n          32\n        ],\n        \"semantic_type\": \"\",\n        \"description\": \"\"\n      }\n    },\n    {\n      \"column\": \"hour\",\n      \"properties\": {\n        \"dtype\": \"number\",\n        \"std\": 8,\n        \"min\": 8,\n        \"max\": 20,\n        \"num_unique_values\": 2,\n        \"samples\": [\n          8,\n          20\n        ],\n        \"semantic_type\": \"\",\n        \"description\": \"\"\n      }\n    },\n    {\n      \"column\": \"category\",\n      \"properties\": {\n        \"dtype\": \"string\",\n        \"num_unique_values\": 1,\n        \"samples\": [\n          \"dessert\"\n        ],\n        \"semantic_type\": \"\",\n        \"description\": \"\"\n      }\n    },\n    {\n      \"column\": \"ingredients\",\n      \"properties\": {\n        \"dtype\": \"string\",\n        \"num_unique_values\": 2,\n        \"samples\": [\n          \"vegetableoil|self-risingflour|celerywithleaves\"\n        ],\n        \"semantic_type\": \"\",\n        \"description\": \"\"\n      }\n    }\n  ]\n}",
              "type": "dataframe",
              "variable_name": "test_df"
            },
            "text/html": [
              "\n",
              "  <div id=\"df-84be3e8a-fc85-4906-b053-d80880ade89f\" class=\"colab-df-container\">\n",
              "    <div>\n",
              "<style scoped>\n",
              "    .dataframe tbody tr th:only-of-type {\n",
              "        vertical-align: middle;\n",
              "    }\n",
              "\n",
              "    .dataframe tbody tr th {\n",
              "        vertical-align: top;\n",
              "    }\n",
              "\n",
              "    .dataframe thead th {\n",
              "        text-align: right;\n",
              "    }\n",
              "</style>\n",
              "<table border=\"1\" class=\"dataframe\">\n",
              "  <thead>\n",
              "    <tr style=\"text-align: right;\">\n",
              "      <th></th>\n",
              "      <th>user_id</th>\n",
              "      <th>hour</th>\n",
              "      <th>category</th>\n",
              "      <th>ingredients</th>\n",
              "    </tr>\n",
              "  </thead>\n",
              "  <tbody>\n",
              "    <tr>\n",
              "      <th>0</th>\n",
              "      <td>32</td>\n",
              "      <td>20</td>\n",
              "      <td>dessert</td>\n",
              "      <td>vegetableoil|self-risingflour|to3pound)wholech...</td>\n",
              "    </tr>\n",
              "    <tr>\n",
              "      <th>1</th>\n",
              "      <td>1070</td>\n",
              "      <td>8</td>\n",
              "      <td>dessert</td>\n",
              "      <td>vegetableoil|self-risingflour|celerywithleaves</td>\n",
              "    </tr>\n",
              "  </tbody>\n",
              "</table>\n",
              "</div>\n",
              "    <div class=\"colab-df-buttons\">\n",
              "\n",
              "  <div class=\"colab-df-container\">\n",
              "    <button class=\"colab-df-convert\" onclick=\"convertToInteractive('df-84be3e8a-fc85-4906-b053-d80880ade89f')\"\n",
              "            title=\"Convert this dataframe to an interactive table.\"\n",
              "            style=\"display:none;\">\n",
              "\n",
              "  <svg xmlns=\"http://www.w3.org/2000/svg\" height=\"24px\" viewBox=\"0 -960 960 960\">\n",
              "    <path d=\"M120-120v-720h720v720H120Zm60-500h600v-160H180v160Zm220 220h160v-160H400v160Zm0 220h160v-160H400v160ZM180-400h160v-160H180v160Zm440 0h160v-160H620v160ZM180-180h160v-160H180v160Zm440 0h160v-160H620v160Z\"/>\n",
              "  </svg>\n",
              "    </button>\n",
              "\n",
              "  <style>\n",
              "    .colab-df-container {\n",
              "      display:flex;\n",
              "      gap: 12px;\n",
              "    }\n",
              "\n",
              "    .colab-df-convert {\n",
              "      background-color: #E8F0FE;\n",
              "      border: none;\n",
              "      border-radius: 50%;\n",
              "      cursor: pointer;\n",
              "      display: none;\n",
              "      fill: #1967D2;\n",
              "      height: 32px;\n",
              "      padding: 0 0 0 0;\n",
              "      width: 32px;\n",
              "    }\n",
              "\n",
              "    .colab-df-convert:hover {\n",
              "      background-color: #E2EBFA;\n",
              "      box-shadow: 0px 1px 2px rgba(60, 64, 67, 0.3), 0px 1px 3px 1px rgba(60, 64, 67, 0.15);\n",
              "      fill: #174EA6;\n",
              "    }\n",
              "\n",
              "    .colab-df-buttons div {\n",
              "      margin-bottom: 4px;\n",
              "    }\n",
              "\n",
              "    [theme=dark] .colab-df-convert {\n",
              "      background-color: #3B4455;\n",
              "      fill: #D2E3FC;\n",
              "    }\n",
              "\n",
              "    [theme=dark] .colab-df-convert:hover {\n",
              "      background-color: #434B5C;\n",
              "      box-shadow: 0px 1px 3px 1px rgba(0, 0, 0, 0.15);\n",
              "      filter: drop-shadow(0px 1px 2px rgba(0, 0, 0, 0.3));\n",
              "      fill: #FFFFFF;\n",
              "    }\n",
              "  </style>\n",
              "\n",
              "    <script>\n",
              "      const buttonEl =\n",
              "        document.querySelector('#df-84be3e8a-fc85-4906-b053-d80880ade89f button.colab-df-convert');\n",
              "      buttonEl.style.display =\n",
              "        google.colab.kernel.accessAllowed ? 'block' : 'none';\n",
              "\n",
              "      async function convertToInteractive(key) {\n",
              "        const element = document.querySelector('#df-84be3e8a-fc85-4906-b053-d80880ade89f');\n",
              "        const dataTable =\n",
              "          await google.colab.kernel.invokeFunction('convertToInteractive',\n",
              "                                                    [key], {});\n",
              "        if (!dataTable) return;\n",
              "\n",
              "        const docLinkHtml = 'Like what you see? Visit the ' +\n",
              "          '<a target=\"_blank\" href=https://colab.research.google.com/notebooks/data_table.ipynb>data table notebook</a>'\n",
              "          + ' to learn more about interactive tables.';\n",
              "        element.innerHTML = '';\n",
              "        dataTable['output_type'] = 'display_data';\n",
              "        await google.colab.output.renderOutput(dataTable, element);\n",
              "        const docLink = document.createElement('div');\n",
              "        docLink.innerHTML = docLinkHtml;\n",
              "        element.appendChild(docLink);\n",
              "      }\n",
              "    </script>\n",
              "  </div>\n",
              "\n",
              "\n",
              "<div id=\"df-7b65f188-86e3-44b3-bb7b-90abf4d2a625\">\n",
              "  <button class=\"colab-df-quickchart\" onclick=\"quickchart('df-7b65f188-86e3-44b3-bb7b-90abf4d2a625')\"\n",
              "            title=\"Suggest charts\"\n",
              "            style=\"display:none;\">\n",
              "\n",
              "<svg xmlns=\"http://www.w3.org/2000/svg\" height=\"24px\"viewBox=\"0 0 24 24\"\n",
              "     width=\"24px\">\n",
              "    <g>\n",
              "        <path d=\"M19 3H5c-1.1 0-2 .9-2 2v14c0 1.1.9 2 2 2h14c1.1 0 2-.9 2-2V5c0-1.1-.9-2-2-2zM9 17H7v-7h2v7zm4 0h-2V7h2v10zm4 0h-2v-4h2v4z\"/>\n",
              "    </g>\n",
              "</svg>\n",
              "  </button>\n",
              "\n",
              "<style>\n",
              "  .colab-df-quickchart {\n",
              "      --bg-color: #E8F0FE;\n",
              "      --fill-color: #1967D2;\n",
              "      --hover-bg-color: #E2EBFA;\n",
              "      --hover-fill-color: #174EA6;\n",
              "      --disabled-fill-color: #AAA;\n",
              "      --disabled-bg-color: #DDD;\n",
              "  }\n",
              "\n",
              "  [theme=dark] .colab-df-quickchart {\n",
              "      --bg-color: #3B4455;\n",
              "      --fill-color: #D2E3FC;\n",
              "      --hover-bg-color: #434B5C;\n",
              "      --hover-fill-color: #FFFFFF;\n",
              "      --disabled-bg-color: #3B4455;\n",
              "      --disabled-fill-color: #666;\n",
              "  }\n",
              "\n",
              "  .colab-df-quickchart {\n",
              "    background-color: var(--bg-color);\n",
              "    border: none;\n",
              "    border-radius: 50%;\n",
              "    cursor: pointer;\n",
              "    display: none;\n",
              "    fill: var(--fill-color);\n",
              "    height: 32px;\n",
              "    padding: 0;\n",
              "    width: 32px;\n",
              "  }\n",
              "\n",
              "  .colab-df-quickchart:hover {\n",
              "    background-color: var(--hover-bg-color);\n",
              "    box-shadow: 0 1px 2px rgba(60, 64, 67, 0.3), 0 1px 3px 1px rgba(60, 64, 67, 0.15);\n",
              "    fill: var(--button-hover-fill-color);\n",
              "  }\n",
              "\n",
              "  .colab-df-quickchart-complete:disabled,\n",
              "  .colab-df-quickchart-complete:disabled:hover {\n",
              "    background-color: var(--disabled-bg-color);\n",
              "    fill: var(--disabled-fill-color);\n",
              "    box-shadow: none;\n",
              "  }\n",
              "\n",
              "  .colab-df-spinner {\n",
              "    border: 2px solid var(--fill-color);\n",
              "    border-color: transparent;\n",
              "    border-bottom-color: var(--fill-color);\n",
              "    animation:\n",
              "      spin 1s steps(1) infinite;\n",
              "  }\n",
              "\n",
              "  @keyframes spin {\n",
              "    0% {\n",
              "      border-color: transparent;\n",
              "      border-bottom-color: var(--fill-color);\n",
              "      border-left-color: var(--fill-color);\n",
              "    }\n",
              "    20% {\n",
              "      border-color: transparent;\n",
              "      border-left-color: var(--fill-color);\n",
              "      border-top-color: var(--fill-color);\n",
              "    }\n",
              "    30% {\n",
              "      border-color: transparent;\n",
              "      border-left-color: var(--fill-color);\n",
              "      border-top-color: var(--fill-color);\n",
              "      border-right-color: var(--fill-color);\n",
              "    }\n",
              "    40% {\n",
              "      border-color: transparent;\n",
              "      border-right-color: var(--fill-color);\n",
              "      border-top-color: var(--fill-color);\n",
              "    }\n",
              "    60% {\n",
              "      border-color: transparent;\n",
              "      border-right-color: var(--fill-color);\n",
              "    }\n",
              "    80% {\n",
              "      border-color: transparent;\n",
              "      border-right-color: var(--fill-color);\n",
              "      border-bottom-color: var(--fill-color);\n",
              "    }\n",
              "    90% {\n",
              "      border-color: transparent;\n",
              "      border-bottom-color: var(--fill-color);\n",
              "    }\n",
              "  }\n",
              "</style>\n",
              "\n",
              "  <script>\n",
              "    async function quickchart(key) {\n",
              "      const quickchartButtonEl =\n",
              "        document.querySelector('#' + key + ' button');\n",
              "      quickchartButtonEl.disabled = true;  // To prevent multiple clicks.\n",
              "      quickchartButtonEl.classList.add('colab-df-spinner');\n",
              "      try {\n",
              "        const charts = await google.colab.kernel.invokeFunction(\n",
              "            'suggestCharts', [key], {});\n",
              "      } catch (error) {\n",
              "        console.error('Error during call to suggestCharts:', error);\n",
              "      }\n",
              "      quickchartButtonEl.classList.remove('colab-df-spinner');\n",
              "      quickchartButtonEl.classList.add('colab-df-quickchart-complete');\n",
              "    }\n",
              "    (() => {\n",
              "      let quickchartButtonEl =\n",
              "        document.querySelector('#df-7b65f188-86e3-44b3-bb7b-90abf4d2a625 button');\n",
              "      quickchartButtonEl.style.display =\n",
              "        google.colab.kernel.accessAllowed ? 'block' : 'none';\n",
              "    })();\n",
              "  </script>\n",
              "</div>\n",
              "    </div>\n",
              "  </div>\n"
            ],
            "text/plain": [
              "   user_id  hour category                                        ingredients\n",
              "0       32    20  dessert  vegetableoil|self-risingflour|to3pound)wholech...\n",
              "1     1070     8  dessert     vegetableoil|self-risingflour|celerywithleaves"
            ]
          },
          "execution_count": 136,
          "metadata": {},
          "output_type": "execute_result"
        }
      ],
      "source": [
        "user_input = {\n",
        "  'user_id':[ 32,1070],\n",
        "  'hour':[ 20,8],\n",
        "  'category':['dessert', 'dessert'],\n",
        "  'ingredients':[ 'vegetableoil|self-risingflour|to3pound)wholechicken|celerywithleaves', 'vegetableoil|self-risingflour|celerywithleaves'],\n",
        "}\n",
        "test_df = pd.DataFrame(user_input)\n",
        "test_df.head()"
      ]
    },
    {
      "cell_type": "markdown",
      "metadata": {
        "id": "hr6Me58K_t7N"
      },
      "source": [
        "### Inference with VarLenSparseFeat remains!"
      ]
    },
    {
      "cell_type": "code",
      "execution_count": null,
      "metadata": {
        "id": "YNOl-AaI9MEy"
      },
      "outputs": [],
      "source": []
    },
    {
      "cell_type": "code",
      "execution_count": null,
      "metadata": {
        "id": "3lzgRoUV9L-6"
      },
      "outputs": [],
      "source": []
    },
    {
      "cell_type": "markdown",
      "metadata": {
        "id": "eHFKRsIS_JT2"
      },
      "source": [
        "## Plotted with only 50000 rows of the dataframe"
      ]
    },
    {
      "cell_type": "code",
      "execution_count": 115,
      "metadata": {
        "colab": {
          "base_uri": "https://localhost:8080/",
          "height": 656
        },
        "id": "PCVFJfH83yk9",
        "outputId": "5f36fbb8-9638-41c1-b1e9-b14220fefd80"
      },
      "outputs": [
        {
          "name": "stderr",
          "output_type": "stream",
          "text": [
            "<ipython-input-115-49087af7442e>:7: UserWarning: color is redundantly defined by the 'color' keyword argument and the fmt string \"b-\" (-> color='b'). The keyword argument will take precedence.\n",
            "  plt.plot(epoch_arr, loss, 'b-', label='Training loss', color='blue')\n",
            "<ipython-input-115-49087af7442e>:8: UserWarning: color is redundantly defined by the 'color' keyword argument and the fmt string \"r--\" (-> color='r'). The keyword argument will take precedence.\n",
            "  plt.plot(epoch_arr, val_loss, 'r--', label='Validation loss', color='lightcoral')\n"
          ]
        },
        {
          "data": {
            "image/png": "[encoded data removed]",
            "text/plain": [
              "<Figure size 1200x600 with 1 Axes>"
            ]
          },
          "metadata": {},
          "output_type": "display_data"
        }
      ],
      "source": [
        "epoch_arr = list(range(1, epochs+1))\n",
        "\n",
        "# Plotting the Loss\n",
        "plt.figure(figsize=(12, 6))\n",
        "\n",
        "plt.subplot(1, 2, 1)\n",
        "plt.plot(epoch_arr, loss, 'b-', label='Training loss', color='blue')\n",
        "plt.plot(epoch_arr, val_loss, 'r--', label='Validation loss', color='lightcoral')\n",
        "plt.title('Training and Validation Loss with DeepFM (50000 rows)')\n",
        "ax = plt.gca()\n",
        "ax.set_xlim([0,20])\n",
        "ax.set_ylim([0,0.8])\n",
        "plt.xlabel('Epochs')\n",
        "plt.ylabel('Loss')\n",
        "plt.legend()\n",
        "plt.show()"
      ]
    },
    {
      "cell_type": "code",
      "execution_count": 114,
      "metadata": {
        "id": "itwWDwF97y_x"
      },
      "outputs": [],
      "source": [
        "# sparse_features_mixed = ['user_id', 'hour', 'category']\n",
        "# variable_length_features = ['ingredients']\n",
        "# target = ['rating']"
      ]
    },
    {
      "cell_type": "code",
      "execution_count": 79,
      "metadata": {
        "colab": {
          "base_uri": "https://localhost:8080/"
        },
        "id": "4gwPkM5I3VCm",
        "outputId": "adc6bae3-9c6b-4f6c-a708-06fec681c242"
      },
      "outputs": [
        {
          "data": {
            "text/plain": [
              "17436    5\n",
              "27092    4\n",
              "28161    4\n",
              "5266     4\n",
              "115      5\n",
              "        ..\n",
              "20949    5\n",
              "1332     5\n",
              "20602    5\n",
              "8289     4\n",
              "20558    5\n",
              "Name: rating, Length: 7500, dtype: int64"
            ]
          },
          "execution_count": 79,
          "metadata": {},
          "output_type": "execute_result"
        }
      ],
      "source": []
    },
    {
      "cell_type": "code",
      "execution_count": null,
      "metadata": {
        "id": "XCzQFabt65Do"
      },
      "outputs": [],
      "source": []
    },
    {
      "cell_type": "code",
      "execution_count": null,
      "metadata": {
        "id": "G1jZzMhr65Bo"
      },
      "outputs": [],
      "source": []
    },
    {
      "cell_type": "code",
      "execution_count": null,
      "metadata": {
        "id": "OXeq8kZ164_h"
      },
      "outputs": [],
      "source": []
    }
  ],
  "metadata": {
    "colab": {
      "collapsed_sections": [
        "loC-IaXRY_e8"
      ],
      "provenance": []
    },
    "kernelspec": {
      "display_name": "Python 3",
      "name": "python3"
    },
    "language_info": {
      "codemirror_mode": {
        "name": "ipython",
        "version": 3
      },
      "file_extension": ".py",
      "mimetype": "text/x-python",
      "name": "python",
      "nbconvert_exporter": "python",
      "pygments_lexer": "ipython3",
      "version": "3.7.12"
    }
  },
  "nbformat": 4,
  "nbformat_minor": 0
}
