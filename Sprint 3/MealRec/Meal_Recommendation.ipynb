{
  "nbformat": 4,
  "nbformat_minor": 0,
  "metadata": {
    "colab": {
      "provenance": []
    },
    "kernelspec": {
      "name": "python3",
      "display_name": "Python 3"
    },
    "language_info": {
      "name": "python"
    }
  },
  "cells": [
    {
      "cell_type": "code",
      "execution_count": 123,
      "metadata": {
        "colab": {
          "base_uri": "https://localhost:8080/"
        },
        "id": "FGuiFkYR_kis",
        "outputId": "a4096088-a29e-42a3-f690-100d7887bc4c"
      },
      "outputs": [
        {
          "output_type": "stream",
          "name": "stdout",
          "text": [
            "\u001b[33mWARNING: Skipping tensorflow as it is not installed.\u001b[0m\u001b[33m\n",
            "\u001b[0m"
          ]
        }
      ],
      "source": [
        "! pip uninstall -y -q tensorflow\n",
        "! pip install -q tensorflow-gpu==2.8.0\n",
        "! pip install -q deepmatch"
      ]
    },
    {
      "cell_type": "code",
      "source": [
        "import pandas as pd\n",
        "import numpy as np\n",
        "import matplotlib.pyplot as plt\n",
        "import sklearn"
      ],
      "metadata": {
        "id": "GpLCSm1x_s2b"
      },
      "execution_count": 124,
      "outputs": []
    },
    {
      "cell_type": "code",
      "source": [
        "from deepctr.models import *\n",
        "import deepctr\n",
        "import csv"
      ],
      "metadata": {
        "id": "YgV7jXdgAB_p"
      },
      "execution_count": 125,
      "outputs": []
    },
    {
      "cell_type": "code",
      "source": [
        "user_recipe_df = pd.read_csv('user_recipe.csv',  encoding='utf-8')\n",
        "user_recipe_df.head(2), user_recipe_df"
      ],
      "metadata": {
        "colab": {
          "base_uri": "https://localhost:8080/"
        },
        "id": "yKCupSulAE0o",
        "outputId": "eac9eae9-6c72-4162-caf9-e279b09b6f47"
      },
      "execution_count": 126,
      "outputs": [
        {
          "output_type": "execute_result",
          "data": {
            "text/plain": [
              "(   user_id  recipe_id  rating           dateLastModified\n",
              " 0       39      61727       4  2001-03-26T07:36:16.653\\n\n",
              " 1       39       7612       5  2004-08-02T16:48:37.107\\n,\n",
              "          user_id  recipe_id  rating           dateLastModified\n",
              " 0             39      61727       4  2001-03-26T07:36:16.653\\n\n",
              " 1             39       7612       5  2004-08-02T16:48:37.107\\n\n",
              " 2             39      12009       4   2001-02-28T10:37:25.59\\n\n",
              " 3             39      88185       5  2009-05-18T14:55:11.517\\n\n",
              " 4             39      24445       5   2015-05-07T15:42:20.32\\n\n",
              " ...          ...        ...     ...                        ...\n",
              " 151143  21907115      12942       5   2010-02-26T07:06:39.46\\n\n",
              " 151144  21907115      16348       4   2009-07-17T14:15:47.27\\n\n",
              " 151145  21907115      24332       5  2008-02-20T13:08:55.997\\n\n",
              " 151146  21907115       7322       4   2012-11-19T07:22:35.54\\n\n",
              " 151147  21907115      18327       4   2016-04-12T04:10:38.48\\n\n",
              " \n",
              " [151148 rows x 4 columns])"
            ]
          },
          "metadata": {},
          "execution_count": 126
        }
      ]
    },
    {
      "cell_type": "code",
      "source": [],
      "metadata": {
        "id": "9k6nT3k3DNUp"
      },
      "execution_count": 126,
      "outputs": []
    },
    {
      "cell_type": "code",
      "source": [
        "recipe_df = pd.read_csv('recipe_without_reviews.csv')\n",
        "recipe_df.head(2)"
      ],
      "metadata": {
        "id": "b6L__eCPAm7N",
        "colab": {
          "base_uri": "https://localhost:8080/",
          "height": 253
        },
        "outputId": "816320a4-a65e-4385-e8c2-30034967c77a"
      },
      "execution_count": 127,
      "outputs": [
        {
          "output_type": "execute_result",
          "data": {
            "text/plain": [
              "   Unnamed: 0  recipe_id            recipe_name  review_nums   category  \\\n",
              "0           0       6698   Mom's Zucchini Bread         9355  appetizer   \n",
              "1           1       6709  Zucchini Walnut Bread           58  appetizer   \n",
              "\n",
              "   aver_rate                                          image_url  \\\n",
              "0   4.754207  https://images.media-allrecipes.com/userphotos...   \n",
              "1   4.478873  http://images.media-allrecipes.com/userphotos/...   \n",
              "\n",
              "                                         ingredients  \\\n",
              "0  all-purpose flour^salt^baking soda^baking powd...   \n",
              "1  chopped walnuts^eggs^white sugar^vegetable oil...   \n",
              "\n",
              "                                  cooking_directions  \\\n",
              "0  {'directions': u'Prep\\n20 m\\nCook\\n1 h\\nReady ...   \n",
              "1  {'directions': u'Whisk together flour, baking ...   \n",
              "\n",
              "                                          nutritions  \\\n",
              "0  {u'niacin': {u'hasCompleteData': True, u'name'...   \n",
              "1  {u'niacin': {u'hasCompleteData': True, u'name'...   \n",
              "\n",
              "                                                tags  \n",
              "0  north-american;breads;easy;beginner-cook;inexp...  \n",
              "1  weeknight;breads;fruit;vegetables;kid-friendly...  "
            ],
            "text/html": [
              "\n",
              "  <div id=\"df-0fbebc1a-d4c3-4b77-94c6-07182dd178bc\" class=\"colab-df-container\">\n",
              "    <div>\n",
              "<style scoped>\n",
              "    .dataframe tbody tr th:only-of-type {\n",
              "        vertical-align: middle;\n",
              "    }\n",
              "\n",
              "    .dataframe tbody tr th {\n",
              "        vertical-align: top;\n",
              "    }\n",
              "\n",
              "    .dataframe thead th {\n",
              "        text-align: right;\n",
              "    }\n",
              "</style>\n",
              "<table border=\"1\" class=\"dataframe\">\n",
              "  <thead>\n",
              "    <tr style=\"text-align: right;\">\n",
              "      <th></th>\n",
              "      <th>Unnamed: 0</th>\n",
              "      <th>recipe_id</th>\n",
              "      <th>recipe_name</th>\n",
              "      <th>review_nums</th>\n",
              "      <th>category</th>\n",
              "      <th>aver_rate</th>\n",
              "      <th>image_url</th>\n",
              "      <th>ingredients</th>\n",
              "      <th>cooking_directions</th>\n",
              "      <th>nutritions</th>\n",
              "      <th>tags</th>\n",
              "    </tr>\n",
              "  </thead>\n",
              "  <tbody>\n",
              "    <tr>\n",
              "      <th>0</th>\n",
              "      <td>0</td>\n",
              "      <td>6698</td>\n",
              "      <td>Mom's Zucchini Bread</td>\n",
              "      <td>9355</td>\n",
              "      <td>appetizer</td>\n",
              "      <td>4.754207</td>\n",
              "      <td>https://images.media-allrecipes.com/userphotos...</td>\n",
              "      <td>all-purpose flour^salt^baking soda^baking powd...</td>\n",
              "      <td>{'directions': u'Prep\\n20 m\\nCook\\n1 h\\nReady ...</td>\n",
              "      <td>{u'niacin': {u'hasCompleteData': True, u'name'...</td>\n",
              "      <td>north-american;breads;easy;beginner-cook;inexp...</td>\n",
              "    </tr>\n",
              "    <tr>\n",
              "      <th>1</th>\n",
              "      <td>1</td>\n",
              "      <td>6709</td>\n",
              "      <td>Zucchini Walnut Bread</td>\n",
              "      <td>58</td>\n",
              "      <td>appetizer</td>\n",
              "      <td>4.478873</td>\n",
              "      <td>http://images.media-allrecipes.com/userphotos/...</td>\n",
              "      <td>chopped walnuts^eggs^white sugar^vegetable oil...</td>\n",
              "      <td>{'directions': u'Whisk together flour, baking ...</td>\n",
              "      <td>{u'niacin': {u'hasCompleteData': True, u'name'...</td>\n",
              "      <td>weeknight;breads;fruit;vegetables;kid-friendly...</td>\n",
              "    </tr>\n",
              "  </tbody>\n",
              "</table>\n",
              "</div>\n",
              "    <div class=\"colab-df-buttons\">\n",
              "\n",
              "  <div class=\"colab-df-container\">\n",
              "    <button class=\"colab-df-convert\" onclick=\"convertToInteractive('df-0fbebc1a-d4c3-4b77-94c6-07182dd178bc')\"\n",
              "            title=\"Convert this dataframe to an interactive table.\"\n",
              "            style=\"display:none;\">\n",
              "\n",
              "  <svg xmlns=\"http://www.w3.org/2000/svg\" height=\"24px\" viewBox=\"0 -960 960 960\">\n",
              "    <path d=\"M120-120v-720h720v720H120Zm60-500h600v-160H180v160Zm220 220h160v-160H400v160Zm0 220h160v-160H400v160ZM180-400h160v-160H180v160Zm440 0h160v-160H620v160ZM180-180h160v-160H180v160Zm440 0h160v-160H620v160Z\"/>\n",
              "  </svg>\n",
              "    </button>\n",
              "\n",
              "  <style>\n",
              "    .colab-df-container {\n",
              "      display:flex;\n",
              "      gap: 12px;\n",
              "    }\n",
              "\n",
              "    .colab-df-convert {\n",
              "      background-color: #E8F0FE;\n",
              "      border: none;\n",
              "      border-radius: 50%;\n",
              "      cursor: pointer;\n",
              "      display: none;\n",
              "      fill: #1967D2;\n",
              "      height: 32px;\n",
              "      padding: 0 0 0 0;\n",
              "      width: 32px;\n",
              "    }\n",
              "\n",
              "    .colab-df-convert:hover {\n",
              "      background-color: #E2EBFA;\n",
              "      box-shadow: 0px 1px 2px rgba(60, 64, 67, 0.3), 0px 1px 3px 1px rgba(60, 64, 67, 0.15);\n",
              "      fill: #174EA6;\n",
              "    }\n",
              "\n",
              "    .colab-df-buttons div {\n",
              "      margin-bottom: 4px;\n",
              "    }\n",
              "\n",
              "    [theme=dark] .colab-df-convert {\n",
              "      background-color: #3B4455;\n",
              "      fill: #D2E3FC;\n",
              "    }\n",
              "\n",
              "    [theme=dark] .colab-df-convert:hover {\n",
              "      background-color: #434B5C;\n",
              "      box-shadow: 0px 1px 3px 1px rgba(0, 0, 0, 0.15);\n",
              "      filter: drop-shadow(0px 1px 2px rgba(0, 0, 0, 0.3));\n",
              "      fill: #FFFFFF;\n",
              "    }\n",
              "  </style>\n",
              "\n",
              "    <script>\n",
              "      const buttonEl =\n",
              "        document.querySelector('#df-0fbebc1a-d4c3-4b77-94c6-07182dd178bc button.colab-df-convert');\n",
              "      buttonEl.style.display =\n",
              "        google.colab.kernel.accessAllowed ? 'block' : 'none';\n",
              "\n",
              "      async function convertToInteractive(key) {\n",
              "        const element = document.querySelector('#df-0fbebc1a-d4c3-4b77-94c6-07182dd178bc');\n",
              "        const dataTable =\n",
              "          await google.colab.kernel.invokeFunction('convertToInteractive',\n",
              "                                                    [key], {});\n",
              "        if (!dataTable) return;\n",
              "\n",
              "        const docLinkHtml = 'Like what you see? Visit the ' +\n",
              "          '<a target=\"_blank\" href=https://colab.research.google.com/notebooks/data_table.ipynb>data table notebook</a>'\n",
              "          + ' to learn more about interactive tables.';\n",
              "        element.innerHTML = '';\n",
              "        dataTable['output_type'] = 'display_data';\n",
              "        await google.colab.output.renderOutput(dataTable, element);\n",
              "        const docLink = document.createElement('div');\n",
              "        docLink.innerHTML = docLinkHtml;\n",
              "        element.appendChild(docLink);\n",
              "      }\n",
              "    </script>\n",
              "  </div>\n",
              "\n",
              "\n",
              "<div id=\"df-c59da047-3775-45ad-9c69-b352aea7022f\">\n",
              "  <button class=\"colab-df-quickchart\" onclick=\"quickchart('df-c59da047-3775-45ad-9c69-b352aea7022f')\"\n",
              "            title=\"Suggest charts\"\n",
              "            style=\"display:none;\">\n",
              "\n",
              "<svg xmlns=\"http://www.w3.org/2000/svg\" height=\"24px\"viewBox=\"0 0 24 24\"\n",
              "     width=\"24px\">\n",
              "    <g>\n",
              "        <path d=\"M19 3H5c-1.1 0-2 .9-2 2v14c0 1.1.9 2 2 2h14c1.1 0 2-.9 2-2V5c0-1.1-.9-2-2-2zM9 17H7v-7h2v7zm4 0h-2V7h2v10zm4 0h-2v-4h2v4z\"/>\n",
              "    </g>\n",
              "</svg>\n",
              "  </button>\n",
              "\n",
              "<style>\n",
              "  .colab-df-quickchart {\n",
              "      --bg-color: #E8F0FE;\n",
              "      --fill-color: #1967D2;\n",
              "      --hover-bg-color: #E2EBFA;\n",
              "      --hover-fill-color: #174EA6;\n",
              "      --disabled-fill-color: #AAA;\n",
              "      --disabled-bg-color: #DDD;\n",
              "  }\n",
              "\n",
              "  [theme=dark] .colab-df-quickchart {\n",
              "      --bg-color: #3B4455;\n",
              "      --fill-color: #D2E3FC;\n",
              "      --hover-bg-color: #434B5C;\n",
              "      --hover-fill-color: #FFFFFF;\n",
              "      --disabled-bg-color: #3B4455;\n",
              "      --disabled-fill-color: #666;\n",
              "  }\n",
              "\n",
              "  .colab-df-quickchart {\n",
              "    background-color: var(--bg-color);\n",
              "    border: none;\n",
              "    border-radius: 50%;\n",
              "    cursor: pointer;\n",
              "    display: none;\n",
              "    fill: var(--fill-color);\n",
              "    height: 32px;\n",
              "    padding: 0;\n",
              "    width: 32px;\n",
              "  }\n",
              "\n",
              "  .colab-df-quickchart:hover {\n",
              "    background-color: var(--hover-bg-color);\n",
              "    box-shadow: 0 1px 2px rgba(60, 64, 67, 0.3), 0 1px 3px 1px rgba(60, 64, 67, 0.15);\n",
              "    fill: var(--button-hover-fill-color);\n",
              "  }\n",
              "\n",
              "  .colab-df-quickchart-complete:disabled,\n",
              "  .colab-df-quickchart-complete:disabled:hover {\n",
              "    background-color: var(--disabled-bg-color);\n",
              "    fill: var(--disabled-fill-color);\n",
              "    box-shadow: none;\n",
              "  }\n",
              "\n",
              "  .colab-df-spinner {\n",
              "    border: 2px solid var(--fill-color);\n",
              "    border-color: transparent;\n",
              "    border-bottom-color: var(--fill-color);\n",
              "    animation:\n",
              "      spin 1s steps(1) infinite;\n",
              "  }\n",
              "\n",
              "  @keyframes spin {\n",
              "    0% {\n",
              "      border-color: transparent;\n",
              "      border-bottom-color: var(--fill-color);\n",
              "      border-left-color: var(--fill-color);\n",
              "    }\n",
              "    20% {\n",
              "      border-color: transparent;\n",
              "      border-left-color: var(--fill-color);\n",
              "      border-top-color: var(--fill-color);\n",
              "    }\n",
              "    30% {\n",
              "      border-color: transparent;\n",
              "      border-left-color: var(--fill-color);\n",
              "      border-top-color: var(--fill-color);\n",
              "      border-right-color: var(--fill-color);\n",
              "    }\n",
              "    40% {\n",
              "      border-color: transparent;\n",
              "      border-right-color: var(--fill-color);\n",
              "      border-top-color: var(--fill-color);\n",
              "    }\n",
              "    60% {\n",
              "      border-color: transparent;\n",
              "      border-right-color: var(--fill-color);\n",
              "    }\n",
              "    80% {\n",
              "      border-color: transparent;\n",
              "      border-right-color: var(--fill-color);\n",
              "      border-bottom-color: var(--fill-color);\n",
              "    }\n",
              "    90% {\n",
              "      border-color: transparent;\n",
              "      border-bottom-color: var(--fill-color);\n",
              "    }\n",
              "  }\n",
              "</style>\n",
              "\n",
              "  <script>\n",
              "    async function quickchart(key) {\n",
              "      const quickchartButtonEl =\n",
              "        document.querySelector('#' + key + ' button');\n",
              "      quickchartButtonEl.disabled = true;  // To prevent multiple clicks.\n",
              "      quickchartButtonEl.classList.add('colab-df-spinner');\n",
              "      try {\n",
              "        const charts = await google.colab.kernel.invokeFunction(\n",
              "            'suggestCharts', [key], {});\n",
              "      } catch (error) {\n",
              "        console.error('Error during call to suggestCharts:', error);\n",
              "      }\n",
              "      quickchartButtonEl.classList.remove('colab-df-spinner');\n",
              "      quickchartButtonEl.classList.add('colab-df-quickchart-complete');\n",
              "    }\n",
              "    (() => {\n",
              "      let quickchartButtonEl =\n",
              "        document.querySelector('#df-c59da047-3775-45ad-9c69-b352aea7022f button');\n",
              "      quickchartButtonEl.style.display =\n",
              "        google.colab.kernel.accessAllowed ? 'block' : 'none';\n",
              "    })();\n",
              "  </script>\n",
              "</div>\n",
              "    </div>\n",
              "  </div>\n"
            ],
            "application/vnd.google.colaboratory.intrinsic+json": {
              "type": "dataframe",
              "variable_name": "recipe_df",
              "summary": "{\n  \"name\": \"recipe_df\",\n  \"rows\": 7280,\n  \"fields\": [\n    {\n      \"column\": \"Unnamed: 0\",\n      \"properties\": {\n        \"dtype\": \"number\",\n        \"std\": 2101,\n        \"min\": 0,\n        \"max\": 7279,\n        \"num_unique_values\": 7280,\n        \"samples\": [\n          3688,\n          5444,\n          4477\n        ],\n        \"semantic_type\": \"\",\n        \"description\": \"\"\n      }\n    },\n    {\n      \"column\": \"recipe_id\",\n      \"properties\": {\n        \"dtype\": \"number\",\n        \"std\": 84107,\n        \"min\": 6698,\n        \"max\": 260068,\n        \"num_unique_values\": 7280,\n        \"samples\": [\n          34534,\n          151094,\n          72845\n        ],\n        \"semantic_type\": \"\",\n        \"description\": \"\"\n      }\n    },\n    {\n      \"column\": \"recipe_name\",\n      \"properties\": {\n        \"dtype\": \"string\",\n        \"num_unique_values\": 7280,\n        \"samples\": [\n          \"Marinated Pork Roast with Currant Sauce\",\n          \"Pennsylvania Greek Sauce\",\n          \"Skillet Meatloaf\"\n        ],\n        \"semantic_type\": \"\",\n        \"description\": \"\"\n      }\n    },\n    {\n      \"column\": \"review_nums\",\n      \"properties\": {\n        \"dtype\": \"number\",\n        \"std\": 981,\n        \"min\": 5,\n        \"max\": 21731,\n        \"num_unique_values\": 1224,\n        \"samples\": [\n          216,\n          57,\n          212\n        ],\n        \"semantic_type\": \"\",\n        \"description\": \"\"\n      }\n    },\n    {\n      \"column\": \"category\",\n      \"properties\": {\n        \"dtype\": \"category\",\n        \"num_unique_values\": 3,\n        \"samples\": [\n          \"appetizer\",\n          \"dessert\",\n          \"main-dish\"\n        ],\n        \"semantic_type\": \"\",\n        \"description\": \"\"\n      }\n    },\n    {\n      \"column\": \"aver_rate\",\n      \"properties\": {\n        \"dtype\": \"number\",\n        \"std\": 0.29250532897072534,\n        \"min\": 1.35294115543,\n        \"max\": 5.0,\n        \"num_unique_values\": 4033,\n        \"samples\": [\n          4.44155836105,\n          4.81392240524,\n          4.57204627991\n        ],\n        \"semantic_type\": \"\",\n        \"description\": \"\"\n      }\n    },\n    {\n      \"column\": \"image_url\",\n      \"properties\": {\n        \"dtype\": \"string\",\n        \"num_unique_values\": 7280,\n        \"samples\": [\n          \"https://images.media-allrecipes.com/userphotos/720x405/549979.jpg\",\n          \"https://images.media-allrecipes.com/userphotos/250x250/857749.jpg\",\n          \"https://images.media-allrecipes.com/userphotos/250x250/636031.jpg\"\n        ],\n        \"semantic_type\": \"\",\n        \"description\": \"\"\n      }\n    },\n    {\n      \"column\": \"ingredients\",\n      \"properties\": {\n        \"dtype\": \"string\",\n        \"num_unique_values\": 7278,\n        \"samples\": [\n          \"baking potatoes^extra virgin olive oil^kosher salt to taste^sheets aluminum foil\",\n          \"frozen hash brown potatoes^pre-cooked ham steak diced^shredded sharp Cheddar cheese^onion^condensed cream of chicken soup^sour cream^butter^salt and ground black pepper to taste\",\n          \"thick slices bacon^venison tenderloin roasts^olive oil^onion powder^kosher salt and ground black pepper to taste^butter^sliced cremini mushrooms^garlic^chopped green onion^heavy whipping cream\"\n        ],\n        \"semantic_type\": \"\",\n        \"description\": \"\"\n      }\n    },\n    {\n      \"column\": \"cooking_directions\",\n      \"properties\": {\n        \"dtype\": \"string\",\n        \"num_unique_values\": 7280,\n        \"samples\": [\n          \"{'directions': u'Prep\\\\n4 h\\\\nCook\\\\n3 h\\\\nReady In\\\\n7 h\\\\nPlace roast in re-sealable plastic bag. In a medium mixing bowl, combine 1/2 cup soy sauce, 1/2 cup sherry, garlic, mustard, ginger and thyme. Pour marinade in bag, and seal. Place the bag in a large bowl, and refrigerate for at least 3 hours.\\\\nPreheat oven to 325 degrees F (165 degrees C).\\\\nPlace roast in a medium roasting pan. Roast the pork with marinade uncovered at in preheated oven for 2 1/2 to 3 hours, or until internal temperature reaches 170 degrees F on a meat thermometer . Baste hourly during cooking. Serve with currant sauce.\\\\nTo make currant sauce: In a small saucepan over medium-low heat, slowly melt the currant jelly. Stir in the 2 tablespoons sherry and 1 tablespoon soy sauce.'}\",\n          \"{'directions': u'Prep\\\\n10 m\\\\nCook\\\\n50 m\\\\nReady In\\\\n1 h\\\\nPlace the beef in a large skillet over medium heat. Cook until beef is completely brown; drain. Stir the onions, tomato sauce, water, salt, pepper, oregano, basil, garlic powder, cumin, red pepper flakes, and yellow mustard into the beef. Bring to a boil; lower heat to medium-low and simmer 45 minutes, stirring occasionally.'}\",\n          \"{'directions': u'Prep\\\\n20 m\\\\nCook\\\\n35 m\\\\nReady In\\\\n55 m\\\\nIn a large bowl, mix together 1/4 cup of the tomato soup, ground beef, bread crumbs, egg, onion, salt and pepper using your hands. Shape firmly into two loaves.\\\\nHeat a large deep skillet over medium-high heat. Brown the meatloaves in the hot skillet, then reduce heat to medium and cover with a lid. Simmer for about 25 minutes, or until meat is cooked through.\\\\nSpoon the fat from the skillet, and stir in the remaining soup, water, and mustard. Top with mozzarella cheese, and let simmer uncovered for 10 minutes, stirring sauce occasionally.'}\"\n        ],\n        \"semantic_type\": \"\",\n        \"description\": \"\"\n      }\n    },\n    {\n      \"column\": \"nutritions\",\n      \"properties\": {\n        \"dtype\": \"string\",\n        \"num_unique_values\": 7234,\n        \"samples\": [\n          \"{u'niacin': {u'hasCompleteData': True, u'name': u'Niacin Equivalents', u'amount': 0.3090551, u'percentDailyValue': u'2', u'displayValue': u'< 1', u'unit': u'mg'}, u'sugars': {u'hasCompleteData': True, u'name': u'Sugars', u'amount': 1.862325, u'percentDailyValue': u'0', u'displayValue': u'1.9', u'unit': u'g'}, u'sodium': {u'hasCompleteData': True, u'name': u'Sodium', u'amount': 305.2032, u'percentDailyValue': u'12', u'displayValue': u'305', u'unit': u'mg'}, u'carbohydrates': {u'hasCompleteData': True, u'name': u'Carbohydrates', u'amount': 3.434882, u'percentDailyValue': u'1', u'displayValue': u'3.4', u'unit': u'g'}, u'vitaminB6': {u'hasCompleteData': False, u'name': u'Vitamin B6', u'amount': 0.03440833, u'percentDailyValue': u'2', u'displayValue': u'< 1', u'unit': u'mg'}, u'calories': {u'hasCompleteData': True, u'name': u'Calories', u'amount': 15.01522, u'percentDailyValue': u'< 1', u'displayValue': u'15', u'unit': u'kcal'}, u'thiamin': {u'hasCompleteData': False, u'name': u'Thiamin', u'amount': 0.006623167, u'percentDailyValue': u'< 1', u'displayValue': u'< 1', u'unit': u'mg'}, u'fat': {u'hasCompleteData': True, u'name': u'Fat', u'amount': 0.02407333, u'percentDailyValue': u'< 1', u'displayValue': u'0', u'unit': u'g'}, u'folate': {u'hasCompleteData': False, u'name': u'Folate', u'amount': 2.213833, u'percentDailyValue': u'1', u'displayValue': u'2', u'unit': u'mcg'}, u'caloriesFromFat': {u'hasCompleteData': True, u'name': u'Calories from Fat', u'amount': 0.21666, u'percentDailyValue': u'-', u'displayValue': u'< 1', u'unit': u'kcal'}, u'calcium': {u'hasCompleteData': True, u'name': u'Calcium', u'amount': 6.450967, u'percentDailyValue': u'< 1', u'displayValue': u'6', u'unit': u'mg'}, u'fiber': {u'hasCompleteData': True, u'name': u'Dietary Fiber', u'amount': 0.1613037, u'percentDailyValue': u'< 1', u'displayValue': u'0.2', u'unit': u'g'}, u'magnesium': {u'hasCompleteData': False, u'name': u'Magnesium', u'amount': 3.439617, u'percentDailyValue': u'1', u'displayValue': u'3', u'unit': u'mg'}, u'iron': {u'hasCompleteData': True, u'name': u'Iron', u'amount': 0.2241903, u'percentDailyValue': u'2', u'displayValue': u'< 1', u'unit': u'mg'}, u'cholesterol': {u'hasCompleteData': True, u'name': u'Cholesterol', u'amount': 0.0, u'percentDailyValue': u'0', u'displayValue': u'0', u'unit': u'mg'}, u'protein': {u'hasCompleteData': True, u'name': u'Protein', u'amount': 0.4888484, u'percentDailyValue': u'< 1', u'displayValue': u'0.5', u'unit': u'g'}, u'vitaminA': {u'hasCompleteData': True, u'name': u'Vitamin A - IU', u'amount': 139.1037, u'percentDailyValue': u'3', u'displayValue': u'139', u'unit': u'IU'}, u'potassium': {u'hasCompleteData': True, u'name': u'Potassium', u'amount': 40.28302, u'percentDailyValue': u'1', u'displayValue': u'40', u'unit': u'mg'}, u'saturatedFat': {u'hasCompleteData': True, u'name': u'Saturated Fat', u'amount': 0.002469833, u'percentDailyValue': u'< 1', u'displayValue': u'0', u'unit': u'g'}, u'vitaminC': {u'hasCompleteData': True, u'name': u'Vitamin C', u'amount': 2.500979, u'percentDailyValue': u'4', u'displayValue': u'3', u'unit': u'mg'}}\",\n          \"{u'niacin': {u'hasCompleteData': False, u'name': u'Niacin Equivalents', u'amount': 0.881126, u'percentDailyValue': u'7', u'displayValue': u'< 1', u'unit': u'mg'}, u'sugars': {u'hasCompleteData': True, u'name': u'Sugars', u'amount': 5.779265, u'percentDailyValue': u'0', u'displayValue': u'5.8', u'unit': u'g'}, u'sodium': {u'hasCompleteData': True, u'name': u'Sodium', u'amount': 90.29745, u'percentDailyValue': u'4', u'displayValue': u'90', u'unit': u'mg'}, u'carbohydrates': {u'hasCompleteData': True, u'name': u'Carbohydrates', u'amount': 12.40626, u'percentDailyValue': u'4', u'displayValue': u'12.4', u'unit': u'g'}, u'vitaminB6': {u'hasCompleteData': False, u'name': u'Vitamin B6', u'amount': 0.02828851, u'percentDailyValue': u'2', u'displayValue': u'< 1', u'unit': u'mg'}, u'calories': {u'hasCompleteData': True, u'name': u'Calories', u'amount': 126.3569, u'percentDailyValue': u'6', u'displayValue': u'126', u'unit': u'kcal'}, u'thiamin': {u'hasCompleteData': False, u'name': u'Thiamin', u'amount': 0.07664975, u'percentDailyValue': u'8', u'displayValue': u'< 1', u'unit': u'mg'}, u'fat': {u'hasCompleteData': True, u'name': u'Fat', u'amount': 7.942483, u'percentDailyValue': u'12', u'displayValue': u'7.9', u'unit': u'g'}, u'folate': {u'hasCompleteData': False, u'name': u'Folate', u'amount': 20.20017, u'percentDailyValue': u'11', u'displayValue': u'20', u'unit': u'mcg'}, u'caloriesFromFat': {u'hasCompleteData': True, u'name': u'Calories from Fat', u'amount': 71.48235, u'percentDailyValue': u'-', u'displayValue': u'71', u'unit': u'kcal'}, u'calcium': {u'hasCompleteData': True, u'name': u'Calcium', u'amount': 8.325306, u'percentDailyValue': u'1', u'displayValue': u'8', u'unit': u'mg'}, u'fiber': {u'hasCompleteData': True, u'name': u'Dietary Fiber', u'amount': 0.4559063, u'percentDailyValue': u'2', u'displayValue': u'0.5', u'unit': u'g'}, u'magnesium': {u'hasCompleteData': False, u'name': u'Magnesium', u'amount': 8.019986, u'percentDailyValue': u'3', u'displayValue': u'8', u'unit': u'mg'}, u'iron': {u'hasCompleteData': True, u'name': u'Iron', u'amount': 0.5110566, u'percentDailyValue': u'5', u'displayValue': u'< 1', u'unit': u'mg'}, u'cholesterol': {u'hasCompleteData': True, u'name': u'Cholesterol', u'amount': 30.62728, u'percentDailyValue': u'10', u'displayValue': u'31', u'unit': u'mg'}, u'protein': {u'hasCompleteData': True, u'name': u'Protein', u'amount': 1.940364, u'percentDailyValue': u'4', u'displayValue': u'1.9', u'unit': u'g'}, u'vitaminA': {u'hasCompleteData': True, u'name': u'Vitamin A - IU', u'amount': 178.2547, u'percentDailyValue': u'4', u'displayValue': u'178', u'unit': u'IU'}, u'potassium': {u'hasCompleteData': False, u'name': u'Potassium', u'amount': 32.37421, u'percentDailyValue': u'< 1', u'displayValue': u'32', u'unit': u'mg'}, u'saturatedFat': {u'hasCompleteData': True, u'name': u'Saturated Fat', u'amount': 3.607269, u'percentDailyValue': u'18', u'displayValue': u'3.6', u'unit': u'g'}, u'vitaminC': {u'hasCompleteData': True, u'name': u'Vitamin C', u'amount': 0.04753125, u'percentDailyValue': u'< 1', u'displayValue': u'< 1', u'unit': u'mg'}}\",\n          \"{u'niacin': {u'hasCompleteData': True, u'name': u'Niacin Equivalents', u'amount': 1.100132, u'percentDailyValue': u'8', u'displayValue': u'1', u'unit': u'mg'}, u'sugars': {u'hasCompleteData': True, u'name': u'Sugars', u'amount': 24.72311, u'percentDailyValue': u'0', u'displayValue': u'24.7', u'unit': u'g'}, u'sodium': {u'hasCompleteData': True, u'name': u'Sodium', u'amount': 101.0635, u'percentDailyValue': u'4', u'displayValue': u'101', u'unit': u'mg'}, u'carbohydrates': {u'hasCompleteData': True, u'name': u'Carbohydrates', u'amount': 29.88911, u'percentDailyValue': u'10', u'displayValue': u'29.9', u'unit': u'g'}, u'vitaminB6': {u'hasCompleteData': True, u'name': u'Vitamin B6', u'amount': 0.01601746, u'percentDailyValue': u'1', u'displayValue': u'< 1', u'unit': u'mg'}, u'calories': {u'hasCompleteData': True, u'name': u'Calories', u'amount': 220.2769, u'percentDailyValue': u'11', u'displayValue': u'220', u'unit': u'kcal'}, u'thiamin': {u'hasCompleteData': True, u'name': u'Thiamin', u'amount': 0.03652571, u'percentDailyValue': u'4', u'displayValue': u'< 1', u'unit': u'mg'}, u'fat': {u'hasCompleteData': True, u'name': u'Fat', u'amount': 11.33643, u'percentDailyValue': u'17', u'displayValue': u'11.3', u'unit': u'g'}, u'folate': {u'hasCompleteData': True, u'name': u'Folate', u'amount': 10.78512, u'percentDailyValue': u'6', u'displayValue': u'11', u'unit': u'mcg'}, u'caloriesFromFat': {u'hasCompleteData': True, u'name': u'Calories from Fat', u'amount': 102.0278, u'percentDailyValue': u'-', u'displayValue': u'102', u'unit': u'kcal'}, u'calcium': {u'hasCompleteData': True, u'name': u'Calcium', u'amount': 64.26483, u'percentDailyValue': u'8', u'displayValue': u'64', u'unit': u'mg'}, u'fiber': {u'hasCompleteData': True, u'name': u'Dietary Fiber', u'amount': 1.3392, u'percentDailyValue': u'5', u'displayValue': u'1.3', u'unit': u'g'}, u'magnesium': {u'hasCompleteData': True, u'name': u'Magnesium', u'amount': 30.25875, u'percentDailyValue': u'11', u'displayValue': u'30', u'unit': u'mg'}, u'iron': {u'hasCompleteData': True, u'name': u'Iron', u'amount': 1.035508, u'percentDailyValue': u'10', u'displayValue': u'1', u'unit': u'mg'}, u'cholesterol': {u'hasCompleteData': True, u'name': u'Cholesterol', u'amount': 12.76463, u'percentDailyValue': u'4', u'displayValue': u'13', u'unit': u'mg'}, u'protein': {u'hasCompleteData': True, u'name': u'Protein', u'amount': 2.919809, u'percentDailyValue': u'6', u'displayValue': u'2.9', u'unit': u'g'}, u'vitaminA': {u'hasCompleteData': True, u'name': u'Vitamin A - IU', u'amount': 123.4811, u'percentDailyValue': u'2', u'displayValue': u'123', u'unit': u'IU'}, u'potassium': {u'hasCompleteData': True, u'name': u'Potassium', u'amount': 157.4777, u'percentDailyValue': u'4', u'displayValue': u'157', u'unit': u'mg'}, u'saturatedFat': {u'hasCompleteData': True, u'name': u'Saturated Fat', u'amount': 5.956445, u'percentDailyValue': u'30', u'displayValue': u'6', u'unit': u'g'}, u'vitaminC': {u'hasCompleteData': True, u'name': u'Vitamin C', u'amount': 0.5096, u'percentDailyValue': u'< 1', u'displayValue': u'< 1', u'unit': u'mg'}}\"\n        ],\n        \"semantic_type\": \"\",\n        \"description\": \"\"\n      }\n    },\n    {\n      \"column\": \"tags\",\n      \"properties\": {\n        \"dtype\": \"string\",\n        \"num_unique_values\": 6840,\n        \"samples\": [\n          \"60-minutes-or-less;appetizers;lunch;snacks;poultry;easy;holiday-event;kid-friendly;chicken;dietary;meat;wings;superbowl;mardi-gras-carnival;3-steps-or-less\",\n          \"60-minutes-or-less;north-american;main-dish;pasta;pork;poultry;american;southern-united-states;chicken;creole;dietary;meat;pork-sausage;chicken-breasts;pasta-rice-and-grains\",\n          \"60-minutes-or-less;healthy;5-ingredients-or-less;sauces;main-dish;condiments-etc;poultry;vegetables;oven;easy;dinner-party;holiday-event;low-fat;chicken;dietary;new-years;gluten-free;low-saturated-fat;low-calorie;low-carb;valentines-day;free-of-something;low-in-something;meat;equipment\"\n        ],\n        \"semantic_type\": \"\",\n        \"description\": \"\"\n      }\n    }\n  ]\n}"
            }
          },
          "metadata": {},
          "execution_count": 127
        }
      ]
    },
    {
      "cell_type": "code",
      "source": [
        "user_meal_df = pd.read_csv('user_meal.csv')\n",
        "user_meal_df.head(2)"
      ],
      "metadata": {
        "colab": {
          "base_uri": "https://localhost:8080/",
          "height": 112
        },
        "id": "zCrczF_cDxzt",
        "outputId": "27a34cce-b523-45fe-8c44-77b27f696408"
      },
      "execution_count": 128,
      "outputs": [
        {
          "output_type": "execute_result",
          "data": {
            "text/plain": [
              "   meal_id  user_id\n",
              "0       26       39\n",
              "1       37       39"
            ],
            "text/html": [
              "\n",
              "  <div id=\"df-50b0cadd-fecc-4212-9064-84bd6f91c4bc\" class=\"colab-df-container\">\n",
              "    <div>\n",
              "<style scoped>\n",
              "    .dataframe tbody tr th:only-of-type {\n",
              "        vertical-align: middle;\n",
              "    }\n",
              "\n",
              "    .dataframe tbody tr th {\n",
              "        vertical-align: top;\n",
              "    }\n",
              "\n",
              "    .dataframe thead th {\n",
              "        text-align: right;\n",
              "    }\n",
              "</style>\n",
              "<table border=\"1\" class=\"dataframe\">\n",
              "  <thead>\n",
              "    <tr style=\"text-align: right;\">\n",
              "      <th></th>\n",
              "      <th>meal_id</th>\n",
              "      <th>user_id</th>\n",
              "    </tr>\n",
              "  </thead>\n",
              "  <tbody>\n",
              "    <tr>\n",
              "      <th>0</th>\n",
              "      <td>26</td>\n",
              "      <td>39</td>\n",
              "    </tr>\n",
              "    <tr>\n",
              "      <th>1</th>\n",
              "      <td>37</td>\n",
              "      <td>39</td>\n",
              "    </tr>\n",
              "  </tbody>\n",
              "</table>\n",
              "</div>\n",
              "    <div class=\"colab-df-buttons\">\n",
              "\n",
              "  <div class=\"colab-df-container\">\n",
              "    <button class=\"colab-df-convert\" onclick=\"convertToInteractive('df-50b0cadd-fecc-4212-9064-84bd6f91c4bc')\"\n",
              "            title=\"Convert this dataframe to an interactive table.\"\n",
              "            style=\"display:none;\">\n",
              "\n",
              "  <svg xmlns=\"http://www.w3.org/2000/svg\" height=\"24px\" viewBox=\"0 -960 960 960\">\n",
              "    <path d=\"M120-120v-720h720v720H120Zm60-500h600v-160H180v160Zm220 220h160v-160H400v160Zm0 220h160v-160H400v160ZM180-400h160v-160H180v160Zm440 0h160v-160H620v160ZM180-180h160v-160H180v160Zm440 0h160v-160H620v160Z\"/>\n",
              "  </svg>\n",
              "    </button>\n",
              "\n",
              "  <style>\n",
              "    .colab-df-container {\n",
              "      display:flex;\n",
              "      gap: 12px;\n",
              "    }\n",
              "\n",
              "    .colab-df-convert {\n",
              "      background-color: #E8F0FE;\n",
              "      border: none;\n",
              "      border-radius: 50%;\n",
              "      cursor: pointer;\n",
              "      display: none;\n",
              "      fill: #1967D2;\n",
              "      height: 32px;\n",
              "      padding: 0 0 0 0;\n",
              "      width: 32px;\n",
              "    }\n",
              "\n",
              "    .colab-df-convert:hover {\n",
              "      background-color: #E2EBFA;\n",
              "      box-shadow: 0px 1px 2px rgba(60, 64, 67, 0.3), 0px 1px 3px 1px rgba(60, 64, 67, 0.15);\n",
              "      fill: #174EA6;\n",
              "    }\n",
              "\n",
              "    .colab-df-buttons div {\n",
              "      margin-bottom: 4px;\n",
              "    }\n",
              "\n",
              "    [theme=dark] .colab-df-convert {\n",
              "      background-color: #3B4455;\n",
              "      fill: #D2E3FC;\n",
              "    }\n",
              "\n",
              "    [theme=dark] .colab-df-convert:hover {\n",
              "      background-color: #434B5C;\n",
              "      box-shadow: 0px 1px 3px 1px rgba(0, 0, 0, 0.15);\n",
              "      filter: drop-shadow(0px 1px 2px rgba(0, 0, 0, 0.3));\n",
              "      fill: #FFFFFF;\n",
              "    }\n",
              "  </style>\n",
              "\n",
              "    <script>\n",
              "      const buttonEl =\n",
              "        document.querySelector('#df-50b0cadd-fecc-4212-9064-84bd6f91c4bc button.colab-df-convert');\n",
              "      buttonEl.style.display =\n",
              "        google.colab.kernel.accessAllowed ? 'block' : 'none';\n",
              "\n",
              "      async function convertToInteractive(key) {\n",
              "        const element = document.querySelector('#df-50b0cadd-fecc-4212-9064-84bd6f91c4bc');\n",
              "        const dataTable =\n",
              "          await google.colab.kernel.invokeFunction('convertToInteractive',\n",
              "                                                    [key], {});\n",
              "        if (!dataTable) return;\n",
              "\n",
              "        const docLinkHtml = 'Like what you see? Visit the ' +\n",
              "          '<a target=\"_blank\" href=https://colab.research.google.com/notebooks/data_table.ipynb>data table notebook</a>'\n",
              "          + ' to learn more about interactive tables.';\n",
              "        element.innerHTML = '';\n",
              "        dataTable['output_type'] = 'display_data';\n",
              "        await google.colab.output.renderOutput(dataTable, element);\n",
              "        const docLink = document.createElement('div');\n",
              "        docLink.innerHTML = docLinkHtml;\n",
              "        element.appendChild(docLink);\n",
              "      }\n",
              "    </script>\n",
              "  </div>\n",
              "\n",
              "\n",
              "<div id=\"df-ba5a156a-f4a7-48b8-a07d-03a330183df5\">\n",
              "  <button class=\"colab-df-quickchart\" onclick=\"quickchart('df-ba5a156a-f4a7-48b8-a07d-03a330183df5')\"\n",
              "            title=\"Suggest charts\"\n",
              "            style=\"display:none;\">\n",
              "\n",
              "<svg xmlns=\"http://www.w3.org/2000/svg\" height=\"24px\"viewBox=\"0 0 24 24\"\n",
              "     width=\"24px\">\n",
              "    <g>\n",
              "        <path d=\"M19 3H5c-1.1 0-2 .9-2 2v14c0 1.1.9 2 2 2h14c1.1 0 2-.9 2-2V5c0-1.1-.9-2-2-2zM9 17H7v-7h2v7zm4 0h-2V7h2v10zm4 0h-2v-4h2v4z\"/>\n",
              "    </g>\n",
              "</svg>\n",
              "  </button>\n",
              "\n",
              "<style>\n",
              "  .colab-df-quickchart {\n",
              "      --bg-color: #E8F0FE;\n",
              "      --fill-color: #1967D2;\n",
              "      --hover-bg-color: #E2EBFA;\n",
              "      --hover-fill-color: #174EA6;\n",
              "      --disabled-fill-color: #AAA;\n",
              "      --disabled-bg-color: #DDD;\n",
              "  }\n",
              "\n",
              "  [theme=dark] .colab-df-quickchart {\n",
              "      --bg-color: #3B4455;\n",
              "      --fill-color: #D2E3FC;\n",
              "      --hover-bg-color: #434B5C;\n",
              "      --hover-fill-color: #FFFFFF;\n",
              "      --disabled-bg-color: #3B4455;\n",
              "      --disabled-fill-color: #666;\n",
              "  }\n",
              "\n",
              "  .colab-df-quickchart {\n",
              "    background-color: var(--bg-color);\n",
              "    border: none;\n",
              "    border-radius: 50%;\n",
              "    cursor: pointer;\n",
              "    display: none;\n",
              "    fill: var(--fill-color);\n",
              "    height: 32px;\n",
              "    padding: 0;\n",
              "    width: 32px;\n",
              "  }\n",
              "\n",
              "  .colab-df-quickchart:hover {\n",
              "    background-color: var(--hover-bg-color);\n",
              "    box-shadow: 0 1px 2px rgba(60, 64, 67, 0.3), 0 1px 3px 1px rgba(60, 64, 67, 0.15);\n",
              "    fill: var(--button-hover-fill-color);\n",
              "  }\n",
              "\n",
              "  .colab-df-quickchart-complete:disabled,\n",
              "  .colab-df-quickchart-complete:disabled:hover {\n",
              "    background-color: var(--disabled-bg-color);\n",
              "    fill: var(--disabled-fill-color);\n",
              "    box-shadow: none;\n",
              "  }\n",
              "\n",
              "  .colab-df-spinner {\n",
              "    border: 2px solid var(--fill-color);\n",
              "    border-color: transparent;\n",
              "    border-bottom-color: var(--fill-color);\n",
              "    animation:\n",
              "      spin 1s steps(1) infinite;\n",
              "  }\n",
              "\n",
              "  @keyframes spin {\n",
              "    0% {\n",
              "      border-color: transparent;\n",
              "      border-bottom-color: var(--fill-color);\n",
              "      border-left-color: var(--fill-color);\n",
              "    }\n",
              "    20% {\n",
              "      border-color: transparent;\n",
              "      border-left-color: var(--fill-color);\n",
              "      border-top-color: var(--fill-color);\n",
              "    }\n",
              "    30% {\n",
              "      border-color: transparent;\n",
              "      border-left-color: var(--fill-color);\n",
              "      border-top-color: var(--fill-color);\n",
              "      border-right-color: var(--fill-color);\n",
              "    }\n",
              "    40% {\n",
              "      border-color: transparent;\n",
              "      border-right-color: var(--fill-color);\n",
              "      border-top-color: var(--fill-color);\n",
              "    }\n",
              "    60% {\n",
              "      border-color: transparent;\n",
              "      border-right-color: var(--fill-color);\n",
              "    }\n",
              "    80% {\n",
              "      border-color: transparent;\n",
              "      border-right-color: var(--fill-color);\n",
              "      border-bottom-color: var(--fill-color);\n",
              "    }\n",
              "    90% {\n",
              "      border-color: transparent;\n",
              "      border-bottom-color: var(--fill-color);\n",
              "    }\n",
              "  }\n",
              "</style>\n",
              "\n",
              "  <script>\n",
              "    async function quickchart(key) {\n",
              "      const quickchartButtonEl =\n",
              "        document.querySelector('#' + key + ' button');\n",
              "      quickchartButtonEl.disabled = true;  // To prevent multiple clicks.\n",
              "      quickchartButtonEl.classList.add('colab-df-spinner');\n",
              "      try {\n",
              "        const charts = await google.colab.kernel.invokeFunction(\n",
              "            'suggestCharts', [key], {});\n",
              "      } catch (error) {\n",
              "        console.error('Error during call to suggestCharts:', error);\n",
              "      }\n",
              "      quickchartButtonEl.classList.remove('colab-df-spinner');\n",
              "      quickchartButtonEl.classList.add('colab-df-quickchart-complete');\n",
              "    }\n",
              "    (() => {\n",
              "      let quickchartButtonEl =\n",
              "        document.querySelector('#df-ba5a156a-f4a7-48b8-a07d-03a330183df5 button');\n",
              "      quickchartButtonEl.style.display =\n",
              "        google.colab.kernel.accessAllowed ? 'block' : 'none';\n",
              "    })();\n",
              "  </script>\n",
              "</div>\n",
              "    </div>\n",
              "  </div>\n"
            ],
            "application/vnd.google.colaboratory.intrinsic+json": {
              "type": "dataframe",
              "variable_name": "user_meal_df",
              "summary": "{\n  \"name\": \"user_meal_df\",\n  \"rows\": 46767,\n  \"fields\": [\n    {\n      \"column\": \"meal_id\",\n      \"properties\": {\n        \"dtype\": \"number\",\n        \"std\": 38037,\n        \"min\": 26,\n        \"max\": 132265,\n        \"num_unique_values\": 3817,\n        \"samples\": [\n          81395,\n          94896,\n          55762\n        ],\n        \"semantic_type\": \"\",\n        \"description\": \"\"\n      }\n    },\n    {\n      \"column\": \"user_id\",\n      \"properties\": {\n        \"dtype\": \"number\",\n        \"std\": 2302040,\n        \"min\": 39,\n        \"max\": 21907115,\n        \"num_unique_values\": 1575,\n        \"samples\": [\n          167463,\n          2441857,\n          7332659\n        ],\n        \"semantic_type\": \"\",\n        \"description\": \"\"\n      }\n    }\n  ]\n}"
            }
          },
          "metadata": {},
          "execution_count": 128
        }
      ]
    },
    {
      "cell_type": "code",
      "source": [
        "meal_df = pd.read_csv('meal.csv')\n",
        "meal_df.head(2)"
      ],
      "metadata": {
        "colab": {
          "base_uri": "https://localhost:8080/",
          "height": 112
        },
        "id": "NaskwREfB4bF",
        "outputId": "fda476c6-03fa-4dcc-8d16-0cdb20ef34e1"
      },
      "execution_count": 129,
      "outputs": [
        {
          "output_type": "execute_result",
          "data": {
            "text/plain": [
              "   bundle_id  appetizer  main_dish  dessert\n",
              "0        242       8626       8652    17652\n",
              "1        885      15034      25272    24843"
            ],
            "text/html": [
              "\n",
              "  <div id=\"df-ab88ac63-f5ae-4a96-8725-87e890a314fa\" class=\"colab-df-container\">\n",
              "    <div>\n",
              "<style scoped>\n",
              "    .dataframe tbody tr th:only-of-type {\n",
              "        vertical-align: middle;\n",
              "    }\n",
              "\n",
              "    .dataframe tbody tr th {\n",
              "        vertical-align: top;\n",
              "    }\n",
              "\n",
              "    .dataframe thead th {\n",
              "        text-align: right;\n",
              "    }\n",
              "</style>\n",
              "<table border=\"1\" class=\"dataframe\">\n",
              "  <thead>\n",
              "    <tr style=\"text-align: right;\">\n",
              "      <th></th>\n",
              "      <th>bundle_id</th>\n",
              "      <th>appetizer</th>\n",
              "      <th>main_dish</th>\n",
              "      <th>dessert</th>\n",
              "    </tr>\n",
              "  </thead>\n",
              "  <tbody>\n",
              "    <tr>\n",
              "      <th>0</th>\n",
              "      <td>242</td>\n",
              "      <td>8626</td>\n",
              "      <td>8652</td>\n",
              "      <td>17652</td>\n",
              "    </tr>\n",
              "    <tr>\n",
              "      <th>1</th>\n",
              "      <td>885</td>\n",
              "      <td>15034</td>\n",
              "      <td>25272</td>\n",
              "      <td>24843</td>\n",
              "    </tr>\n",
              "  </tbody>\n",
              "</table>\n",
              "</div>\n",
              "    <div class=\"colab-df-buttons\">\n",
              "\n",
              "  <div class=\"colab-df-container\">\n",
              "    <button class=\"colab-df-convert\" onclick=\"convertToInteractive('df-ab88ac63-f5ae-4a96-8725-87e890a314fa')\"\n",
              "            title=\"Convert this dataframe to an interactive table.\"\n",
              "            style=\"display:none;\">\n",
              "\n",
              "  <svg xmlns=\"http://www.w3.org/2000/svg\" height=\"24px\" viewBox=\"0 -960 960 960\">\n",
              "    <path d=\"M120-120v-720h720v720H120Zm60-500h600v-160H180v160Zm220 220h160v-160H400v160Zm0 220h160v-160H400v160ZM180-400h160v-160H180v160Zm440 0h160v-160H620v160ZM180-180h160v-160H180v160Zm440 0h160v-160H620v160Z\"/>\n",
              "  </svg>\n",
              "    </button>\n",
              "\n",
              "  <style>\n",
              "    .colab-df-container {\n",
              "      display:flex;\n",
              "      gap: 12px;\n",
              "    }\n",
              "\n",
              "    .colab-df-convert {\n",
              "      background-color: #E8F0FE;\n",
              "      border: none;\n",
              "      border-radius: 50%;\n",
              "      cursor: pointer;\n",
              "      display: none;\n",
              "      fill: #1967D2;\n",
              "      height: 32px;\n",
              "      padding: 0 0 0 0;\n",
              "      width: 32px;\n",
              "    }\n",
              "\n",
              "    .colab-df-convert:hover {\n",
              "      background-color: #E2EBFA;\n",
              "      box-shadow: 0px 1px 2px rgba(60, 64, 67, 0.3), 0px 1px 3px 1px rgba(60, 64, 67, 0.15);\n",
              "      fill: #174EA6;\n",
              "    }\n",
              "\n",
              "    .colab-df-buttons div {\n",
              "      margin-bottom: 4px;\n",
              "    }\n",
              "\n",
              "    [theme=dark] .colab-df-convert {\n",
              "      background-color: #3B4455;\n",
              "      fill: #D2E3FC;\n",
              "    }\n",
              "\n",
              "    [theme=dark] .colab-df-convert:hover {\n",
              "      background-color: #434B5C;\n",
              "      box-shadow: 0px 1px 3px 1px rgba(0, 0, 0, 0.15);\n",
              "      filter: drop-shadow(0px 1px 2px rgba(0, 0, 0, 0.3));\n",
              "      fill: #FFFFFF;\n",
              "    }\n",
              "  </style>\n",
              "\n",
              "    <script>\n",
              "      const buttonEl =\n",
              "        document.querySelector('#df-ab88ac63-f5ae-4a96-8725-87e890a314fa button.colab-df-convert');\n",
              "      buttonEl.style.display =\n",
              "        google.colab.kernel.accessAllowed ? 'block' : 'none';\n",
              "\n",
              "      async function convertToInteractive(key) {\n",
              "        const element = document.querySelector('#df-ab88ac63-f5ae-4a96-8725-87e890a314fa');\n",
              "        const dataTable =\n",
              "          await google.colab.kernel.invokeFunction('convertToInteractive',\n",
              "                                                    [key], {});\n",
              "        if (!dataTable) return;\n",
              "\n",
              "        const docLinkHtml = 'Like what you see? Visit the ' +\n",
              "          '<a target=\"_blank\" href=https://colab.research.google.com/notebooks/data_table.ipynb>data table notebook</a>'\n",
              "          + ' to learn more about interactive tables.';\n",
              "        element.innerHTML = '';\n",
              "        dataTable['output_type'] = 'display_data';\n",
              "        await google.colab.output.renderOutput(dataTable, element);\n",
              "        const docLink = document.createElement('div');\n",
              "        docLink.innerHTML = docLinkHtml;\n",
              "        element.appendChild(docLink);\n",
              "      }\n",
              "    </script>\n",
              "  </div>\n",
              "\n",
              "\n",
              "<div id=\"df-a4588b01-f34b-465f-9250-659a18f15ef9\">\n",
              "  <button class=\"colab-df-quickchart\" onclick=\"quickchart('df-a4588b01-f34b-465f-9250-659a18f15ef9')\"\n",
              "            title=\"Suggest charts\"\n",
              "            style=\"display:none;\">\n",
              "\n",
              "<svg xmlns=\"http://www.w3.org/2000/svg\" height=\"24px\"viewBox=\"0 0 24 24\"\n",
              "     width=\"24px\">\n",
              "    <g>\n",
              "        <path d=\"M19 3H5c-1.1 0-2 .9-2 2v14c0 1.1.9 2 2 2h14c1.1 0 2-.9 2-2V5c0-1.1-.9-2-2-2zM9 17H7v-7h2v7zm4 0h-2V7h2v10zm4 0h-2v-4h2v4z\"/>\n",
              "    </g>\n",
              "</svg>\n",
              "  </button>\n",
              "\n",
              "<style>\n",
              "  .colab-df-quickchart {\n",
              "      --bg-color: #E8F0FE;\n",
              "      --fill-color: #1967D2;\n",
              "      --hover-bg-color: #E2EBFA;\n",
              "      --hover-fill-color: #174EA6;\n",
              "      --disabled-fill-color: #AAA;\n",
              "      --disabled-bg-color: #DDD;\n",
              "  }\n",
              "\n",
              "  [theme=dark] .colab-df-quickchart {\n",
              "      --bg-color: #3B4455;\n",
              "      --fill-color: #D2E3FC;\n",
              "      --hover-bg-color: #434B5C;\n",
              "      --hover-fill-color: #FFFFFF;\n",
              "      --disabled-bg-color: #3B4455;\n",
              "      --disabled-fill-color: #666;\n",
              "  }\n",
              "\n",
              "  .colab-df-quickchart {\n",
              "    background-color: var(--bg-color);\n",
              "    border: none;\n",
              "    border-radius: 50%;\n",
              "    cursor: pointer;\n",
              "    display: none;\n",
              "    fill: var(--fill-color);\n",
              "    height: 32px;\n",
              "    padding: 0;\n",
              "    width: 32px;\n",
              "  }\n",
              "\n",
              "  .colab-df-quickchart:hover {\n",
              "    background-color: var(--hover-bg-color);\n",
              "    box-shadow: 0 1px 2px rgba(60, 64, 67, 0.3), 0 1px 3px 1px rgba(60, 64, 67, 0.15);\n",
              "    fill: var(--button-hover-fill-color);\n",
              "  }\n",
              "\n",
              "  .colab-df-quickchart-complete:disabled,\n",
              "  .colab-df-quickchart-complete:disabled:hover {\n",
              "    background-color: var(--disabled-bg-color);\n",
              "    fill: var(--disabled-fill-color);\n",
              "    box-shadow: none;\n",
              "  }\n",
              "\n",
              "  .colab-df-spinner {\n",
              "    border: 2px solid var(--fill-color);\n",
              "    border-color: transparent;\n",
              "    border-bottom-color: var(--fill-color);\n",
              "    animation:\n",
              "      spin 1s steps(1) infinite;\n",
              "  }\n",
              "\n",
              "  @keyframes spin {\n",
              "    0% {\n",
              "      border-color: transparent;\n",
              "      border-bottom-color: var(--fill-color);\n",
              "      border-left-color: var(--fill-color);\n",
              "    }\n",
              "    20% {\n",
              "      border-color: transparent;\n",
              "      border-left-color: var(--fill-color);\n",
              "      border-top-color: var(--fill-color);\n",
              "    }\n",
              "    30% {\n",
              "      border-color: transparent;\n",
              "      border-left-color: var(--fill-color);\n",
              "      border-top-color: var(--fill-color);\n",
              "      border-right-color: var(--fill-color);\n",
              "    }\n",
              "    40% {\n",
              "      border-color: transparent;\n",
              "      border-right-color: var(--fill-color);\n",
              "      border-top-color: var(--fill-color);\n",
              "    }\n",
              "    60% {\n",
              "      border-color: transparent;\n",
              "      border-right-color: var(--fill-color);\n",
              "    }\n",
              "    80% {\n",
              "      border-color: transparent;\n",
              "      border-right-color: var(--fill-color);\n",
              "      border-bottom-color: var(--fill-color);\n",
              "    }\n",
              "    90% {\n",
              "      border-color: transparent;\n",
              "      border-bottom-color: var(--fill-color);\n",
              "    }\n",
              "  }\n",
              "</style>\n",
              "\n",
              "  <script>\n",
              "    async function quickchart(key) {\n",
              "      const quickchartButtonEl =\n",
              "        document.querySelector('#' + key + ' button');\n",
              "      quickchartButtonEl.disabled = true;  // To prevent multiple clicks.\n",
              "      quickchartButtonEl.classList.add('colab-df-spinner');\n",
              "      try {\n",
              "        const charts = await google.colab.kernel.invokeFunction(\n",
              "            'suggestCharts', [key], {});\n",
              "      } catch (error) {\n",
              "        console.error('Error during call to suggestCharts:', error);\n",
              "      }\n",
              "      quickchartButtonEl.classList.remove('colab-df-spinner');\n",
              "      quickchartButtonEl.classList.add('colab-df-quickchart-complete');\n",
              "    }\n",
              "    (() => {\n",
              "      let quickchartButtonEl =\n",
              "        document.querySelector('#df-a4588b01-f34b-465f-9250-659a18f15ef9 button');\n",
              "      quickchartButtonEl.style.display =\n",
              "        google.colab.kernel.accessAllowed ? 'block' : 'none';\n",
              "    })();\n",
              "  </script>\n",
              "</div>\n",
              "    </div>\n",
              "  </div>\n"
            ],
            "application/vnd.google.colaboratory.intrinsic+json": {
              "type": "dataframe",
              "variable_name": "meal_df",
              "summary": "{\n  \"name\": \"meal_df\",\n  \"rows\": 3817,\n  \"fields\": [\n    {\n      \"column\": \"bundle_id\",\n      \"properties\": {\n        \"dtype\": \"number\",\n        \"std\": 37971,\n        \"min\": 26,\n        \"max\": 132265,\n        \"num_unique_values\": 3817,\n        \"samples\": [\n          48710,\n          50451,\n          85330\n        ],\n        \"semantic_type\": \"\",\n        \"description\": \"\"\n      }\n    },\n    {\n      \"column\": \"appetizer\",\n      \"properties\": {\n        \"dtype\": \"number\",\n        \"std\": 32633,\n        \"min\": 6698,\n        \"max\": 239059,\n        \"num_unique_values\": 296,\n        \"samples\": [\n          20859,\n          14943,\n          52047\n        ],\n        \"semantic_type\": \"\",\n        \"description\": \"\"\n      }\n    },\n    {\n      \"column\": \"main_dish\",\n      \"properties\": {\n        \"dtype\": \"number\",\n        \"std\": 30947,\n        \"min\": 6776,\n        \"max\": 223042,\n        \"num_unique_values\": 383,\n        \"samples\": [\n          132127,\n          17515,\n          52501\n        ],\n        \"semantic_type\": \"\",\n        \"description\": \"\"\n      }\n    },\n    {\n      \"column\": \"dessert\",\n      \"properties\": {\n        \"dtype\": \"number\",\n        \"std\": 19931,\n        \"min\": 6788,\n        \"max\": 231532,\n        \"num_unique_values\": 263,\n        \"samples\": [\n          15295,\n          13566,\n          21130\n        ],\n        \"semantic_type\": \"\",\n        \"description\": \"\"\n      }\n    }\n  ]\n}"
            }
          },
          "metadata": {},
          "execution_count": 129
        }
      ]
    },
    {
      "cell_type": "code",
      "source": [
        "# merging user_recipe and recipe df\n",
        "user_recipe_merged_df = user_recipe_df.merge(recipe_df, on='recipe_id')\n",
        "user_recipe_merged_df.head(4)"
      ],
      "metadata": {
        "id": "Xl9DmHvuD8fC",
        "colab": {
          "base_uri": "https://localhost:8080/",
          "height": 420
        },
        "outputId": "b2b80fe1-1263-4de1-8715-405cb5aa23de"
      },
      "execution_count": 130,
      "outputs": [
        {
          "output_type": "execute_result",
          "data": {
            "text/plain": [
              "   user_id  recipe_id  rating           dateLastModified  Unnamed: 0  \\\n",
              "0       39      61727       4  2001-03-26T07:36:16.653\\n        4262   \n",
              "1     8799      61727       5  2004-09-21T06:23:16.427\\n        4262   \n",
              "2    35974      61727       5  2003-04-19T07:31:14.357\\n        4262   \n",
              "3    89295      61727       5  2011-09-01T17:50:36.427\\n        4262   \n",
              "\n",
              "                  recipe_name  review_nums   category  aver_rate  \\\n",
              "0  Ten Minute Enchilada Sauce         2443  main-dish   4.439774   \n",
              "1  Ten Minute Enchilada Sauce         2443  main-dish   4.439774   \n",
              "2  Ten Minute Enchilada Sauce         2443  main-dish   4.439774   \n",
              "3  Ten Minute Enchilada Sauce         2443  main-dish   4.439774   \n",
              "\n",
              "                                           image_url  \\\n",
              "0  https://images.media-allrecipes.com/userphotos...   \n",
              "1  https://images.media-allrecipes.com/userphotos...   \n",
              "2  https://images.media-allrecipes.com/userphotos...   \n",
              "3  https://images.media-allrecipes.com/userphotos...   \n",
              "\n",
              "                                         ingredients  \\\n",
              "0  vegetable oil^self-rising flour^New Mexico^tom...   \n",
              "1  vegetable oil^self-rising flour^New Mexico^tom...   \n",
              "2  vegetable oil^self-rising flour^New Mexico^tom...   \n",
              "3  vegetable oil^self-rising flour^New Mexico^tom...   \n",
              "\n",
              "                                  cooking_directions  \\\n",
              "0  {'directions': u'Prep\\n10 m\\nCook\\n15 m\\nReady...   \n",
              "1  {'directions': u'Prep\\n10 m\\nCook\\n15 m\\nReady...   \n",
              "2  {'directions': u'Prep\\n10 m\\nCook\\n15 m\\nReady...   \n",
              "3  {'directions': u'Prep\\n10 m\\nCook\\n15 m\\nReady...   \n",
              "\n",
              "                                          nutritions  \\\n",
              "0  {u'niacin': {u'hasCompleteData': True, u'name'...   \n",
              "1  {u'niacin': {u'hasCompleteData': True, u'name'...   \n",
              "2  {u'niacin': {u'hasCompleteData': True, u'name'...   \n",
              "3  {u'niacin': {u'hasCompleteData': True, u'name'...   \n",
              "\n",
              "                                                tags  \n",
              "0  15-minutes-or-less;north-american;sauces;condi...  \n",
              "1  15-minutes-or-less;north-american;sauces;condi...  \n",
              "2  15-minutes-or-less;north-american;sauces;condi...  \n",
              "3  15-minutes-or-less;north-american;sauces;condi...  "
            ],
            "text/html": [
              "\n",
              "  <div id=\"df-68624390-dbc6-4f17-8199-7514d4ec9bb0\" class=\"colab-df-container\">\n",
              "    <div>\n",
              "<style scoped>\n",
              "    .dataframe tbody tr th:only-of-type {\n",
              "        vertical-align: middle;\n",
              "    }\n",
              "\n",
              "    .dataframe tbody tr th {\n",
              "        vertical-align: top;\n",
              "    }\n",
              "\n",
              "    .dataframe thead th {\n",
              "        text-align: right;\n",
              "    }\n",
              "</style>\n",
              "<table border=\"1\" class=\"dataframe\">\n",
              "  <thead>\n",
              "    <tr style=\"text-align: right;\">\n",
              "      <th></th>\n",
              "      <th>user_id</th>\n",
              "      <th>recipe_id</th>\n",
              "      <th>rating</th>\n",
              "      <th>dateLastModified</th>\n",
              "      <th>Unnamed: 0</th>\n",
              "      <th>recipe_name</th>\n",
              "      <th>review_nums</th>\n",
              "      <th>category</th>\n",
              "      <th>aver_rate</th>\n",
              "      <th>image_url</th>\n",
              "      <th>ingredients</th>\n",
              "      <th>cooking_directions</th>\n",
              "      <th>nutritions</th>\n",
              "      <th>tags</th>\n",
              "    </tr>\n",
              "  </thead>\n",
              "  <tbody>\n",
              "    <tr>\n",
              "      <th>0</th>\n",
              "      <td>39</td>\n",
              "      <td>61727</td>\n",
              "      <td>4</td>\n",
              "      <td>2001-03-26T07:36:16.653\\n</td>\n",
              "      <td>4262</td>\n",
              "      <td>Ten Minute Enchilada Sauce</td>\n",
              "      <td>2443</td>\n",
              "      <td>main-dish</td>\n",
              "      <td>4.439774</td>\n",
              "      <td>https://images.media-allrecipes.com/userphotos...</td>\n",
              "      <td>vegetable oil^self-rising flour^New Mexico^tom...</td>\n",
              "      <td>{'directions': u'Prep\\n10 m\\nCook\\n15 m\\nReady...</td>\n",
              "      <td>{u'niacin': {u'hasCompleteData': True, u'name'...</td>\n",
              "      <td>15-minutes-or-less;north-american;sauces;condi...</td>\n",
              "    </tr>\n",
              "    <tr>\n",
              "      <th>1</th>\n",
              "      <td>8799</td>\n",
              "      <td>61727</td>\n",
              "      <td>5</td>\n",
              "      <td>2004-09-21T06:23:16.427\\n</td>\n",
              "      <td>4262</td>\n",
              "      <td>Ten Minute Enchilada Sauce</td>\n",
              "      <td>2443</td>\n",
              "      <td>main-dish</td>\n",
              "      <td>4.439774</td>\n",
              "      <td>https://images.media-allrecipes.com/userphotos...</td>\n",
              "      <td>vegetable oil^self-rising flour^New Mexico^tom...</td>\n",
              "      <td>{'directions': u'Prep\\n10 m\\nCook\\n15 m\\nReady...</td>\n",
              "      <td>{u'niacin': {u'hasCompleteData': True, u'name'...</td>\n",
              "      <td>15-minutes-or-less;north-american;sauces;condi...</td>\n",
              "    </tr>\n",
              "    <tr>\n",
              "      <th>2</th>\n",
              "      <td>35974</td>\n",
              "      <td>61727</td>\n",
              "      <td>5</td>\n",
              "      <td>2003-04-19T07:31:14.357\\n</td>\n",
              "      <td>4262</td>\n",
              "      <td>Ten Minute Enchilada Sauce</td>\n",
              "      <td>2443</td>\n",
              "      <td>main-dish</td>\n",
              "      <td>4.439774</td>\n",
              "      <td>https://images.media-allrecipes.com/userphotos...</td>\n",
              "      <td>vegetable oil^self-rising flour^New Mexico^tom...</td>\n",
              "      <td>{'directions': u'Prep\\n10 m\\nCook\\n15 m\\nReady...</td>\n",
              "      <td>{u'niacin': {u'hasCompleteData': True, u'name'...</td>\n",
              "      <td>15-minutes-or-less;north-american;sauces;condi...</td>\n",
              "    </tr>\n",
              "    <tr>\n",
              "      <th>3</th>\n",
              "      <td>89295</td>\n",
              "      <td>61727</td>\n",
              "      <td>5</td>\n",
              "      <td>2011-09-01T17:50:36.427\\n</td>\n",
              "      <td>4262</td>\n",
              "      <td>Ten Minute Enchilada Sauce</td>\n",
              "      <td>2443</td>\n",
              "      <td>main-dish</td>\n",
              "      <td>4.439774</td>\n",
              "      <td>https://images.media-allrecipes.com/userphotos...</td>\n",
              "      <td>vegetable oil^self-rising flour^New Mexico^tom...</td>\n",
              "      <td>{'directions': u'Prep\\n10 m\\nCook\\n15 m\\nReady...</td>\n",
              "      <td>{u'niacin': {u'hasCompleteData': True, u'name'...</td>\n",
              "      <td>15-minutes-or-less;north-american;sauces;condi...</td>\n",
              "    </tr>\n",
              "  </tbody>\n",
              "</table>\n",
              "</div>\n",
              "    <div class=\"colab-df-buttons\">\n",
              "\n",
              "  <div class=\"colab-df-container\">\n",
              "    <button class=\"colab-df-convert\" onclick=\"convertToInteractive('df-68624390-dbc6-4f17-8199-7514d4ec9bb0')\"\n",
              "            title=\"Convert this dataframe to an interactive table.\"\n",
              "            style=\"display:none;\">\n",
              "\n",
              "  <svg xmlns=\"http://www.w3.org/2000/svg\" height=\"24px\" viewBox=\"0 -960 960 960\">\n",
              "    <path d=\"M120-120v-720h720v720H120Zm60-500h600v-160H180v160Zm220 220h160v-160H400v160Zm0 220h160v-160H400v160ZM180-400h160v-160H180v160Zm440 0h160v-160H620v160ZM180-180h160v-160H180v160Zm440 0h160v-160H620v160Z\"/>\n",
              "  </svg>\n",
              "    </button>\n",
              "\n",
              "  <style>\n",
              "    .colab-df-container {\n",
              "      display:flex;\n",
              "      gap: 12px;\n",
              "    }\n",
              "\n",
              "    .colab-df-convert {\n",
              "      background-color: #E8F0FE;\n",
              "      border: none;\n",
              "      border-radius: 50%;\n",
              "      cursor: pointer;\n",
              "      display: none;\n",
              "      fill: #1967D2;\n",
              "      height: 32px;\n",
              "      padding: 0 0 0 0;\n",
              "      width: 32px;\n",
              "    }\n",
              "\n",
              "    .colab-df-convert:hover {\n",
              "      background-color: #E2EBFA;\n",
              "      box-shadow: 0px 1px 2px rgba(60, 64, 67, 0.3), 0px 1px 3px 1px rgba(60, 64, 67, 0.15);\n",
              "      fill: #174EA6;\n",
              "    }\n",
              "\n",
              "    .colab-df-buttons div {\n",
              "      margin-bottom: 4px;\n",
              "    }\n",
              "\n",
              "    [theme=dark] .colab-df-convert {\n",
              "      background-color: #3B4455;\n",
              "      fill: #D2E3FC;\n",
              "    }\n",
              "\n",
              "    [theme=dark] .colab-df-convert:hover {\n",
              "      background-color: #434B5C;\n",
              "      box-shadow: 0px 1px 3px 1px rgba(0, 0, 0, 0.15);\n",
              "      filter: drop-shadow(0px 1px 2px rgba(0, 0, 0, 0.3));\n",
              "      fill: #FFFFFF;\n",
              "    }\n",
              "  </style>\n",
              "\n",
              "    <script>\n",
              "      const buttonEl =\n",
              "        document.querySelector('#df-68624390-dbc6-4f17-8199-7514d4ec9bb0 button.colab-df-convert');\n",
              "      buttonEl.style.display =\n",
              "        google.colab.kernel.accessAllowed ? 'block' : 'none';\n",
              "\n",
              "      async function convertToInteractive(key) {\n",
              "        const element = document.querySelector('#df-68624390-dbc6-4f17-8199-7514d4ec9bb0');\n",
              "        const dataTable =\n",
              "          await google.colab.kernel.invokeFunction('convertToInteractive',\n",
              "                                                    [key], {});\n",
              "        if (!dataTable) return;\n",
              "\n",
              "        const docLinkHtml = 'Like what you see? Visit the ' +\n",
              "          '<a target=\"_blank\" href=https://colab.research.google.com/notebooks/data_table.ipynb>data table notebook</a>'\n",
              "          + ' to learn more about interactive tables.';\n",
              "        element.innerHTML = '';\n",
              "        dataTable['output_type'] = 'display_data';\n",
              "        await google.colab.output.renderOutput(dataTable, element);\n",
              "        const docLink = document.createElement('div');\n",
              "        docLink.innerHTML = docLinkHtml;\n",
              "        element.appendChild(docLink);\n",
              "      }\n",
              "    </script>\n",
              "  </div>\n",
              "\n",
              "\n",
              "<div id=\"df-97d48cf0-9b3c-426f-b206-d476a307544e\">\n",
              "  <button class=\"colab-df-quickchart\" onclick=\"quickchart('df-97d48cf0-9b3c-426f-b206-d476a307544e')\"\n",
              "            title=\"Suggest charts\"\n",
              "            style=\"display:none;\">\n",
              "\n",
              "<svg xmlns=\"http://www.w3.org/2000/svg\" height=\"24px\"viewBox=\"0 0 24 24\"\n",
              "     width=\"24px\">\n",
              "    <g>\n",
              "        <path d=\"M19 3H5c-1.1 0-2 .9-2 2v14c0 1.1.9 2 2 2h14c1.1 0 2-.9 2-2V5c0-1.1-.9-2-2-2zM9 17H7v-7h2v7zm4 0h-2V7h2v10zm4 0h-2v-4h2v4z\"/>\n",
              "    </g>\n",
              "</svg>\n",
              "  </button>\n",
              "\n",
              "<style>\n",
              "  .colab-df-quickchart {\n",
              "      --bg-color: #E8F0FE;\n",
              "      --fill-color: #1967D2;\n",
              "      --hover-bg-color: #E2EBFA;\n",
              "      --hover-fill-color: #174EA6;\n",
              "      --disabled-fill-color: #AAA;\n",
              "      --disabled-bg-color: #DDD;\n",
              "  }\n",
              "\n",
              "  [theme=dark] .colab-df-quickchart {\n",
              "      --bg-color: #3B4455;\n",
              "      --fill-color: #D2E3FC;\n",
              "      --hover-bg-color: #434B5C;\n",
              "      --hover-fill-color: #FFFFFF;\n",
              "      --disabled-bg-color: #3B4455;\n",
              "      --disabled-fill-color: #666;\n",
              "  }\n",
              "\n",
              "  .colab-df-quickchart {\n",
              "    background-color: var(--bg-color);\n",
              "    border: none;\n",
              "    border-radius: 50%;\n",
              "    cursor: pointer;\n",
              "    display: none;\n",
              "    fill: var(--fill-color);\n",
              "    height: 32px;\n",
              "    padding: 0;\n",
              "    width: 32px;\n",
              "  }\n",
              "\n",
              "  .colab-df-quickchart:hover {\n",
              "    background-color: var(--hover-bg-color);\n",
              "    box-shadow: 0 1px 2px rgba(60, 64, 67, 0.3), 0 1px 3px 1px rgba(60, 64, 67, 0.15);\n",
              "    fill: var(--button-hover-fill-color);\n",
              "  }\n",
              "\n",
              "  .colab-df-quickchart-complete:disabled,\n",
              "  .colab-df-quickchart-complete:disabled:hover {\n",
              "    background-color: var(--disabled-bg-color);\n",
              "    fill: var(--disabled-fill-color);\n",
              "    box-shadow: none;\n",
              "  }\n",
              "\n",
              "  .colab-df-spinner {\n",
              "    border: 2px solid var(--fill-color);\n",
              "    border-color: transparent;\n",
              "    border-bottom-color: var(--fill-color);\n",
              "    animation:\n",
              "      spin 1s steps(1) infinite;\n",
              "  }\n",
              "\n",
              "  @keyframes spin {\n",
              "    0% {\n",
              "      border-color: transparent;\n",
              "      border-bottom-color: var(--fill-color);\n",
              "      border-left-color: var(--fill-color);\n",
              "    }\n",
              "    20% {\n",
              "      border-color: transparent;\n",
              "      border-left-color: var(--fill-color);\n",
              "      border-top-color: var(--fill-color);\n",
              "    }\n",
              "    30% {\n",
              "      border-color: transparent;\n",
              "      border-left-color: var(--fill-color);\n",
              "      border-top-color: var(--fill-color);\n",
              "      border-right-color: var(--fill-color);\n",
              "    }\n",
              "    40% {\n",
              "      border-color: transparent;\n",
              "      border-right-color: var(--fill-color);\n",
              "      border-top-color: var(--fill-color);\n",
              "    }\n",
              "    60% {\n",
              "      border-color: transparent;\n",
              "      border-right-color: var(--fill-color);\n",
              "    }\n",
              "    80% {\n",
              "      border-color: transparent;\n",
              "      border-right-color: var(--fill-color);\n",
              "      border-bottom-color: var(--fill-color);\n",
              "    }\n",
              "    90% {\n",
              "      border-color: transparent;\n",
              "      border-bottom-color: var(--fill-color);\n",
              "    }\n",
              "  }\n",
              "</style>\n",
              "\n",
              "  <script>\n",
              "    async function quickchart(key) {\n",
              "      const quickchartButtonEl =\n",
              "        document.querySelector('#' + key + ' button');\n",
              "      quickchartButtonEl.disabled = true;  // To prevent multiple clicks.\n",
              "      quickchartButtonEl.classList.add('colab-df-spinner');\n",
              "      try {\n",
              "        const charts = await google.colab.kernel.invokeFunction(\n",
              "            'suggestCharts', [key], {});\n",
              "      } catch (error) {\n",
              "        console.error('Error during call to suggestCharts:', error);\n",
              "      }\n",
              "      quickchartButtonEl.classList.remove('colab-df-spinner');\n",
              "      quickchartButtonEl.classList.add('colab-df-quickchart-complete');\n",
              "    }\n",
              "    (() => {\n",
              "      let quickchartButtonEl =\n",
              "        document.querySelector('#df-97d48cf0-9b3c-426f-b206-d476a307544e button');\n",
              "      quickchartButtonEl.style.display =\n",
              "        google.colab.kernel.accessAllowed ? 'block' : 'none';\n",
              "    })();\n",
              "  </script>\n",
              "</div>\n",
              "    </div>\n",
              "  </div>\n"
            ],
            "application/vnd.google.colaboratory.intrinsic+json": {
              "type": "dataframe",
              "variable_name": "user_recipe_merged_df"
            }
          },
          "metadata": {},
          "execution_count": 130
        }
      ]
    },
    {
      "cell_type": "code",
      "source": [
        "all_columns = user_recipe_merged_df.columns\n",
        "all_columns"
      ],
      "metadata": {
        "colab": {
          "base_uri": "https://localhost:8080/"
        },
        "id": "6vLRYCjcLLBo",
        "outputId": "e94588e8-5a75-449b-a163-a563135dd1d4"
      },
      "execution_count": 131,
      "outputs": [
        {
          "output_type": "execute_result",
          "data": {
            "text/plain": [
              "Index(['user_id', 'recipe_id', 'rating', 'dateLastModified', 'Unnamed: 0',\n",
              "       'recipe_name', 'review_nums', 'category', 'aver_rate', 'image_url',\n",
              "       'ingredients', 'cooking_directions', 'nutritions', 'tags'],\n",
              "      dtype='object')"
            ]
          },
          "metadata": {},
          "execution_count": 131
        }
      ]
    },
    {
      "cell_type": "code",
      "source": [
        "user_recipe_merged_df.user_id.unique(), user_recipe_merged_df.user_id.nunique()"
      ],
      "metadata": {
        "colab": {
          "base_uri": "https://localhost:8080/"
        },
        "id": "d_BeTGzXLSOK",
        "outputId": "f289b20e-8659-4283-c688-4e6500091286"
      },
      "execution_count": 132,
      "outputs": [
        {
          "output_type": "execute_result",
          "data": {
            "text/plain": [
              "(array([     39,    8799,   35974, ..., 2549544,  798244, 2695053]), 1575)"
            ]
          },
          "metadata": {},
          "execution_count": 132
        }
      ]
    },
    {
      "cell_type": "code",
      "source": [
        "user_recipe_merged_df.recipe_name.unique(), user_recipe_merged_df.recipe_name.nunique()"
      ],
      "metadata": {
        "colab": {
          "base_uri": "https://localhost:8080/"
        },
        "id": "2VqG7bqgXMfk",
        "outputId": "e7842f9d-090a-46dc-8a81-01f9ebfe9e2e"
      },
      "execution_count": 133,
      "outputs": [
        {
          "output_type": "execute_result",
          "data": {
            "text/plain": [
              "(array(['Ten Minute Enchilada Sauce', \"Chocolate Lovers' Favorite Cake\",\n",
              "        'Cajun Chicken Pasta', ..., 'Fiesta Lime Chicken',\n",
              "        'Spinach and Artichoke Greek Yogurt Dip',\n",
              "        'Chewy Chocolate Peanut Bars'], dtype=object),\n",
              " 7280)"
            ]
          },
          "metadata": {},
          "execution_count": 133
        }
      ]
    },
    {
      "cell_type": "code",
      "source": [
        "user_recipe_merged_df.rating.value_counts()"
      ],
      "metadata": {
        "colab": {
          "base_uri": "https://localhost:8080/"
        },
        "id": "HhswiXXPLYcc",
        "outputId": "68450473-3499-4dd8-e5d7-331b2f7d2dfc"
      },
      "execution_count": 134,
      "outputs": [
        {
          "output_type": "execute_result",
          "data": {
            "text/plain": [
              "rating\n",
              "5    101162\n",
              "4     49986\n",
              "Name: count, dtype: int64"
            ]
          },
          "metadata": {},
          "execution_count": 134
        }
      ]
    },
    {
      "cell_type": "code",
      "source": [
        "# unique category of recipes\n",
        "unique_categories = user_recipe_merged_df.category.unique()\n",
        "unique_categories, user_recipe_merged_df.category.nunique()"
      ],
      "metadata": {
        "colab": {
          "base_uri": "https://localhost:8080/"
        },
        "id": "ZvqY3pvdaFmY",
        "outputId": "7d93df0e-ec00-41e7-a951-9621678530fc"
      },
      "execution_count": 135,
      "outputs": [
        {
          "output_type": "execute_result",
          "data": {
            "text/plain": [
              "(array(['main-dish', 'dessert', 'appetizer'], dtype=object), 3)"
            ]
          },
          "metadata": {},
          "execution_count": 135
        }
      ]
    },
    {
      "cell_type": "markdown",
      "source": [
        "## Visualizing the info"
      ],
      "metadata": {
        "id": "hIKG64rjc6MY"
      }
    },
    {
      "cell_type": "code",
      "source": [
        "users_recipe_counts = user_recipe_merged_df['user_id'].value_counts().sort_index()\n",
        "users_per_recipe_count = users_recipe_counts.value_counts().sort_index()\n",
        "\n",
        "plt.bar(users_per_recipe_count.index, users_per_recipe_count.values, color='red')\n",
        "plt.xlabel('No of recipes rated by users')\n",
        "plt.ylabel('No of users')\n",
        "plt.xlim(0,400)\n",
        "plt.title('No of users VS No of Recipes Rated')\n",
        "plt.grid(axis='y', linestyle='--', alpha=0.5)\n",
        "plt.show()"
      ],
      "metadata": {
        "id": "J0cnB2uXZrzh",
        "colab": {
          "base_uri": "https://localhost:8080/",
          "height": 472
        },
        "outputId": "9ce1509d-7c01-4786-d2eb-30bf54b13c4a"
      },
      "execution_count": 136,
      "outputs": [
        {
          "output_type": "display_data",
          "data": {
            "text/plain": [
              "<Figure size 640x480 with 1 Axes>"
            ],
            "image/png": "[encoded data removed]"
          },
          "metadata": {}
        }
      ]
    },
    {
      "cell_type": "code",
      "source": [
        "avg_ratings = user_recipe_merged_df.groupby('recipe_id')['aver_rate'].mean()\n",
        "\n",
        "plt.hist(avg_ratings, bins=100, color='skyblue')\n",
        "plt.xlabel('Average Rating of each Recipe')\n",
        "plt.ylabel('Frequency')\n",
        "plt.xlim(0,5)\n",
        "plt.title('Distribution of Average Ratings for Unique Recipes')\n",
        "plt.show()"
      ],
      "metadata": {
        "colab": {
          "base_uri": "https://localhost:8080/",
          "height": 472
        },
        "id": "dH1AfoKcehnr",
        "outputId": "271408e1-541f-4c0c-f3ba-f55957b03542"
      },
      "execution_count": 137,
      "outputs": [
        {
          "output_type": "display_data",
          "data": {
            "text/plain": [
              "<Figure size 640x480 with 1 Axes>"
            ],
            "image/png": "[encoded data removed]"
          },
          "metadata": {}
        }
      ]
    },
    {
      "cell_type": "code",
      "source": [
        "plt.hist(avg_ratings, bins=200, color='skyblue')\n",
        "plt.xlabel('Average Rating of each Recipe')\n",
        "plt.ylabel('Frequency')\n",
        "plt.xlim(3,5)\n",
        "plt.title('Distribution of Average Ratings for Unique Recipes')\n",
        "plt.show()"
      ],
      "metadata": {
        "colab": {
          "base_uri": "https://localhost:8080/",
          "height": 472
        },
        "id": "rcu-KvW-fLF4",
        "outputId": "a6c8a505-e41e-4ddf-f97f-84aa3f1a225e"
      },
      "execution_count": 138,
      "outputs": [
        {
          "output_type": "display_data",
          "data": {
            "text/plain": [
              "<Figure size 640x480 with 1 Axes>"
            ],
            "image/png": "[encoded data removed]"
          },
          "metadata": {}
        }
      ]
    },
    {
      "cell_type": "code",
      "source": [
        "df = user_recipe_merged_df\n",
        "df['dateLastModified']"
      ],
      "metadata": {
        "colab": {
          "base_uri": "https://localhost:8080/"
        },
        "id": "vfgq939NhIjC",
        "outputId": "5d4f132b-0163-4610-91ca-5a449b72d0e4"
      },
      "execution_count": 139,
      "outputs": [
        {
          "output_type": "execute_result",
          "data": {
            "text/plain": [
              "0         2001-03-26T07:36:16.653\\n\n",
              "1         2004-09-21T06:23:16.427\\n\n",
              "2         2003-04-19T07:31:14.357\\n\n",
              "3         2011-09-01T17:50:36.427\\n\n",
              "4         2008-02-07T17:04:54.523\\n\n",
              "                    ...            \n",
              "151143    2016-04-30T00:28:25.337\\n\n",
              "151144    2015-09-03T07:24:05.267\\n\n",
              "151145     2016-09-19T17:46:18.66\\n\n",
              "151146    2017-03-12T16:35:22.007\\n\n",
              "151147    2005-02-25T17:59:35.233\\n\n",
              "Name: dateLastModified, Length: 151148, dtype: object"
            ]
          },
          "metadata": {},
          "execution_count": 139
        }
      ]
    },
    {
      "cell_type": "code",
      "source": [
        "# preprocessing the date modified to get the hour of recommendation\n",
        "# the hour at which review was given can be an insight maybe?\n",
        "df[\"datetime\"] = pd.to_datetime(df['dateLastModified'], format=\"mixed\")\n",
        "df[\"year\"] = df[\"datetime\"].dt.year\n",
        "df[\"month\"] = df[\"datetime\"].dt.month\n",
        "df[\"day\"] = df[\"datetime\"].dt.day\n",
        "df[\"hour\"] = df[\"datetime\"].dt.hour\n",
        "df.hour.unique()"
      ],
      "metadata": {
        "colab": {
          "base_uri": "https://localhost:8080/"
        },
        "id": "WH5KnOOug9pI",
        "outputId": "3332a5d1-d8d3-42ac-9c31-5cd0dd1b8990"
      },
      "execution_count": 140,
      "outputs": [
        {
          "output_type": "execute_result",
          "data": {
            "text/plain": [
              "array([ 7,  6, 17, 19, 15, 16,  8, 23,  4, 10, 18, 13, 11, 12,  2, 20, 22,\n",
              "        5, 21, 14,  9,  0,  3,  1], dtype=int32)"
            ]
          },
          "metadata": {},
          "execution_count": 140
        }
      ]
    },
    {
      "cell_type": "code",
      "source": [
        "from sklearn.model_selection import train_test_split\n"
      ],
      "metadata": {
        "id": "m4xCUCdsleyL"
      },
      "execution_count": 141,
      "outputs": []
    },
    {
      "cell_type": "markdown",
      "source": [
        "## Model with Using only Hour of the Day"
      ],
      "metadata": {
        "id": "loC-IaXRY_e8"
      }
    },
    {
      "cell_type": "code",
      "source": [
        "# df[['user_id', 'hour']]\n",
        "df['aver_rate'].unique(), df['aver_rate'].nunique()"
      ],
      "metadata": {
        "colab": {
          "base_uri": "https://localhost:8080/"
        },
        "id": "oMqjJ5ydrO1L",
        "outputId": "06d2e147-f8b0-4bd3-b6a4-0cd6bbfd6575"
      },
      "execution_count": 142,
      "outputs": [
        {
          "output_type": "execute_result",
          "data": {
            "text/plain": [
              "(array([4.43977356, 4.68384552, 4.67671633, ..., 3.5454545 , 4.11320734,\n",
              "        3.69230771]),\n",
              " 4033)"
            ]
          },
          "metadata": {},
          "execution_count": 142
        }
      ]
    },
    {
      "cell_type": "code",
      "source": [
        "df_user_hour = df\n",
        "\n",
        "# since the rating is only 4 or 5, it can be treated as categorical value\n",
        "sparse_features_user_hour = ['user_id', 'hour']\n",
        "target = ['rating']\n",
        "\n",
        "df_user_hour[sparse_features_user_hour] = df_user_hour[sparse_features_user_hour].fillna(0)\n",
        "\n",
        "label_encoders_user_hour = {}\n",
        "for feature in sparse_features_user_hour:\n",
        "  lbe = sklearn.preprocessing.LabelEncoder()\n",
        "  df_user_hour[feature] = lbe.fit_transform(df_user_hour[feature])\n",
        "  label_encoders_user_hour[feature] = lbe\n",
        "\n",
        "train, test = train_test_split(df_user_hour, test_size=0.25)\n",
        "\n",
        "feature_columns_user_hour = [deepctr.feature_column.SparseFeat(feature, vocabulary_size = df_user_hour[feature].max() + 1, embedding_dim=6) for feature in sparse_features_user_hour]\n",
        "\n",
        "dnn_feature_columns_user_hour = feature_columns_user_hour\n",
        "linear_feature_columns_user_hour = feature_columns_user_hour\n",
        "feature_names_user_hour = deepctr.feature_column.get_feature_names(linear_feature_columns_user_hour+dnn_feature_columns_user_hour)\n",
        "\n",
        "epochs = 20\n",
        "\n",
        "# getting the train and test data for the model input ready\n",
        "train_model_input_user_hour = {name: train[name] for name in feature_names_user_hour}\n",
        "test_model_input_user_hour = {name: test[name] for name in feature_names_user_hour}\n",
        "\n",
        "model_user_hour = deepctr.models.DeepFM(linear_feature_columns_user_hour, dnn_feature_columns_user_hour, task='regression')\n",
        "\n",
        "model_user_hour.compile('adam', 'mse', metrics=['mse', 'accuracy'])\n",
        "\n",
        "history_user_hour = model_user_hour.fit(train_model_input_user_hour, train[target].values, batch_size=256, epochs = epochs, verbose = 1, validation_split = 0.2)\n",
        "\n",
        "mse_user_hour = model_user_hour.evaluate(test_model_input_user_hour, test[target].values, batch_size=256)[1]\n",
        "print(f'MSE IS :{mse_user_hour}')\n",
        "\n",
        "loss = history_user_hour.history['loss']\n",
        "val_loss = history_user_hour.history['val_loss']\n",
        "\n",
        "epoch_arr = list(range(1, epochs+1))\n",
        "\n",
        "# Plotting the Loss\n",
        "plt.figure(figsize=(12, 6))\n",
        "\n",
        "plt.subplot(1, 2, 1)\n",
        "plt.plot(epoch_arr, loss, 'b-', label='Training loss', color='blue')\n",
        "plt.plot(epoch_arr, val_loss, 'r--', label='Validation loss', color='lightcoral')\n",
        "plt.title('Training and Validation Loss with DeepFM')\n",
        "ax = plt.gca()\n",
        "ax.set_xlim([0,20])\n",
        "ax.set_ylim([0,1])\n",
        "plt.xlabel('Epochs')\n",
        "plt.ylabel('Loss')\n",
        "plt.legend()\n",
        "plt.show()"
      ],
      "metadata": {
        "colab": {
          "base_uri": "https://localhost:8080/",
          "height": 1000
        },
        "id": "dG_Ukb4i4RVU",
        "outputId": "ee9285b4-e66b-4af2-84f2-53c5d94d9df0"
      },
      "execution_count": 143,
      "outputs": [
        {
          "output_type": "stream",
          "name": "stdout",
          "text": [
            "Epoch 1/20\n",
            "355/355 [==============================] - 4s 8ms/step - loss: 1.7413 - mse: 1.7413 - accuracy: 0.0000e+00 - val_loss: 0.1986 - val_mse: 0.1985 - val_accuracy: 0.0000e+00\n",
            "Epoch 2/20\n",
            "355/355 [==============================] - 4s 12ms/step - loss: 0.2000 - mse: 0.2000 - accuracy: 0.0000e+00 - val_loss: 0.1978 - val_mse: 0.1978 - val_accuracy: 0.0000e+00\n",
            "Epoch 3/20\n",
            "355/355 [==============================] - 7s 18ms/step - loss: 0.1988 - mse: 0.1987 - accuracy: 0.0000e+00 - val_loss: 0.1995 - val_mse: 0.1994 - val_accuracy: 0.0000e+00\n",
            "Epoch 4/20\n",
            "355/355 [==============================] - 5s 15ms/step - loss: 0.1985 - mse: 0.1984 - accuracy: 0.0000e+00 - val_loss: 0.1975 - val_mse: 0.1974 - val_accuracy: 0.0000e+00\n",
            "Epoch 5/20\n",
            "355/355 [==============================] - 7s 21ms/step - loss: 0.1982 - mse: 0.1981 - accuracy: 0.0000e+00 - val_loss: 0.1988 - val_mse: 0.1987 - val_accuracy: 0.0000e+00\n",
            "Epoch 6/20\n",
            "355/355 [==============================] - 5s 14ms/step - loss: 0.1981 - mse: 0.1980 - accuracy: 0.0000e+00 - val_loss: 0.1976 - val_mse: 0.1975 - val_accuracy: 0.0000e+00\n",
            "Epoch 7/20\n",
            "355/355 [==============================] - 5s 13ms/step - loss: 0.1988 - mse: 0.1987 - accuracy: 0.0000e+00 - val_loss: 0.1979 - val_mse: 0.1977 - val_accuracy: 0.0000e+00\n",
            "Epoch 8/20\n",
            "355/355 [==============================] - 4s 12ms/step - loss: 0.1980 - mse: 0.1979 - accuracy: 0.0000e+00 - val_loss: 0.1969 - val_mse: 0.1967 - val_accuracy: 0.0000e+00\n",
            "Epoch 9/20\n",
            "355/355 [==============================] - 2s 7ms/step - loss: 0.1985 - mse: 0.1984 - accuracy: 0.0000e+00 - val_loss: 0.2055 - val_mse: 0.2054 - val_accuracy: 0.0000e+00\n",
            "Epoch 10/20\n",
            "355/355 [==============================] - 3s 7ms/step - loss: 0.1987 - mse: 0.1985 - accuracy: 0.0000e+00 - val_loss: 0.1986 - val_mse: 0.1984 - val_accuracy: 0.0000e+00\n",
            "Epoch 11/20\n",
            "355/355 [==============================] - 2s 6ms/step - loss: 0.1986 - mse: 0.1984 - accuracy: 0.0000e+00 - val_loss: 0.1999 - val_mse: 0.1997 - val_accuracy: 0.0000e+00\n",
            "Epoch 12/20\n",
            "355/355 [==============================] - 2s 7ms/step - loss: 0.1977 - mse: 0.1975 - accuracy: 0.0000e+00 - val_loss: 0.1971 - val_mse: 0.1969 - val_accuracy: 0.0000e+00\n",
            "Epoch 13/20\n",
            "355/355 [==============================] - 4s 11ms/step - loss: 0.1974 - mse: 0.1972 - accuracy: 0.0000e+00 - val_loss: 0.1979 - val_mse: 0.1977 - val_accuracy: 0.0000e+00\n",
            "Epoch 14/20\n",
            "355/355 [==============================] - 2s 7ms/step - loss: 0.1979 - mse: 0.1976 - accuracy: 0.0000e+00 - val_loss: 0.1969 - val_mse: 0.1967 - val_accuracy: 0.0000e+00\n",
            "Epoch 15/20\n",
            "355/355 [==============================] - 3s 7ms/step - loss: 0.1970 - mse: 0.1967 - accuracy: 0.0000e+00 - val_loss: 0.1978 - val_mse: 0.1976 - val_accuracy: 0.0000e+00\n",
            "Epoch 16/20\n",
            "355/355 [==============================] - 2s 7ms/step - loss: 0.1974 - mse: 0.1971 - accuracy: 0.0000e+00 - val_loss: 0.1974 - val_mse: 0.1971 - val_accuracy: 0.0000e+00\n",
            "Epoch 17/20\n",
            "355/355 [==============================] - 2s 6ms/step - loss: 0.1970 - mse: 0.1967 - accuracy: 0.0000e+00 - val_loss: 0.1977 - val_mse: 0.1974 - val_accuracy: 0.0000e+00\n",
            "Epoch 18/20\n",
            "355/355 [==============================] - 4s 11ms/step - loss: 0.1966 - mse: 0.1963 - accuracy: 0.0000e+00 - val_loss: 0.2004 - val_mse: 0.2001 - val_accuracy: 0.0000e+00\n",
            "Epoch 19/20\n",
            "355/355 [==============================] - 3s 7ms/step - loss: 0.1961 - mse: 0.1957 - accuracy: 0.0000e+00 - val_loss: 0.2069 - val_mse: 0.2065 - val_accuracy: 0.0000e+00\n",
            "Epoch 20/20\n",
            "355/355 [==============================] - 2s 7ms/step - loss: 0.1958 - mse: 0.1954 - accuracy: 0.0000e+00 - val_loss: 0.2016 - val_mse: 0.2012 - val_accuracy: 0.0000e+00\n",
            "148/148 [==============================] - 1s 4ms/step - loss: 0.2043 - mse: 0.2039 - accuracy: 0.0000e+00\n",
            "MSE IS :0.20391958951950073\n"
          ]
        },
        {
          "output_type": "stream",
          "name": "stderr",
          "text": [
            "<ipython-input-143-a71d8994ae3e>:47: UserWarning: color is redundantly defined by the 'color' keyword argument and the fmt string \"b-\" (-> color='b'). The keyword argument will take precedence.\n",
            "  plt.plot(epoch_arr, loss, 'b-', label='Training loss', color='blue')\n",
            "<ipython-input-143-a71d8994ae3e>:48: UserWarning: color is redundantly defined by the 'color' keyword argument and the fmt string \"r--\" (-> color='r'). The keyword argument will take precedence.\n",
            "  plt.plot(epoch_arr, val_loss, 'r--', label='Validation loss', color='lightcoral')\n"
          ]
        },
        {
          "output_type": "display_data",
          "data": {
            "text/plain": [
              "<Figure size 1200x600 with 1 Axes>"
            ],
            "image/png": "[encoded data removed]"
          },
          "metadata": {}
        }
      ]
    },
    {
      "cell_type": "code",
      "source": [
        "df_user_hour = df\n",
        "\n",
        "# since the rating is only 4 or 5, it can be treated as categorical value\n",
        "sparse_features_user_hour = ['user_id', 'hour']\n",
        "target = ['rating']\n",
        "\n",
        "df_user_hour[sparse_features_user_hour] = df_user_hour[sparse_features_user_hour].fillna(0)\n",
        "\n",
        "label_encoders_user_hour = {}\n",
        "for feature in sparse_features_user_hour:\n",
        "  lbe = sklearn.preprocessing.LabelEncoder()\n",
        "  df_user_hour[feature] = lbe.fit_transform(df_user_hour[feature])\n",
        "  label_encoders_user_hour[feature] = lbe\n",
        "\n",
        "train, test = train_test_split(df_user_hour, test_size=0.25)\n",
        "\n",
        "feature_columns_user_hour = [deepctr.feature_column.SparseFeat(feature, vocabulary_size = df_user_hour[feature].max() + 1, embedding_dim=6) for feature in sparse_features_user_hour]\n",
        "\n",
        "dnn_feature_columns_user_hour = feature_columns_user_hour\n",
        "linear_feature_columns_user_hour = feature_columns_user_hour\n",
        "feature_names_user_hour = deepctr.feature_column.get_feature_names(linear_feature_columns_user_hour+dnn_feature_columns_user_hour)\n",
        "\n",
        "epochs = 20\n",
        "\n",
        "# getting the train and test data for the model input ready\n",
        "train_model_input_user_hour = {name: train[name] for name in feature_names_user_hour}\n",
        "test_model_input_user_hour = {name: test[name] for name in feature_names_user_hour}\n",
        "\n",
        "model_user_hour = deepctr.models.DeepFM(linear_feature_columns_user_hour, dnn_feature_columns_user_hour, task='regression')\n",
        "\n",
        "model_user_hour.compile('adam', 'mse', metrics=['mse', 'accuracy'])\n",
        "\n",
        "history_user_hour = model_user_hour.fit(train_model_input_user_hour, train[target].values, batch_size=256, epochs = epochs, verbose = 1, validation_split = 0.2)\n",
        "\n",
        "mse_user_hour = model_user_hour.evaluate(test_model_input_user_hour, test[target].values, batch_size=256)[1]\n",
        "print(f'MSE IS :{mse_user_hour}')\n",
        "\n",
        "loss = history_user_hour.history['loss']\n",
        "val_loss = history_user_hour.history['val_loss']\n",
        "\n",
        "epoch_arr = list(range(1, epochs+1))\n",
        "\n",
        "# Plotting the Loss\n",
        "plt.figure(figsize=(12, 6))\n",
        "\n",
        "plt.subplot(1, 2, 1)\n",
        "plt.plot(epoch_arr, loss, 'b-', label='Training loss', color='blue')\n",
        "plt.plot(epoch_arr, val_loss, 'r--', label='Validation loss', color='lightcoral')\n",
        "plt.title('Training and Validation Loss with DeepFM')\n",
        "ax = plt.gca()\n",
        "ax.set_xlim([0,20])\n",
        "ax.set_ylim([0,0.1])\n",
        "plt.xlabel('Epochs')\n",
        "plt.ylabel('Loss')\n",
        "plt.legend()\n",
        "plt.show()"
      ],
      "metadata": {
        "id": "TxmJJJ41XCRx",
        "colab": {
          "base_uri": "https://localhost:8080/",
          "height": 1000
        },
        "outputId": "8f02d227-19e6-4ca6-d96a-c90322bced0e"
      },
      "execution_count": 144,
      "outputs": [
        {
          "output_type": "stream",
          "name": "stdout",
          "text": [
            "Epoch 1/20\n",
            "355/355 [==============================] - 4s 8ms/step - loss: 1.7632 - mse: 1.7632 - accuracy: 0.0000e+00 - val_loss: 0.1989 - val_mse: 0.1989 - val_accuracy: 0.0000e+00\n",
            "Epoch 2/20\n",
            "355/355 [==============================] - 4s 12ms/step - loss: 0.1991 - mse: 0.1990 - accuracy: 0.0000e+00 - val_loss: 0.1986 - val_mse: 0.1985 - val_accuracy: 0.0000e+00\n",
            "Epoch 3/20\n",
            "355/355 [==============================] - 2s 6ms/step - loss: 0.1981 - mse: 0.1981 - accuracy: 0.0000e+00 - val_loss: 0.2016 - val_mse: 0.2015 - val_accuracy: 0.0000e+00\n",
            "Epoch 4/20\n",
            "355/355 [==============================] - 2s 6ms/step - loss: 0.1981 - mse: 0.1980 - accuracy: 0.0000e+00 - val_loss: 0.1971 - val_mse: 0.1970 - val_accuracy: 0.0000e+00\n",
            "Epoch 5/20\n",
            "355/355 [==============================] - 2s 6ms/step - loss: 0.1972 - mse: 0.1971 - accuracy: 0.0000e+00 - val_loss: 0.1975 - val_mse: 0.1974 - val_accuracy: 0.0000e+00\n",
            "Epoch 6/20\n",
            "355/355 [==============================] - 2s 6ms/step - loss: 0.1974 - mse: 0.1973 - accuracy: 0.0000e+00 - val_loss: 0.1992 - val_mse: 0.1991 - val_accuracy: 0.0000e+00\n",
            "Epoch 7/20\n",
            "355/355 [==============================] - 4s 11ms/step - loss: 0.1980 - mse: 0.1979 - accuracy: 0.0000e+00 - val_loss: 0.1979 - val_mse: 0.1977 - val_accuracy: 0.0000e+00\n",
            "Epoch 8/20\n",
            "355/355 [==============================] - 3s 7ms/step - loss: 0.1974 - mse: 0.1972 - accuracy: 0.0000e+00 - val_loss: 0.2016 - val_mse: 0.2015 - val_accuracy: 0.0000e+00\n",
            "Epoch 9/20\n",
            "355/355 [==============================] - 2s 7ms/step - loss: 0.1976 - mse: 0.1974 - accuracy: 0.0000e+00 - val_loss: 0.1990 - val_mse: 0.1988 - val_accuracy: 0.0000e+00\n",
            "Epoch 10/20\n",
            "355/355 [==============================] - 2s 7ms/step - loss: 0.1972 - mse: 0.1970 - accuracy: 0.0000e+00 - val_loss: 0.1975 - val_mse: 0.1973 - val_accuracy: 0.0000e+00\n",
            "Epoch 11/20\n",
            "355/355 [==============================] - 2s 7ms/step - loss: 0.1970 - mse: 0.1968 - accuracy: 0.0000e+00 - val_loss: 0.1984 - val_mse: 0.1982 - val_accuracy: 0.0000e+00\n",
            "Epoch 12/20\n",
            "355/355 [==============================] - 4s 10ms/step - loss: 0.1971 - mse: 0.1969 - accuracy: 0.0000e+00 - val_loss: 0.1995 - val_mse: 0.1993 - val_accuracy: 0.0000e+00\n",
            "Epoch 13/20\n",
            "355/355 [==============================] - 3s 9ms/step - loss: 0.1980 - mse: 0.1977 - accuracy: 0.0000e+00 - val_loss: 0.1985 - val_mse: 0.1982 - val_accuracy: 0.0000e+00\n",
            "Epoch 14/20\n",
            "355/355 [==============================] - 2s 6ms/step - loss: 0.1972 - mse: 0.1970 - accuracy: 0.0000e+00 - val_loss: 0.2011 - val_mse: 0.2008 - val_accuracy: 0.0000e+00\n",
            "Epoch 15/20\n",
            "355/355 [==============================] - 2s 6ms/step - loss: 0.1973 - mse: 0.1970 - accuracy: 0.0000e+00 - val_loss: 0.1973 - val_mse: 0.1970 - val_accuracy: 0.0000e+00\n",
            "Epoch 16/20\n",
            "355/355 [==============================] - 2s 6ms/step - loss: 0.1965 - mse: 0.1962 - accuracy: 0.0000e+00 - val_loss: 0.1996 - val_mse: 0.1993 - val_accuracy: 0.0000e+00\n",
            "Epoch 17/20\n",
            "355/355 [==============================] - 3s 8ms/step - loss: 0.1971 - mse: 0.1968 - accuracy: 0.0000e+00 - val_loss: 0.1974 - val_mse: 0.1971 - val_accuracy: 0.0000e+00\n",
            "Epoch 18/20\n",
            "355/355 [==============================] - 4s 12ms/step - loss: 0.1969 - mse: 0.1966 - accuracy: 0.0000e+00 - val_loss: 0.1970 - val_mse: 0.1967 - val_accuracy: 0.0000e+00\n",
            "Epoch 19/20\n",
            "355/355 [==============================] - 2s 6ms/step - loss: 0.1965 - mse: 0.1961 - accuracy: 0.0000e+00 - val_loss: 0.1979 - val_mse: 0.1976 - val_accuracy: 0.0000e+00\n",
            "Epoch 20/20\n",
            "355/355 [==============================] - 2s 7ms/step - loss: 0.1969 - mse: 0.1966 - accuracy: 0.0000e+00 - val_loss: 0.2190 - val_mse: 0.2186 - val_accuracy: 0.0000e+00\n",
            "148/148 [==============================] - 0s 3ms/step - loss: 0.2214 - mse: 0.2210 - accuracy: 0.0000e+00\n",
            "MSE IS :0.22099092602729797\n"
          ]
        },
        {
          "output_type": "stream",
          "name": "stderr",
          "text": [
            "<ipython-input-144-1dfb0c03e6a5>:47: UserWarning: color is redundantly defined by the 'color' keyword argument and the fmt string \"b-\" (-> color='b'). The keyword argument will take precedence.\n",
            "  plt.plot(epoch_arr, loss, 'b-', label='Training loss', color='blue')\n",
            "<ipython-input-144-1dfb0c03e6a5>:48: UserWarning: color is redundantly defined by the 'color' keyword argument and the fmt string \"r--\" (-> color='r'). The keyword argument will take precedence.\n",
            "  plt.plot(epoch_arr, val_loss, 'r--', label='Validation loss', color='lightcoral')\n"
          ]
        },
        {
          "output_type": "display_data",
          "data": {
            "text/plain": [
              "<Figure size 1200x600 with 1 Axes>"
            ],
            "image/png": "[encoded data removed]"
          },
          "metadata": {}
        }
      ]
    },
    {
      "cell_type": "markdown",
      "source": [
        "## Adding more features for the model"
      ],
      "metadata": {
        "id": "vaTF-Z-q65qZ"
      }
    },
    {
      "cell_type": "code",
      "source": [
        "df['ingredients'] = df['ingredients'].str.replace('^', '|')\n",
        "df['ingredients'] = df['ingredients'].str.replace(' ', '')\n",
        "df['ingredients']"
      ],
      "metadata": {
        "colab": {
          "base_uri": "https://localhost:8080/"
        },
        "id": "YVsQyl-67bZ3",
        "outputId": "87034036-376a-4726-a199-af43ba488ec6"
      },
      "execution_count": 145,
      "outputs": [
        {
          "output_type": "execute_result",
          "data": {
            "text/plain": [
              "0         vegetableoil|self-risingflour|NewMexico|tomato...\n",
              "1         vegetableoil|self-risingflour|NewMexico|tomato...\n",
              "2         vegetableoil|self-risingflour|NewMexico|tomato...\n",
              "3         vegetableoil|self-risingflour|NewMexico|tomato...\n",
              "4         vegetableoil|self-risingflour|NewMexico|tomato...\n",
              "                                ...                        \n",
              "151143    quinoarinsedanddrained|water|oliveoil|smalloni...\n",
              "151144    KRAFTRoastedRedPepperItalianwithParmesanDressi...\n",
              "151145    bonelessskinlesschickenbreasts|vegetableoil|li...\n",
              "151146    oliveoil|bagfreshspinach|artichokeheartsdraine...\n",
              "151147    cornsyrup|peanutbutter|semisweetchocolatechips...\n",
              "Name: ingredients, Length: 151148, dtype: object"
            ]
          },
          "metadata": {},
          "execution_count": 145
        }
      ]
    },
    {
      "cell_type": "code",
      "source": [
        "def split(x):\n",
        "    key_ans = x.split('|')\n",
        "    for key in key_ans:\n",
        "        if key not in key2index:\n",
        "            # Notice : input value 0 is a special \"padding\",so we do not use 0 to encode valid feature for sequence input\n",
        "            key2index[key] = len(key2index) + 1\n",
        "    return list(map(lambda x: key2index[x], key_ans))"
      ],
      "metadata": {
        "id": "rh0iW2AJ_Trk"
      },
      "execution_count": 146,
      "outputs": []
    },
    {
      "cell_type": "code",
      "source": [
        "df_mixed = df\n",
        "\n",
        "# since the rating is only 4 or 5, it can be treated as categorical value\n",
        "sparse_features_mixed = ['user_id', 'hour', 'category']\n",
        "variable_length_features = ['ingredients']\n",
        "target = ['rating']\n",
        "\n",
        "df_mixed[sparse_features_mixed] = df_mixed[sparse_features_mixed].fillna(0)\n",
        "\n",
        "label_encoders_mixed = {}\n",
        "for feature in sparse_features_mixed:\n",
        "  lbe = sklearn.preprocessing.LabelEncoder()\n",
        "  df_mixed[feature] = lbe.fit_transform(df_mixed[feature])\n",
        "  label_encoders_mixed[feature] = lbe\n",
        "\n",
        "train, test = train_test_split(df_mixed, test_size=0.25)\n",
        "\n",
        "# -------------------DIFFERENT FEATURES---------------------------------------------------------\n",
        "\n",
        "\n",
        "key2index = {}\n",
        "ingredients_list = list(map(split, df_mixed['ingredients'].values))\n",
        "ingredients_length = np.array(list(map(len, ingredients_list)))\n",
        "max_len = max(ingredients_length)\n",
        "\n",
        "feature_columns_mixed = [deepctr.feature_column.SparseFeat(feature, vocabulary_size = df_mixed[feature].max() + 1, embedding_dim=4) for feature in sparse_features_mixed]\n",
        "\n",
        "varlen_feature_columns = [deepctr.feature_column.VarLenSparseFeat(deepctr.feature_column.SparseFeat('ingredients', vocabulary_size=len(key2index) + 1, embedding_dim=4), maxlen=max_len, combiner='mean', weight_name=None)]\n",
        "\n",
        "dnn_feature_columns_mixed = feature_columns_mixed + varlen_feature_columns\n",
        "linear_feature_columns_mixed = feature_columns_mixed + varlen_feature_columns\n",
        "feature_names_mixed = deepctr.feature_column.get_feature_names(linear_feature_columns_mixed+dnn_feature_columns_mixed)\n"
      ],
      "metadata": {
        "id": "cdkm8EV665Iw"
      },
      "execution_count": 148,
      "outputs": []
    },
    {
      "cell_type": "code",
      "source": [
        "feature_names_mixed, varlen_feature_columns"
      ],
      "metadata": {
        "colab": {
          "base_uri": "https://localhost:8080/"
        },
        "id": "ktlmmWJHDORV",
        "outputId": "261d9369-97cd-4dea-f7c2-f2984cdacbd5"
      },
      "execution_count": 150,
      "outputs": [
        {
          "output_type": "execute_result",
          "data": {
            "text/plain": [
              "(['user_id', 'hour', 'category', 'ingredients'],\n",
              " [VarLenSparseFeat(sparsefeat=SparseFeat(name='ingredients', vocabulary_size=8750, embedding_dim=4, use_hash=False, vocabulary_path=None, dtype='int32', embeddings_initializer=<tensorflow.python.keras.initializers.initializers_v1.RandomNormal object at 0x7cdbdda20ca0>, embedding_name='ingredients', group_name='default_group', trainable=True), maxlen=28, combiner='mean', length_name=None, weight_name=None, weight_norm=True)])"
            ]
          },
          "metadata": {},
          "execution_count": 150
        }
      ]
    },
    {
      "cell_type": "code",
      "source": [
        "# ------------------FOR MODEL ------------------------------------------------------------------\n",
        "\n",
        "epochs = 5\n",
        "\n",
        "# getting the train and test data for the model input ready\n",
        "train_model_input_mixed = {name: train[name] for name in feature_names_mixed}\n",
        "train_model_input_mixed[\"ingredients\"] = ingredients_list\n",
        "train_model_input_mixed[\"ingredients_weight\"] = np.random.randn(df_mixed.shape[0], max_len, 1)\n",
        "\n",
        "test_model_input_mixed = {name: test[name] for name in feature_names_mixed}\n",
        "\n",
        "\n",
        "# -------------------------MODEL ---------------------------------------------------------------\n",
        "\n",
        "model_mixed = deepctr.models.DeepFM(linear_feature_columns_mixed, dnn_feature_columns_mixed, task='regression')\n",
        "\n",
        "model_mixed.compile('adam', 'mse', metrics=['mse'])\n",
        "model_mixed"
      ],
      "metadata": {
        "colab": {
          "base_uri": "https://localhost:8080/"
        },
        "id": "qWNgARPwDdUX",
        "outputId": "e291a54c-40da-44c6-ce03-f1480b087b7a"
      },
      "execution_count": 152,
      "outputs": [
        {
          "output_type": "execute_result",
          "data": {
            "text/plain": [
              "<tensorflow.python.keras.engine.functional.Functional at 0x7cdbd0423940>"
            ]
          },
          "metadata": {},
          "execution_count": 152
        }
      ]
    },
    {
      "cell_type": "markdown",
      "source": [
        "## Colab Disconnected!"
      ],
      "metadata": {
        "id": "F2CEIkLvDwgv"
      }
    },
    {
      "cell_type": "code",
      "source": [
        "print('model training started')\n",
        "history_mixed = model_mixed.fit(train_model_input_mixed, train[target].values, batch_size=32, epochs = epochs, verbose = 1, validation_split = 0.2)\n",
        "\n",
        "mse_mixed = model_mixed.evaluate(test_model_input_mixed, test[target].values, batch_size=32)[1]\n",
        "print(f'MSE IS :{mse_mixed}')\n",
        "# ----------------------------------------------------------------------------------"
      ],
      "metadata": {
        "colab": {
          "base_uri": "https://localhost:8080/"
        },
        "id": "5ZhyTjoBDMT3",
        "outputId": "84d4b77b-f874-4040-a6d6-7ff1cd5d3a50"
      },
      "execution_count": null,
      "outputs": [
        {
          "output_type": "stream",
          "name": "stdout",
          "text": [
            "model training started\n"
          ]
        }
      ]
    },
    {
      "cell_type": "code",
      "source": [
        "\n",
        "loss = history_mixed.history['loss']\n",
        "val_loss = history_mixed.history['val_loss']\n",
        "\n",
        "epoch_arr = list(range(1, epochs+1))\n",
        "\n",
        "# Plotting the Loss\n",
        "plt.figure(figsize=(12, 6))\n",
        "\n",
        "plt.subplot(1, 2, 1)\n",
        "plt.plot(epoch_arr, loss, 'b-', label='Training loss', color='blue')\n",
        "plt.plot(epoch_arr, val_loss, 'r--', label='Validation loss', color='lightcoral')\n",
        "plt.title('Training and Validation Loss with DeepFM')\n",
        "ax = plt.gca()\n",
        "ax.set_xlim([0,20])\n",
        "ax.set_ylim([0,0.1])\n",
        "plt.xlabel('Epochs')\n",
        "plt.ylabel('Loss')\n",
        "plt.legend()\n",
        "plt.show()"
      ],
      "metadata": {
        "id": "XCzQFabt65Do"
      },
      "execution_count": null,
      "outputs": []
    },
    {
      "cell_type": "code",
      "source": [],
      "metadata": {
        "id": "G1jZzMhr65Bo"
      },
      "execution_count": null,
      "outputs": []
    },
    {
      "cell_type": "code",
      "source": [],
      "metadata": {
        "id": "OXeq8kZ164_h"
      },
      "execution_count": null,
      "outputs": []
    }
  ]
}