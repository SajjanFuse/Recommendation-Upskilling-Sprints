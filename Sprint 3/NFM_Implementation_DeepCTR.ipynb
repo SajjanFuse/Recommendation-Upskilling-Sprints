{
 "cells": [
  {
   "cell_type": "code",
   "execution_count": null,
   "metadata": {
    "colab": {
     "base_uri": "https://localhost:8080/"
    },
    "id": "Q4qPJ_ClAiLg",
    "outputId": "a0255eb3-2fb3-41a9-a660-76a3b3317737"
   },
   "outputs": [
    {
     "name": "stdout",
     "output_type": "stream",
     "text": [
      "\u001b[2K     \u001b[90m━━━━━━━━━━━━━━━━━━━━━━━━━━━━━━━━━━━━━━━━\u001b[0m \u001b[32m497.6/497.6 MB\u001b[0m \u001b[31m3.0 MB/s\u001b[0m eta \u001b[36m0:00:00\u001b[0m\n",
      "\u001b[2K     \u001b[90m━━━━━━━━━━━━━━━━━━━━━━━━━━━━━━━━━━━━━━━━\u001b[0m \u001b[32m42.6/42.6 kB\u001b[0m \u001b[31m3.9 MB/s\u001b[0m eta \u001b[36m0:00:00\u001b[0m\n",
      "\u001b[2K     \u001b[90m━━━━━━━━━━━━━━━━━━━━━━━━━━━━━━━━━━━━━━━━\u001b[0m \u001b[32m5.8/5.8 MB\u001b[0m \u001b[31m63.6 MB/s\u001b[0m eta \u001b[36m0:00:00\u001b[0m\n",
      "\u001b[2K     \u001b[90m━━━━━━━━━━━━━━━━━━━━━━━━━━━━━━━━━━━━━━━━\u001b[0m \u001b[32m462.5/462.5 kB\u001b[0m \u001b[31m33.3 MB/s\u001b[0m eta \u001b[36m0:00:00\u001b[0m\n",
      "\u001b[2K     \u001b[90m━━━━━━━━━━━━━━━━━━━━━━━━━━━━━━━━━━━━━━━━\u001b[0m \u001b[32m1.4/1.4 MB\u001b[0m \u001b[31m52.9 MB/s\u001b[0m eta \u001b[36m0:00:00\u001b[0m\n",
      "\u001b[2K     \u001b[90m━━━━━━━━━━━━━━━━━━━━━━━━━━━━━━━━━━━━━━━━\u001b[0m \u001b[32m4.9/4.9 MB\u001b[0m \u001b[31m45.0 MB/s\u001b[0m eta \u001b[36m0:00:00\u001b[0m\n",
      "\u001b[2K     \u001b[90m━━━━━━━━━━━━━━━━━━━━━━━━━━━━━━━━━━━━━━━━\u001b[0m \u001b[32m781.3/781.3 kB\u001b[0m \u001b[31m51.2 MB/s\u001b[0m eta \u001b[36m0:00:00\u001b[0m\n",
      "\u001b[?25h\u001b[31mERROR: pip's dependency resolver does not currently take into account all the packages that are installed. This behaviour is the source of the following dependency conflicts.\n",
      "pandas-gbq 0.19.2 requires google-auth-oauthlib>=0.7.0, but you have google-auth-oauthlib 0.4.6 which is incompatible.\u001b[0m\u001b[31m\n",
      "\u001b[2K     \u001b[90m━━━━━━━━━━━━━━━━━━━━━━━━━━━━━━━━━━━━━━━━\u001b[0m \u001b[32m141.2/141.2 kB\u001b[0m \u001b[31m1.8 MB/s\u001b[0m eta \u001b[36m0:00:00\u001b[0m\n",
      "\u001b[2K     \u001b[90m━━━━━━━━━━━━━━━━━━━━━━━━━━━━━━━━━━━━━━━━\u001b[0m \u001b[32m4.5/4.5 MB\u001b[0m \u001b[31m25.4 MB/s\u001b[0m eta \u001b[36m0:00:00\u001b[0m\n",
      "\u001b[?25h"
     ]
    }
   ],
   "source": [
    "! pip uninstall -y -q tensorflow\n",
    "! pip install -q tensorflow-gpu==2.8.0\n",
    "! pip install -q deepmatch"
   ]
  },
  {
   "cell_type": "markdown",
   "metadata": {
    "id": "S3cefa8Fg-GT"
   },
   "source": [
    "# DeepFM With Estimator"
   ]
  },
  {
   "cell_type": "code",
   "execution_count": 1,
   "metadata": {
    "id": "9aPhynoH5cOM"
   },
   "outputs": [],
   "source": [
    "import pandas as pd\n",
    "import numpy as np\n",
    "import sklearn"
   ]
  },
  {
   "cell_type": "code",
   "execution_count": 291,
   "metadata": {
    "colab": {
     "base_uri": "https://localhost:8080/",
     "height": 251
    },
    "id": "GAQptanqAlvW",
    "outputId": "97fcb1ad-7e50-4852-dc3d-d9cb94bb39bf"
   },
   "outputs": [
    {
     "data": {
      "application/vnd.google.colaboratory.intrinsic+json": {
       "summary": "{\n  \"name\": \"df\",\n  \"rows\": 10000,\n  \"fields\": [\n    {\n      \"column\": \"Daily Time Spent on Site\",\n      \"properties\": {\n        \"dtype\": \"number\",\n        \"std\": 15.704141935309405,\n        \"min\": 32.6,\n        \"max\": 90.97,\n        \"num_unique_values\": 460,\n        \"samples\": [\n          81.58,\n          57.24,\n          74.07\n        ],\n        \"semantic_type\": \"\",\n        \"description\": \"\"\n      }\n    },\n    {\n      \"column\": \"Age\",\n      \"properties\": {\n        \"dtype\": \"number\",\n        \"std\": 8.572972738563772,\n        \"min\": 19.0,\n        \"max\": 60.0,\n        \"num_unique_values\": 39,\n        \"samples\": [\n          60.0,\n          48.0,\n          26.0\n        ],\n        \"semantic_type\": \"\",\n        \"description\": \"\"\n      }\n    },\n    {\n      \"column\": \"Area Income\",\n      \"properties\": {\n        \"dtype\": \"number\",\n        \"std\": 13343.708717688587,\n        \"min\": 13996.5,\n        \"max\": 79332.33,\n        \"num_unique_values\": 524,\n        \"samples\": [\n          42760.22,\n          56593.8,\n          73538.09\n        ],\n        \"semantic_type\": \"\",\n        \"description\": \"\"\n      }\n    },\n    {\n      \"column\": \"Daily Internet Usage\",\n      \"properties\": {\n        \"dtype\": \"number\",\n        \"std\": 40.820951456932306,\n        \"min\": 105.22,\n        \"max\": 269.96,\n        \"num_unique_values\": 505,\n        \"samples\": [\n          223.03,\n          124.54,\n          171.9\n        ],\n        \"semantic_type\": \"\",\n        \"description\": \"\"\n      }\n    },\n    {\n      \"column\": \"Ad Topic Line\",\n      \"properties\": {\n        \"dtype\": \"category\",\n        \"num_unique_values\": 559,\n        \"samples\": [\n          \"Extended systemic policy\",\n          \"Organic bottom-line service-desk\",\n          \"Enhanced homogeneous moderator\"\n        ],\n        \"semantic_type\": \"\",\n        \"description\": \"\"\n      }\n    },\n    {\n      \"column\": \"City\",\n      \"properties\": {\n        \"dtype\": \"category\",\n        \"num_unique_values\": 521,\n        \"samples\": [\n          \"North Garyhaven\",\n          \"Port Jodi\",\n          \"Port Jeffrey\"\n        ],\n        \"semantic_type\": \"\",\n        \"description\": \"\"\n      }\n    },\n    {\n      \"column\": \"Gender\",\n      \"properties\": {\n        \"dtype\": \"category\",\n        \"num_unique_values\": 2,\n        \"samples\": [\n          \"Female\",\n          \"Male\"\n        ],\n        \"semantic_type\": \"\",\n        \"description\": \"\"\n      }\n    },\n    {\n      \"column\": \"Country\",\n      \"properties\": {\n        \"dtype\": \"category\",\n        \"num_unique_values\": 207,\n        \"samples\": [\n          \"Central African Republic\",\n          \"Saint Pierre and Miquelon\"\n        ],\n        \"semantic_type\": \"\",\n        \"description\": \"\"\n      }\n    },\n    {\n      \"column\": \"Timestamp\",\n      \"properties\": {\n        \"dtype\": \"object\",\n        \"num_unique_values\": 567,\n        \"samples\": [\n          \"2016-02-14 22:23:30\",\n          \"2016-07-07 13:37:34\"\n        ],\n        \"semantic_type\": \"\",\n        \"description\": \"\"\n      }\n    },\n    {\n      \"column\": \"Clicked on Ad\",\n      \"properties\": {\n        \"dtype\": \"number\",\n        \"std\": 0,\n        \"min\": 0,\n        \"max\": 1,\n        \"num_unique_values\": 2,\n        \"samples\": [\n          1,\n          0\n        ],\n        \"semantic_type\": \"\",\n        \"description\": \"\"\n      }\n    }\n  ]\n}",
       "type": "dataframe",
       "variable_name": "df"
      },
      "text/html": [
       "\n",
       "  <div id=\"df-93aac344-81b7-4a98-9a90-965a6f948b9c\" class=\"colab-df-container\">\n",
       "    <div>\n",
       "<style scoped>\n",
       "    .dataframe tbody tr th:only-of-type {\n",
       "        vertical-align: middle;\n",
       "    }\n",
       "\n",
       "    .dataframe tbody tr th {\n",
       "        vertical-align: top;\n",
       "    }\n",
       "\n",
       "    .dataframe thead th {\n",
       "        text-align: right;\n",
       "    }\n",
       "</style>\n",
       "<table border=\"1\" class=\"dataframe\">\n",
       "  <thead>\n",
       "    <tr style=\"text-align: right;\">\n",
       "      <th></th>\n",
       "      <th>Daily Time Spent on Site</th>\n",
       "      <th>Age</th>\n",
       "      <th>Area Income</th>\n",
       "      <th>Daily Internet Usage</th>\n",
       "      <th>Ad Topic Line</th>\n",
       "      <th>City</th>\n",
       "      <th>Gender</th>\n",
       "      <th>Country</th>\n",
       "      <th>Timestamp</th>\n",
       "      <th>Clicked on Ad</th>\n",
       "    </tr>\n",
       "  </thead>\n",
       "  <tbody>\n",
       "    <tr>\n",
       "      <th>0</th>\n",
       "      <td>62.26</td>\n",
       "      <td>32.0</td>\n",
       "      <td>69481.85</td>\n",
       "      <td>172.83</td>\n",
       "      <td>Decentralized real-time circuit</td>\n",
       "      <td>Lisafort</td>\n",
       "      <td>Male</td>\n",
       "      <td>Svalbard &amp; Jan Mayen Islands</td>\n",
       "      <td>2016-06-09 21:43:05</td>\n",
       "      <td>0</td>\n",
       "    </tr>\n",
       "    <tr>\n",
       "      <th>1</th>\n",
       "      <td>41.73</td>\n",
       "      <td>31.0</td>\n",
       "      <td>61840.26</td>\n",
       "      <td>207.17</td>\n",
       "      <td>Optional full-range projection</td>\n",
       "      <td>West Angelabury</td>\n",
       "      <td>Male</td>\n",
       "      <td>Singapore</td>\n",
       "      <td>2016-01-16 17:56:05</td>\n",
       "      <td>0</td>\n",
       "    </tr>\n",
       "  </tbody>\n",
       "</table>\n",
       "</div>\n",
       "    <div class=\"colab-df-buttons\">\n",
       "\n",
       "  <div class=\"colab-df-container\">\n",
       "    <button class=\"colab-df-convert\" onclick=\"convertToInteractive('df-93aac344-81b7-4a98-9a90-965a6f948b9c')\"\n",
       "            title=\"Convert this dataframe to an interactive table.\"\n",
       "            style=\"display:none;\">\n",
       "\n",
       "  <svg xmlns=\"http://www.w3.org/2000/svg\" height=\"24px\" viewBox=\"0 -960 960 960\">\n",
       "    <path d=\"M120-120v-720h720v720H120Zm60-500h600v-160H180v160Zm220 220h160v-160H400v160Zm0 220h160v-160H400v160ZM180-400h160v-160H180v160Zm440 0h160v-160H620v160ZM180-180h160v-160H180v160Zm440 0h160v-160H620v160Z\"/>\n",
       "  </svg>\n",
       "    </button>\n",
       "\n",
       "  <style>\n",
       "    .colab-df-container {\n",
       "      display:flex;\n",
       "      gap: 12px;\n",
       "    }\n",
       "\n",
       "    .colab-df-convert {\n",
       "      background-color: #E8F0FE;\n",
       "      border: none;\n",
       "      border-radius: 50%;\n",
       "      cursor: pointer;\n",
       "      display: none;\n",
       "      fill: #1967D2;\n",
       "      height: 32px;\n",
       "      padding: 0 0 0 0;\n",
       "      width: 32px;\n",
       "    }\n",
       "\n",
       "    .colab-df-convert:hover {\n",
       "      background-color: #E2EBFA;\n",
       "      box-shadow: 0px 1px 2px rgba(60, 64, 67, 0.3), 0px 1px 3px 1px rgba(60, 64, 67, 0.15);\n",
       "      fill: #174EA6;\n",
       "    }\n",
       "\n",
       "    .colab-df-buttons div {\n",
       "      margin-bottom: 4px;\n",
       "    }\n",
       "\n",
       "    [theme=dark] .colab-df-convert {\n",
       "      background-color: #3B4455;\n",
       "      fill: #D2E3FC;\n",
       "    }\n",
       "\n",
       "    [theme=dark] .colab-df-convert:hover {\n",
       "      background-color: #434B5C;\n",
       "      box-shadow: 0px 1px 3px 1px rgba(0, 0, 0, 0.15);\n",
       "      filter: drop-shadow(0px 1px 2px rgba(0, 0, 0, 0.3));\n",
       "      fill: #FFFFFF;\n",
       "    }\n",
       "  </style>\n",
       "\n",
       "    <script>\n",
       "      const buttonEl =\n",
       "        document.querySelector('#df-93aac344-81b7-4a98-9a90-965a6f948b9c button.colab-df-convert');\n",
       "      buttonEl.style.display =\n",
       "        google.colab.kernel.accessAllowed ? 'block' : 'none';\n",
       "\n",
       "      async function convertToInteractive(key) {\n",
       "        const element = document.querySelector('#df-93aac344-81b7-4a98-9a90-965a6f948b9c');\n",
       "        const dataTable =\n",
       "          await google.colab.kernel.invokeFunction('convertToInteractive',\n",
       "                                                    [key], {});\n",
       "        if (!dataTable) return;\n",
       "\n",
       "        const docLinkHtml = 'Like what you see? Visit the ' +\n",
       "          '<a target=\"_blank\" href=https://colab.research.google.com/notebooks/data_table.ipynb>data table notebook</a>'\n",
       "          + ' to learn more about interactive tables.';\n",
       "        element.innerHTML = '';\n",
       "        dataTable['output_type'] = 'display_data';\n",
       "        await google.colab.output.renderOutput(dataTable, element);\n",
       "        const docLink = document.createElement('div');\n",
       "        docLink.innerHTML = docLinkHtml;\n",
       "        element.appendChild(docLink);\n",
       "      }\n",
       "    </script>\n",
       "  </div>\n",
       "\n",
       "\n",
       "<div id=\"df-bd42a003-3c77-431e-a56f-6274a575e69a\">\n",
       "  <button class=\"colab-df-quickchart\" onclick=\"quickchart('df-bd42a003-3c77-431e-a56f-6274a575e69a')\"\n",
       "            title=\"Suggest charts\"\n",
       "            style=\"display:none;\">\n",
       "\n",
       "<svg xmlns=\"http://www.w3.org/2000/svg\" height=\"24px\"viewBox=\"0 0 24 24\"\n",
       "     width=\"24px\">\n",
       "    <g>\n",
       "        <path d=\"M19 3H5c-1.1 0-2 .9-2 2v14c0 1.1.9 2 2 2h14c1.1 0 2-.9 2-2V5c0-1.1-.9-2-2-2zM9 17H7v-7h2v7zm4 0h-2V7h2v10zm4 0h-2v-4h2v4z\"/>\n",
       "    </g>\n",
       "</svg>\n",
       "  </button>\n",
       "\n",
       "<style>\n",
       "  .colab-df-quickchart {\n",
       "      --bg-color: #E8F0FE;\n",
       "      --fill-color: #1967D2;\n",
       "      --hover-bg-color: #E2EBFA;\n",
       "      --hover-fill-color: #174EA6;\n",
       "      --disabled-fill-color: #AAA;\n",
       "      --disabled-bg-color: #DDD;\n",
       "  }\n",
       "\n",
       "  [theme=dark] .colab-df-quickchart {\n",
       "      --bg-color: #3B4455;\n",
       "      --fill-color: #D2E3FC;\n",
       "      --hover-bg-color: #434B5C;\n",
       "      --hover-fill-color: #FFFFFF;\n",
       "      --disabled-bg-color: #3B4455;\n",
       "      --disabled-fill-color: #666;\n",
       "  }\n",
       "\n",
       "  .colab-df-quickchart {\n",
       "    background-color: var(--bg-color);\n",
       "    border: none;\n",
       "    border-radius: 50%;\n",
       "    cursor: pointer;\n",
       "    display: none;\n",
       "    fill: var(--fill-color);\n",
       "    height: 32px;\n",
       "    padding: 0;\n",
       "    width: 32px;\n",
       "  }\n",
       "\n",
       "  .colab-df-quickchart:hover {\n",
       "    background-color: var(--hover-bg-color);\n",
       "    box-shadow: 0 1px 2px rgba(60, 64, 67, 0.3), 0 1px 3px 1px rgba(60, 64, 67, 0.15);\n",
       "    fill: var(--button-hover-fill-color);\n",
       "  }\n",
       "\n",
       "  .colab-df-quickchart-complete:disabled,\n",
       "  .colab-df-quickchart-complete:disabled:hover {\n",
       "    background-color: var(--disabled-bg-color);\n",
       "    fill: var(--disabled-fill-color);\n",
       "    box-shadow: none;\n",
       "  }\n",
       "\n",
       "  .colab-df-spinner {\n",
       "    border: 2px solid var(--fill-color);\n",
       "    border-color: transparent;\n",
       "    border-bottom-color: var(--fill-color);\n",
       "    animation:\n",
       "      spin 1s steps(1) infinite;\n",
       "  }\n",
       "\n",
       "  @keyframes spin {\n",
       "    0% {\n",
       "      border-color: transparent;\n",
       "      border-bottom-color: var(--fill-color);\n",
       "      border-left-color: var(--fill-color);\n",
       "    }\n",
       "    20% {\n",
       "      border-color: transparent;\n",
       "      border-left-color: var(--fill-color);\n",
       "      border-top-color: var(--fill-color);\n",
       "    }\n",
       "    30% {\n",
       "      border-color: transparent;\n",
       "      border-left-color: var(--fill-color);\n",
       "      border-top-color: var(--fill-color);\n",
       "      border-right-color: var(--fill-color);\n",
       "    }\n",
       "    40% {\n",
       "      border-color: transparent;\n",
       "      border-right-color: var(--fill-color);\n",
       "      border-top-color: var(--fill-color);\n",
       "    }\n",
       "    60% {\n",
       "      border-color: transparent;\n",
       "      border-right-color: var(--fill-color);\n",
       "    }\n",
       "    80% {\n",
       "      border-color: transparent;\n",
       "      border-right-color: var(--fill-color);\n",
       "      border-bottom-color: var(--fill-color);\n",
       "    }\n",
       "    90% {\n",
       "      border-color: transparent;\n",
       "      border-bottom-color: var(--fill-color);\n",
       "    }\n",
       "  }\n",
       "</style>\n",
       "\n",
       "  <script>\n",
       "    async function quickchart(key) {\n",
       "      const quickchartButtonEl =\n",
       "        document.querySelector('#' + key + ' button');\n",
       "      quickchartButtonEl.disabled = true;  // To prevent multiple clicks.\n",
       "      quickchartButtonEl.classList.add('colab-df-spinner');\n",
       "      try {\n",
       "        const charts = await google.colab.kernel.invokeFunction(\n",
       "            'suggestCharts', [key], {});\n",
       "      } catch (error) {\n",
       "        console.error('Error during call to suggestCharts:', error);\n",
       "      }\n",
       "      quickchartButtonEl.classList.remove('colab-df-spinner');\n",
       "      quickchartButtonEl.classList.add('colab-df-quickchart-complete');\n",
       "    }\n",
       "    (() => {\n",
       "      let quickchartButtonEl =\n",
       "        document.querySelector('#df-bd42a003-3c77-431e-a56f-6274a575e69a button');\n",
       "      quickchartButtonEl.style.display =\n",
       "        google.colab.kernel.accessAllowed ? 'block' : 'none';\n",
       "    })();\n",
       "  </script>\n",
       "</div>\n",
       "    </div>\n",
       "  </div>\n"
      ],
      "text/plain": [
       "   Daily Time Spent on Site   Age  Area Income  Daily Internet Usage  \\\n",
       "0                     62.26  32.0     69481.85                172.83   \n",
       "1                     41.73  31.0     61840.26                207.17   \n",
       "\n",
       "                     Ad Topic Line             City Gender  \\\n",
       "0  Decentralized real-time circuit         Lisafort   Male   \n",
       "1   Optional full-range projection  West Angelabury   Male   \n",
       "\n",
       "                        Country            Timestamp  Clicked on Ad  \n",
       "0  Svalbard & Jan Mayen Islands  2016-06-09 21:43:05              0  \n",
       "1                     Singapore  2016-01-16 17:56:05              0  "
      ]
     },
     "execution_count": 291,
     "metadata": {},
     "output_type": "execute_result"
    }
   ],
   "source": [
    "df_org = pd.read_csv('/content/ad_10000records.csv')\n",
    "df = df_org\n",
    "df.head(2)"
   ]
  },
  {
   "cell_type": "code",
   "execution_count": 291,
   "metadata": {
    "id": "ustBcoZN0Qjg"
   },
   "outputs": [],
   "source": []
  },
  {
   "cell_type": "code",
   "execution_count": 292,
   "metadata": {
    "colab": {
     "base_uri": "https://localhost:8080/",
     "height": 219
    },
    "id": "lelTaAtUBqk6",
    "outputId": "3502804d-cec8-4ba1-aba3-04c465b1c836"
   },
   "outputs": [
    {
     "data": {
      "application/vnd.google.colaboratory.intrinsic+json": {
       "summary": "{\n  \"name\": \"df\",\n  \"rows\": 10000,\n  \"fields\": [\n    {\n      \"column\": \"daily_time_on_site\",\n      \"properties\": {\n        \"dtype\": \"number\",\n        \"std\": 15.704141935309405,\n        \"min\": 32.6,\n        \"max\": 90.97,\n        \"num_unique_values\": 460,\n        \"samples\": [\n          81.58,\n          57.24,\n          74.07\n        ],\n        \"semantic_type\": \"\",\n        \"description\": \"\"\n      }\n    },\n    {\n      \"column\": \"Age\",\n      \"properties\": {\n        \"dtype\": \"number\",\n        \"std\": 8.572972738563772,\n        \"min\": 19.0,\n        \"max\": 60.0,\n        \"num_unique_values\": 39,\n        \"samples\": [\n          60.0,\n          48.0,\n          26.0\n        ],\n        \"semantic_type\": \"\",\n        \"description\": \"\"\n      }\n    },\n    {\n      \"column\": \"Area_Income\",\n      \"properties\": {\n        \"dtype\": \"number\",\n        \"std\": 13343.708717688587,\n        \"min\": 13996.5,\n        \"max\": 79332.33,\n        \"num_unique_values\": 524,\n        \"samples\": [\n          42760.22,\n          56593.8,\n          73538.09\n        ],\n        \"semantic_type\": \"\",\n        \"description\": \"\"\n      }\n    },\n    {\n      \"column\": \"Daily_Internet_Usage\",\n      \"properties\": {\n        \"dtype\": \"number\",\n        \"std\": 40.820951456932306,\n        \"min\": 105.22,\n        \"max\": 269.96,\n        \"num_unique_values\": 505,\n        \"samples\": [\n          223.03,\n          124.54,\n          171.9\n        ],\n        \"semantic_type\": \"\",\n        \"description\": \"\"\n      }\n    },\n    {\n      \"column\": \"Ad_Topic_Line\",\n      \"properties\": {\n        \"dtype\": \"category\",\n        \"num_unique_values\": 559,\n        \"samples\": [\n          \"Extended systemic policy\",\n          \"Organic bottom-line service-desk\",\n          \"Enhanced homogeneous moderator\"\n        ],\n        \"semantic_type\": \"\",\n        \"description\": \"\"\n      }\n    },\n    {\n      \"column\": \"City\",\n      \"properties\": {\n        \"dtype\": \"category\",\n        \"num_unique_values\": 521,\n        \"samples\": [\n          \"North Garyhaven\",\n          \"Port Jodi\",\n          \"Port Jeffrey\"\n        ],\n        \"semantic_type\": \"\",\n        \"description\": \"\"\n      }\n    },\n    {\n      \"column\": \"Gender\",\n      \"properties\": {\n        \"dtype\": \"category\",\n        \"num_unique_values\": 2,\n        \"samples\": [\n          \"Female\",\n          \"Male\"\n        ],\n        \"semantic_type\": \"\",\n        \"description\": \"\"\n      }\n    },\n    {\n      \"column\": \"Country\",\n      \"properties\": {\n        \"dtype\": \"category\",\n        \"num_unique_values\": 207,\n        \"samples\": [\n          \"Central African Republic\",\n          \"Saint Pierre and Miquelon\"\n        ],\n        \"semantic_type\": \"\",\n        \"description\": \"\"\n      }\n    },\n    {\n      \"column\": \"Timestamp\",\n      \"properties\": {\n        \"dtype\": \"object\",\n        \"num_unique_values\": 567,\n        \"samples\": [\n          \"2016-02-14 22:23:30\",\n          \"2016-07-07 13:37:34\"\n        ],\n        \"semantic_type\": \"\",\n        \"description\": \"\"\n      }\n    },\n    {\n      \"column\": \"Clicked_on_Ad\",\n      \"properties\": {\n        \"dtype\": \"number\",\n        \"std\": 0,\n        \"min\": 0,\n        \"max\": 1,\n        \"num_unique_values\": 2,\n        \"samples\": [\n          1,\n          0\n        ],\n        \"semantic_type\": \"\",\n        \"description\": \"\"\n      }\n    }\n  ]\n}",
       "type": "dataframe",
       "variable_name": "df"
      },
      "text/html": [
       "\n",
       "  <div id=\"df-aacbf81f-5b5a-4f7b-a44f-5280b49092e2\" class=\"colab-df-container\">\n",
       "    <div>\n",
       "<style scoped>\n",
       "    .dataframe tbody tr th:only-of-type {\n",
       "        vertical-align: middle;\n",
       "    }\n",
       "\n",
       "    .dataframe tbody tr th {\n",
       "        vertical-align: top;\n",
       "    }\n",
       "\n",
       "    .dataframe thead th {\n",
       "        text-align: right;\n",
       "    }\n",
       "</style>\n",
       "<table border=\"1\" class=\"dataframe\">\n",
       "  <thead>\n",
       "    <tr style=\"text-align: right;\">\n",
       "      <th></th>\n",
       "      <th>daily_time_on_site</th>\n",
       "      <th>Age</th>\n",
       "      <th>Area_Income</th>\n",
       "      <th>Daily_Internet_Usage</th>\n",
       "      <th>Ad_Topic_Line</th>\n",
       "      <th>City</th>\n",
       "      <th>Gender</th>\n",
       "      <th>Country</th>\n",
       "      <th>Timestamp</th>\n",
       "      <th>Clicked_on_Ad</th>\n",
       "    </tr>\n",
       "  </thead>\n",
       "  <tbody>\n",
       "    <tr>\n",
       "      <th>0</th>\n",
       "      <td>62.26</td>\n",
       "      <td>32.0</td>\n",
       "      <td>69481.85</td>\n",
       "      <td>172.83</td>\n",
       "      <td>Decentralized real-time circuit</td>\n",
       "      <td>Lisafort</td>\n",
       "      <td>Male</td>\n",
       "      <td>Svalbard &amp; Jan Mayen Islands</td>\n",
       "      <td>2016-06-09 21:43:05</td>\n",
       "      <td>0</td>\n",
       "    </tr>\n",
       "    <tr>\n",
       "      <th>1</th>\n",
       "      <td>41.73</td>\n",
       "      <td>31.0</td>\n",
       "      <td>61840.26</td>\n",
       "      <td>207.17</td>\n",
       "      <td>Optional full-range projection</td>\n",
       "      <td>West Angelabury</td>\n",
       "      <td>Male</td>\n",
       "      <td>Singapore</td>\n",
       "      <td>2016-01-16 17:56:05</td>\n",
       "      <td>0</td>\n",
       "    </tr>\n",
       "  </tbody>\n",
       "</table>\n",
       "</div>\n",
       "    <div class=\"colab-df-buttons\">\n",
       "\n",
       "  <div class=\"colab-df-container\">\n",
       "    <button class=\"colab-df-convert\" onclick=\"convertToInteractive('df-aacbf81f-5b5a-4f7b-a44f-5280b49092e2')\"\n",
       "            title=\"Convert this dataframe to an interactive table.\"\n",
       "            style=\"display:none;\">\n",
       "\n",
       "  <svg xmlns=\"http://www.w3.org/2000/svg\" height=\"24px\" viewBox=\"0 -960 960 960\">\n",
       "    <path d=\"M120-120v-720h720v720H120Zm60-500h600v-160H180v160Zm220 220h160v-160H400v160Zm0 220h160v-160H400v160ZM180-400h160v-160H180v160Zm440 0h160v-160H620v160ZM180-180h160v-160H180v160Zm440 0h160v-160H620v160Z\"/>\n",
       "  </svg>\n",
       "    </button>\n",
       "\n",
       "  <style>\n",
       "    .colab-df-container {\n",
       "      display:flex;\n",
       "      gap: 12px;\n",
       "    }\n",
       "\n",
       "    .colab-df-convert {\n",
       "      background-color: #E8F0FE;\n",
       "      border: none;\n",
       "      border-radius: 50%;\n",
       "      cursor: pointer;\n",
       "      display: none;\n",
       "      fill: #1967D2;\n",
       "      height: 32px;\n",
       "      padding: 0 0 0 0;\n",
       "      width: 32px;\n",
       "    }\n",
       "\n",
       "    .colab-df-convert:hover {\n",
       "      background-color: #E2EBFA;\n",
       "      box-shadow: 0px 1px 2px rgba(60, 64, 67, 0.3), 0px 1px 3px 1px rgba(60, 64, 67, 0.15);\n",
       "      fill: #174EA6;\n",
       "    }\n",
       "\n",
       "    .colab-df-buttons div {\n",
       "      margin-bottom: 4px;\n",
       "    }\n",
       "\n",
       "    [theme=dark] .colab-df-convert {\n",
       "      background-color: #3B4455;\n",
       "      fill: #D2E3FC;\n",
       "    }\n",
       "\n",
       "    [theme=dark] .colab-df-convert:hover {\n",
       "      background-color: #434B5C;\n",
       "      box-shadow: 0px 1px 3px 1px rgba(0, 0, 0, 0.15);\n",
       "      filter: drop-shadow(0px 1px 2px rgba(0, 0, 0, 0.3));\n",
       "      fill: #FFFFFF;\n",
       "    }\n",
       "  </style>\n",
       "\n",
       "    <script>\n",
       "      const buttonEl =\n",
       "        document.querySelector('#df-aacbf81f-5b5a-4f7b-a44f-5280b49092e2 button.colab-df-convert');\n",
       "      buttonEl.style.display =\n",
       "        google.colab.kernel.accessAllowed ? 'block' : 'none';\n",
       "\n",
       "      async function convertToInteractive(key) {\n",
       "        const element = document.querySelector('#df-aacbf81f-5b5a-4f7b-a44f-5280b49092e2');\n",
       "        const dataTable =\n",
       "          await google.colab.kernel.invokeFunction('convertToInteractive',\n",
       "                                                    [key], {});\n",
       "        if (!dataTable) return;\n",
       "\n",
       "        const docLinkHtml = 'Like what you see? Visit the ' +\n",
       "          '<a target=\"_blank\" href=https://colab.research.google.com/notebooks/data_table.ipynb>data table notebook</a>'\n",
       "          + ' to learn more about interactive tables.';\n",
       "        element.innerHTML = '';\n",
       "        dataTable['output_type'] = 'display_data';\n",
       "        await google.colab.output.renderOutput(dataTable, element);\n",
       "        const docLink = document.createElement('div');\n",
       "        docLink.innerHTML = docLinkHtml;\n",
       "        element.appendChild(docLink);\n",
       "      }\n",
       "    </script>\n",
       "  </div>\n",
       "\n",
       "\n",
       "<div id=\"df-a2f1bb3a-11e1-4ba3-823a-802c0107ce4b\">\n",
       "  <button class=\"colab-df-quickchart\" onclick=\"quickchart('df-a2f1bb3a-11e1-4ba3-823a-802c0107ce4b')\"\n",
       "            title=\"Suggest charts\"\n",
       "            style=\"display:none;\">\n",
       "\n",
       "<svg xmlns=\"http://www.w3.org/2000/svg\" height=\"24px\"viewBox=\"0 0 24 24\"\n",
       "     width=\"24px\">\n",
       "    <g>\n",
       "        <path d=\"M19 3H5c-1.1 0-2 .9-2 2v14c0 1.1.9 2 2 2h14c1.1 0 2-.9 2-2V5c0-1.1-.9-2-2-2zM9 17H7v-7h2v7zm4 0h-2V7h2v10zm4 0h-2v-4h2v4z\"/>\n",
       "    </g>\n",
       "</svg>\n",
       "  </button>\n",
       "\n",
       "<style>\n",
       "  .colab-df-quickchart {\n",
       "      --bg-color: #E8F0FE;\n",
       "      --fill-color: #1967D2;\n",
       "      --hover-bg-color: #E2EBFA;\n",
       "      --hover-fill-color: #174EA6;\n",
       "      --disabled-fill-color: #AAA;\n",
       "      --disabled-bg-color: #DDD;\n",
       "  }\n",
       "\n",
       "  [theme=dark] .colab-df-quickchart {\n",
       "      --bg-color: #3B4455;\n",
       "      --fill-color: #D2E3FC;\n",
       "      --hover-bg-color: #434B5C;\n",
       "      --hover-fill-color: #FFFFFF;\n",
       "      --disabled-bg-color: #3B4455;\n",
       "      --disabled-fill-color: #666;\n",
       "  }\n",
       "\n",
       "  .colab-df-quickchart {\n",
       "    background-color: var(--bg-color);\n",
       "    border: none;\n",
       "    border-radius: 50%;\n",
       "    cursor: pointer;\n",
       "    display: none;\n",
       "    fill: var(--fill-color);\n",
       "    height: 32px;\n",
       "    padding: 0;\n",
       "    width: 32px;\n",
       "  }\n",
       "\n",
       "  .colab-df-quickchart:hover {\n",
       "    background-color: var(--hover-bg-color);\n",
       "    box-shadow: 0 1px 2px rgba(60, 64, 67, 0.3), 0 1px 3px 1px rgba(60, 64, 67, 0.15);\n",
       "    fill: var(--button-hover-fill-color);\n",
       "  }\n",
       "\n",
       "  .colab-df-quickchart-complete:disabled,\n",
       "  .colab-df-quickchart-complete:disabled:hover {\n",
       "    background-color: var(--disabled-bg-color);\n",
       "    fill: var(--disabled-fill-color);\n",
       "    box-shadow: none;\n",
       "  }\n",
       "\n",
       "  .colab-df-spinner {\n",
       "    border: 2px solid var(--fill-color);\n",
       "    border-color: transparent;\n",
       "    border-bottom-color: var(--fill-color);\n",
       "    animation:\n",
       "      spin 1s steps(1) infinite;\n",
       "  }\n",
       "\n",
       "  @keyframes spin {\n",
       "    0% {\n",
       "      border-color: transparent;\n",
       "      border-bottom-color: var(--fill-color);\n",
       "      border-left-color: var(--fill-color);\n",
       "    }\n",
       "    20% {\n",
       "      border-color: transparent;\n",
       "      border-left-color: var(--fill-color);\n",
       "      border-top-color: var(--fill-color);\n",
       "    }\n",
       "    30% {\n",
       "      border-color: transparent;\n",
       "      border-left-color: var(--fill-color);\n",
       "      border-top-color: var(--fill-color);\n",
       "      border-right-color: var(--fill-color);\n",
       "    }\n",
       "    40% {\n",
       "      border-color: transparent;\n",
       "      border-right-color: var(--fill-color);\n",
       "      border-top-color: var(--fill-color);\n",
       "    }\n",
       "    60% {\n",
       "      border-color: transparent;\n",
       "      border-right-color: var(--fill-color);\n",
       "    }\n",
       "    80% {\n",
       "      border-color: transparent;\n",
       "      border-right-color: var(--fill-color);\n",
       "      border-bottom-color: var(--fill-color);\n",
       "    }\n",
       "    90% {\n",
       "      border-color: transparent;\n",
       "      border-bottom-color: var(--fill-color);\n",
       "    }\n",
       "  }\n",
       "</style>\n",
       "\n",
       "  <script>\n",
       "    async function quickchart(key) {\n",
       "      const quickchartButtonEl =\n",
       "        document.querySelector('#' + key + ' button');\n",
       "      quickchartButtonEl.disabled = true;  // To prevent multiple clicks.\n",
       "      quickchartButtonEl.classList.add('colab-df-spinner');\n",
       "      try {\n",
       "        const charts = await google.colab.kernel.invokeFunction(\n",
       "            'suggestCharts', [key], {});\n",
       "      } catch (error) {\n",
       "        console.error('Error during call to suggestCharts:', error);\n",
       "      }\n",
       "      quickchartButtonEl.classList.remove('colab-df-spinner');\n",
       "      quickchartButtonEl.classList.add('colab-df-quickchart-complete');\n",
       "    }\n",
       "    (() => {\n",
       "      let quickchartButtonEl =\n",
       "        document.querySelector('#df-a2f1bb3a-11e1-4ba3-823a-802c0107ce4b button');\n",
       "      quickchartButtonEl.style.display =\n",
       "        google.colab.kernel.accessAllowed ? 'block' : 'none';\n",
       "    })();\n",
       "  </script>\n",
       "</div>\n",
       "    </div>\n",
       "  </div>\n"
      ],
      "text/plain": [
       "   daily_time_on_site   Age  Area_Income  Daily_Internet_Usage  \\\n",
       "0               62.26  32.0     69481.85                172.83   \n",
       "1               41.73  31.0     61840.26                207.17   \n",
       "\n",
       "                     Ad_Topic_Line             City Gender  \\\n",
       "0  Decentralized real-time circuit         Lisafort   Male   \n",
       "1   Optional full-range projection  West Angelabury   Male   \n",
       "\n",
       "                        Country            Timestamp  Clicked_on_Ad  \n",
       "0  Svalbard & Jan Mayen Islands  2016-06-09 21:43:05              0  \n",
       "1                     Singapore  2016-01-16 17:56:05              0  "
      ]
     },
     "execution_count": 292,
     "metadata": {},
     "output_type": "execute_result"
    }
   ],
   "source": [
    "df = df.rename(columns = {'Daily Time Spent on Site':'daily_time_on_site',\n",
    "                          'Daily Internet Usage':'Daily_Internet_Usage',\n",
    "                          'Area Income':'Area_Income',\n",
    "                          'Ad Topic Line':'Ad_Topic_Line',\n",
    "                          'Clicked on Ad':'Clicked_on_Ad'})\n",
    "df.head(2)"
   ]
  },
  {
   "cell_type": "code",
   "execution_count": 293,
   "metadata": {
    "id": "8skVwmG70Sww"
   },
   "outputs": [],
   "source": [
    "df['daily_time_on_site'] = df['daily_time_on_site'].astype(float)\n",
    "df['Daily_Internet_Usage'] = df['Daily_Internet_Usage'].astype(float)\n",
    "df['Area_Income'] = df['Area_Income'].astype(float)\n",
    "df['Ad_Topic_Line'] = df['Ad_Topic_Line'].astype(str)\n",
    "df['Clicked_on_Ad'] = df['Clicked_on_Ad'].astype(int)\n",
    "df['Country'] = df['Country'].astype(str)\n",
    "df['City'] = df['City'].astype(str)"
   ]
  },
  {
   "cell_type": "code",
   "execution_count": 294,
   "metadata": {
    "id": "BEmGdL5-tJdC"
   },
   "outputs": [],
   "source": [
    "# getting sparse features\n",
    "numerical_features = ['daily_time_on_site','Age', 'Area_Income', 'Daily_Internet_Usage']\n",
    "sparse_features = ['Ad_Topic_Line', 'City', 'Gender', 'Country']\n",
    "target = ['Clicked_on_Ad']"
   ]
  },
  {
   "cell_type": "code",
   "execution_count": 295,
   "metadata": {
    "colab": {
     "base_uri": "https://localhost:8080/",
     "height": 470
    },
    "id": "BfaKyXhKBHXq",
    "outputId": "6842e128-1ae1-48df-c0eb-76653ab48dfb"
   },
   "outputs": [
    {
     "data": {
      "text/plain": [
       "<Axes: title={'center': 'Daily Time Spent on Site'}, ylabel='Frequency'>"
      ]
     },
     "execution_count": 295,
     "metadata": {},
     "output_type": "execute_result"
    },
    {
     "data": {
      "image/png": "[encoded data removed]",
      "text/plain": [
       "<Figure size 640x480 with 1 Axes>"
      ]
     },
     "metadata": {},
     "output_type": "display_data"
    }
   ],
   "source": [
    "from matplotlib import pyplot as plt\n",
    "df['daily_time_on_site'].plot(kind='hist', bins=20, title='Daily Time Spent on Site')\n"
   ]
  },
  {
   "cell_type": "code",
   "execution_count": 349,
   "metadata": {
    "colab": {
     "base_uri": "https://localhost:8080/",
     "height": 467
    },
    "id": "PTXsAJ9T0mkF",
    "outputId": "38c5167b-1cd0-46e6-8bd3-047213dcc70d"
   },
   "outputs": [
    {
     "data": {
      "text/plain": [
       "<Axes: xlabel='Age', ylabel='Clicked on Ad'>"
      ]
     },
     "execution_count": 349,
     "metadata": {},
     "output_type": "execute_result"
    },
    {
     "data": {
      "image/png": "[encoded data removed]",
      "text/plain": [
       "<Figure size 640x480 with 1 Axes>"
      ]
     },
     "metadata": {},
     "output_type": "display_data"
    }
   ],
   "source": [
    "df_org.plot(kind='scatter', x='Age', y='Clicked on Ad', s=32, alpha=.8)"
   ]
  },
  {
   "cell_type": "code",
   "execution_count": 296,
   "metadata": {
    "colab": {
     "base_uri": "https://localhost:8080/"
    },
    "id": "gf5y6Ue5A9-H",
    "outputId": "860aea60-c0ca-497e-843b-6aa4e6cb2dab"
   },
   "outputs": [
    {
     "name": "stdout",
     "output_type": "stream",
     "text": [
      "<class 'pandas.core.frame.DataFrame'>\n",
      "RangeIndex: 10000 entries, 0 to 9999\n",
      "Data columns (total 10 columns):\n",
      " #   Column                Non-Null Count  Dtype  \n",
      "---  ------                --------------  -----  \n",
      " 0   daily_time_on_site    10000 non-null  float64\n",
      " 1   Age                   10000 non-null  float64\n",
      " 2   Area_Income           10000 non-null  float64\n",
      " 3   Daily_Internet_Usage  10000 non-null  float64\n",
      " 4   Ad_Topic_Line         10000 non-null  object \n",
      " 5   City                  10000 non-null  object \n",
      " 6   Gender                10000 non-null  object \n",
      " 7   Country               10000 non-null  object \n",
      " 8   Timestamp             10000 non-null  object \n",
      " 9   Clicked_on_Ad         10000 non-null  int64  \n",
      "dtypes: float64(4), int64(1), object(5)\n",
      "memory usage: 781.4+ KB\n"
     ]
    }
   ],
   "source": [
    "df.info()"
   ]
  },
  {
   "cell_type": "code",
   "execution_count": 297,
   "metadata": {
    "colab": {
     "base_uri": "https://localhost:8080/",
     "height": 468
    },
    "id": "Z-rF1QXhBAZe",
    "outputId": "14e8dcaa-5ec9-4b55-debb-e9e20d095b4f"
   },
   "outputs": [
    {
     "data": {
      "text/plain": [
       "<Axes: xlabel='daily_time_on_site', ylabel='Age'>"
      ]
     },
     "execution_count": 297,
     "metadata": {},
     "output_type": "execute_result"
    },
    {
     "data": {
      "image/png": "[encoded data removed]",
      "text/plain": [
       "<Figure size 640x480 with 1 Axes>"
      ]
     },
     "metadata": {},
     "output_type": "display_data"
    }
   ],
   "source": [
    "df.plot(kind='scatter', x='daily_time_on_site', y='Age', s=32, alpha=.8)"
   ]
  },
  {
   "cell_type": "code",
   "execution_count": 298,
   "metadata": {
    "colab": {
     "base_uri": "https://localhost:8080/"
    },
    "id": "stSdV0GvBdXo",
    "outputId": "04ada427-6b8a-478d-98a4-a7a56a76a66b"
   },
   "outputs": [
    {
     "name": "stdout",
     "output_type": "stream",
     "text": [
      "0\n",
      "0\n",
      "0\n",
      "0\n",
      "0\n",
      "0\n",
      "0\n",
      "0\n",
      "0\n",
      "0\n"
     ]
    }
   ],
   "source": [
    "for col in df.columns:\n",
    "  print(df[col].isna().sum())"
   ]
  },
  {
   "cell_type": "markdown",
   "metadata": {
    "id": "kmZeYViwV6So"
   },
   "source": [
    "## Getting number of unique elements in each columns"
   ]
  },
  {
   "cell_type": "code",
   "execution_count": 299,
   "metadata": {
    "colab": {
     "base_uri": "https://localhost:8080/"
    },
    "id": "VV6-KI3IcvEp",
    "outputId": "e3f1c20e-be72-47af-c246-49798559a91d"
   },
   "outputs": [
    {
     "data": {
      "text/plain": [
       "Index(['daily_time_on_site', 'Age', 'Area_Income', 'Daily_Internet_Usage',\n",
       "       'Ad_Topic_Line', 'City', 'Gender', 'Country', 'Timestamp',\n",
       "       'Clicked_on_Ad'],\n",
       "      dtype='object')"
      ]
     },
     "execution_count": 299,
     "metadata": {},
     "output_type": "execute_result"
    }
   ],
   "source": [
    "df.columns"
   ]
  },
  {
   "cell_type": "code",
   "execution_count": 300,
   "metadata": {
    "colab": {
     "base_uri": "https://localhost:8080/"
    },
    "id": "DvbnnSysU81e",
    "outputId": "f2e6f5a4-6c9c-47cd-fe44-a4e8a499d18d"
   },
   "outputs": [
    {
     "data": {
      "text/plain": [
       "[('Ad_Topic_Line', 559), ('City', 521), ('Gender', 2), ('Country', 207)]"
      ]
     },
     "execution_count": 300,
     "metadata": {},
     "output_type": "execute_result"
    }
   ],
   "source": [
    "unique_elements = []\n",
    "for col in sparse_features:\n",
    "  unique_elements.append((col, df[col].nunique()))\n",
    "unique_elements"
   ]
  },
  {
   "cell_type": "code",
   "execution_count": 301,
   "metadata": {
    "id": "-3AxAYSLWzhE"
   },
   "outputs": [],
   "source": [
    "from sklearn.preprocessing import LabelEncoder\n",
    "\n",
    "from sklearn.model_selection import train_test_split\n",
    "\n",
    "from deepctr.models import *\n",
    "import deepctr"
   ]
  },
  {
   "cell_type": "markdown",
   "metadata": {
    "id": "ZuUAwWhLuRt_"
   },
   "source": [
    "### Checking the shapes of the Series of each columns"
   ]
  },
  {
   "cell_type": "code",
   "execution_count": 325,
   "metadata": {
    "colab": {
     "base_uri": "https://localhost:8080/"
    },
    "id": "0PekgJHGxwIB",
    "outputId": "6194cafa-bd82-47c6-98f1-562a7db16088"
   },
   "outputs": [
    {
     "data": {
      "text/plain": [
       "(0              Lisafort\n",
       " 1       West Angelabury\n",
       " 2             Reyesfurt\n",
       " 3           New Michael\n",
       " 4          West Richard\n",
       "              ...       \n",
       " 9995    West Angelabury\n",
       " 9996        Kennedyfurt\n",
       " 9997        North Randy\n",
       " 9998     North Samantha\n",
       " 9999       Port Jeffrey\n",
       " Name: City, Length: 10000, dtype: object,\n",
       " 0       Svalbard & Jan Mayen Islands\n",
       " 1                          Singapore\n",
       " 2                         Guadeloupe\n",
       " 3                             Zambia\n",
       " 4                              Qatar\n",
       "                     ...             \n",
       " 9995                       Singapore\n",
       " 9996                      Luxembourg\n",
       " 9997                           Egypt\n",
       " 9998                          Malawi\n",
       " 9999        Northern Mariana Islands\n",
       " Name: Country, Length: 10000, dtype: object)"
      ]
     },
     "execution_count": 325,
     "metadata": {},
     "output_type": "execute_result"
    }
   ],
   "source": [
    "df_org['City'], df_org['Country']"
   ]
  },
  {
   "cell_type": "code",
   "execution_count": 305,
   "metadata": {
    "colab": {
     "base_uri": "https://localhost:8080/"
    },
    "id": "k_1g4TZCxBKK",
    "outputId": "dd38f5e1-5975-4828-e062-2c326c83cab7"
   },
   "outputs": [
    {
     "data": {
      "text/plain": [
       "array([484])"
      ]
     },
     "execution_count": 305,
     "metadata": {},
     "output_type": "execute_result"
    }
   ],
   "source": [
    "label_encoders['Ad_Topic_Line'].transform(['Total 5thgeneration standardization'])"
   ]
  },
  {
   "cell_type": "code",
   "execution_count": 304,
   "metadata": {
    "id": "MCKqIrf_WJHP"
   },
   "outputs": [],
   "source": [
    "# giving each unique feature a label for easier differentiation\n",
    "\n",
    "# 1. Label Encoding: storing the label encoders for output comparison\n",
    "label_encoders = {}\n",
    "for feature in sparse_features:\n",
    "  lbe = LabelEncoder()\n",
    "  df[feature] = lbe.fit_transform(df[feature])\n",
    "  label_encoders[feature] = lbe\n",
    "\n",
    "# 2. Standard Scaling for Numerical Features\n",
    "scalers = {}\n",
    "for feature in numerical_features:\n",
    "  scaler = sklearn.preprocessing.MinMaxScaler(feature_range=(0,1))\n",
    "  df[feature] = scaler.fit_transform(df[feature].values.reshape(-1,1))\n",
    "  scalers[feature] = scaler\n"
   ]
  },
  {
   "cell_type": "code",
   "execution_count": 306,
   "metadata": {
    "id": "NlLVDT30XEIk"
   },
   "outputs": [],
   "source": [
    "fixed_length_feature_columns = [deepctr.feature_column.SparseFeat(feature, df[feature].max() + 1, embedding_dim=3) for feature in sparse_features]\n",
    "\n",
    "#adding numerical features to above feature columns\n",
    "fixed_length_feature_columns += [deepctr.feature_column.DenseFeat(feature, 1) for feature in numerical_features]\n",
    "\n",
    "linear_feature_columns = fixed_length_feature_columns\n",
    "dnn_feature_columns = fixed_length_feature_columns"
   ]
  },
  {
   "cell_type": "code",
   "execution_count": 307,
   "metadata": {
    "id": "pDkMzhhXX5oW"
   },
   "outputs": [],
   "source": [
    "feature_names = deepctr.feature_column.get_feature_names(fixed_length_feature_columns+dnn_feature_columns)"
   ]
  },
  {
   "cell_type": "code",
   "execution_count": 308,
   "metadata": {
    "colab": {
     "base_uri": "https://localhost:8080/"
    },
    "id": "w_KGFOaFYD4W",
    "outputId": "b061d584-ce30-4c59-8d66-35508c730560"
   },
   "outputs": [
    {
     "data": {
      "text/plain": [
       "((8000, 10), (2000, 10))"
      ]
     },
     "execution_count": 308,
     "metadata": {},
     "output_type": "execute_result"
    }
   ],
   "source": [
    "train, test = train_test_split(df, test_size=0.2)\n",
    "train.shape, test.shape"
   ]
  },
  {
   "cell_type": "code",
   "execution_count": 309,
   "metadata": {
    "id": "FVE2i4NnZYjX"
   },
   "outputs": [],
   "source": [
    "from itertools import islice\n",
    "\n",
    "def take(iterables, n):\n",
    "  return list(islice(iterables, n).items())"
   ]
  },
  {
   "cell_type": "code",
   "execution_count": 310,
   "metadata": {
    "id": "rtp4wUIjaSJt"
   },
   "outputs": [],
   "source": [
    "from deepctr.estimator.inputs import input_fn_pandas"
   ]
  },
  {
   "cell_type": "code",
   "execution_count": 311,
   "metadata": {
    "colab": {
     "base_uri": "https://localhost:8080/"
    },
    "id": "skhpHfRaY1A9",
    "outputId": "40979728-a578-4fa5-da47-508f5b5ae26a"
   },
   "outputs": [
    {
     "data": {
      "text/plain": [
       "(dict, dict)"
      ]
     },
     "execution_count": 311,
     "metadata": {},
     "output_type": "execute_result"
    }
   ],
   "source": [
    "train_model_input = {name:train[name] for name in feature_names}\n",
    "test_model_input = {name:test[name] for name in feature_names}\n",
    "type(train_model_input),type( test_model_input),"
   ]
  },
  {
   "cell_type": "code",
   "execution_count": 312,
   "metadata": {
    "id": "ahkUopo8ZIzZ"
   },
   "outputs": [],
   "source": [
    "model = NFM(linear_feature_columns, dnn_feature_columns, task='regression')\n",
    "model.compile('adam','mse', metrics=['mse', 'accuracy'])"
   ]
  },
  {
   "cell_type": "code",
   "execution_count": 313,
   "metadata": {
    "id": "nqlFlxs3qSha"
   },
   "outputs": [],
   "source": [
    "epochs = 20\n",
    "batch_size = 256"
   ]
  },
  {
   "cell_type": "code",
   "execution_count": 314,
   "metadata": {
    "colab": {
     "base_uri": "https://localhost:8080/"
    },
    "id": "mULw3Th8az4W",
    "outputId": "a8b1eaf5-9495-4551-8d92-ae9fa73fa744"
   },
   "outputs": [
    {
     "name": "stdout",
     "output_type": "stream",
     "text": [
      "Epoch 1/20\n",
      "25/25 - 2s - loss: 0.2160 - mse: 0.2160 - accuracy: 0.6730 - val_loss: 0.1844 - val_mse: 0.1844 - val_accuracy: 0.7163\n",
      "Epoch 2/20\n",
      "25/25 - 0s - loss: 0.1684 - mse: 0.1684 - accuracy: 0.7581 - val_loss: 0.1644 - val_mse: 0.1644 - val_accuracy: 0.7638\n",
      "Epoch 3/20\n",
      "25/25 - 0s - loss: 0.1465 - mse: 0.1465 - accuracy: 0.7955 - val_loss: 0.1400 - val_mse: 0.1399 - val_accuracy: 0.8019\n",
      "Epoch 4/20\n",
      "25/25 - 0s - loss: 0.1137 - mse: 0.1136 - accuracy: 0.8442 - val_loss: 0.1006 - val_mse: 0.1005 - val_accuracy: 0.8656\n",
      "Epoch 5/20\n",
      "25/25 - 0s - loss: 0.0859 - mse: 0.0858 - accuracy: 0.8942 - val_loss: 0.0923 - val_mse: 0.0922 - val_accuracy: 0.8706\n",
      "Epoch 6/20\n",
      "25/25 - 0s - loss: 0.0771 - mse: 0.0769 - accuracy: 0.9030 - val_loss: 0.0905 - val_mse: 0.0904 - val_accuracy: 0.8769\n",
      "Epoch 7/20\n",
      "25/25 - 0s - loss: 0.0716 - mse: 0.0714 - accuracy: 0.9094 - val_loss: 0.0897 - val_mse: 0.0895 - val_accuracy: 0.8800\n",
      "Epoch 8/20\n",
      "25/25 - 0s - loss: 0.0684 - mse: 0.0682 - accuracy: 0.9137 - val_loss: 0.0899 - val_mse: 0.0897 - val_accuracy: 0.8800\n",
      "Epoch 9/20\n",
      "25/25 - 0s - loss: 0.0642 - mse: 0.0640 - accuracy: 0.9180 - val_loss: 0.0915 - val_mse: 0.0914 - val_accuracy: 0.8725\n",
      "Epoch 10/20\n",
      "25/25 - 0s - loss: 0.0618 - mse: 0.0617 - accuracy: 0.9203 - val_loss: 0.0917 - val_mse: 0.0916 - val_accuracy: 0.8756\n",
      "Epoch 11/20\n",
      "25/25 - 0s - loss: 0.0600 - mse: 0.0598 - accuracy: 0.9219 - val_loss: 0.0943 - val_mse: 0.0942 - val_accuracy: 0.8781\n",
      "Epoch 12/20\n",
      "25/25 - 0s - loss: 0.0584 - mse: 0.0582 - accuracy: 0.9216 - val_loss: 0.0953 - val_mse: 0.0951 - val_accuracy: 0.8675\n",
      "Epoch 13/20\n",
      "25/25 - 0s - loss: 0.0566 - mse: 0.0564 - accuracy: 0.9252 - val_loss: 0.0939 - val_mse: 0.0937 - val_accuracy: 0.8750\n",
      "Epoch 14/20\n",
      "25/25 - 0s - loss: 0.0559 - mse: 0.0557 - accuracy: 0.9269 - val_loss: 0.0960 - val_mse: 0.0958 - val_accuracy: 0.8737\n",
      "Epoch 15/20\n",
      "25/25 - 0s - loss: 0.0541 - mse: 0.0539 - accuracy: 0.9297 - val_loss: 0.0958 - val_mse: 0.0956 - val_accuracy: 0.8750\n",
      "Epoch 16/20\n",
      "25/25 - 0s - loss: 0.0531 - mse: 0.0529 - accuracy: 0.9317 - val_loss: 0.0981 - val_mse: 0.0979 - val_accuracy: 0.8700\n",
      "Epoch 17/20\n",
      "25/25 - 0s - loss: 0.0521 - mse: 0.0519 - accuracy: 0.9337 - val_loss: 0.0974 - val_mse: 0.0971 - val_accuracy: 0.8712\n",
      "Epoch 18/20\n",
      "25/25 - 0s - loss: 0.0504 - mse: 0.0502 - accuracy: 0.9347 - val_loss: 0.1007 - val_mse: 0.1004 - val_accuracy: 0.8675\n",
      "Epoch 19/20\n",
      "25/25 - 0s - loss: 0.0498 - mse: 0.0496 - accuracy: 0.9359 - val_loss: 0.1046 - val_mse: 0.1044 - val_accuracy: 0.8631\n",
      "Epoch 20/20\n",
      "25/25 - 0s - loss: 0.0490 - mse: 0.0488 - accuracy: 0.9361 - val_loss: 0.1107 - val_mse: 0.1104 - val_accuracy: 0.8581\n"
     ]
    }
   ],
   "source": [
    "history = model.fit(train_model_input, train[target].values,\n",
    "                        batch_size=batch_size, epochs=epochs, verbose=2, validation_split=0.2, )"
   ]
  },
  {
   "cell_type": "code",
   "execution_count": 315,
   "metadata": {
    "colab": {
     "base_uri": "https://localhost:8080/"
    },
    "id": "_mCpIrUydIkA",
    "outputId": "3ad4c8fd-256c-4915-ae3c-d371fab4c79a"
   },
   "outputs": [
    {
     "name": "stdout",
     "output_type": "stream",
     "text": [
      "test MSE 0.0918\n"
     ]
    }
   ],
   "source": [
    "pred_ans = model.predict(test_model_input, batch_size=256)\n",
    "print(\"test MSE\", round(sklearn.metrics.mean_squared_error(test[target].values, pred_ans), 4))"
   ]
  },
  {
   "cell_type": "code",
   "execution_count": 316,
   "metadata": {
    "id": "09NUI3cxd7xq"
   },
   "outputs": [],
   "source": [
    "# Extract values\n",
    "loss = history.history['loss']\n",
    "val_loss = history.history['val_loss']\n",
    "accuracy = history.history['accuracy']\n",
    "val_accuracy = history.history['val_accuracy']\n",
    "epochs = range(1, len(loss) + 1)"
   ]
  },
  {
   "cell_type": "code",
   "execution_count": 317,
   "metadata": {
    "colab": {
     "base_uri": "https://localhost:8080/",
     "height": 591
    },
    "id": "JB8dRYL2dQKn",
    "outputId": "9fc1faf1-63f8-4f97-8e0c-b036b70397f1"
   },
   "outputs": [
    {
     "name": "stderr",
     "output_type": "stream",
     "text": [
      "<ipython-input-317-18e194bd7217>:15: UserWarning: color is redundantly defined by the 'color' keyword argument and the fmt string \"b-\" (-> color='b'). The keyword argument will take precedence.\n",
      "  plt.plot(epochs, loss, 'b-', label='Training loss', color='blue')\n",
      "<ipython-input-317-18e194bd7217>:16: UserWarning: color is redundantly defined by the 'color' keyword argument and the fmt string \"r--\" (-> color='r'). The keyword argument will take precedence.\n",
      "  plt.plot(epochs, val_loss, 'r--', label='Validation loss', color='lightcoral')\n",
      "<ipython-input-317-18e194bd7217>:32: UserWarning: color is redundantly defined by the 'color' keyword argument and the fmt string \"b-\" (-> color='b'). The keyword argument will take precedence.\n",
      "  plt.plot(epochs, accuracy, 'b-', label='Training accuracy', color='darkblue')\n",
      "<ipython-input-317-18e194bd7217>:33: UserWarning: color is redundantly defined by the 'color' keyword argument and the fmt string \"r--\" (-> color='r'). The keyword argument will take precedence.\n",
      "  plt.plot(epochs, val_accuracy, 'r--', label='Validation accuracy', color='darkred')\n"
     ]
    },
    {
     "data": {
      "image/png": "[encoded data removed]",
      "text/plain": [
       "<Figure size 1200x600 with 2 Axes>"
      ]
     },
     "metadata": {},
     "output_type": "display_data"
    }
   ],
   "source": [
    "epochs_list = list(range(1, 21))\n",
    "\n",
    "#getting lowest val_loss\n",
    "min_loss_epoch = epochs[val_loss.index(min(val_loss))]\n",
    "min_loss_value = min(val_loss)\n",
    "\n",
    "# getting highest val accuracy\n",
    "max_acc_epoch = epochs[val_accuracy.index(max(val_accuracy))]\n",
    "max_acc_value = max(val_accuracy)\n",
    "\n",
    "# Plotting the Loss\n",
    "plt.figure(figsize=(12, 6))\n",
    "\n",
    "plt.subplot(1, 2, 1)\n",
    "plt.plot(epochs, loss, 'b-', label='Training loss', color='blue')\n",
    "plt.plot(epochs, val_loss, 'r--', label='Validation loss', color='lightcoral')\n",
    "plt.scatter(min_loss_epoch, min_loss_value, color='red')  # Red dot at minimum validation loss\n",
    "plt.annotate(f'Epoch {min_loss_epoch}\\nLoss {min_loss_value:.2f}',\n",
    "             xy=(min_loss_epoch, min_loss_value),\n",
    "             xytext=(min_loss_epoch, min_loss_value + 0.05),\n",
    "             arrowprops=dict(facecolor='black', shrink=0.05))\n",
    "plt.title('Training and Validation Loss with DeepFM')\n",
    "ax = plt.gca()\n",
    "ax.set_xlim([0,20])\n",
    "ax.set_ylim([0,0.5])\n",
    "plt.xlabel('Epochs')\n",
    "plt.ylabel('Loss')\n",
    "plt.legend()\n",
    "\n",
    "# Plotting the Accuracy\n",
    "plt.subplot(1, 2, 2)\n",
    "plt.plot(epochs, accuracy, 'b-', label='Training accuracy', color='darkblue')\n",
    "plt.plot(epochs, val_accuracy, 'r--', label='Validation accuracy', color='darkred')\n",
    "plt.scatter(max_acc_epoch, max_acc_value, color='red')  # Red dot at maximum validation accuracy\n",
    "plt.annotate(f'Epoch {max_acc_epoch}\\nAcc {max_acc_value:.2f}',\n",
    "             xy=(max_acc_epoch, max_acc_value),\n",
    "             xytext=(max_acc_epoch, max_acc_value - 0.05),\n",
    "             arrowprops=dict(facecolor='black', shrink=0.05))\n",
    "plt.title('Training and Validation Accuracy with DeepFM')\n",
    "ax = plt.gca()\n",
    "ax.set_xlim([0,20])\n",
    "ax.set_ylim([0.5,1])\n",
    "plt.xlabel('Epochs')\n",
    "plt.ylabel('Accuracy')\n",
    "plt.legend()\n",
    "\n",
    "plt.tight_layout()\n",
    "plt.show()"
   ]
  },
  {
   "cell_type": "markdown",
   "metadata": {
    "id": "5QVbN8UJh88P"
   },
   "source": [
    "## Checking the predicted advertisement clicks with random data"
   ]
  },
  {
   "cell_type": "code",
   "execution_count": 341,
   "metadata": {
    "colab": {
     "base_uri": "https://localhost:8080/",
     "height": 201
    },
    "id": "cRB17qmJeCPW",
    "outputId": "eaadb7b1-956d-4963-ca6c-d87fe9b5f240"
   },
   "outputs": [
    {
     "data": {
      "application/vnd.google.colaboratory.intrinsic+json": {
       "summary": "{\n  \"name\": \"test_df\",\n  \"rows\": 2,\n  \"fields\": [\n    {\n      \"column\": \"daily_time_on_site\",\n      \"properties\": {\n        \"dtype\": \"number\",\n        \"std\": 14,\n        \"min\": 100,\n        \"max\": 120,\n        \"num_unique_values\": 2,\n        \"samples\": [\n          100,\n          120\n        ],\n        \"semantic_type\": \"\",\n        \"description\": \"\"\n      }\n    },\n    {\n      \"column\": \"Age\",\n      \"properties\": {\n        \"dtype\": \"number\",\n        \"std\": 4,\n        \"min\": 26,\n        \"max\": 33,\n        \"num_unique_values\": 2,\n        \"samples\": [\n          33,\n          26\n        ],\n        \"semantic_type\": \"\",\n        \"description\": \"\"\n      }\n    },\n    {\n      \"column\": \"Area_Income\",\n      \"properties\": {\n        \"dtype\": \"number\",\n        \"std\": 3464,\n        \"min\": 100,\n        \"max\": 5000,\n        \"num_unique_values\": 2,\n        \"samples\": [\n          100,\n          5000\n        ],\n        \"semantic_type\": \"\",\n        \"description\": \"\"\n      }\n    },\n    {\n      \"column\": \"Daily_Internet_Usage\",\n      \"properties\": {\n        \"dtype\": \"number\",\n        \"std\": 388,\n        \"min\": 150,\n        \"max\": 700,\n        \"num_unique_values\": 2,\n        \"samples\": [\n          700,\n          150\n        ],\n        \"semantic_type\": \"\",\n        \"description\": \"\"\n      }\n    },\n    {\n      \"column\": \"Ad_Topic_Line\",\n      \"properties\": {\n        \"dtype\": \"string\",\n        \"num_unique_values\": 2,\n        \"samples\": [\n          \"Realigned content-based leverage\",\n          \"Optional full-range projection\"\n        ],\n        \"semantic_type\": \"\",\n        \"description\": \"\"\n      }\n    },\n    {\n      \"column\": \"City\",\n      \"properties\": {\n        \"dtype\": \"string\",\n        \"num_unique_values\": 2,\n        \"samples\": [\n          \"Lisafort\",\n          \"West Richard\"\n        ],\n        \"semantic_type\": \"\",\n        \"description\": \"\"\n      }\n    },\n    {\n      \"column\": \"Gender\",\n      \"properties\": {\n        \"dtype\": \"string\",\n        \"num_unique_values\": 2,\n        \"samples\": [\n          \"Male\",\n          \"Female\"\n        ],\n        \"semantic_type\": \"\",\n        \"description\": \"\"\n      }\n    },\n    {\n      \"column\": \"Country\",\n      \"properties\": {\n        \"dtype\": \"string\",\n        \"num_unique_values\": 2,\n        \"samples\": [\n          \"Malawi\",\n          \"Singapore\"\n        ],\n        \"semantic_type\": \"\",\n        \"description\": \"\"\n      }\n    }\n  ]\n}",
       "type": "dataframe",
       "variable_name": "test_df"
      },
      "text/html": [
       "\n",
       "  <div id=\"df-6414c36e-fd11-42ae-b899-9d40381fedac\" class=\"colab-df-container\">\n",
       "    <div>\n",
       "<style scoped>\n",
       "    .dataframe tbody tr th:only-of-type {\n",
       "        vertical-align: middle;\n",
       "    }\n",
       "\n",
       "    .dataframe tbody tr th {\n",
       "        vertical-align: top;\n",
       "    }\n",
       "\n",
       "    .dataframe thead th {\n",
       "        text-align: right;\n",
       "    }\n",
       "</style>\n",
       "<table border=\"1\" class=\"dataframe\">\n",
       "  <thead>\n",
       "    <tr style=\"text-align: right;\">\n",
       "      <th></th>\n",
       "      <th>daily_time_on_site</th>\n",
       "      <th>Age</th>\n",
       "      <th>Area_Income</th>\n",
       "      <th>Daily_Internet_Usage</th>\n",
       "      <th>Ad_Topic_Line</th>\n",
       "      <th>City</th>\n",
       "      <th>Gender</th>\n",
       "      <th>Country</th>\n",
       "    </tr>\n",
       "  </thead>\n",
       "  <tbody>\n",
       "    <tr>\n",
       "      <th>0</th>\n",
       "      <td>120</td>\n",
       "      <td>26</td>\n",
       "      <td>5000</td>\n",
       "      <td>150</td>\n",
       "      <td>Optional full-range projection</td>\n",
       "      <td>West Richard</td>\n",
       "      <td>Female</td>\n",
       "      <td>Singapore</td>\n",
       "    </tr>\n",
       "    <tr>\n",
       "      <th>1</th>\n",
       "      <td>100</td>\n",
       "      <td>33</td>\n",
       "      <td>100</td>\n",
       "      <td>700</td>\n",
       "      <td>Realigned content-based leverage</td>\n",
       "      <td>Lisafort</td>\n",
       "      <td>Male</td>\n",
       "      <td>Malawi</td>\n",
       "    </tr>\n",
       "  </tbody>\n",
       "</table>\n",
       "</div>\n",
       "    <div class=\"colab-df-buttons\">\n",
       "\n",
       "  <div class=\"colab-df-container\">\n",
       "    <button class=\"colab-df-convert\" onclick=\"convertToInteractive('df-6414c36e-fd11-42ae-b899-9d40381fedac')\"\n",
       "            title=\"Convert this dataframe to an interactive table.\"\n",
       "            style=\"display:none;\">\n",
       "\n",
       "  <svg xmlns=\"http://www.w3.org/2000/svg\" height=\"24px\" viewBox=\"0 -960 960 960\">\n",
       "    <path d=\"M120-120v-720h720v720H120Zm60-500h600v-160H180v160Zm220 220h160v-160H400v160Zm0 220h160v-160H400v160ZM180-400h160v-160H180v160Zm440 0h160v-160H620v160ZM180-180h160v-160H180v160Zm440 0h160v-160H620v160Z\"/>\n",
       "  </svg>\n",
       "    </button>\n",
       "\n",
       "  <style>\n",
       "    .colab-df-container {\n",
       "      display:flex;\n",
       "      gap: 12px;\n",
       "    }\n",
       "\n",
       "    .colab-df-convert {\n",
       "      background-color: #E8F0FE;\n",
       "      border: none;\n",
       "      border-radius: 50%;\n",
       "      cursor: pointer;\n",
       "      display: none;\n",
       "      fill: #1967D2;\n",
       "      height: 32px;\n",
       "      padding: 0 0 0 0;\n",
       "      width: 32px;\n",
       "    }\n",
       "\n",
       "    .colab-df-convert:hover {\n",
       "      background-color: #E2EBFA;\n",
       "      box-shadow: 0px 1px 2px rgba(60, 64, 67, 0.3), 0px 1px 3px 1px rgba(60, 64, 67, 0.15);\n",
       "      fill: #174EA6;\n",
       "    }\n",
       "\n",
       "    .colab-df-buttons div {\n",
       "      margin-bottom: 4px;\n",
       "    }\n",
       "\n",
       "    [theme=dark] .colab-df-convert {\n",
       "      background-color: #3B4455;\n",
       "      fill: #D2E3FC;\n",
       "    }\n",
       "\n",
       "    [theme=dark] .colab-df-convert:hover {\n",
       "      background-color: #434B5C;\n",
       "      box-shadow: 0px 1px 3px 1px rgba(0, 0, 0, 0.15);\n",
       "      filter: drop-shadow(0px 1px 2px rgba(0, 0, 0, 0.3));\n",
       "      fill: #FFFFFF;\n",
       "    }\n",
       "  </style>\n",
       "\n",
       "    <script>\n",
       "      const buttonEl =\n",
       "        document.querySelector('#df-6414c36e-fd11-42ae-b899-9d40381fedac button.colab-df-convert');\n",
       "      buttonEl.style.display =\n",
       "        google.colab.kernel.accessAllowed ? 'block' : 'none';\n",
       "\n",
       "      async function convertToInteractive(key) {\n",
       "        const element = document.querySelector('#df-6414c36e-fd11-42ae-b899-9d40381fedac');\n",
       "        const dataTable =\n",
       "          await google.colab.kernel.invokeFunction('convertToInteractive',\n",
       "                                                    [key], {});\n",
       "        if (!dataTable) return;\n",
       "\n",
       "        const docLinkHtml = 'Like what you see? Visit the ' +\n",
       "          '<a target=\"_blank\" href=https://colab.research.google.com/notebooks/data_table.ipynb>data table notebook</a>'\n",
       "          + ' to learn more about interactive tables.';\n",
       "        element.innerHTML = '';\n",
       "        dataTable['output_type'] = 'display_data';\n",
       "        await google.colab.output.renderOutput(dataTable, element);\n",
       "        const docLink = document.createElement('div');\n",
       "        docLink.innerHTML = docLinkHtml;\n",
       "        element.appendChild(docLink);\n",
       "      }\n",
       "    </script>\n",
       "  </div>\n",
       "\n",
       "\n",
       "<div id=\"df-f380366b-ff84-438d-a983-ea3424b2e3e9\">\n",
       "  <button class=\"colab-df-quickchart\" onclick=\"quickchart('df-f380366b-ff84-438d-a983-ea3424b2e3e9')\"\n",
       "            title=\"Suggest charts\"\n",
       "            style=\"display:none;\">\n",
       "\n",
       "<svg xmlns=\"http://www.w3.org/2000/svg\" height=\"24px\"viewBox=\"0 0 24 24\"\n",
       "     width=\"24px\">\n",
       "    <g>\n",
       "        <path d=\"M19 3H5c-1.1 0-2 .9-2 2v14c0 1.1.9 2 2 2h14c1.1 0 2-.9 2-2V5c0-1.1-.9-2-2-2zM9 17H7v-7h2v7zm4 0h-2V7h2v10zm4 0h-2v-4h2v4z\"/>\n",
       "    </g>\n",
       "</svg>\n",
       "  </button>\n",
       "\n",
       "<style>\n",
       "  .colab-df-quickchart {\n",
       "      --bg-color: #E8F0FE;\n",
       "      --fill-color: #1967D2;\n",
       "      --hover-bg-color: #E2EBFA;\n",
       "      --hover-fill-color: #174EA6;\n",
       "      --disabled-fill-color: #AAA;\n",
       "      --disabled-bg-color: #DDD;\n",
       "  }\n",
       "\n",
       "  [theme=dark] .colab-df-quickchart {\n",
       "      --bg-color: #3B4455;\n",
       "      --fill-color: #D2E3FC;\n",
       "      --hover-bg-color: #434B5C;\n",
       "      --hover-fill-color: #FFFFFF;\n",
       "      --disabled-bg-color: #3B4455;\n",
       "      --disabled-fill-color: #666;\n",
       "  }\n",
       "\n",
       "  .colab-df-quickchart {\n",
       "    background-color: var(--bg-color);\n",
       "    border: none;\n",
       "    border-radius: 50%;\n",
       "    cursor: pointer;\n",
       "    display: none;\n",
       "    fill: var(--fill-color);\n",
       "    height: 32px;\n",
       "    padding: 0;\n",
       "    width: 32px;\n",
       "  }\n",
       "\n",
       "  .colab-df-quickchart:hover {\n",
       "    background-color: var(--hover-bg-color);\n",
       "    box-shadow: 0 1px 2px rgba(60, 64, 67, 0.3), 0 1px 3px 1px rgba(60, 64, 67, 0.15);\n",
       "    fill: var(--button-hover-fill-color);\n",
       "  }\n",
       "\n",
       "  .colab-df-quickchart-complete:disabled,\n",
       "  .colab-df-quickchart-complete:disabled:hover {\n",
       "    background-color: var(--disabled-bg-color);\n",
       "    fill: var(--disabled-fill-color);\n",
       "    box-shadow: none;\n",
       "  }\n",
       "\n",
       "  .colab-df-spinner {\n",
       "    border: 2px solid var(--fill-color);\n",
       "    border-color: transparent;\n",
       "    border-bottom-color: var(--fill-color);\n",
       "    animation:\n",
       "      spin 1s steps(1) infinite;\n",
       "  }\n",
       "\n",
       "  @keyframes spin {\n",
       "    0% {\n",
       "      border-color: transparent;\n",
       "      border-bottom-color: var(--fill-color);\n",
       "      border-left-color: var(--fill-color);\n",
       "    }\n",
       "    20% {\n",
       "      border-color: transparent;\n",
       "      border-left-color: var(--fill-color);\n",
       "      border-top-color: var(--fill-color);\n",
       "    }\n",
       "    30% {\n",
       "      border-color: transparent;\n",
       "      border-left-color: var(--fill-color);\n",
       "      border-top-color: var(--fill-color);\n",
       "      border-right-color: var(--fill-color);\n",
       "    }\n",
       "    40% {\n",
       "      border-color: transparent;\n",
       "      border-right-color: var(--fill-color);\n",
       "      border-top-color: var(--fill-color);\n",
       "    }\n",
       "    60% {\n",
       "      border-color: transparent;\n",
       "      border-right-color: var(--fill-color);\n",
       "    }\n",
       "    80% {\n",
       "      border-color: transparent;\n",
       "      border-right-color: var(--fill-color);\n",
       "      border-bottom-color: var(--fill-color);\n",
       "    }\n",
       "    90% {\n",
       "      border-color: transparent;\n",
       "      border-bottom-color: var(--fill-color);\n",
       "    }\n",
       "  }\n",
       "</style>\n",
       "\n",
       "  <script>\n",
       "    async function quickchart(key) {\n",
       "      const quickchartButtonEl =\n",
       "        document.querySelector('#' + key + ' button');\n",
       "      quickchartButtonEl.disabled = true;  // To prevent multiple clicks.\n",
       "      quickchartButtonEl.classList.add('colab-df-spinner');\n",
       "      try {\n",
       "        const charts = await google.colab.kernel.invokeFunction(\n",
       "            'suggestCharts', [key], {});\n",
       "      } catch (error) {\n",
       "        console.error('Error during call to suggestCharts:', error);\n",
       "      }\n",
       "      quickchartButtonEl.classList.remove('colab-df-spinner');\n",
       "      quickchartButtonEl.classList.add('colab-df-quickchart-complete');\n",
       "    }\n",
       "    (() => {\n",
       "      let quickchartButtonEl =\n",
       "        document.querySelector('#df-f380366b-ff84-438d-a983-ea3424b2e3e9 button');\n",
       "      quickchartButtonEl.style.display =\n",
       "        google.colab.kernel.accessAllowed ? 'block' : 'none';\n",
       "    })();\n",
       "  </script>\n",
       "</div>\n",
       "    </div>\n",
       "  </div>\n"
      ],
      "text/plain": [
       "   daily_time_on_site  Age  Area_Income  Daily_Internet_Usage  \\\n",
       "0                 120   26         5000                   150   \n",
       "1                 100   33          100                   700   \n",
       "\n",
       "                      Ad_Topic_Line          City  Gender    Country  \n",
       "0    Optional full-range projection  West Richard  Female  Singapore  \n",
       "1  Realigned content-based leverage      Lisafort    Male     Malawi  "
      ]
     },
     "execution_count": 341,
     "metadata": {},
     "output_type": "execute_result"
    }
   ],
   "source": [
    "user_input = {\n",
    "  'daily_time_on_site':[ 120, 100],\n",
    "  'Age':[ 26, 33],\n",
    "  'Area_Income':[ 5000, 100],\n",
    "  'Daily_Internet_Usage':[ 150, 700],\n",
    "  'Ad_Topic_Line':['Optional full-range projection','Realigned content-based leverage'],\n",
    "  'City':[ 'West Richard', 'Lisafort'],\n",
    "  'Gender':['Female', 'Male'],\n",
    "  'Country':['Singapore', 'Malawi']\n",
    "}\n",
    "test_df = pd.DataFrame(user_input)\n",
    "test_df.head()"
   ]
  },
  {
   "cell_type": "code",
   "execution_count": 342,
   "metadata": {
    "colab": {
     "base_uri": "https://localhost:8080/"
    },
    "id": "JhwJ-d0eiTL7",
    "outputId": "c4adda8f-dde4-4b43-81f9-63ead2bd07d4"
   },
   "outputs": [
    {
     "name": "stdout",
     "output_type": "stream",
     "text": [
      "Ad_Topic_Line\n",
      "City\n",
      "Gender\n",
      "Country\n"
     ]
    },
    {
     "data": {
      "text/plain": [
       "{'Ad_Topic_Line': 0    301\n",
       " 1    396\n",
       " Name: Ad_Topic_Line, dtype: int64,\n",
       " 'City': 0    495\n",
       " 1    234\n",
       " Name: City, dtype: int64,\n",
       " 'Gender': 0    0\n",
       " 1    1\n",
       " Name: Gender, dtype: int64,\n",
       " 'Country': 0    166\n",
       " 1    108\n",
       " Name: Country, dtype: int64,\n",
       " 'daily_time_on_site': 0    1.497345\n",
       " 1    1.154703\n",
       " Name: daily_time_on_site, dtype: float64,\n",
       " 'Age': 0    0.170732\n",
       " 1    0.341463\n",
       " Name: Age, dtype: float64,\n",
       " 'Area_Income': 0   -0.137696\n",
       " 1   -0.212693\n",
       " Name: Area_Income, dtype: float64,\n",
       " 'Daily_Internet_Usage': 0    0.271822\n",
       " 1    3.610416\n",
       " Name: Daily_Internet_Usage, dtype: float64}"
      ]
     },
     "execution_count": 342,
     "metadata": {},
     "output_type": "execute_result"
    }
   ],
   "source": [
    "for feature in sparse_features:\n",
    "  print(feature)\n",
    "  test_df[feature] = label_encoders[feature].transform(test_df[feature])\n",
    "for feature in numerical_features:\n",
    "  test_df[feature] = scalers[feature].transform(test_df[feature].values.reshape(-1, 1))\n",
    "\n",
    "# preparing user inputs to the model\n",
    "user_input_model = {name:test_df[name] for name in feature_names}\n",
    "user_input_model"
   ]
  },
  {
   "cell_type": "code",
   "execution_count": 343,
   "metadata": {
    "colab": {
     "base_uri": "https://localhost:8080/"
    },
    "id": "bdRYPPTFoZ9s",
    "outputId": "09ff642e-c130-4ad0-d5a9-ed854dead134"
   },
   "outputs": [
    {
     "name": "stdout",
     "output_type": "stream",
     "text": [
      "<class 'pandas.core.series.Series'> (8000,)\n"
     ]
    },
    {
     "data": {
      "text/plain": [
       "(pandas.core.series.Series, (2,))"
      ]
     },
     "execution_count": 343,
     "metadata": {},
     "output_type": "execute_result"
    }
   ],
   "source": [
    "# matching the random test data with the format of model input data\n",
    "\n",
    "all_keys_train = list(train_model_input.values())\n",
    "all_keys_inp = list(user_input_model.values())\n",
    "print(type(all_keys_train[0]), all_keys_train[0].shape)\n",
    "type(all_keys_inp[0]), all_keys_inp[0].shape"
   ]
  },
  {
   "cell_type": "markdown",
   "metadata": {
    "id": "eYZW8f6t616l"
   },
   "source": [
    "### Error in inference shapes"
   ]
  },
  {
   "cell_type": "code",
   "execution_count": 344,
   "metadata": {
    "colab": {
     "base_uri": "https://localhost:8080/"
    },
    "id": "aFYzMblCzCjH",
    "outputId": "609a1d01-b730-443e-c710-ef22dc778d3f"
   },
   "outputs": [
    {
     "data": {
      "text/plain": [
       "{'Ad_Topic_Line': 0    301\n",
       " 1    396\n",
       " Name: Ad_Topic_Line, dtype: int64,\n",
       " 'City': 0    495\n",
       " 1    234\n",
       " Name: City, dtype: int64,\n",
       " 'Gender': 0    0\n",
       " 1    1\n",
       " Name: Gender, dtype: int64,\n",
       " 'Country': 0    166\n",
       " 1    108\n",
       " Name: Country, dtype: int64,\n",
       " 'daily_time_on_site': 0    1.497345\n",
       " 1    1.154703\n",
       " Name: daily_time_on_site, dtype: float64,\n",
       " 'Age': 0    0.170732\n",
       " 1    0.341463\n",
       " Name: Age, dtype: float64,\n",
       " 'Area_Income': 0   -0.137696\n",
       " 1   -0.212693\n",
       " Name: Area_Income, dtype: float64,\n",
       " 'Daily_Internet_Usage': 0    0.271822\n",
       " 1    3.610416\n",
       " Name: Daily_Internet_Usage, dtype: float64}"
      ]
     },
     "execution_count": 344,
     "metadata": {},
     "output_type": "execute_result"
    }
   ],
   "source": [
    "user_input_model"
   ]
  },
  {
   "cell_type": "code",
   "execution_count": 345,
   "metadata": {
    "colab": {
     "base_uri": "https://localhost:8080/"
    },
    "id": "Sr17fWrBjbdI",
    "outputId": "286de1e3-5699-4e48-d746-a418b9c5a33f"
   },
   "outputs": [
    {
     "name": "stdout",
     "output_type": "stream",
     "text": [
      "Predicted click rate: 0.15723795 0.10022566\n"
     ]
    }
   ],
   "source": [
    "# Predict the rating\n",
    "predicted_rating = model.predict(user_input_model)\n",
    "print(\"Predicted click rate:\", predicted_rating[0][0], predicted_rating[1][0])"
   ]
  },
  {
   "cell_type": "markdown",
   "metadata": {
    "id": "WZSHRbj60S8E"
   },
   "source": [
    "# Hence, it can be observed that multiple users with different status have separate click rate prediction on the ads by trained model of Neural Factorization Machine."
   ]
  }
 ],
 "metadata": {
  "colab": {
   "provenance": []
  },
  "kernelspec": {
   "display_name": "Python 3 (ipykernel)",
   "language": "python",
   "name": "python3"
  },
  "language_info": {
   "codemirror_mode": {
    "name": "ipython",
    "version": 3
   },
   "file_extension": ".py",
   "mimetype": "text/x-python",
   "name": "python",
   "nbconvert_exporter": "python",
   "pygments_lexer": "ipython3",
   "version": "3.7.12"
  }
 },
 "nbformat": 4,
 "nbformat_minor": 4
}
